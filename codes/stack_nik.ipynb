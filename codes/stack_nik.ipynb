{
 "cells": [
  {
   "cell_type": "markdown",
   "metadata": {
    "_uuid": "88325efe6e1e90c58e37029f398efd794ecd7ecc"
   },
   "source": [
    "# 1. SETTINGS"
   ]
  },
  {
   "cell_type": "code",
   "execution_count": 91,
   "metadata": {
    "_cell_guid": "b1076dfc-b9ad-4769-8c92-a6c4dae69d19",
    "_uuid": "8f2839f25d086af736a60e9eeb907d3b93b6e0e5"
   },
   "outputs": [],
   "source": [
    "import numpy as np\n",
    "import pandas as pd\n",
    "pd.set_option(\"display.max_columns\", None)\n",
    "\n",
    "import matplotlib.pyplot as plt\n",
    "import seaborn as sns\n",
    "\n",
    "import lightgbm as lgb\n",
    "\n",
    "import os\n",
    "import time\n",
    "import multiprocessing\n",
    "\n",
    "from sklearn.metrics import log_loss\n",
    "from sklearn.model_selection import StratifiedKFold\n",
    "from sklearn.metrics import confusion_matrix\n",
    "from sklearn.preprocessing import StandardScaler\n",
    "\n",
    "import warnings\n",
    "warnings.filterwarnings('ignore')\n",
    "\n",
    "import gc\n",
    "gc.enable()"
   ]
  },
  {
   "cell_type": "markdown",
   "metadata": {
    "_uuid": "587f72a72010fb4fda2531642aff592e0f68cab1"
   },
   "source": [
    "# 2. DATA PREPARATION"
   ]
  },
  {
   "cell_type": "code",
   "execution_count": 92,
   "metadata": {
    "_uuid": "8c44c8a51973f096bc126ce235936f9ff0248a9c"
   },
   "outputs": [
    {
     "data": {
      "text/plain": [
       "(7848, 471)"
      ]
     },
     "execution_count": 92,
     "metadata": {},
     "output_type": "execute_result"
    }
   ],
   "source": [
    "### IMPORT READY DATA\n",
    "full_train = pd.read_csv('../input/full_train_v10.csv')\n",
    "full_train.shape"
   ]
  },
  {
   "cell_type": "raw",
   "metadata": {},
   "source": [
    "def select_objects(df):\n",
    "    aux = df.copy()\n",
    "    aux['flux_max'] = aux.groupby('object_id')['flux'].transform('max')\n",
    "    aux['mjd_min'] = aux.groupby('object_id')['mjd'].transform('min')\n",
    "    df_aux = aux[aux['flux_max'] == aux['flux']]\n",
    "    df_aux = df_aux[['object_id','mjd']]\n",
    "    df_aux.columns = ['object_id','mjd_where_max']\n",
    "    aux = pd.merge(aux, df_aux, on='object_id', how='left')\n",
    "    aux = aux[(aux['mjd_where_max'] - aux['mjd_min']) > 10]\n",
    "    aux.drop(['flux_max','mjd_min'], axis=1, inplace=True)\n",
    "    return aux['object_id'].unique()\n",
    "\n",
    "\n",
    "train = pd.read_csv('../input/training_set.csv')\n",
    "\n",
    "unique_ids = train['object_id'].unique()\n",
    "sample = select_objects(train)\n",
    "print('Number of objects after: ', len(sample))\n",
    "sample = full_train.object_id.isin(sample)"
   ]
  },
  {
   "cell_type": "raw",
   "metadata": {},
   "source": [
    "### IMPORT META DATA\n",
    "meta_train = pd.read_csv('../input/training_set_metadata.csv')\n",
    "del meta_train['object_id'], meta_train['target'], meta_train['hostgal_specz']\n",
    "meta_train.shape"
   ]
  },
  {
   "cell_type": "code",
   "execution_count": 93,
   "metadata": {
    "_uuid": "2b6f79b71d0e9b62266a52d9e7ac209c56e14aff"
   },
   "outputs": [],
   "source": [
    "### PREPARATIONS\n",
    "\n",
    "# target encoding\n",
    "if 'target' in full_train:\n",
    "    y = full_train['target']\n",
    "    del full_train['target']\n",
    "classes = sorted(y.unique())\n",
    "\n",
    "# drop some features\n",
    "if 'object_id' in full_train:\n",
    "    oof_df = full_train[['object_id']]\n",
    "    hostgal_photoz = full_train['hostgal_photoz']\n",
    "    del full_train['object_id'], full_train['hostgal_specz']"
   ]
  },
  {
   "cell_type": "code",
   "execution_count": 94,
   "metadata": {},
   "outputs": [
    {
     "name": "stdout",
     "output_type": "stream",
     "text": [
      "- Number of stacking models: 8\n",
      "- Data shape: (7848, 112)\n"
     ]
    }
   ],
   "source": [
    "### IMPORT OOF PREDS\n",
    "names = os.listdir('../preds')\n",
    "\n",
    "for name in names:\n",
    "\n",
    "    tmp = pd.read_csv('../preds/' + str(name))\n",
    "    if 'object_id' in tmp:\n",
    "        del tmp['object_id']\n",
    "    \n",
    "    tmp.columns = [str(name) + '_' + str(l.replace('class_', '')) for l in list(tmp.columns)]    \n",
    "    \n",
    "    if name == names[0]:     \n",
    "        full_train = tmp\n",
    "        \n",
    "    else:\n",
    "        full_train = pd.concat([full_train, tmp], axis = 1)\n",
    "        \n",
    "print('- Number of stacking models:', len(names))\n",
    "print('- Data shape:', full_train.shape)"
   ]
  },
  {
   "cell_type": "raw",
   "metadata": {},
   "source": [
    "### SAMPLE\n",
    "full_train = full_train[sample]\n",
    "y = y[sample]\n",
    "full_train.shape"
   ]
  },
  {
   "cell_type": "raw",
   "metadata": {},
   "source": [
    "### MERGE META\n",
    "full_train = pd.concat([full_train, meta_train], axis = 1)\n",
    "full_train.shape"
   ]
  },
  {
   "cell_type": "code",
   "execution_count": 95,
   "metadata": {
    "_uuid": "1ac6c8500bbc9b9a338292b86bd01362e25264d9"
   },
   "outputs": [],
   "source": [
    "### PARTITIONING\n",
    "\n",
    "# partition the data\n",
    "full_train_gal = full_train[hostgal_photoz == 0]\n",
    "full_train_ext = full_train[hostgal_photoz != 0]\n",
    "y_gal = y[hostgal_photoz == 0]\n",
    "y_ext = y[hostgal_photoz != 0]\n",
    "\n",
    "# save classes\n",
    "classes_gal = np.sort(y_gal.unique())\n",
    "classes_ext = np.sort(y_ext.unique())\n",
    "\n",
    "# clear memory\n",
    "#del full_train"
   ]
  },
  {
   "cell_type": "code",
   "execution_count": 96,
   "metadata": {},
   "outputs": [],
   "source": [
    "# remove constant columns\n",
    "full_train_gal = full_train_gal.loc[:, full_train_gal.apply(pd.Series.nunique) != 1]\n",
    "full_train_ext = full_train_ext.loc[:, full_train_ext.apply(pd.Series.nunique) != 1]"
   ]
  },
  {
   "cell_type": "markdown",
   "metadata": {
    "_uuid": "d413e67b3a8735ceeec25b2c3fc6b911d8646464"
   },
   "source": [
    "# 3. CROSS-VALIDATION"
   ]
  },
  {
   "cell_type": "markdown",
   "metadata": {
    "_uuid": "1e5143b3cb09f395e946bd4fdb63482bc1c542cc"
   },
   "source": [
    "## GALACTIC OBJECTS"
   ]
  },
  {
   "cell_type": "code",
   "execution_count": 97,
   "metadata": {},
   "outputs": [
    {
     "name": "stdout",
     "output_type": "stream",
     "text": [
      "(2325, 40)\n",
      "(2325, 15)\n"
     ]
    }
   ],
   "source": [
    "### DROP CORRELATED PREDICTIONS\n",
    "\n",
    "# threshold\n",
    "top_p = 0.99\n",
    "\n",
    "# error-based sort\n",
    "col_idx = list(np.argsort([l[-12:].replace('_', '')[:5] for l in list(full_train_gal.columns)]))\n",
    "full_train_gal = full_train_gal[full_train_gal.columns[col_idx]]\n",
    "\n",
    "# create correlation matrix\n",
    "corr_matrix  = full_train_gal.corr().abs()\n",
    "upper        = corr_matrix.where(np.triu(np.ones(corr_matrix.shape), k = 1).astype(np.bool))\n",
    "\n",
    "# subset \n",
    "to_drop        = [column for column in upper.columns if any(upper[column] > top_p)]\n",
    "features_gal   = [f for f in full_train_gal.columns if f not in to_drop]\n",
    "print(full_train_gal.shape)\n",
    "full_train_gal = full_train_gal[features_gal]\n",
    "print(full_train_gal.shape)"
   ]
  },
  {
   "cell_type": "code",
   "execution_count": 98,
   "metadata": {
    "_uuid": "3f48baa0689486fdb7f1763ad7546e171f837de7"
   },
   "outputs": [
    {
     "name": "stdout",
     "output_type": "stream",
     "text": [
      "(2325, 15)\n"
     ]
    }
   ],
   "source": [
    "# exclude features\n",
    "excluded_feats_gal = [f for f in full_train_gal.columns if f.endswith('_99')] + \\\n",
    "                     [f for f in full_train_gal.columns if f.endswith('_15')] + \\\n",
    "                     [f for f in full_train_gal.columns if f.endswith('_42')] + \\\n",
    "                     [f for f in full_train_gal.columns if f.endswith('_52')] + \\\n",
    "                     [f for f in full_train_gal.columns if f.endswith('_62')] + \\\n",
    "                     [f for f in full_train_gal.columns if f.endswith('_64')] + \\\n",
    "                     [f for f in full_train_gal.columns if f.endswith('_67')] + \\\n",
    "                     [f for f in full_train_gal.columns if f.endswith('_88')] + \\\n",
    "                     [f for f in full_train_gal.columns if f.endswith('_90')] + \\\n",
    "                     [f for f in full_train_gal.columns if f.endswith('_95')]\n",
    "features_gal = [f for f in full_train_gal.columns if f not in excluded_feats_gal]\n",
    "print(full_train_gal[features_gal].shape)"
   ]
  },
  {
   "cell_type": "code",
   "execution_count": 99,
   "metadata": {
    "_uuid": "7bf694d9e270c05e62cf6ea85da29bdf665f6f5b"
   },
   "outputs": [],
   "source": [
    "### LOSS FUNCTION\n",
    "def multi_weighted_logloss(y_true, y_preds):\n",
    "    \n",
    "    classes = [6, 16, 53, 65, 92]\n",
    "    class_weight = dict(((c, 1) for c in classes))\n",
    "    \n",
    "    # reshape\n",
    "    y_p = y_preds.reshape(y_true.shape[0], len(classes), order = 'F')\n",
    "    \n",
    "    # Trasform y_true in dummies\n",
    "    y_ohe = pd.get_dummies(y_true)\n",
    "    \n",
    "    # Normalize rows and limit y_preds to 1e-15, 1-1e-15\n",
    "    y_p = np.clip(a = y_p, a_min = 1e-15, a_max = 1-1e-15)\n",
    "    \n",
    "    # Transform to log\n",
    "    y_p_log = np.log(y_p)\n",
    "    \n",
    "    # Get the log for ones, .values is used to drop the index of DataFrames\n",
    "    # Exclude class 99 for now, since there is no class99 in the training set \n",
    "    y_log_ones = np.sum(y_ohe.values * y_p_log, axis = 0)\n",
    "    \n",
    "    # Get the number of positives for each class\n",
    "    nb_pos = y_ohe.sum(axis = 0).values.astype(float)\n",
    "    \n",
    "    # Weight average and divide by the number of positives\n",
    "    class_arr = np.array([class_weight[k] for k in sorted(class_weight.keys())])\n",
    "    y_w = y_log_ones * class_arr / nb_pos\n",
    "    loss = - np.sum(y_w) / np.sum(class_arr)\n",
    "    \n",
    "    return 'wloss', loss, False\n",
    "\n",
    "\n",
    "# recompute weights\n",
    "w_gal = y_gal.value_counts()\n",
    "weights_gal = {i : np.sum(w_gal) / w_gal[i] for i in w_gal.index}"
   ]
  },
  {
   "cell_type": "code",
   "execution_count": 100,
   "metadata": {
    "_uuid": "6f54311f6e36a0fcb7d6639c6c9368cbe4154873"
   },
   "outputs": [],
   "source": [
    "### PARAMETERS\n",
    "\n",
    "# LGB parameters\n",
    "lgb_params = {\n",
    "    'boosting_type':   'gbdt',\n",
    "    'objective':       'multiclass',\n",
    "    'num_class':        len(classes_gal),\n",
    "    'metric':          'None',\n",
    "    'subsample':        0.9,\n",
    "    'feature_fraction': 0.7,\n",
    "    'lambda_l1':        0.03,\n",
    "    'lambda_l2':        0.03,\n",
    "    'min_split_gain':   0.01,\n",
    "    'min_child_weight': 5,\n",
    "    'silent':           True,\n",
    "    'verbosity':        -1,\n",
    "    'learning_rate':    0.03,\n",
    "    'max_depth':        3,\n",
    "    'n_estimators':     5000,\n",
    "    'nthread' :         16\n",
    "}\n",
    "\n",
    "# validation\n",
    "folds = StratifiedKFold(n_splits     = 20, \n",
    "                        shuffle      = True, \n",
    "                        random_state = 42)"
   ]
  },
  {
   "cell_type": "raw",
   "metadata": {},
   "source": [
    "### SMOTE SETTINGS\n",
    "from imblearn.over_sampling import SMOTE\n",
    "sm = SMOTE(random_state = 12, n_jobs = 10, \n",
    "           sampling_strategy = {65: 900, 16: 900, 92: 400, 6: 250, 53: 50})\n",
    "\n",
    "trn_x, trn_y = full_train_gal[features_gal], y_gal\n",
    "round(trn_y.value_counts() * 9 / 10)"
   ]
  },
  {
   "cell_type": "code",
   "execution_count": 101,
   "metadata": {
    "_uuid": "4e5e1ed34e0887b3c10b8e649abef15f44a34853",
    "scrolled": true
   },
   "outputs": [
    {
     "name": "stdout",
     "output_type": "stream",
     "text": [
      "Training until validation scores don't improve for 100 rounds.\n",
      "[200]\ttraining's wloss: 0.00765566\tvalid_1's wloss: 0.00499882\n",
      "[400]\ttraining's wloss: 0.00148639\tvalid_1's wloss: 0.00109723\n",
      "[600]\ttraining's wloss: 0.00124883\tvalid_1's wloss: 0.000994312\n",
      "Early stopping, best iteration is:\n",
      "[557]\ttraining's wloss: 0.00127158\tvalid_1's wloss: 0.000977268\n",
      "-------------------------------------\n",
      "Fold 1: LOG-LOSS = 0.00098\n",
      "-------------------------------------\n",
      "\n",
      "Training until validation scores don't improve for 100 rounds.\n",
      "[200]\ttraining's wloss: 0.00751296\tvalid_1's wloss: 0.00501766\n",
      "[400]\ttraining's wloss: 0.00146531\tvalid_1's wloss: 0.000784525\n",
      "[600]\ttraining's wloss: 0.0012298\tvalid_1's wloss: 0.00069747\n",
      "[800]\ttraining's wloss: 0.00117939\tvalid_1's wloss: 0.000676183\n",
      "[1000]\ttraining's wloss: 0.00115108\tvalid_1's wloss: 0.000650552\n",
      "[1200]\ttraining's wloss: 0.00113789\tvalid_1's wloss: 0.000643283\n",
      "Early stopping, best iteration is:\n",
      "[1173]\ttraining's wloss: 0.001139\tvalid_1's wloss: 0.00064296\n",
      "-------------------------------------\n",
      "Fold 2: LOG-LOSS = 0.00064\n",
      "-------------------------------------\n",
      "\n",
      "Training until validation scores don't improve for 100 rounds.\n",
      "[200]\ttraining's wloss: 0.00746923\tvalid_1's wloss: 0.00397214\n",
      "[400]\ttraining's wloss: 0.00145393\tvalid_1's wloss: 0.000437541\n",
      "[600]\ttraining's wloss: 0.00120856\tvalid_1's wloss: 0.000352792\n",
      "Early stopping, best iteration is:\n",
      "[609]\ttraining's wloss: 0.00120433\tvalid_1's wloss: 0.00035181\n",
      "-------------------------------------\n",
      "Fold 3: LOG-LOSS = 0.00035\n",
      "-------------------------------------\n",
      "\n",
      "Training until validation scores don't improve for 100 rounds.\n",
      "[200]\ttraining's wloss: 0.00759287\tvalid_1's wloss: 0.00854636\n",
      "[400]\ttraining's wloss: 0.00150883\tvalid_1's wloss: 0.00228489\n",
      "[600]\ttraining's wloss: 0.00126138\tvalid_1's wloss: 0.00168824\n",
      "[800]\ttraining's wloss: 0.00121366\tvalid_1's wloss: 0.00159072\n",
      "[1000]\ttraining's wloss: 0.0011859\tvalid_1's wloss: 0.00151758\n",
      "[1200]\ttraining's wloss: 0.00116648\tvalid_1's wloss: 0.00145631\n",
      "[1400]\ttraining's wloss: 0.00115679\tvalid_1's wloss: 0.00142105\n",
      "Early stopping, best iteration is:\n",
      "[1461]\ttraining's wloss: 0.0011547\tvalid_1's wloss: 0.00141931\n",
      "-------------------------------------\n",
      "Fold 4: LOG-LOSS = 0.00142\n",
      "-------------------------------------\n",
      "\n",
      "Training until validation scores don't improve for 100 rounds.\n",
      "[200]\ttraining's wloss: 0.00765718\tvalid_1's wloss: 0.00449712\n",
      "[400]\ttraining's wloss: 0.0014784\tvalid_1's wloss: 0.000531347\n",
      "[600]\ttraining's wloss: 0.00124404\tvalid_1's wloss: 0.000477456\n",
      "[800]\ttraining's wloss: 0.00119469\tvalid_1's wloss: 0.000436596\n",
      "[1000]\ttraining's wloss: 0.00116947\tvalid_1's wloss: 0.000432683\n",
      "Early stopping, best iteration is:\n",
      "[901]\ttraining's wloss: 0.00118007\tvalid_1's wloss: 0.000430749\n",
      "-------------------------------------\n",
      "Fold 5: LOG-LOSS = 0.00043\n",
      "-------------------------------------\n",
      "\n",
      "Training until validation scores don't improve for 100 rounds.\n",
      "[200]\ttraining's wloss: 0.00745404\tvalid_1's wloss: 0.0217179\n",
      "[400]\ttraining's wloss: 0.00147077\tvalid_1's wloss: 0.0102285\n",
      "Early stopping, best iteration is:\n",
      "[335]\ttraining's wloss: 0.00173805\tvalid_1's wloss: 0.00913213\n",
      "-------------------------------------\n",
      "Fold 6: LOG-LOSS = 0.00913\n",
      "-------------------------------------\n",
      "\n",
      "Training until validation scores don't improve for 100 rounds.\n",
      "[200]\ttraining's wloss: 0.00749474\tvalid_1's wloss: 0.0165963\n",
      "Early stopping, best iteration is:\n",
      "[267]\ttraining's wloss: 0.0025015\tvalid_1's wloss: 0.0131148\n",
      "-------------------------------------\n",
      "Fold 7: LOG-LOSS = 0.01311\n",
      "-------------------------------------\n",
      "\n",
      "Training until validation scores don't improve for 100 rounds.\n",
      "[200]\ttraining's wloss: 0.00754379\tvalid_1's wloss: 0.00928667\n",
      "[400]\ttraining's wloss: 0.00149536\tvalid_1's wloss: 0.00173366\n",
      "[600]\ttraining's wloss: 0.00124\tvalid_1's wloss: 0.00148974\n",
      "[800]\ttraining's wloss: 0.00119207\tvalid_1's wloss: 0.00129534\n",
      "[1000]\ttraining's wloss: 0.00117146\tvalid_1's wloss: 0.00123333\n",
      "Early stopping, best iteration is:\n",
      "[1017]\ttraining's wloss: 0.00117028\tvalid_1's wloss: 0.00123324\n",
      "-------------------------------------\n",
      "Fold 8: LOG-LOSS = 0.00123\n",
      "-------------------------------------\n",
      "\n",
      "Training until validation scores don't improve for 100 rounds.\n",
      "[200]\ttraining's wloss: 0.00662292\tvalid_1's wloss: 0.133763\n",
      "Early stopping, best iteration is:\n",
      "[149]\ttraining's wloss: 0.0210202\tvalid_1's wloss: 0.121944\n",
      "-------------------------------------\n",
      "Fold 9: LOG-LOSS = 0.12194\n",
      "-------------------------------------\n",
      "\n",
      "Training until validation scores don't improve for 100 rounds.\n",
      "[200]\ttraining's wloss: 0.00745957\tvalid_1's wloss: 0.0142377\n",
      "[400]\ttraining's wloss: 0.00147188\tvalid_1's wloss: 0.00760099\n",
      "Early stopping, best iteration is:\n",
      "[351]\ttraining's wloss: 0.00164836\tvalid_1's wloss: 0.00753773\n",
      "-------------------------------------\n",
      "Fold 10: LOG-LOSS = 0.00754\n",
      "-------------------------------------\n",
      "\n",
      "Training until validation scores don't improve for 100 rounds.\n",
      "[200]\ttraining's wloss: 0.00741331\tvalid_1's wloss: 0.0123464\n",
      "[400]\ttraining's wloss: 0.00146113\tvalid_1's wloss: 0.00491235\n",
      "[600]\ttraining's wloss: 0.00120623\tvalid_1's wloss: 0.00315307\n",
      "[800]\ttraining's wloss: 0.00114239\tvalid_1's wloss: 0.00273273\n",
      "Early stopping, best iteration is:\n",
      "[816]\ttraining's wloss: 0.00113986\tvalid_1's wloss: 0.00271267\n",
      "-------------------------------------\n",
      "Fold 11: LOG-LOSS = 0.00271\n",
      "-------------------------------------\n",
      "\n",
      "Training until validation scores don't improve for 100 rounds.\n",
      "[200]\ttraining's wloss: 0.00705486\tvalid_1's wloss: 0.1586\n",
      "Early stopping, best iteration is:\n",
      "[127]\ttraining's wloss: 0.0370166\tvalid_1's wloss: 0.144479\n",
      "-------------------------------------\n",
      "Fold 12: LOG-LOSS = 0.14448\n",
      "-------------------------------------\n",
      "\n",
      "Training until validation scores don't improve for 100 rounds.\n",
      "[200]\ttraining's wloss: 0.00726472\tvalid_1's wloss: 0.0240554\n",
      "Early stopping, best iteration is:\n",
      "[258]\ttraining's wloss: 0.00263119\tvalid_1's wloss: 0.0202588\n",
      "-------------------------------------\n",
      "Fold 13: LOG-LOSS = 0.02026\n",
      "-------------------------------------\n",
      "\n",
      "Training until validation scores don't improve for 100 rounds.\n",
      "[200]\ttraining's wloss: 0.00728556\tvalid_1's wloss: 0.0308324\n",
      "[400]\ttraining's wloss: 0.00147154\tvalid_1's wloss: 0.0109052\n",
      "[600]\ttraining's wloss: 0.00120124\tvalid_1's wloss: 0.00873275\n",
      "[800]\ttraining's wloss: 0.00114359\tvalid_1's wloss: 0.00838447\n",
      "Early stopping, best iteration is:\n",
      "[703]\ttraining's wloss: 0.00116244\tvalid_1's wloss: 0.00824148\n",
      "-------------------------------------\n",
      "Fold 14: LOG-LOSS = 0.00824\n",
      "-------------------------------------\n",
      "\n",
      "Training until validation scores don't improve for 100 rounds.\n",
      "[200]\ttraining's wloss: 0.00752182\tvalid_1's wloss: 0.0294742\n",
      "[400]\ttraining's wloss: 0.00147056\tvalid_1's wloss: 0.020911\n",
      "Early stopping, best iteration is:\n",
      "[377]\ttraining's wloss: 0.00155293\tvalid_1's wloss: 0.0200236\n",
      "-------------------------------------\n",
      "Fold 15: LOG-LOSS = 0.02002\n",
      "-------------------------------------\n",
      "\n",
      "Training until validation scores don't improve for 100 rounds.\n",
      "[200]\ttraining's wloss: 0.00781769\tvalid_1's wloss: 0.004309\n",
      "[400]\ttraining's wloss: 0.00151245\tvalid_1's wloss: 0.000729986\n",
      "[600]\ttraining's wloss: 0.0012114\tvalid_1's wloss: 0.000590055\n",
      "[800]\ttraining's wloss: 0.00114666\tvalid_1's wloss: 0.000577845\n",
      "Early stopping, best iteration is:\n",
      "[771]\ttraining's wloss: 0.00115282\tvalid_1's wloss: 0.000574305\n",
      "-------------------------------------\n",
      "Fold 16: LOG-LOSS = 0.00057\n",
      "-------------------------------------\n",
      "\n",
      "Training until validation scores don't improve for 100 rounds.\n",
      "[200]\ttraining's wloss: 0.00763144\tvalid_1's wloss: 0.00926418\n",
      "[400]\ttraining's wloss: 0.00145594\tvalid_1's wloss: 0.00531972\n",
      "Early stopping, best iteration is:\n",
      "[422]\ttraining's wloss: 0.0014017\tvalid_1's wloss: 0.00516506\n",
      "-------------------------------------\n",
      "Fold 17: LOG-LOSS = 0.00517\n",
      "-------------------------------------\n",
      "\n",
      "Training until validation scores don't improve for 100 rounds.\n",
      "[200]\ttraining's wloss: 0.00752444\tvalid_1's wloss: 0.0114639\n",
      "[400]\ttraining's wloss: 0.00148216\tvalid_1's wloss: 0.0100665\n",
      "Early stopping, best iteration is:\n",
      "[300]\ttraining's wloss: 0.00203118\tvalid_1's wloss: 0.00865277\n",
      "-------------------------------------\n",
      "Fold 18: LOG-LOSS = 0.00865\n",
      "-------------------------------------\n",
      "\n",
      "Training until validation scores don't improve for 100 rounds.\n",
      "[200]\ttraining's wloss: 0.00653946\tvalid_1's wloss: 0.102454\n",
      "Early stopping, best iteration is:\n",
      "[160]\ttraining's wloss: 0.0159669\tvalid_1's wloss: 0.0916\n",
      "-------------------------------------\n",
      "Fold 19: LOG-LOSS = 0.0916\n",
      "-------------------------------------\n",
      "\n",
      "Training until validation scores don't improve for 100 rounds.\n",
      "[200]\ttraining's wloss: 0.00786114\tvalid_1's wloss: 0.0130163\n",
      "[400]\ttraining's wloss: 0.00152854\tvalid_1's wloss: 0.00516741\n",
      "[600]\ttraining's wloss: 0.00123412\tvalid_1's wloss: 0.00364969\n",
      "[800]\ttraining's wloss: 0.00116175\tvalid_1's wloss: 0.00326512\n",
      "Early stopping, best iteration is:\n",
      "[837]\ttraining's wloss: 0.00115434\tvalid_1's wloss: 0.00324566\n",
      "-------------------------------------\n",
      "Fold 20: LOG-LOSS = 0.00325\n",
      "-------------------------------------\n",
      "\n",
      "\n",
      "MULTI-WEIGHTED LOG-LOSS : 0.02250 \n",
      "Done in   0.9 minutes\n"
     ]
    }
   ],
   "source": [
    "### CROSS-VALIDATION LOOP\n",
    "\n",
    "# create objects\n",
    "clfs_gal = []\n",
    "importances_gal = pd.DataFrame()\n",
    "oof_preds_gal = np.zeros((len(full_train_gal), len(classes_gal)))\n",
    "\n",
    "# modeling loop\n",
    "start  = time.time()\n",
    "for fold_, (trn_, val_) in enumerate(folds.split(y_gal, y_gal)):\n",
    "    \n",
    "    # data partitioning\n",
    "    trn_x, trn_y = full_train_gal[features_gal].iloc[trn_], y_gal.iloc[trn_]\n",
    "    val_x, val_y = full_train_gal[features_gal].iloc[val_], y_gal.iloc[val_]\n",
    "    \n",
    "    # SMOTE\n",
    "    #trn_x, trn_y = sm.fit_sample(trn_x, trn_y)\n",
    "    #trn_x = pd.DataFrame(trn_x, columns = features_gal)\n",
    "    #trn_y = pd.Series(trn_y)\n",
    "    \n",
    "    # train the model\n",
    "    clf = lgb.LGBMClassifier(**lgb_params) \n",
    "    clf.fit(\n",
    "        trn_x, trn_y,\n",
    "        eval_set              = [(trn_x, trn_y), (val_x, val_y)],\n",
    "        eval_metric           = multi_weighted_logloss,\n",
    "        verbose               = 200,\n",
    "        early_stopping_rounds = 100,\n",
    "        sample_weight         = trn_y.map(weights_gal)\n",
    "    )\n",
    "    clfs_gal.append(clf)\n",
    "\n",
    "    # predictions\n",
    "    oof_preds_gal[val_, :] =  clf.predict_proba(val_x, num_iteration = clf.best_iteration_)\n",
    "    \n",
    "    # feedback\n",
    "    print('-------------------------------------')\n",
    "    print('Fold ' + str(fold_ + 1) + ': LOG-LOSS = ' + str(round(multi_weighted_logloss(val_y, clf.predict_proba(val_x, num_iteration = clf.best_iteration_))[1], 5)))  \n",
    "    print('-------------------------------------')\n",
    "    print('')\n",
    "\n",
    "    # variable importance\n",
    "    imp_df = pd.DataFrame()\n",
    "    imp_df['feature'] = features_gal\n",
    "    imp_df['gain'] = clf.feature_importances_\n",
    "    imp_df['fold'] = fold_ + 1\n",
    "    importances_gal = pd.concat([importances_gal, imp_df], axis = 0, sort = False)\n",
    "    \n",
    "    # clean up\n",
    "    gc.collect()\n",
    "    \n",
    "# print performance\n",
    "print('')\n",
    "print('MULTI-WEIGHTED LOG-LOSS : %.5f ' % multi_weighted_logloss(y_true = y_gal, y_preds = oof_preds_gal)[1])\n",
    "print('Done in %5.1f minutes' % ((time.time() - start) / 60))\n",
    "\n",
    "# 0.02441"
   ]
  },
  {
   "cell_type": "code",
   "execution_count": 102,
   "metadata": {
    "_uuid": "9ebcbb0f39d3e06748630966d3b7f5dc8aa4a51e",
    "scrolled": false
   },
   "outputs": [
    {
     "data": {
      "image/png": "[encoded data removed]",
      "text/plain": [
       "<Figure size 432x288 with 2 Axes>"
      ]
     },
     "metadata": {},
     "output_type": "display_data"
    }
   ],
   "source": [
    "##### CONFUSION MATRIX\n",
    "\n",
    "# preparations\n",
    "tmp = np.argmax(oof_preds_gal, axis = 1)\n",
    "y_pred = []\n",
    "for i in tmp:\n",
    "    y_pred.append(classes_gal[i])\n",
    "y_pred = pd.Series(y_pred)\n",
    "\n",
    "# construct confusion matrx\n",
    "cm = confusion_matrix(y_gal, y_pred, labels = classes_gal)\n",
    "cm = cm.astype('float') / cm.sum(axis = 1)[:, np.newaxis]\n",
    "annot = np.around(cm, 2)\n",
    "\n",
    "# plot matrix\n",
    "fig, ax = plt.subplots(figsize = (6,4))\n",
    "sns.heatmap(cm, xticklabels = classes_gal, yticklabels = classes_gal, cmap = 'Blues', annot = annot, lw = 0.5)\n",
    "ax.set_xlabel('Predicted Label')\n",
    "ax.set_ylabel('True Label')\n",
    "ax.set_aspect('equal')"
   ]
  },
  {
   "cell_type": "markdown",
   "metadata": {
    "_uuid": "2ee074e92af888a8122e21e982a408a263fb5b3d"
   },
   "source": [
    "## EXTRAGALACTIC OBJECTS"
   ]
  },
  {
   "cell_type": "code",
   "execution_count": 103,
   "metadata": {},
   "outputs": [
    {
     "name": "stdout",
     "output_type": "stream",
     "text": [
      "(5523, 72)\n",
      "(5523, 63)\n"
     ]
    }
   ],
   "source": [
    "### DROP CORRELATED PREDICTIONS\n",
    "\n",
    "# threshold\n",
    "top_p = 0.99\n",
    "\n",
    "# error-based sort\n",
    "col_idx = list(np.argsort([l[-12:].replace('_', '')[:5] for l in list(full_train_ext.columns)]))\n",
    "full_train_ext = full_train_ext[full_train_ext.columns[col_idx]]\n",
    "\n",
    "# create correlation matrix\n",
    "corr_matrix  = full_train_ext.corr().abs()\n",
    "upper        = corr_matrix.where(np.triu(np.ones(corr_matrix.shape), k = 1).astype(np.bool))\n",
    "\n",
    "# subset \n",
    "to_drop        = [column for column in upper.columns if any(upper[column] > top_p)]\n",
    "features_ext   = [f for f in full_train_ext.columns if f not in to_drop]\n",
    "print(full_train_ext.shape)\n",
    "full_train_ext = full_train_ext[features_ext]\n",
    "print(full_train_ext.shape)"
   ]
  },
  {
   "cell_type": "code",
   "execution_count": 104,
   "metadata": {
    "_uuid": "2334974b17e3e4fbd7888e546e49cf35b7fbb332"
   },
   "outputs": [
    {
     "name": "stdout",
     "output_type": "stream",
     "text": [
      "(5523, 63)\n"
     ]
    }
   ],
   "source": [
    "# exclude features\n",
    "excluded_feats_ext = [f for f in full_train_ext.columns if f.endswith('_99')] + \\\n",
    "                     [f for f in full_train_ext.columns if f.endswith('_6')] + \\\n",
    "                     [f for f in full_train_ext.columns if f.endswith('_16')] + \\\n",
    "                     [f for f in full_train_ext.columns if f.endswith('_53')] + \\\n",
    "                     [f for f in full_train_ext.columns if f.endswith('_65')] + \\\n",
    "                     [f for f in full_train_ext.columns if f.endswith('_92')]\n",
    "features_ext = [f for f in full_train_ext.columns if f not in excluded_feats_ext]\n",
    "print(full_train_ext[features_ext].shape)"
   ]
  },
  {
   "cell_type": "code",
   "execution_count": 105,
   "metadata": {
    "_uuid": "b8da35e9a9f35a17123330ae4a566c350d5c7dfd"
   },
   "outputs": [],
   "source": [
    "### LOSS FUNCTION\n",
    "def multi_weighted_logloss(y_true, y_preds):\n",
    "    \n",
    "    classes = [15, 42, 52, 62, 64, 67, 88, 90, 95]\n",
    "    class_weight = dict(((c, 1) for c in classes))\n",
    "    class_weight = {15: 1, 42: 1, 52: 1, 62: 1, 64: 1, 67: 1, 88: 1, 90: 1, 95: 1}\n",
    "    \n",
    "    # reshape\n",
    "    y_p = y_preds.reshape(y_true.shape[0], len(classes), order = 'F')\n",
    "    \n",
    "    # Trasform y_true in dummies\n",
    "    y_ohe = pd.get_dummies(y_true)\n",
    "    \n",
    "    # Normalize rows and limit y_preds to 1e-15, 1-1e-15\n",
    "    y_p = np.clip(a = y_p, a_min = 1e-15, a_max = 1-1e-15)\n",
    "    \n",
    "    # Transform to log\n",
    "    y_p_log = np.log(y_p)\n",
    "    \n",
    "    # Get the log for ones, .values is used to drop the index of DataFrames\n",
    "    # Exclude class 99 for now, since there is no class99 in the training set \n",
    "    y_log_ones = np.sum(y_ohe.values * y_p_log, axis = 0)\n",
    "    \n",
    "    # Get the number of positives for each class\n",
    "    nb_pos = y_ohe.sum(axis = 0).values.astype(float)\n",
    "    \n",
    "    # Weight average and divide by the number of positives\n",
    "    class_arr = np.array([class_weight[k] for k in sorted(class_weight.keys())])\n",
    "    y_w = y_log_ones * class_arr / nb_pos\n",
    "    loss = - np.sum(y_w) / np.sum(class_arr)\n",
    "    \n",
    "    return 'wloss', loss, False\n",
    "\n",
    "\n",
    "# recompute weights\n",
    "w_ext = y_ext.value_counts()\n",
    "weights_ext = {i : np.sum(w_ext) / w_ext[i] for i in w_ext.index}"
   ]
  },
  {
   "cell_type": "code",
   "execution_count": 106,
   "metadata": {
    "_uuid": "91e0add6763721f9aa44d085f2871508e7762538"
   },
   "outputs": [],
   "source": [
    "### PARAMETERS\n",
    "\n",
    "# LGB parameters\n",
    "lgb_params = {\n",
    "    'boosting_type':   'gbdt',\n",
    "    'objective':       'multiclass',\n",
    "    'num_class':        len(classes_ext),\n",
    "    'metric':          'None',\n",
    "    'subsample':        0.9,\n",
    "    'feature_fraction': 0.7,\n",
    "    'lambda_l1':        0.03,\n",
    "    'lambda_l2':        0.03,\n",
    "    'min_split_gain':   0.01,\n",
    "    'min_child_weight': 5,\n",
    "    'silent':           True,\n",
    "    'verbosity':        -1,\n",
    "    'learning_rate':    0.03,\n",
    "    'max_depth':        3,\n",
    "    'n_estimators':     5000,\n",
    "    'nthread' :         16\n",
    "}\n",
    "\n",
    "# validation\n",
    "folds = StratifiedKFold(n_splits     = 20, \n",
    "                        shuffle      = True, \n",
    "                        random_state = 42)"
   ]
  },
  {
   "cell_type": "raw",
   "metadata": {},
   "source": [
    "### SMOTE SETTINGS\n",
    "from imblearn.over_sampling import SMOTE\n",
    "sm = SMOTE(random_state = 12, n_jobs = 10, \n",
    "           sampling_strategy = {67: 300, 52: 300, 95: 300, 64: 180})\n",
    "\n",
    "trn_x, trn_y = full_train_ext[features_ext], y_ext\n",
    "round(trn_y.value_counts() * 9/10)"
   ]
  },
  {
   "cell_type": "code",
   "execution_count": 107,
   "metadata": {
    "_uuid": "976d56edbe62bcb86d797c2b38ef05311b3d45ba",
    "scrolled": false
   },
   "outputs": [
    {
     "name": "stdout",
     "output_type": "stream",
     "text": [
      "Training until validation scores don't improve for 100 rounds.\n",
      "[200]\ttraining's wloss: 0.51575\tvalid_1's wloss: 0.716725\n",
      "Early stopping, best iteration is:\n",
      "[230]\ttraining's wloss: 0.488597\tvalid_1's wloss: 0.712199\n",
      "-------------------------------------\n",
      "Fold 1: LOG-LOSS = 0.7122\n",
      "-------------------------------------\n",
      "\n",
      "Training until validation scores don't improve for 100 rounds.\n",
      "[200]\ttraining's wloss: 0.519007\tvalid_1's wloss: 0.764856\n",
      "Early stopping, best iteration is:\n",
      "[149]\ttraining's wloss: 0.575352\tvalid_1's wloss: 0.753913\n",
      "-------------------------------------\n",
      "Fold 2: LOG-LOSS = 0.75391\n",
      "-------------------------------------\n",
      "\n",
      "Training until validation scores don't improve for 100 rounds.\n",
      "[200]\ttraining's wloss: 0.520611\tvalid_1's wloss: 0.598167\n",
      "[400]\ttraining's wloss: 0.385146\tvalid_1's wloss: 0.588117\n",
      "Early stopping, best iteration is:\n",
      "[334]\ttraining's wloss: 0.422438\tvalid_1's wloss: 0.584247\n",
      "-------------------------------------\n",
      "Fold 3: LOG-LOSS = 0.58425\n",
      "-------------------------------------\n",
      "\n",
      "Training until validation scores don't improve for 100 rounds.\n",
      "[200]\ttraining's wloss: 0.514707\tvalid_1's wloss: 0.751296\n",
      "Early stopping, best iteration is:\n",
      "[245]\ttraining's wloss: 0.476959\tvalid_1's wloss: 0.745336\n",
      "-------------------------------------\n",
      "Fold 4: LOG-LOSS = 0.74534\n",
      "-------------------------------------\n",
      "\n",
      "Training until validation scores don't improve for 100 rounds.\n",
      "[200]\ttraining's wloss: 0.516681\tvalid_1's wloss: 0.648341\n",
      "[400]\ttraining's wloss: 0.381542\tvalid_1's wloss: 0.63026\n",
      "Early stopping, best iteration is:\n",
      "[358]\ttraining's wloss: 0.404048\tvalid_1's wloss: 0.628269\n",
      "-------------------------------------\n",
      "Fold 5: LOG-LOSS = 0.62827\n",
      "-------------------------------------\n",
      "\n",
      "Training until validation scores don't improve for 100 rounds.\n",
      "[200]\ttraining's wloss: 0.513483\tvalid_1's wloss: 0.862237\n",
      "Early stopping, best iteration is:\n",
      "[170]\ttraining's wloss: 0.543479\tvalid_1's wloss: 0.859517\n",
      "-------------------------------------\n",
      "Fold 6: LOG-LOSS = 0.85952\n",
      "-------------------------------------\n",
      "\n",
      "Training until validation scores don't improve for 100 rounds.\n",
      "[200]\ttraining's wloss: 0.510365\tvalid_1's wloss: 0.872865\n",
      "Early stopping, best iteration is:\n",
      "[180]\ttraining's wloss: 0.530901\tvalid_1's wloss: 0.869563\n",
      "-------------------------------------\n",
      "Fold 7: LOG-LOSS = 0.86956\n",
      "-------------------------------------\n",
      "\n",
      "Training until validation scores don't improve for 100 rounds.\n",
      "[200]\ttraining's wloss: 0.515029\tvalid_1's wloss: 0.726517\n",
      "Early stopping, best iteration is:\n",
      "[201]\ttraining's wloss: 0.514035\tvalid_1's wloss: 0.725943\n",
      "-------------------------------------\n",
      "Fold 8: LOG-LOSS = 0.72594\n",
      "-------------------------------------\n",
      "\n",
      "Training until validation scores don't improve for 100 rounds.\n",
      "[200]\ttraining's wloss: 0.511942\tvalid_1's wloss: 0.784853\n",
      "Early stopping, best iteration is:\n",
      "[228]\ttraining's wloss: 0.487764\tvalid_1's wloss: 0.780688\n",
      "-------------------------------------\n",
      "Fold 9: LOG-LOSS = 0.78069\n",
      "-------------------------------------\n",
      "\n",
      "Training until validation scores don't improve for 100 rounds.\n",
      "[200]\ttraining's wloss: 0.513102\tvalid_1's wloss: 0.821037\n",
      "Early stopping, best iteration is:\n",
      "[199]\ttraining's wloss: 0.514055\tvalid_1's wloss: 0.820635\n",
      "-------------------------------------\n",
      "Fold 10: LOG-LOSS = 0.82064\n",
      "-------------------------------------\n",
      "\n",
      "Training until validation scores don't improve for 100 rounds.\n",
      "[200]\ttraining's wloss: 0.517235\tvalid_1's wloss: 0.727153\n",
      "Early stopping, best iteration is:\n",
      "[206]\ttraining's wloss: 0.512011\tvalid_1's wloss: 0.726534\n",
      "-------------------------------------\n",
      "Fold 11: LOG-LOSS = 0.72653\n",
      "-------------------------------------\n",
      "\n",
      "Training until validation scores don't improve for 100 rounds.\n",
      "[200]\ttraining's wloss: 0.515416\tvalid_1's wloss: 0.755605\n",
      "Early stopping, best iteration is:\n",
      "[220]\ttraining's wloss: 0.497284\tvalid_1's wloss: 0.755011\n",
      "-------------------------------------\n",
      "Fold 12: LOG-LOSS = 0.75501\n",
      "-------------------------------------\n",
      "\n",
      "Training until validation scores don't improve for 100 rounds.\n",
      "[200]\ttraining's wloss: 0.520407\tvalid_1's wloss: 0.671177\n",
      "Early stopping, best iteration is:\n",
      "[282]\ttraining's wloss: 0.453106\tvalid_1's wloss: 0.668667\n",
      "-------------------------------------\n",
      "Fold 13: LOG-LOSS = 0.66867\n",
      "-------------------------------------\n",
      "\n",
      "Training until validation scores don't improve for 100 rounds.\n",
      "[200]\ttraining's wloss: 0.515907\tvalid_1's wloss: 0.841866\n",
      "Early stopping, best iteration is:\n",
      "[177]\ttraining's wloss: 0.538897\tvalid_1's wloss: 0.835461\n",
      "-------------------------------------\n",
      "Fold 14: LOG-LOSS = 0.83546\n",
      "-------------------------------------\n",
      "\n",
      "Training until validation scores don't improve for 100 rounds.\n",
      "[200]\ttraining's wloss: 0.517266\tvalid_1's wloss: 0.784734\n",
      "Early stopping, best iteration is:\n",
      "[258]\ttraining's wloss: 0.470092\tvalid_1's wloss: 0.782285\n",
      "-------------------------------------\n",
      "Fold 15: LOG-LOSS = 0.78229\n",
      "-------------------------------------\n",
      "\n",
      "Training until validation scores don't improve for 100 rounds.\n",
      "[200]\ttraining's wloss: 0.514537\tvalid_1's wloss: 0.742077\n",
      "Early stopping, best iteration is:\n",
      "[293]\ttraining's wloss: 0.441997\tvalid_1's wloss: 0.727955\n",
      "-------------------------------------\n",
      "Fold 16: LOG-LOSS = 0.72796\n",
      "-------------------------------------\n",
      "\n",
      "Training until validation scores don't improve for 100 rounds.\n",
      "[200]\ttraining's wloss: 0.516833\tvalid_1's wloss: 0.860448\n",
      "Early stopping, best iteration is:\n",
      "[195]\ttraining's wloss: 0.521756\tvalid_1's wloss: 0.85971\n",
      "-------------------------------------\n",
      "Fold 17: LOG-LOSS = 0.85971\n",
      "-------------------------------------\n",
      "\n",
      "Training until validation scores don't improve for 100 rounds.\n",
      "[200]\ttraining's wloss: 0.516264\tvalid_1's wloss: 0.80682\n",
      "Early stopping, best iteration is:\n",
      "[240]\ttraining's wloss: 0.482828\tvalid_1's wloss: 0.799991\n",
      "-------------------------------------\n",
      "Fold 18: LOG-LOSS = 0.79999\n",
      "-------------------------------------\n",
      "\n",
      "Training until validation scores don't improve for 100 rounds.\n",
      "[200]\ttraining's wloss: 0.515429\tvalid_1's wloss: 0.810363\n",
      "Early stopping, best iteration is:\n",
      "[230]\ttraining's wloss: 0.489646\tvalid_1's wloss: 0.806093\n",
      "-------------------------------------\n",
      "Fold 19: LOG-LOSS = 0.80609\n",
      "-------------------------------------\n",
      "\n",
      "Training until validation scores don't improve for 100 rounds.\n",
      "[200]\ttraining's wloss: 0.510316\tvalid_1's wloss: 0.942253\n",
      "Early stopping, best iteration is:\n",
      "[140]\ttraining's wloss: 0.579468\tvalid_1's wloss: 0.93142\n",
      "-------------------------------------\n",
      "Fold 20: LOG-LOSS = 0.93142\n",
      "-------------------------------------\n",
      "\n",
      "\n",
      "MULTI-WEIGHTED LOG-LOSS : 0.76772 \n",
      "Done in  19.6 minutes\n"
     ]
    }
   ],
   "source": [
    "### CROSS-VALIDATION LOOP\n",
    "\n",
    "# create objects\n",
    "clfs_ext = []\n",
    "importances_ext = pd.DataFrame()\n",
    "oof_preds_ext = np.zeros((len(full_train_ext), len(classes_ext)))\n",
    "\n",
    "# modeling loop\n",
    "start  = time.time()\n",
    "for fold_, (trn_, val_) in enumerate(folds.split(y_ext, y_ext)):\n",
    "    \n",
    "    # data partitioning\n",
    "    trn_x, trn_y = full_train_ext[features_ext].iloc[trn_], y_ext.iloc[trn_]\n",
    "    val_x, val_y = full_train_ext[features_ext].iloc[val_], y_ext.iloc[val_]\n",
    "    \n",
    "    # SMOTE\n",
    "    #trn_x, trn_y = sm.fit_sample(trn_x, trn_y)\n",
    "    #trn_x = pd.DataFrame(trn_x, columns = features_ext)\n",
    "    #trn_y = pd.Series(trn_y)\n",
    "    \n",
    "    # train the model\n",
    "    clf = lgb.LGBMClassifier(**lgb_params) \n",
    "    clf.fit(\n",
    "        trn_x, trn_y,\n",
    "        eval_set              = [(trn_x, trn_y), (val_x, val_y)],\n",
    "        eval_metric           = multi_weighted_logloss,\n",
    "        verbose               = 200,\n",
    "        early_stopping_rounds = 100,\n",
    "        sample_weight         = trn_y.map(weights_ext)        \n",
    "    )\n",
    "    clfs_ext.append(clf)\n",
    "\n",
    "    # predictions\n",
    "    oof_preds_ext[val_, :] = clf.predict_proba(val_x, num_iteration = clf.best_iteration_)\n",
    "\n",
    "    # feedback\n",
    "    print('-------------------------------------')\n",
    "    print('Fold ' + str(fold_ + 1) + ': LOG-LOSS = ' + str(round(multi_weighted_logloss(val_y, clf.predict_proba(val_x, num_iteration = clf.best_iteration_))[1], 5)))  \n",
    "    print('-------------------------------------')\n",
    "    print('')\n",
    "\n",
    "    # variable importance\n",
    "    imp_df = pd.DataFrame()\n",
    "    imp_df['feature'] = features_ext\n",
    "    imp_df['gain'] = clf.feature_importances_\n",
    "    imp_df['fold'] = fold_ + 1\n",
    "    importances_ext = pd.concat([importances_ext, imp_df], axis = 0, sort = False)\n",
    "    \n",
    "    # clean up\n",
    "    gc.collect()\n",
    "    \n",
    "# print performance\n",
    "print('')\n",
    "print('MULTI-WEIGHTED LOG-LOSS : %.5f ' % multi_weighted_logloss(y_true = y_ext, y_preds = oof_preds_ext)[1])\n",
    "print('Done in %5.1f minutes' % ((time.time() - start) / 60))\n",
    " \n",
    "# 0.77275"
   ]
  },
  {
   "cell_type": "code",
   "execution_count": 108,
   "metadata": {
    "_uuid": "fdcb55ef10807adf76c12079b4871ce8dcf1a71a",
    "scrolled": false
   },
   "outputs": [
    {
     "data": {
      "image/png": "[encoded data removed]",
      "text/plain": [
       "<Figure size 576x432 with 2 Axes>"
      ]
     },
     "metadata": {},
     "output_type": "display_data"
    }
   ],
   "source": [
    "##### CONFUSION MATRIX\n",
    "\n",
    "# preparations\n",
    "tmp = np.argmax(oof_preds_ext, axis = 1)\n",
    "y_pred = []\n",
    "for i in tmp:\n",
    "    y_pred.append(classes_ext[i])\n",
    "y_pred = pd.Series(y_pred)\n",
    "\n",
    "# construct confusion matrx\n",
    "cm = confusion_matrix(y_ext, y_pred, labels = classes_ext)\n",
    "cm = cm.astype('float') / cm.sum(axis = 1)[:, np.newaxis]\n",
    "annot = np.around(cm, 2)\n",
    "\n",
    "# plot matrix\n",
    "fig, ax = plt.subplots(figsize = (8, 6))\n",
    "sns.heatmap(cm, xticklabels = classes_ext, yticklabels = classes_ext, cmap = 'Blues', annot = annot, lw = 0.5)\n",
    "ax.set_xlabel('Predicted Label')\n",
    "ax.set_ylabel('True Label')\n",
    "ax.set_aspect('equal')"
   ]
  },
  {
   "cell_type": "markdown",
   "metadata": {
    "_uuid": "346744e27a92b2bbb99b73a9d7c83dba4d61d813"
   },
   "source": [
    "## OVERALL PERFORMANCE"
   ]
  },
  {
   "cell_type": "code",
   "execution_count": 109,
   "metadata": {
    "_uuid": "9261c3873a5643cf8a40fd60fd002d5e131fe59d"
   },
   "outputs": [],
   "source": [
    "### LOSS FUNCTION\n",
    "def multi_weighted_logloss(y_true, y_preds):\n",
    "    \n",
    "    # classes\n",
    "    classes = [6, 15, 16, 42, 52, 53, 62, 64, 65, 67, 88, 90, 92, 95]\n",
    "    class_weight = {6: 1, 15: 1, 16: 1, 42: 1, 52: 1, 53: 1, 62: 1, 64: 1, 65: 1, 67: 1, 88: 1, 90: 1, 92: 1, 95: 1}\n",
    "    \n",
    "    # reshape\n",
    "    y_p = y_preds.reshape(y_true.shape[0], len(classes), order = 'F')\n",
    "    \n",
    "    # Trasform y_true in dummies\n",
    "    y_ohe = pd.get_dummies(y_true)\n",
    "    \n",
    "    # Normalize rows and limit y_preds to 1e-15, 1-1e-15\n",
    "    y_p = np.clip(a=y_p, a_min=1e-15, a_max=1-1e-15)\n",
    "    \n",
    "    # Transform to log\n",
    "    y_p_log = np.log(y_p)\n",
    "    \n",
    "    # Get the log for ones, .values is used to drop the index of DataFrames\n",
    "    # Exclude class 99 for now, since there is no class99 in the training set \n",
    "    y_log_ones = np.sum(y_ohe.values * y_p_log, axis = 0)\n",
    "    \n",
    "    # Get the number of positives for each class\n",
    "    nb_pos = y_ohe.sum(axis = 0).values.astype(float)\n",
    "    \n",
    "    # Weight average and divide by the number of positives\n",
    "    class_arr = np.array([class_weight[k] for k in sorted(class_weight.keys())])\n",
    "    y_w = y_log_ones * class_arr / nb_pos\n",
    "    loss = - np.sum(y_w) / np.sum(class_arr)\n",
    "    \n",
    "    return 'wloss', loss, False"
   ]
  },
  {
   "cell_type": "code",
   "execution_count": 110,
   "metadata": {
    "_uuid": "81e8ccb1f5eaf214eb79995bf3c881407132e2a2"
   },
   "outputs": [],
   "source": [
    "# merge predictions\n",
    "pd_gal = pd.DataFrame(oof_preds_gal, columns = classes_gal, index = y_gal.index)\n",
    "pd_ext = pd.DataFrame(oof_preds_ext, columns = classes_ext, index = y_ext.index)\n",
    "\n",
    "# transform predictions\n",
    "oof_preds = pd.concat([pd_gal, pd_ext], axis = 1)\n",
    "oof_preds.sort_index(axis = 1, inplace = True)\n",
    "oof_preds.fillna(0, inplace = True)\n",
    "\n",
    "# calibration\n",
    "for cl in oof_preds.columns:\n",
    "    oof_preds.loc[oof_preds[cl] < 0.05, cl] = oof_preds.loc[oof_preds[cl] < 0.05, cl]*1  # 0.85\n",
    "    oof_preds.loc[oof_preds[cl] > 0.95, cl] = oof_preds.loc[oof_preds[cl] > 0.95, cl]*1  # 1.55\n",
    "    \n",
    "# reshape\n",
    "oof_preds_df = oof_preds.divide(oof_preds.sum(axis = 1), axis = 0)\n",
    "oof_preds = oof_preds_df.values\n",
    "\n",
    "# rounding\n",
    "#oof_preds = np.round(oof_preds, decimals = 4)"
   ]
  },
  {
   "cell_type": "code",
   "execution_count": 111,
   "metadata": {
    "_uuid": "79946614084351dab7522061cbe744136569f648"
   },
   "outputs": [
    {
     "name": "stdout",
     "output_type": "stream",
     "text": [
      "MULTI-WEIGHTED LOG-LOSS : 0.50157 \n"
     ]
    }
   ],
   "source": [
    "##### EVALUATE PERFORMANCE\n",
    "\n",
    "# print log-loss\n",
    "cv_perf = multi_weighted_logloss(y_true = y, y_preds = oof_preds)[1]\n",
    "print('MULTI-WEIGHTED LOG-LOSS : %.5f ' % cv_perf)\n",
    "\n",
    "# single 6:     0.53124\n",
    "# two 6:        0.52405\n",
    "# two 6 + m:    0.52539\n",
    "# two 8:        0.51775\n",
    "# drop log:     0.51836\n",
    "# add aligned:  0.50964\n",
    "# set t 0.999:  0.50748\n",
    "# set t 0.99:   0.50549"
   ]
  },
  {
   "cell_type": "code",
   "execution_count": 112,
   "metadata": {
    "_uuid": "4bcb98af6c8e58a100c1cf7b889482ae7b48b590"
   },
   "outputs": [
    {
     "data": {
      "image/png": "[encoded data removed]",
      "text/plain": [
       "<Figure size 720x576 with 2 Axes>"
      ]
     },
     "metadata": {},
     "output_type": "display_data"
    }
   ],
   "source": [
    "##### CONFUSION MATRIX\n",
    "\n",
    "# preparations\n",
    "tmp = np.argmax(oof_preds, axis = 1)\n",
    "y_pred = []\n",
    "for i in tmp:\n",
    "    y_pred.append(classes[i])\n",
    "y_pred = pd.Series(y_pred)\n",
    "\n",
    "# construct confusion matrx\n",
    "cm = confusion_matrix(y, y_pred, labels = classes)\n",
    "cm = cm.astype('float') / cm.sum(axis = 1)[:, np.newaxis]\n",
    "annot = np.around(cm, 2)\n",
    "\n",
    "# plot matrix\n",
    "fig, ax = plt.subplots(figsize = (10,8))\n",
    "sns.heatmap(cm, xticklabels = classes, yticklabels = classes, cmap = 'Blues', annot = annot, lw = 0.5)\n",
    "ax.set_xlabel('Predicted Label')\n",
    "ax.set_ylabel('True Label')\n",
    "ax.set_aspect('equal')\n",
    "fig.savefig('../confusion_matrix.pdf')"
   ]
  },
  {
   "cell_type": "markdown",
   "metadata": {
    "_uuid": "0caa1fc29c48dc0b35967cd9cad1eb3a306b7864"
   },
   "source": [
    "# 4. PREDICTIONS"
   ]
  },
  {
   "cell_type": "markdown",
   "metadata": {
    "_uuid": "4495d1f8ef9e8088be54c4a8b2c22ac222db8592"
   },
   "source": [
    "## CONSTRUCTING TEST DATA"
   ]
  },
  {
   "cell_type": "code",
   "execution_count": 113,
   "metadata": {},
   "outputs": [],
   "source": [
    "### IMPORT READY DATA\n",
    "meta_test = pd.read_csv('../input/test_set_metadata.csv')\n",
    "meta_test = meta_test.sort_values('object_id')\n",
    "del meta_test['hostgal_specz']"
   ]
  },
  {
   "cell_type": "code",
   "execution_count": 114,
   "metadata": {},
   "outputs": [
    {
     "name": "stdout",
     "output_type": "stream",
     "text": [
      "Number of stacking models: 8\n",
      "Data shape: (3492890, 128)\n"
     ]
    }
   ],
   "source": [
    "### IMPORT TEST PREDS\n",
    "for name in names:\n",
    "\n",
    "    tmp = pd.read_csv('../submissions/' + str(name))\n",
    "    tmp.columns = [str(name) + '_' + str(l.replace('class_', '')) for l in list(tmp.columns)]\n",
    "    \n",
    "    if name == names[0]:     \n",
    "        full_test = tmp\n",
    "        \n",
    "    else:\n",
    "        full_test = pd.concat([full_test, tmp], axis = 1)\n",
    "        \n",
    "print('Number of stacking models:', len(names))\n",
    "print('Data shape:', full_test.shape)"
   ]
  },
  {
   "cell_type": "raw",
   "metadata": {},
   "source": [
    "### MERGE META\n",
    "full_test = pd.concat([full_test, meta_test], axis = 1)\n",
    "full_test.shape"
   ]
  },
  {
   "cell_type": "code",
   "execution_count": 115,
   "metadata": {
    "_uuid": "88ac2f292a1afa907c3e28366e0e41c2bbaf582b"
   },
   "outputs": [],
   "source": [
    "### PARTITIONING\n",
    "\n",
    "# partition the data\n",
    "full_test_gal = full_test[meta_test.hostgal_photoz == 0]\n",
    "full_test_ext = full_test[meta_test.hostgal_photoz != 0]\n",
    "\n",
    "# clear memory\n",
    "del full_test"
   ]
  },
  {
   "cell_type": "markdown",
   "metadata": {
    "_uuid": "4af6c4566cbc80828e60bd38c3d042e21bac408d"
   },
   "source": [
    "## PREDICTIONS"
   ]
  },
  {
   "cell_type": "code",
   "execution_count": 116,
   "metadata": {
    "_uuid": "d21b53dbc875e2c3de6490cc7d9f1b7ce10adbfb"
   },
   "outputs": [
    {
     "name": "stdout",
     "output_type": "stream",
     "text": [
      "Predictions shape:  (390510, 7)\n",
      "Done in   1.3 minutes\n"
     ]
    }
   ],
   "source": [
    "### PREDICT GALACTIC OBJECTS\n",
    "\n",
    "# make predictions\n",
    "start  = time.time()\n",
    "preds_gal = None\n",
    "for clf in clfs_gal:\n",
    "    if preds_gal is None:\n",
    "        preds_gal =  clf.predict_proba(full_test_gal[features_gal], num_iteration = clf.best_iteration_) / (folds.n_splits)\n",
    "    else:\n",
    "        preds_gal += clf.predict_proba(full_test_gal[features_gal], num_iteration = clf.best_iteration_) / (folds.n_splits)\n",
    "\n",
    "# class 99 preds\n",
    "preds_99 = np.ones(preds_gal.shape[0])\n",
    "for i in range(preds_gal.shape[1]):\n",
    "    preds_99 *= (1 - preds_gal[:, i])\n",
    "\n",
    "# store predictions\n",
    "preds_df_gal = pd.DataFrame(preds_gal, columns = ['class_' + str(s) for s in clfs_gal[0].classes_])\n",
    "preds_df_gal['object_id'] = meta_test['object_id'][meta_test.hostgal_photoz == 0].values\n",
    "preds_df_gal['class_99'] = preds_99\n",
    "preds_df_gal['class_99'] = 0.18 * preds_99 / np.mean(preds_99)\n",
    "\n",
    "# clean up\n",
    "gc.collect()\n",
    "print('Predictions shape: ', preds_df_gal.shape)\n",
    "print('Done in %5.1f minutes' % ((time.time() - start) / 60))"
   ]
  },
  {
   "cell_type": "code",
   "execution_count": 117,
   "metadata": {
    "_uuid": "02d3ee24a83713923c12c2af746212bebd169f4f"
   },
   "outputs": [
    {
     "name": "stdout",
     "output_type": "stream",
     "text": [
      "Predictions shape:  (3102380, 11)\n",
      "Done in  12.5 minutes\n"
     ]
    }
   ],
   "source": [
    "### PREDICT EXTRAGALACTIC OBJECTS\n",
    "\n",
    "# make predictions\n",
    "start  = time.time()\n",
    "preds_ext = None\n",
    "for clf in clfs_ext:\n",
    "    if preds_ext is None:\n",
    "        preds_ext =  clf.predict_proba(full_test_ext[features_ext], num_iteration = clf.best_iteration_) / (folds.n_splits)\n",
    "    else:\n",
    "        preds_ext += clf.predict_proba(full_test_ext[features_ext], num_iteration = clf.best_iteration_) / (folds.n_splits)\n",
    "\n",
    "# class 99 preds\n",
    "preds_99 = np.ones(preds_ext.shape[0])\n",
    "for i in range(preds_ext.shape[1]):\n",
    "    preds_99 *= (1 - preds_ext[:, i])\n",
    "\n",
    "# store predictions\n",
    "preds_df_ext = pd.DataFrame(preds_ext, columns = ['class_' + str(s) for s in clfs_ext[0].classes_])\n",
    "preds_df_ext['object_id'] = meta_test['object_id'][meta_test.hostgal_photoz != 0].values\n",
    "preds_df_ext['class_99'] = preds_99\n",
    "preds_df_ext['class_99'] = 0.18 * preds_99 / np.mean(preds_99)\n",
    "\n",
    "# clean up\n",
    "gc.collect()\n",
    "print('Predictions shape: ', preds_df_ext.shape)\n",
    "print('Done in %5.1f minutes' % ((time.time() - start) / 60))"
   ]
  },
  {
   "cell_type": "markdown",
   "metadata": {},
   "source": [
    "# 5-6. SELF-LEARNING"
   ]
  },
  {
   "cell_type": "markdown",
   "metadata": {
    "_uuid": "a0fd0de1bcd933e5bc32384283eb5325f1959f1b"
   },
   "source": [
    "## RETRAIN LGBM ON SURE CASES: GALACTIC"
   ]
  },
  {
   "cell_type": "raw",
   "metadata": {},
   "source": [
    "# find confident predictions\n",
    "conf = 0.99\n",
    "minc = 0.99\n",
    "#sure_gal = preds_df_gal[(preds_df_gal.class_6 > conf) | (preds_df_gal.class_16 > conf) | (preds_df_gal.class_53 > conf) | (preds_df_gal.class_65 > conf) | (preds_df_gal.class_92 > conf)]\n",
    "sure_gal = preds_df_gal[(preds_df_gal.class_6 > preds_df_gal.class_6.quantile(conf)) | (preds_df_gal.class_16 > preds_df_gal.class_16.quantile(conf)) | (preds_df_gal.class_53 > preds_df_gal.class_53.quantile(conf)) | (preds_df_gal.class_65 > preds_df_gal.class_65.quantile(conf)) | (preds_df_gal.class_92 > preds_df_gal.class_92.quantile(conf))]\n",
    "sure_gal = sure_gal[(sure_gal.class_6 > minc) | (sure_gal.class_16 > minc) | (sure_gal.class_53 > minc) | (sure_gal.class_65 > minc) | (sure_gal.class_92 > minc)]\n",
    "sure_gal = sure_gal.drop(columns = 'class_99')\n",
    "sure_gal.shape"
   ]
  },
  {
   "cell_type": "raw",
   "metadata": {},
   "source": [
    "# extract X and Y\n",
    "obj = full_test_gal.filter(like = 'object_id').columns[0]\n",
    "y_sure_gal = sure_gal.drop(columns = 'object_id').idxmax(axis = 1)\n",
    "y_sure_gal = pd.Series([int(str(i)[6:8]) for i in y_sure_gal])\n",
    "x_sure_gal = full_test_gal[full_test_gal[obj].isin(sure_gal.object_id)]\n",
    "\n",
    "# augment the data\n",
    "full_train_gal = pd.concat([full_train_gal.reset_index(drop = True), x_sure_gal.reset_index(drop = True)], axis = 0)\n",
    "y_gal = pd.concat([y_gal.reset_index(drop = True), y_sure_gal.reset_index(drop = True)], axis = 0)\n",
    "\n",
    "# exclude features\n",
    "print(full_train_gal[features_gal].shape)"
   ]
  },
  {
   "cell_type": "raw",
   "metadata": {
    "_uuid": "7bf694d9e270c05e62cf6ea85da29bdf665f6f5b"
   },
   "source": [
    "### LOSS FUNCTION\n",
    "def multi_weighted_logloss(y_true, y_preds):\n",
    "    \n",
    "    classes = [6, 16, 53, 65, 92]\n",
    "    class_weight = dict(((c, 1) for c in classes))\n",
    "    \n",
    "    # reshape\n",
    "    y_p = y_preds.reshape(y_true.shape[0], len(classes), order = 'F')\n",
    "    \n",
    "    # Trasform y_true in dummies\n",
    "    y_ohe = pd.get_dummies(y_true)\n",
    "    \n",
    "    # Normalize rows and limit y_preds to 1e-15, 1-1e-15\n",
    "    y_p = np.clip(a = y_p, a_min = 1e-15, a_max = 1-1e-15)\n",
    "    \n",
    "    # Transform to log\n",
    "    y_p_log = np.log(y_p)\n",
    "    \n",
    "    # Get the log for ones, .values is used to drop the index of DataFrames\n",
    "    # Exclude class 99 for now, since there is no class99 in the training set \n",
    "    y_log_ones = np.sum(y_ohe.values * y_p_log, axis = 0)\n",
    "    \n",
    "    # Get the number of positives for each class\n",
    "    nb_pos = y_ohe.sum(axis = 0).values.astype(float)\n",
    "    \n",
    "    # Weight average and divide by the number of positives\n",
    "    class_arr = np.array([class_weight[k] for k in sorted(class_weight.keys())])\n",
    "    y_w = y_log_ones * class_arr / nb_pos\n",
    "    loss = - np.sum(y_w) / np.sum(class_arr)\n",
    "    \n",
    "    return 'wloss', loss, False\n",
    "\n",
    "\n",
    "# recompute weights\n",
    "w_gal = y_gal.value_counts()\n",
    "weights_gal = {i : np.sum(w_gal) / w_gal[i] for i in w_gal.index}"
   ]
  },
  {
   "cell_type": "raw",
   "metadata": {
    "_uuid": "6f54311f6e36a0fcb7d6639c6c9368cbe4154873"
   },
   "source": [
    "### PARAMETERS\n",
    "\n",
    "# LGB parameters\n",
    "lgb_params = {\n",
    "    'boosting_type':   'gbdt',\n",
    "    'objective':       'multiclass',\n",
    "    'num_class':        len(classes_gal),\n",
    "    'metric':          'multi_logloss',\n",
    "    'subsample':        0.9,\n",
    "    'feature_fraction': 0.7,\n",
    "    'lambda_l1':        0.03,\n",
    "    'lambda_l2':        0.03,\n",
    "    'min_split_gain':   0.01,\n",
    "    'min_child_weight': 5,\n",
    "    'silent':           True,\n",
    "    'verbosity':        -1,\n",
    "    'learning_rate':    0.03,\n",
    "    'max_depth':        3,\n",
    "    'n_estimators':     5000,\n",
    "    'nthread' :         16\n",
    "}\n",
    "\n",
    "# validation\n",
    "folds = StratifiedKFold(n_splits     = 10, \n",
    "                        shuffle      = True, \n",
    "                        random_state = 108)"
   ]
  },
  {
   "cell_type": "raw",
   "metadata": {
    "_uuid": "4e5e1ed34e0887b3c10b8e649abef15f44a34853"
   },
   "source": [
    "### CROSS-VALIDATION LOOP\n",
    "\n",
    "# create objects\n",
    "clfs_gal = []\n",
    "importances_gal = pd.DataFrame()\n",
    "oof_preds_gal = np.zeros((len(full_train_gal), len(classes_gal)))\n",
    "\n",
    "# modeling loop\n",
    "start  = time.time()\n",
    "for fold_, (trn_, val_) in enumerate(folds.split(y_gal, y_gal)):\n",
    "    \n",
    "    # data partitioning\n",
    "    trn_x, trn_y = full_train_gal[features_gal].iloc[trn_], y_gal.iloc[trn_]\n",
    "    val_x, val_y = full_train_gal[features_gal].iloc[val_], y_gal.iloc[val_]\n",
    "    \n",
    "    # train the model\n",
    "    clf = lgb.LGBMClassifier(**lgb_params) \n",
    "    clf.fit(\n",
    "        trn_x, trn_y,\n",
    "        eval_set              = [(trn_x, trn_y), (val_x, val_y)],\n",
    "        eval_metric           = multi_weighted_logloss,\n",
    "        verbose               = 200,\n",
    "        early_stopping_rounds = 100,\n",
    "        sample_weight         = trn_y.map(weights_gal)\n",
    "    )\n",
    "    clfs_gal.append(clf)\n",
    "\n",
    "    # predictions\n",
    "    oof_preds_gal[val_, :] =  clf.predict_proba(val_x, num_iteration = clf.best_iteration_)\n",
    "    \n",
    "    # feedback\n",
    "    print('-------------------------------------')\n",
    "    print('Fold ' + str(fold_ + 1) + ': LOG-LOSS = ' + str(round(multi_weighted_logloss(val_y, clf.predict_proba(val_x, num_iteration = clf.best_iteration_))[1], 5)))  \n",
    "    print('-------------------------------------')\n",
    "    print('')\n",
    "\n",
    "    # variable importance\n",
    "    imp_df = pd.DataFrame()\n",
    "    imp_df['feature'] = features_gal\n",
    "    imp_df['gain'] = clf.feature_importances_\n",
    "    imp_df['fold'] = fold_ + 1\n",
    "    importances_gal = pd.concat([importances_gal, imp_df], axis = 0, sort = False)\n",
    "    \n",
    "    # clean up\n",
    "    gc.collect()\n",
    "    \n",
    "# print performance\n",
    "print('')\n",
    "print('MULTI-WEIGHTED LOG-LOSS : %.5f ' % multi_weighted_logloss(y_true = y_gal, y_preds = oof_preds_gal)[1])\n",
    "print('Done in %5.1f minutes' % ((time.time() - start) / 60))"
   ]
  },
  {
   "cell_type": "raw",
   "metadata": {
    "_uuid": "d21b53dbc875e2c3de6490cc7d9f1b7ce10adbfb"
   },
   "source": [
    "### PREDICT GALACTIC OBJECTS\n",
    "\n",
    "# make predictions\n",
    "start  = time.time()\n",
    "preds_gal = None\n",
    "for clf in clfs_gal:\n",
    "    if preds_gal is None:\n",
    "        preds_gal =  clf.predict_proba(full_test_gal[features_gal], num_iteration = clf.best_iteration_) / (folds.n_splits)\n",
    "    else:\n",
    "        preds_gal += clf.predict_proba(full_test_gal[features_gal], num_iteration = clf.best_iteration_) / (folds.n_splits)\n",
    "\n",
    "# class 99 preds\n",
    "preds_99 = np.ones(preds_gal.shape[0])\n",
    "for i in range(preds_gal.shape[1]):\n",
    "    preds_99 *= (1 - preds_gal[:, i])\n",
    "\n",
    "# store predictions\n",
    "preds_df_gal = pd.DataFrame(preds_gal, columns = ['class_' + str(s) for s in clfs_gal[0].classes_])\n",
    "preds_df_gal['object_id'] = full_test_gal[obj].values\n",
    "preds_df_gal['class_99'] = preds_99\n",
    "preds_df_gal['class_99'] = 0.18 * preds_99 / np.mean(preds_99)\n",
    "\n",
    "# clean up\n",
    "gc.collect()\n",
    "print('Predictions shape: ', preds_df_gal.shape)\n",
    "print('Done in %5.1f minutes' % ((time.time() - start) / 60))"
   ]
  },
  {
   "cell_type": "raw",
   "metadata": {},
   "source": [
    "# replace sure preds with old preds\n",
    "sure_gal['class_99'] = 0.18\n",
    "preds_df_gal[preds_df_gal.object_id.isin(sure_gal.object_id)] = sure_gal"
   ]
  },
  {
   "cell_type": "markdown",
   "metadata": {
    "_uuid": "a0fd0de1bcd933e5bc32384283eb5325f1959f1b"
   },
   "source": [
    "## RETRAIN LGBM ON SURE CASES: EXTRAGALACTIC"
   ]
  },
  {
   "cell_type": "raw",
   "metadata": {},
   "source": [
    "# find confident predictions\n",
    "conf = 0.99\n",
    "minc = 0.99\n",
    "#sure_ext = preds_df_ext[(preds_df_ext.class_15 > conf) | (preds_df_ext.class_42 > conf) | (preds_df_ext.class_52 > conf) | (preds_df_ext.class_62 > conf) | (preds_df_ext.class_64 > conf) | \n",
    "#                        (preds_df_ext.class_67 > conf) | (preds_df_ext.class_88 > conf) | (preds_df_ext.class_90 > conf) | (preds_df_ext.class_95 > conf)]\n",
    "sure_ext = preds_df_ext[(preds_df_ext.class_15 > preds_df_ext.class_15.quantile(conf)) | (preds_df_ext.class_42 > preds_df_ext.class_42.quantile(conf)) | (preds_df_ext.class_52 > preds_df_ext.class_52.quantile(conf)) | (preds_df_ext.class_62 > preds_df_ext.class_62.quantile(conf)) | (preds_df_ext.class_64 > preds_df_ext.class_64.quantile(conf)) | \n",
    "                        (preds_df_ext.class_67 > preds_df_ext.class_67.quantile(conf)) | (preds_df_ext.class_88 > preds_df_ext.class_88.quantile(conf)) | (preds_df_ext.class_90 > preds_df_ext.class_90.quantile(conf)) | (preds_df_ext.class_95 > preds_df_ext.class_95.quantile(conf))]\n",
    "sure_ext = preds_df_ext[(preds_df_ext.class_15 > minc) | (preds_df_ext.class_42 > minc) | (preds_df_ext.class_52 > minc) | (preds_df_ext.class_62 > minc) | (preds_df_ext.class_64 > minc) | \n",
    "                        (preds_df_ext.class_67 > minc) | (preds_df_ext.class_88 > minc) | (preds_df_ext.class_90 > minc) | (preds_df_ext.class_95 > minc)]\n",
    "sure_ext = sure_ext.drop(columns = 'class_99')\n",
    "sure_ext.shape"
   ]
  },
  {
   "cell_type": "raw",
   "metadata": {},
   "source": [
    "# extract X and Y\n",
    "obj = full_test_ext.filter(like = 'object_id').columns[0]\n",
    "y_sure_ext = sure_ext.drop(columns = 'object_id').idxmax(axis = 1)\n",
    "y_sure_ext = pd.Series([int(str(i)[6:8]) for i in y_sure_ext])\n",
    "x_sure_ext = full_test_ext[full_test_ext[obj].isin(sure_ext.object_id)]\n",
    "\n",
    "# augment the data\n",
    "full_train_ext = pd.concat([full_train_ext.reset_index(drop = True), x_sure_ext.reset_index(drop = True)], axis = 0)\n",
    "y_ext = pd.concat([y_ext.reset_index(drop = True), y_sure_ext.reset_index(drop = True)], axis = 0)\n",
    "\n",
    "# exclude features\n",
    "print(full_train_ext[features_ext].shape)"
   ]
  },
  {
   "cell_type": "raw",
   "metadata": {
    "_uuid": "b8da35e9a9f35a17123330ae4a566c350d5c7dfd"
   },
   "source": [
    "### LOSS FUNCTION\n",
    "def multi_weighted_logloss(y_true, y_preds):\n",
    "    \n",
    "    classes = [15, 42, 52, 62, 64, 67, 88, 90, 95]\n",
    "    class_weight = dict(((c, 1) for c in classes))\n",
    "    \n",
    "    # reshape\n",
    "    y_p = y_preds.reshape(y_true.shape[0], len(classes), order = 'F')\n",
    "    \n",
    "    # Trasform y_true in dummies\n",
    "    y_ohe = pd.get_dummies(y_true)\n",
    "    \n",
    "    # Normalize rows and limit y_preds to 1e-15, 1-1e-15\n",
    "    y_p = np.clip(a = y_p, a_min = 1e-15, a_max = 1-1e-15)\n",
    "    \n",
    "    # Transform to log\n",
    "    y_p_log = np.log(y_p)\n",
    "    \n",
    "    # Get the log for ones, .values is used to drop the index of DataFrames\n",
    "    # Exclude class 99 for now, since there is no class99 in the training set \n",
    "    y_log_ones = np.sum(y_ohe.values * y_p_log, axis = 0)\n",
    "    \n",
    "    # Get the number of positives for each class\n",
    "    nb_pos = y_ohe.sum(axis = 0).values.astype(float)\n",
    "    \n",
    "    # Weight average and divide by the number of positives\n",
    "    class_arr = np.array([class_weight[k] for k in sorted(class_weight.keys())])\n",
    "    y_w = y_log_ones * class_arr / nb_pos\n",
    "    loss = - np.sum(y_w) / np.sum(class_arr)\n",
    "    \n",
    "    return 'wloss', loss, False\n",
    "\n",
    "\n",
    "# recompute weights\n",
    "w_ext = y_ext.value_counts()\n",
    "weights_ext = {i : np.sum(w_ext) / w_ext[i] for i in w_ext.index}"
   ]
  },
  {
   "cell_type": "raw",
   "metadata": {
    "_uuid": "91e0add6763721f9aa44d085f2871508e7762538"
   },
   "source": [
    "### PARAMETERS\n",
    "\n",
    "# LGB parameters\n",
    "lgb_params = {\n",
    "    'boosting_type':   'gbdt',\n",
    "    'objective':       'multiclass',\n",
    "    'num_class':        len(classes_ext),\n",
    "    'metric':          'multi_logloss',\n",
    "    'subsample':        0.9,\n",
    "    'feature_fraction': 0.7,\n",
    "    'lambda_l1':        0.03,\n",
    "    'lambda_l2':        0.03,\n",
    "    'min_split_gain':   0.01,\n",
    "    'min_child_weight': 5,\n",
    "    'silent':           True,\n",
    "    'verbosity':        -1,\n",
    "    'learning_rate':    0.03,\n",
    "    'max_depth':        3,\n",
    "    'n_estimators':     5000,\n",
    "    'nthread' :         16\n",
    "}\n",
    "\n",
    "# validation\n",
    "folds = StratifiedKFold(n_splits     = 10, \n",
    "                        shuffle      = True, \n",
    "                        random_state = 108)"
   ]
  },
  {
   "cell_type": "raw",
   "metadata": {
    "_uuid": "976d56edbe62bcb86d797c2b38ef05311b3d45ba"
   },
   "source": [
    "### CROSS-VALIDATION LOOP\n",
    "\n",
    "# create objects\n",
    "clfs_ext = []\n",
    "importances_ext = pd.DataFrame()\n",
    "oof_preds_ext = np.zeros((len(full_train_ext), len(classes_ext)))\n",
    "\n",
    "# modeling loop\n",
    "start  = time.time()\n",
    "for fold_, (trn_, val_) in enumerate(folds.split(y_ext, y_ext)):\n",
    "    \n",
    "    # data partitioning\n",
    "    trn_x, trn_y = full_train_ext[features_ext].iloc[trn_], y_ext.iloc[trn_]\n",
    "    val_x, val_y = full_train_ext[features_ext].iloc[val_], y_ext.iloc[val_]\n",
    "    \n",
    "    # train the model\n",
    "    clf = lgb.LGBMClassifier(**lgb_params) \n",
    "    clf.fit(\n",
    "        trn_x, trn_y,\n",
    "        eval_set              = [(trn_x, trn_y), (val_x, val_y)],\n",
    "        eval_metric           = multi_weighted_logloss,\n",
    "        verbose               = 200,\n",
    "        early_stopping_rounds = 100,\n",
    "        sample_weight         = trn_y.map(weights_ext)        \n",
    "    )\n",
    "    clfs_ext.append(clf)\n",
    "\n",
    "    # predictions\n",
    "    oof_preds_ext[val_, :] = clf.predict_proba(val_x, num_iteration = clf.best_iteration_)\n",
    "\n",
    "    # feedback\n",
    "    print('-------------------------------------')\n",
    "    print('Fold ' + str(fold_ + 1) + ': LOG-LOSS = ' + str(round(multi_weighted_logloss(val_y, clf.predict_proba(val_x, num_iteration = clf.best_iteration_))[1], 5)))  \n",
    "    print('-------------------------------------')\n",
    "    print('')\n",
    "\n",
    "    # variable importance\n",
    "    imp_df = pd.DataFrame()\n",
    "    imp_df['feature'] = features_ext\n",
    "    imp_df['gain'] = clf.feature_importances_\n",
    "    imp_df['fold'] = fold_ + 1\n",
    "    importances_ext = pd.concat([importances_ext, imp_df], axis = 0, sort = False)\n",
    "    \n",
    "    # clean up\n",
    "    gc.collect()\n",
    "    \n",
    "# print performance\n",
    "print('')\n",
    "print('MULTI-WEIGHTED LOG-LOSS : %.5f ' % multi_weighted_logloss(y_true = y_ext, y_preds = oof_preds_ext)[1])\n",
    "print('Done in %5.1f minutes' % ((time.time() - start) / 60))"
   ]
  },
  {
   "cell_type": "raw",
   "metadata": {
    "_uuid": "02d3ee24a83713923c12c2af746212bebd169f4f"
   },
   "source": [
    "### PREDICT EXTRAGALACTIC OBJECTS\n",
    "\n",
    "# make predictions\n",
    "start  = time.time()\n",
    "preds_ext = None\n",
    "for clf in clfs_ext:\n",
    "    if preds_ext is None:\n",
    "        preds_ext =  clf.predict_proba(full_test_ext[features_ext], num_iteration = clf.best_iteration_) / (folds.n_splits)\n",
    "    else:\n",
    "        preds_ext += clf.predict_proba(full_test_ext[features_ext], num_iteration = clf.best_iteration_) / (folds.n_splits)\n",
    "\n",
    "# class 99 preds\n",
    "preds_99 = np.ones(preds_ext.shape[0])\n",
    "for i in range(preds_ext.shape[1]):\n",
    "    preds_99 *= (1 - preds_ext[:, i])\n",
    "\n",
    "# store predictions\n",
    "preds_df_ext = pd.DataFrame(preds_ext, columns = ['class_' + str(s) for s in clfs_ext[0].classes_])\n",
    "preds_df_ext['object_id'] = full_test_ext[obj].values\n",
    "preds_df_ext['class_99'] = preds_99\n",
    "preds_df_ext['class_99'] = 0.18 * preds_99 / np.mean(preds_99)\n",
    "\n",
    "# clean up\n",
    "gc.collect()\n",
    "print('Predictions shape: ', preds_df_ext.shape)\n",
    "print('Done in %5.1f minutes' % ((time.time() - start) / 60))"
   ]
  },
  {
   "cell_type": "raw",
   "metadata": {},
   "source": [
    "# replace sure preds with old preds\n",
    "sure_ext['class_99'] = 0.18\n",
    "preds_df_ext[preds_df_ext.object_id.isin(sure_ext.object_id)] = sure_ext"
   ]
  },
  {
   "cell_type": "markdown",
   "metadata": {
    "_uuid": "a0fd0de1bcd933e5bc32384283eb5325f1959f1b"
   },
   "source": [
    "# 6. CALIBRATION"
   ]
  },
  {
   "cell_type": "code",
   "execution_count": 118,
   "metadata": {
    "_uuid": "d6982cdbd725f3713ae924700cef539f64d1ffb1"
   },
   "outputs": [],
   "source": [
    "# merge predictions\n",
    "sub = pd.concat([preds_df_gal, preds_df_ext], axis = 0)\n",
    "sub = sub.sort_values('object_id', ascending = True)\n",
    "sub.fillna(0, inplace = True)"
   ]
  },
  {
   "cell_type": "code",
   "execution_count": 119,
   "metadata": {},
   "outputs": [],
   "source": [
    "# sort and reindex\n",
    "sub = sub.sort_values('object_id', ascending = True)\n",
    "sub = sub.sort_index(axis = 1)\n",
    "sub = sub.reset_index(drop = True)"
   ]
  },
  {
   "cell_type": "raw",
   "metadata": {},
   "source": [
    "# calibration of probs\n",
    "for cl in ['class_6', 'class_15', 'class_16', 'class_42', 'class_52', 'class_53', 'class_62', 'class_64', 'class_65', 'class_67', 'class_88', 'class_90', 'class_92', 'class_95']:\n",
    "    sub.loc[sub[cl] < 0.1, cl] = sub.loc[sub[cl] < 0.1, cl]*0.8\n",
    "    sub.loc[sub[cl] > 0.9, cl] = sub.loc[sub[cl] > 0.9, cl]*1.5"
   ]
  },
  {
   "cell_type": "code",
   "execution_count": 120,
   "metadata": {},
   "outputs": [],
   "source": [
    "# null values for galactic / extragalactic\n",
    "meta_test = pd.read_csv('../input/test_set_metadata.csv')\n",
    "meta_test = meta_test.sort_values('object_id')\n",
    "\n",
    "for cl in ['class_15', 'class_42', 'class_52', 'class_62', 'class_64', 'class_67', 'class_88', 'class_90', 'class_95']:\n",
    "    sub.loc[meta_test.hostgal_photoz == 0, cl] = 0\n",
    "\n",
    "for cl in ['class_6', 'class_16', 'class_53', 'class_65', 'class_92']:\n",
    "    sub.loc[meta_test.hostgal_photoz != 0, cl] = 0"
   ]
  },
  {
   "cell_type": "code",
   "execution_count": 121,
   "metadata": {},
   "outputs": [],
   "source": [
    "# normalize sum to unity\n",
    "sums = sub[['class_6', 'class_15', 'class_16', 'class_42', 'class_52', 'class_53', 'class_62', 'class_64', 'class_65', 'class_67', 'class_88', 'class_90', 'class_92', 'class_95']].sum(axis = 1)\n",
    "for cl in ['class_6', 'class_15', 'class_16', 'class_42', 'class_52', 'class_53', 'class_62', 'class_64', 'class_65', 'class_67', 'class_88', 'class_90', 'class_92', 'class_95']:\n",
    "    sub[cl] = sub[cl] / sums"
   ]
  },
  {
   "cell_type": "code",
   "execution_count": 122,
   "metadata": {},
   "outputs": [],
   "source": [
    "### class 99 computation: Scripus version\n",
    "def GenUnknown(data):\n",
    "    return ((((((data[\"mymedian\"]) + (((data[\"mymean\"]) / 2.0)))/2.0)) + (((((1.0) - (((data[\"mymax\"]) * (((data[\"mymax\"]) * (data[\"mymax\"]))))))) / 2.0)))/2.0)\n",
    "\n",
    "feats = ['class_6', 'class_15', 'class_16', 'class_42', 'class_52', 'class_53', 'class_62', 'class_64', 'class_65', 'class_67', 'class_88', 'class_90', 'class_92', 'class_95']\n",
    "\n",
    "y = pd.DataFrame()\n",
    "y['mymean']   = sub[feats].mean(axis=1)\n",
    "y['mymedian'] = sub[feats].median(axis=1)\n",
    "y['mymax']    = sub[feats].max(axis=1)\n",
    "\n",
    "sub['class_99'] = GenUnknown(y)"
   ]
  },
  {
   "cell_type": "markdown",
   "metadata": {
    "_uuid": "a0fd0de1bcd933e5bc32384283eb5325f1959f1b"
   },
   "source": [
    "# 7. SUBMISSION"
   ]
  },
  {
   "cell_type": "code",
   "execution_count": 123,
   "metadata": {},
   "outputs": [],
   "source": [
    "# file name\n",
    "model = 'stack_nik_20f'\n",
    "perf  = str(round(cv_perf, 5))[2:7]\n",
    "name  = model + '_' + perf"
   ]
  },
  {
   "cell_type": "code",
   "execution_count": 124,
   "metadata": {
    "_uuid": "ab549b5d9fc196d47d2a5d7b73f241dda07cdd8c"
   },
   "outputs": [
    {
     "data": {
      "text/plain": [
       "(3492890, 16)"
      ]
     },
     "execution_count": 124,
     "metadata": {},
     "output_type": "execute_result"
    }
   ],
   "source": [
    "# export submission\n",
    "sub.to_csv('../submissions/' + str(name) + '.csv', index = False)\n",
    "sub.shape"
   ]
  },
  {
   "cell_type": "code",
   "execution_count": 125,
   "metadata": {},
   "outputs": [
    {
     "data": {
      "text/plain": [
       "(7848, 14)"
      ]
     },
     "execution_count": 125,
     "metadata": {},
     "output_type": "execute_result"
    }
   ],
   "source": [
    "# export submission\n",
    "oof_preds_df.to_csv('../preds_stacking/' + str(name) + '.csv', index = False)\n",
    "oof_preds_df.shape"
   ]
  }
 ],
 "metadata": {
  "kernelspec": {
   "display_name": "Python 3",
   "language": "python",
   "name": "python3"
  },
  "language_info": {
   "codemirror_mode": {
    "name": "ipython",
    "version": 3
   },
   "file_extension": ".py",
   "mimetype": "text/x-python",
   "name": "python",
   "nbconvert_exporter": "python",
   "pygments_lexer": "ipython3",
   "version": "3.6.5"
  }
 },
 "nbformat": 4,
 "nbformat_minor": 2
}
