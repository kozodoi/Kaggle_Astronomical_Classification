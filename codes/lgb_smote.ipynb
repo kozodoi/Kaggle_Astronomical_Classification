{
 "cells": [
  {
   "cell_type": "markdown",
   "metadata": {
    "_uuid": "88325efe6e1e90c58e37029f398efd794ecd7ecc"
   },
   "source": [
    "# 1. SETTINGS"
   ]
  },
  {
   "cell_type": "code",
   "execution_count": 1,
   "metadata": {
    "_cell_guid": "b1076dfc-b9ad-4769-8c92-a6c4dae69d19",
    "_uuid": "8f2839f25d086af736a60e9eeb907d3b93b6e0e5"
   },
   "outputs": [],
   "source": [
    "import numpy as np\n",
    "import pandas as pd\n",
    "pd.set_option(\"display.max_columns\", None)\n",
    "\n",
    "import matplotlib.pyplot as plt\n",
    "import seaborn as sns \n",
    "\n",
    "import lightgbm as lgb\n",
    "\n",
    "import os\n",
    "import time\n",
    "import multiprocessing\n",
    "\n",
    "from sklearn.ensemble import ExtraTreesClassifier\n",
    "from sklearn.metrics import log_loss\n",
    "from sklearn.model_selection import StratifiedKFold\n",
    "from sklearn.metrics import confusion_matrix\n",
    "from sklearn.decomposition import PCA\n",
    "from sklearn.preprocessing import StandardScaler\n",
    "from sklearn.manifold import TSNE\n",
    "\n",
    "import tsfresh\n",
    "from tsfresh import extract_features\n",
    "from tsfresh.utilities.dataframe_functions import impute\n",
    "\n",
    "import warnings\n",
    "warnings.filterwarnings('ignore')\n",
    "\n",
    "import gc\n",
    "gc.enable()"
   ]
  },
  {
   "cell_type": "markdown",
   "metadata": {
    "_uuid": "587f72a72010fb4fda2531642aff592e0f68cab1"
   },
   "source": [
    "# 2. DATA PREPARATION"
   ]
  },
  {
   "cell_type": "markdown",
   "metadata": {
    "_uuid": "6b10269d3c0f0024596ce80fec38c63ccdd4dd6a"
   },
   "source": [
    "## FUNCTIONS FOR FEATURE EXTRACTION"
   ]
  },
  {
   "cell_type": "code",
   "execution_count": 2,
   "metadata": {
    "_uuid": "124b623c6364c7707b5d51d5926ce74eacf8f082"
   },
   "outputs": [],
   "source": [
    "### FUNCTION 1\n",
    "def add_stats(agg_data, data, var):\n",
    "    \n",
    "    # grouped data for all features\n",
    "    data_grouped = data.groupby(['object_id', 'passband'])[var]\n",
    "\n",
    "    # compute quantiles\n",
    "    for quant in [0.1, 0.25, 0.75, 0.9]:\n",
    "        tmp = data_grouped.quantile(quant).reset_index()\n",
    "        tmp.columns = ['object_id', 'passband', str(var) + '_q' + str(quant)[2]]\n",
    "        agg_data = agg_data.merge(tmp, how = 'left', on = ['object_id', 'passband'])\n",
    "        \n",
    "    # kurtosis\n",
    "    tmp = data_grouped.apply(lambda x: x.kurtosis()).reset_index()\n",
    "    tmp.columns = ['object_id', 'passband', str(var) + '_kurtosis']\n",
    "    agg_data = agg_data.merge(tmp, how = 'left', on = ['object_id', 'passband'])\n",
    "\n",
    "    # skewness\n",
    "    tmp = data_grouped.apply(lambda x: x.skew()).reset_index()\n",
    "    tmp.columns = ['object_id', 'passband', str(var) + '_skew']\n",
    "    agg_data = agg_data.merge(tmp, how = 'left', on = ['object_id', 'passband'])\n",
    "    \n",
    "    # autocorrelation\n",
    "    tmp = data_grouped.apply(lambda x: x.autocorr(1)).reset_index()\n",
    "    tmp.columns = ['object_id', 'passband', str(var) + '_autocorr']\n",
    "    agg_data = agg_data.merge(tmp, how = 'left', on = ['object_id', 'passband'])\n",
    "    \n",
    "    # sample entropy\n",
    "    tmp = data_grouped.apply(lambda x: tsfresh.feature_extraction.feature_calculators.sample_entropy(x)).reset_index()\n",
    "    tmp.columns = ['object_id', 'passband', str(var) + '_sample_entropy']\n",
    "    agg_data = agg_data.merge(tmp, how = 'left', on = ['object_id', 'passband'])\n",
    "    \n",
    "    # abs energy\n",
    "    tmp = data_grouped.apply(lambda x: tsfresh.feature_extraction.feature_calculators.abs_energy(x)).reset_index()\n",
    "    tmp.columns = ['object_id', 'passband', str(var) + '_abs_energy']\n",
    "    agg_data = agg_data.merge(tmp, how = 'left', on = ['object_id', 'passband'])\n",
    "    \n",
    "    # number of peaks\n",
    "    tmp = data_grouped.apply(lambda x: tsfresh.feature_extraction.feature_calculators.number_peaks(x, 1)).reset_index()\n",
    "    tmp.columns = ['object_id', 'passband', str(var) + '_number_peaks']\n",
    "    agg_data = agg_data.merge(tmp, how = 'left', on = ['object_id', 'passband'])\n",
    "    \n",
    "    # longest strike\n",
    "    tmp = data_grouped.apply(lambda x: tsfresh.feature_extraction.feature_calculators.longest_strike_above_mean(x)).reset_index()\n",
    "    tmp.columns = ['object_id', 'passband', str(var) + '_longest_strike_above_mean']\n",
    "    agg_data = agg_data.merge(tmp, how = 'left', on = ['object_id', 'passband'])\n",
    "\n",
    "    # clean up\n",
    "    gc.collect()\n",
    "\n",
    "    # return\n",
    "    return agg_data"
   ]
  },
  {
   "cell_type": "code",
   "execution_count": 3,
   "metadata": {
    "_uuid": "2d70075b62588b66bed85cb91ee1cb97e1038e8b"
   },
   "outputs": [],
   "source": [
    "### FUNCTION 2\n",
    "def add_features(df):\n",
    "    \n",
    "    # sort values\n",
    "    df = df.sort_values(by = ['object_id', 'passband', 'mjd'])\n",
    "        \n",
    "    # transform flux to magnitudes\n",
    "    #meta = pd.read_csv('../input/training_set_metadata.csv')\n",
    "    #df = df.merge(meta[['object_id', 'distmod', 'hostgal_photoz']], how = 'left', on = 'object_id')\n",
    "    #df['flux'] = -2.5*np.log(df.flux + 1e07)\n",
    "    #df.loc[df.hostgal_photoz != 0, 'flux'] = -2.5*np.log(df.flux[df.hostgal_photoz != 0] + 1e07)\n",
    "    #df['magnitude'] = df['flux'] - df['distmod']\n",
    "    #del df['distmod'], df['hostgal_photoz']\n",
    "  \n",
    "\n",
    "    ### AGGREGATIONS\n",
    "    \n",
    "    # flux ratios\n",
    "    df['flux_ratio_sq'] = np.power(df['flux'] / df['flux_err'], 2.0)\n",
    "    df['flux_by_flux_ratio_sq'] = df['flux'] * df['flux_ratio_sq']\n",
    "          \n",
    "    # flux difference\n",
    "    df['flux_diff'] = df.groupby(['object_id', 'passband']).flux.diff()\n",
    "    df['flux_diff_pos'] = df['flux_diff']\n",
    "    df['flux_diff_neg'] = df['flux_diff']\n",
    "    df.loc[df.flux_diff > 0, 'flux_diff_neg'] = 0\n",
    "    df.loc[df.detected <= 0, 'flux_diff_neg'] = 1\n",
    "    df.loc[df.flux_diff > 0, 'flux_diff_pos'] = 1\n",
    "    df.loc[df.detected <= 0, 'flux_diff_pos'] = 0\n",
    "    \n",
    "    # drop mjd without spikes\n",
    "    df.loc[df.detected == 0, 'mjd'] = np.nan\n",
    "\n",
    "    # detected flux\n",
    "    df['detected_flux'] = df['flux']\n",
    "    df.loc[df.detected == 0, 'detected_flux'] = np.nan\n",
    "\n",
    "    # set aggregations\n",
    "    aggs = {\n",
    "        'mjd':                   ['min', 'max'],\n",
    "        'flux':                  ['min', 'max', 'mean', 'median', 'std', 'var'],\n",
    "        'detected_flux':         ['min', 'max', 'mean', 'median', 'std', 'var', 'skew'],\n",
    "        'flux_diff':             ['min', 'max', 'mean', 'median', 'std', 'var', 'skew'],\n",
    "        'flux_diff_pos':         ['mean', 'sum'],\n",
    "        'flux_diff_neg':         ['mean', 'sum'],\n",
    "        'flux_err':              ['min', 'max', 'mean', 'median', 'std', 'skew'],\n",
    "        'detected':              ['mean', 'sum'],\n",
    "        'flux_ratio_sq':         ['mean'],\n",
    "        'flux_by_flux_ratio_sq': ['mean']\n",
    "    }\n",
    "\n",
    "    # aggregations\n",
    "    agg_df = df.groupby(['object_id', 'passband']).agg(aggs)\n",
    "    new_columns = [k + '_' + agg for k in aggs.keys() for agg in aggs[k]]\n",
    "    agg_df.columns = new_columns\n",
    "    agg_df = agg_df.reset_index()\n",
    " \n",
    "\n",
    "    ### EXTRA FEATURES\n",
    "  \n",
    "    # time range\n",
    "    agg_df['mjd_diff'] = agg_df['mjd_max'] - agg_df['mjd_min']\n",
    "    del agg_df['mjd_max'], agg_df['mjd_min']\n",
    "    \n",
    "    # flux features\n",
    "    agg_df['flux_w_mean'] = agg_df['flux_by_flux_ratio_sq_mean'] / agg_df['flux_ratio_sq_mean']\n",
    "    agg_df['flux_dif1']   = agg_df['flux_max'] - agg_df['flux_min']\n",
    "    agg_df['flux_dif2']   = (agg_df['flux_max'] - agg_df['flux_min']) / agg_df['flux_mean']\n",
    "    agg_df['flux_dif3']   = (agg_df['flux_max'] - agg_df['flux_min']) / agg_df['flux_w_mean']\n",
    "\n",
    "    \n",
    "    ### TIME SERIES STATS\n",
    "    \n",
    "    # add stats\n",
    "    agg_df = add_stats(agg_df, df, var = 'flux')\n",
    "\n",
    "    # reshape to wide\n",
    "    agg_df = agg_df.pivot(index = 'object_id', columns = 'passband')\n",
    "    agg_df.columns = [\"_p\".join(map(str, col)) for col in agg_df.columns.values]\n",
    "    \n",
    "    # add object-specific vars\n",
    "    dat = df[df.detected == 1]\n",
    "    aggs = {\n",
    "            'mjd':  ['min', 'max'],\n",
    "            'flux': ['min', 'max', 'mean', 'median', 'std', 'var', 'skew'],\n",
    "            'detected':  ['sum'],\n",
    "            }\n",
    "    dat = dat.groupby(['object_id']).agg(aggs)\n",
    "    new_columns = [k + '_obj_' + agg for k in aggs.keys() for agg in aggs[k]]\n",
    "    dat.columns = new_columns\n",
    "    dat = dat.reset_index()\n",
    "    dat['mjd_obj_diff'] = dat['mjd_obj_max'] - dat['mjd_obj_min']\n",
    "    del dat['mjd_obj_max'], dat['mjd_obj_min']\n",
    "    agg_df = agg_df.merge(dat, how = 'left', on = 'object_id')\n",
    "        \n",
    "    # clean up\n",
    "    gc.collect()\n",
    "    \n",
    "    # return\n",
    "    return agg_df"
   ]
  },
  {
   "cell_type": "code",
   "execution_count": 4,
   "metadata": {
    "_uuid": "e1a58aef3f989d02b2a4dc1400823f1f1bd137ec"
   },
   "outputs": [],
   "source": [
    "### FUNCTION 3\n",
    "def add_passband_ratios(data):\n",
    "    \n",
    "    # ratio loop \n",
    "    for pas in [1,2,3,4,5]:\n",
    "        data['p'+str(pas)+'_p0_mean_ratio'] = data['flux_mean_p'+str(pas)] / data['flux_mean_p0']\n",
    "        data['p'+str(pas)+'_p0_min_ratio'] = data['flux_min_p'+str(pas)] / data['flux_min_p0']\n",
    "        data['p'+str(pas)+'_p0_max_ratio'] = data['flux_max_p'+str(pas)] / data['flux_max_p0']\n",
    "        data['p'+str(pas)+'_p0_detected_ratio'] = data['detected_sum_p'+str(pas)] / data['detected_sum_p0']\n",
    "        data['p'+str(pas)+'_p0_d_mean_ratio'] = data['flux_diff_mean_p'+str(pas)] / data['flux_diff_mean_p0']\n",
    "        data['p'+str(pas)+'_p0_d_min_ratio'] = data['flux_diff_min_p'+str(pas)] / data['flux_diff_min_p0']\n",
    "        data['p'+str(pas)+'_p0_d_max_ratio'] = data['flux_diff_max_p'+str(pas)] / data['flux_diff_max_p0']\n",
    "        data['p'+str(pas)+'_p0_e_mean_ratio'] = data['flux_err_mean_p'+str(pas)] / data['flux_err_mean_p0']\n",
    "        data['p'+str(pas)+'_p0_e_min_ratio'] = data['flux_err_min_p'+str(pas)] / data['flux_err_min_p0']\n",
    "        data['p'+str(pas)+'_p0_e_max_ratio'] = data['flux_err_max_p'+str(pas)] / data['flux_err_max_p0']\n",
    "\n",
    "    # ratio loop \n",
    "    for pas in [2,3,4,5]:\n",
    "        data['p'+str(pas)+'_p1_mean_ratio'] = data['flux_mean_p'+str(pas)] / data['flux_mean_p1']\n",
    "        data['p'+str(pas)+'_p1_min_ratio'] = data['flux_min_p'+str(pas)] / data['flux_min_p1']\n",
    "        data['p'+str(pas)+'_p1_max_ratio'] = data['flux_max_p'+str(pas)] / data['flux_max_p1']\n",
    "        data['p'+str(pas)+'_p1_detected_ratio'] = data['detected_sum_p'+str(pas)] / data['detected_sum_p1']\n",
    "        data['p'+str(pas)+'_p1_d_mean_ratio'] = data['flux_diff_mean_p'+str(pas)] / data['flux_diff_mean_p1']\n",
    "        data['p'+str(pas)+'_p1_d_min_ratio'] = data['flux_diff_min_p'+str(pas)] / data['flux_diff_min_p1']\n",
    "        data['p'+str(pas)+'_p1_d_max_ratio'] = data['flux_diff_max_p'+str(pas)] / data['flux_diff_max_p1']\n",
    "        data['p'+str(pas)+'_p1_e_mean_ratio'] = data['flux_err_mean_p'+str(pas)] / data['flux_err_mean_p1']\n",
    "        data['p'+str(pas)+'_p1_e_min_ratio'] = data['flux_err_min_p'+str(pas)] / data['flux_err_min_p1']\n",
    "        data['p'+str(pas)+'_p1_e_max_ratio'] = data['flux_err_max_p'+str(pas)] / data['flux_err_max_p1']\n",
    "\n",
    "    # ratio loop \n",
    "    for pas in [3,4,5]:\n",
    "        data['p'+str(pas)+'_p2_mean_ratio'] = data['flux_mean_p'+str(pas)] / data['flux_mean_p2']\n",
    "        data['p'+str(pas)+'_p2_min_ratio'] = data['flux_min_p'+str(pas)] / data['flux_min_p2']\n",
    "        data['p'+str(pas)+'_p2_max_ratio'] = data['flux_max_p'+str(pas)] / data['flux_max_p2']\n",
    "        data['p'+str(pas)+'_p2_detected_ratio'] = data['detected_sum_p'+str(pas)] / data['detected_sum_p2']\n",
    "        data['p'+str(pas)+'_p2_d_mean_ratio'] = data['flux_diff_mean_p'+str(pas)] / data['flux_diff_mean_p2']\n",
    "        data['p'+str(pas)+'_p2_d_min_ratio'] = data['flux_diff_min_p'+str(pas)] / data['flux_diff_min_p2']\n",
    "        data['p'+str(pas)+'_p2_d_max_ratio'] = data['flux_diff_max_p'+str(pas)] / data['flux_diff_max_p2']\n",
    "        data['p'+str(pas)+'_p2_e_mean_ratio'] = data['flux_err_mean_p'+str(pas)] / data['flux_err_mean_p2']\n",
    "        data['p'+str(pas)+'_p2_e_min_ratio'] = data['flux_err_min_p'+str(pas)] / data['flux_err_min_p2']\n",
    "        data['p'+str(pas)+'_p2_e_max_ratio'] = data['flux_err_max_p'+str(pas)] / data['flux_err_max_p2']\n",
    "\n",
    "    # ratio loop \n",
    "    for pas in [4,5]:\n",
    "        data['p'+str(pas)+'_p3_mean_ratio'] = data['flux_mean_p'+str(pas)] / data['flux_mean_p3']\n",
    "        data['p'+str(pas)+'_p3_min_ratio'] = data['flux_min_p'+str(pas)] / data['flux_min_p3']\n",
    "        data['p'+str(pas)+'_p3_max_ratio'] = data['flux_max_p'+str(pas)] / data['flux_max_p3']\n",
    "        data['p'+str(pas)+'_p3_detected_ratio'] = data['detected_sum_p'+str(pas)] / data['detected_sum_p3']\n",
    "        data['p'+str(pas)+'_p3_d_mean_ratio'] = data['flux_diff_mean_p'+str(pas)] / data['flux_diff_mean_p3']\n",
    "        data['p'+str(pas)+'_p3_d_min_ratio'] = data['flux_diff_min_p'+str(pas)] / data['flux_diff_min_p3']\n",
    "        data['p'+str(pas)+'_p3_d_max_ratio'] = data['flux_diff_max_p'+str(pas)] / data['flux_diff_max_p3']\n",
    "        data['p'+str(pas)+'_p3_e_mean_ratio'] = data['flux_err_mean_p'+str(pas)] / data['flux_err_mean_p3']\n",
    "        data['p'+str(pas)+'_p3_e_min_ratio'] = data['flux_err_min_p'+str(pas)] / data['flux_err_min_p3']\n",
    "        data['p'+str(pas)+'_p3_e_max_ratio'] = data['flux_err_max_p'+str(pas)] / data['flux_err_max_p3']\n",
    "\n",
    "    # ratio loop \n",
    "    for pas in [5]:\n",
    "        data['p'+str(pas)+'_p4_mean_ratio'] = data['flux_mean_p'+str(pas)] / data['flux_mean_p4']\n",
    "        data['p'+str(pas)+'_p4_min_ratio'] = data['flux_min_p'+str(pas)] / data['flux_min_p4']\n",
    "        data['p'+str(pas)+'_p4_max_ratio'] = data['flux_max_p'+str(pas)] / data['flux_max_p4']   \n",
    "        data['p'+str(pas)+'_p4_detected_ratio'] = data['detected_sum_p'+str(pas)] / data['detected_sum_p4'] \n",
    "        data['p'+str(pas)+'_p4_d_mean_ratio'] = data['flux_diff_mean_p'+str(pas)] / data['flux_diff_mean_p4']\n",
    "        data['p'+str(pas)+'_p4_d_min_ratio'] = data['flux_diff_min_p'+str(pas)] / data['flux_diff_min_p4']\n",
    "        data['p'+str(pas)+'_p4_d_max_ratio'] = data['flux_diff_max_p'+str(pas)] / data['flux_diff_max_p4']\n",
    "        data['p'+str(pas)+'_p4_e_mean_ratio'] = data['flux_err_mean_p'+str(pas)] / data['flux_err_mean_p4']\n",
    "        data['p'+str(pas)+'_p4_e_min_ratio'] = data['flux_err_min_p'+str(pas)] / data['flux_err_min_p4']\n",
    "        data['p'+str(pas)+'_p4_e_max_ratio'] = data['flux_err_max_p'+str(pas)] / data['flux_err_max_p4']\n",
    "\n",
    "    # clean up\n",
    "    gc.collect()\n",
    "\n",
    "    # return\n",
    "    return data"
   ]
  },
  {
   "cell_type": "code",
   "execution_count": 5,
   "metadata": {},
   "outputs": [],
   "source": [
    "### FUNCTION 4\n",
    "def remove_bands(df):\n",
    "    \n",
    "    ##### INDIVIDUAL VARIABLES\n",
    "    \n",
    "    # extract some bands\n",
    "    t2 = df.loc[:, df.columns.str.endswith('_p2')].divide(3)\n",
    "    t3 = df.loc[:, df.columns.str.endswith('_p3')].divide(3)\n",
    "    t4 = df.loc[:, df.columns.str.endswith('_p4')].divide(3)\n",
    "\n",
    "    # rename columns\n",
    "    t2.columns = [col.replace(\"_p2\", \"_p234\") for col in t2.columns]\n",
    "    t3.columns = [col.replace(\"_p3\", \"_p234\") for col in t3.columns]\n",
    "    t4.columns = [col.replace(\"_p4\", \"_p234\") for col in t4.columns]\n",
    "\n",
    "    # average\n",
    "    t234 = t2.add(t3)\n",
    "    t234 = t234.add(t4)\n",
    "\n",
    "    # remove individual bands\n",
    "    df = df.loc[:, ~df.columns.str.endswith('_p2')]\n",
    "    df = df.loc[:, ~df.columns.str.endswith('_p3')]\n",
    "    df = df.loc[:, ~df.columns.str.endswith('_p4')]\n",
    "\n",
    "    # merge averaged band\n",
    "    df = pd.concat([df, t234], axis = 1)\n",
    "    \n",
    "    \n",
    "    ##### PASSBAND RATIOS\n",
    "    \n",
    "    # extract some bands\n",
    "    t2 = df.filter(like = 'p2_p0').divide(3)\n",
    "    t3 = df.filter(like = 'p3_p0').divide(3)\n",
    "    t4 = df.filter(like = 'p4_p0').divide(3)\n",
    "\n",
    "    # rename columns\n",
    "    t2.columns = [col.replace(\"p2_p0\", \"p234_p0\") for col in t2.columns]\n",
    "    t3.columns = [col.replace(\"p3_p0\", \"p234_p0\") for col in t3.columns]\n",
    "    t4.columns = [col.replace(\"p4_p0\", \"p234_p0\") for col in t4.columns]\n",
    "\n",
    "    # average\n",
    "    t234 = t2.add(t3)\n",
    "    t234 = t234.add(t4)\n",
    "\n",
    "    # remove individual bands\n",
    "    #drops = list(df.filter(like = 'p2_p0').columns) + list(df.filter(like = 'p3_p0').columns) + list(df.filter(like = 'p4_p0').columns)\n",
    "    #keeps = [f for f in df.columns if f not in drops]\n",
    "    #df = df[keeps]\n",
    "\n",
    "    # merge averaged band\n",
    "    df = pd.concat([df, t234], axis = 1)\n",
    "        \n",
    "    return df"
   ]
  },
  {
   "cell_type": "markdown",
   "metadata": {
    "_uuid": "d819975ac7b393b1787a975f79b5feccaf8a81dc"
   },
   "source": [
    "## COMPUTING FEATURES"
   ]
  },
  {
   "cell_type": "raw",
   "metadata": {
    "_uuid": "631c418da4275fba3070f2a6cff3873d11591f95"
   },
   "source": [
    "### TRAIN DATA\n",
    "\n",
    "# import data\n",
    "start  = time.time()\n",
    "train = pd.read_csv('../input/training_set.csv')\n",
    "print('Shape after import: ', train.shape)\n",
    "\n",
    "# add features\n",
    "agg_train = add_features(train)\n",
    "del train\n",
    "\n",
    "# passband ratios\n",
    "agg_train = add_passband_ratios(agg_train)\n",
    "\n",
    "# print dimensions\n",
    "print('Shape after aggregations: ', agg_train.shape)\n",
    "\n",
    "\n",
    "### META DATA\n",
    "\n",
    "# import data\n",
    "meta_train = pd.read_csv('../input/training_set_metadata.csv')\n",
    "\n",
    "# merge data\n",
    "full_train = agg_train.merge(\n",
    "    right  = meta_train,\n",
    "    how    = 'left',\n",
    "    on     = 'object_id'\n",
    ")\n",
    "del meta_train, agg_train\n",
    "\n",
    "# print feedback\n",
    "print('Shape after preparation: ', full_train.shape)\n",
    "print('Done in %5.1f minutes' % ((time.time() - start) / 60))"
   ]
  },
  {
   "cell_type": "raw",
   "metadata": {
    "_uuid": "cabfdf4518a6b960f9839b2ef1757ab85345d7f3"
   },
   "source": [
    "# export data\n",
    "full_train.to_csv('../input/full_train_v10.csv', index = False)"
   ]
  },
  {
   "cell_type": "code",
   "execution_count": 294,
   "metadata": {
    "_uuid": "8c44c8a51973f096bc126ce235936f9ff0248a9c"
   },
   "outputs": [
    {
     "data": {
      "text/plain": [
       "(7848, 471)"
      ]
     },
     "execution_count": 294,
     "metadata": {},
     "output_type": "execute_result"
    }
   ],
   "source": [
    "### IMPORT READY DATA\n",
    "full_train = pd.read_csv('../input/full_train_v10.csv')\n",
    "full_train.shape"
   ]
  },
  {
   "cell_type": "code",
   "execution_count": 295,
   "metadata": {},
   "outputs": [
    {
     "data": {
      "text/plain": [
       "(7848, 485)"
      ]
     },
     "execution_count": 295,
     "metadata": {},
     "output_type": "execute_result"
    }
   ],
   "source": [
    "### AGGREGATED FLUX\n",
    "\n",
    "# import and merge\n",
    "aggflux = pd.read_csv('../input/agg_flux_train.csv')\n",
    "full_train = full_train.merge(aggflux, how = 'left', on = 'object_id')\n",
    "del aggflux\n",
    "full_train.shape"
   ]
  },
  {
   "cell_type": "code",
   "execution_count": 296,
   "metadata": {},
   "outputs": [
    {
     "data": {
      "text/plain": [
       "(7848, 509)"
      ]
     },
     "execution_count": 296,
     "metadata": {},
     "output_type": "execute_result"
    }
   ],
   "source": [
    "### CESIUM FEATURES\n",
    "\n",
    "# import new feats\n",
    "ces = pd.read_csv('../input/cesium_train.csv')\n",
    "ces.columns = ['object_id'] + ['ces_' + l.replace('__', '')[:-1] for l in list(ces.columns) if l not in 'object_id']\n",
    "\n",
    "# filter features\n",
    "ces_feats = ['object_id'] + list(ces.filter(like = 'max_slope').columns) + \\\n",
    "                            list(ces.filter(like = 'qso').columns) + \\\n",
    "                            list(ces.filter(like = 'percent_close_to_median').columns)\n",
    "ces = ces[ces_feats]\n",
    "\n",
    "# merge data\n",
    "full_train = full_train.merge(ces, how = 'left', on = 'object_id')\n",
    "del ces\n",
    "full_train.shape"
   ]
  },
  {
   "cell_type": "raw",
   "metadata": {},
   "source": [
    "### CESIUM FEATURES [2]\n",
    "\n",
    "# import new feats\n",
    "ces = pd.read_csv('../input/cesium_train.csv')\n",
    "ces.columns = ['object_id'] + ['ces_' + l.replace('__', '')[:-1] for l in list(ces.columns) if l not in 'object_id']\n",
    "\n",
    "# filter features\n",
    "ces['xxx'] = ces.filter(like = 'stetson_j').median(axis = 1)\n",
    "ces = ces[['object_id', 'xxx']]\n",
    "\n",
    "# merge data\n",
    "full_train = full_train.merge(ces, how = 'left', on = 'object_id')\n",
    "del ces\n",
    "full_train.shape"
   ]
  },
  {
   "cell_type": "code",
   "execution_count": 297,
   "metadata": {},
   "outputs": [
    {
     "data": {
      "text/plain": [
       "(7848, 419)"
      ]
     },
     "execution_count": 297,
     "metadata": {},
     "output_type": "execute_result"
    }
   ],
   "source": [
    "### REMOVE BANDS\n",
    "full_train = remove_bands(full_train)\n",
    "full_train.shape"
   ]
  },
  {
   "cell_type": "raw",
   "metadata": {},
   "source": [
    "### PASSBAND PREDS\n",
    "\n",
    "exclude = list(full_train.filter(like = '_p0').columns) + \\\n",
    "          list(full_train.filter(like = '_p1').columns) + \\\n",
    "          list(full_train.filter(like = '_p2').columns) + \\\n",
    "          list(full_train.filter(like = '_p3').columns) + \\\n",
    "          list(full_train.filter(like = '_p4').columns) + \\\n",
    "          list(full_train.filter(like = '_p5').columns)\n",
    "features = [f for f in full_train.columns if f not in exclude]\n",
    "full_train = full_train[features]\n",
    "\n",
    "# import and merge\n",
    "aggflux = pd.read_csv('../input/lgb_v10__p0.csv')\n",
    "full_train = pd.concat([full_train, aggflux], axis = 1)\n",
    "\n",
    "# import and merge\n",
    "aggflux = pd.read_csv('../input/lgb_v10__p1.csv')\n",
    "full_train = pd.concat([full_train, aggflux], axis = 1)\n",
    "\n",
    "# import and merge\n",
    "aggflux = pd.read_csv('../input/lgb_v10__p2.csv')\n",
    "full_train = pd.concat([full_train, aggflux], axis = 1)\n",
    "\n",
    "# import and merge\n",
    "aggflux = pd.read_csv('../input/lgb_v10__p3.csv')\n",
    "full_train = pd.concat([full_train, aggflux], axis = 1)\n",
    "\n",
    "# import and merge\n",
    "aggflux = pd.read_csv('../input/lgb_v10__p4.csv')\n",
    "full_train = pd.concat([full_train, aggflux], axis = 1)\n",
    "\n",
    "# import and merge\n",
    "aggflux = pd.read_csv('../input/lgb_v10__p5.csv')\n",
    "full_train = pd.concat([full_train, aggflux], axis = 1)\n",
    "full_train.shape"
   ]
  },
  {
   "cell_type": "raw",
   "metadata": {},
   "source": [
    "### BATCH-BASED FLUX\n",
    "\n",
    "# import and merge\n",
    "aggflux = pd.read_csv('../input/flux_batch_train.csv')\n",
    "aggflux_feats = ['object_id'] + list(aggflux.filter(like = 'batch_mean').columns)\n",
    "aggflux = aggflux[aggflux_feats]\n",
    "full_train = full_train.merge(aggflux, how = 'left', on = 'object_id')\n",
    "del aggflux\n",
    "full_train.shape"
   ]
  },
  {
   "cell_type": "raw",
   "metadata": {},
   "source": [
    "##### FEETS FEATURES\n",
    "\n",
    "# merge new feets\n",
    "feat = pd.read_csv('../input/train_feats.csv')\n",
    "#feat = feat[feat.passband.isin([0,1,2,3,4,5]\n",
    "\n",
    "rfeats = ['object_id', 'passband'] + list(feat.filter(like = 'CAR').columns) + \\\n",
    "                                     list(feat.filter(like = 'Period').columns) + \\\n",
    "                                     list(feat.filter(like = 'Autocor_length').columns) + \\\n",
    "                                     list(feat.filter(like = 'MaxSlope').columns)\n",
    "feat = feat[rfeats]\n",
    "\n",
    "feat = feat.pivot(index = 'object_id', columns = 'passband')\n",
    "feat.columns = [\"_p\".join(map(str, col)) for col in feat.columns.values]\n",
    "\n",
    "print(full_train.shape)\n",
    "full_train = full_train.merge(\n",
    "    right  = feat,\n",
    "    how    = 'left',\n",
    "    on     = 'object_id'\n",
    ")\n",
    "print(full_train.shape)"
   ]
  },
  {
   "cell_type": "code",
   "execution_count": 298,
   "metadata": {
    "_uuid": "2b6f79b71d0e9b62266a52d9e7ac209c56e14aff"
   },
   "outputs": [],
   "source": [
    "### PREPARATIONS\n",
    "\n",
    "# target encoding\n",
    "if 'target' in full_train:\n",
    "    y = full_train['target']\n",
    "    del full_train['target']\n",
    "classes = sorted(y.unique())\n",
    "\n",
    "# drop some features\n",
    "if 'object_id' in full_train:\n",
    "    oof_df = full_train[['object_id']]\n",
    "    del full_train['object_id'], full_train['hostgal_specz']"
   ]
  },
  {
   "cell_type": "raw",
   "metadata": {},
   "source": [
    "### CORRELATION HEATMAP\n",
    "corr = full_train.filter(like = 'flux').corr()\n",
    "plt.figure(figsize = (40, 40))\n",
    "sns.heatmap(corr, \n",
    "            xticklabels = corr.columns,\n",
    "            yticklabels = corr.columns)\n",
    "plt.tight_layout()\n",
    "plt.savefig('../heatmap.pdf')"
   ]
  },
  {
   "cell_type": "code",
   "execution_count": 299,
   "metadata": {
    "_uuid": "1ac6c8500bbc9b9a338292b86bd01362e25264d9"
   },
   "outputs": [],
   "source": [
    "### PARTITIONING\n",
    "\n",
    "# partition the data\n",
    "full_train_gal = full_train[full_train.hostgal_photoz == 0]\n",
    "full_train_ext = full_train[full_train.hostgal_photoz != 0]\n",
    "y_gal = y[full_train.hostgal_photoz == 0]\n",
    "y_ext = y[full_train.hostgal_photoz != 0]\n",
    "\n",
    "full_train     = full_train.replace([np.inf, -np.inf], np.nan)\n",
    "full_train_gal = full_train_gal.replace([np.inf, -np.inf], np.nan)\n",
    "full_train_ext = full_train_ext.replace([np.inf, -np.inf], np.nan)\n",
    "\n",
    "# impute missings with means\n",
    "train_mean = full_train.median(axis = 0)\n",
    "full_train_gal.fillna(train_mean, inplace = True)\n",
    "full_train_ext.fillna(train_mean, inplace = True)\n",
    "\n",
    "# save classes\n",
    "classes_gal = np.sort(y_gal.unique())\n",
    "classes_ext = np.sort(y_ext.unique())\n",
    "\n",
    "# clear memory\n",
    "del full_train"
   ]
  },
  {
   "cell_type": "markdown",
   "metadata": {
    "_uuid": "d413e67b3a8735ceeec25b2c3fc6b911d8646464"
   },
   "source": [
    "# 3. CROSS-VALIDATION"
   ]
  },
  {
   "cell_type": "markdown",
   "metadata": {
    "_uuid": "1e5143b3cb09f395e946bd4fdb63482bc1c542cc"
   },
   "source": [
    "## GALACTIC OBJECTS"
   ]
  },
  {
   "cell_type": "code",
   "execution_count": 300,
   "metadata": {
    "_uuid": "3f48baa0689486fdb7f1763ad7546e171f837de7"
   },
   "outputs": [
    {
     "name": "stdout",
     "output_type": "stream",
     "text": [
      "(2325, 328)\n"
     ]
    }
   ],
   "source": [
    "# exclude features\n",
    "excluded_feats_gal = list(full_train_gal.filter(like = 'flux_diff_pos').columns) + \\\n",
    "                     list(full_train_gal.filter(like = 'flux_diff_neg').columns) + \\\n",
    "                     list(full_train_gal.filter(like = 'detected_flux_skew').columns) + \\\n",
    "                     list(full_train_gal.filter(like = 'p234_p0').columns) + \\\n",
    "                     list(full_train_gal.filter(like = 'detected_ratio').columns) + \\\n",
    "                     list(full_train_gal.filter(like = 'time_reversal_asymmetry_statistic').columns) + \\\n",
    "                     list(full_train_gal.filter(like = 'ces_').columns) + \\\n",
    "                     list(full_train_gal.filter(like = '_size').columns) + \\\n",
    "                     list(full_train_gal.filter(like = '_obs_').columns) + \\\n",
    "                     list(full_train_gal.filter(like = 'CAR').columns) + \\\n",
    "                     list(full_train_gal.filter(like = 'magnitude_skew').columns) + \\\n",
    "                     list(full_train_gal.filter(like = 'magnitude_var').columns) + \\\n",
    "                     list(full_train_gal.filter(like = 'magnitude_std').columns) + \\\n",
    "                     list(full_train_gal.filter(like = 'magnitude_min').columns) + \\\n",
    "                     list(full_train_gal.filter(like = 'magnitude_max').columns) + \\\n",
    "                     list(full_train_gal.filter(like = 'magnitude_median').columns) + \\\n",
    "                     list(full_train_gal.filter(like = 'magnitude_mean').columns) + \\\n",
    "                     ['hostgal_photoz', 'hostgal_photoz_err', 'distmod', 'decl', 'mwebv']\n",
    "features_gal = [f for f in full_train_gal.columns if f not in excluded_feats_gal]\n",
    "print(full_train_gal[features_gal].shape)"
   ]
  },
  {
   "cell_type": "code",
   "execution_count": 301,
   "metadata": {
    "_uuid": "7bf694d9e270c05e62cf6ea85da29bdf665f6f5b"
   },
   "outputs": [],
   "source": [
    "### LOSS FUNCTION\n",
    "def multi_weighted_logloss(y_true, y_preds):\n",
    "    \n",
    "    classes = [6, 16, 53, 65, 92]\n",
    "    class_weight = dict(((c, 1) for c in classes))\n",
    "    \n",
    "    # reshape\n",
    "    y_p = y_preds.reshape(y_true.shape[0], len(classes), order = 'F')\n",
    "    \n",
    "    # Trasform y_true in dummies\n",
    "    y_ohe = pd.get_dummies(y_true)\n",
    "    \n",
    "    # Normalize rows and limit y_preds to 1e-15, 1-1e-15\n",
    "    y_p = np.clip(a = y_p, a_min = 1e-15, a_max = 1-1e-15)\n",
    "    \n",
    "    # Transform to log\n",
    "    y_p_log = np.log(y_p)\n",
    "    \n",
    "    # Get the log for ones, .values is used to drop the index of DataFrames\n",
    "    # Exclude class 99 for now, since there is no class99 in the training set \n",
    "    y_log_ones = np.sum(y_ohe.values * y_p_log, axis = 0)\n",
    "    \n",
    "    # Get the number of positives for each class\n",
    "    nb_pos = y_ohe.sum(axis = 0).values.astype(float)\n",
    "    \n",
    "    # Weight average and divide by the number of positives\n",
    "    class_arr = np.array([class_weight[k] for k in sorted(class_weight.keys())])\n",
    "    y_w = y_log_ones * class_arr / nb_pos\n",
    "    loss = - np.sum(y_w) / np.sum(class_arr)\n",
    "    \n",
    "    return 'wloss', loss, False\n",
    "\n",
    "\n",
    "# recompute weights\n",
    "w_gal = y_gal.value_counts()\n",
    "weights_gal = {i : np.sum(w_gal) / w_gal[i] for i in w_gal.index}"
   ]
  },
  {
   "cell_type": "code",
   "execution_count": 302,
   "metadata": {
    "_uuid": "6f54311f6e36a0fcb7d6639c6c9368cbe4154873"
   },
   "outputs": [],
   "source": [
    "### PARAMETERS\n",
    "\n",
    "# LGB parameters\n",
    "lgb_params = {\n",
    "    'boosting_type':   'gbdt',\n",
    "    'objective':       'multiclass',\n",
    "    'num_class':        len(classes_gal),\n",
    "    'metric':          'None',\n",
    "    'subsample':        0.9,\n",
    "    'feature_fraction': 0.7,\n",
    "    'lambda_l1':        0.03,\n",
    "    'lambda_l2':        0.03,\n",
    "    'min_split_gain':   0.01,\n",
    "    'min_child_weight': 5,\n",
    "    'silent':           True,\n",
    "    'verbosity':        -1,\n",
    "    'learning_rate':    0.03,\n",
    "    'max_depth':        3,\n",
    "    'n_estimators':     5000,\n",
    "    'nthread' :         16\n",
    "}\n",
    "\n",
    "# validation\n",
    "folds = StratifiedKFold(n_splits     = 10, \n",
    "                        shuffle      = True, \n",
    "                        random_state = 23)"
   ]
  },
  {
   "cell_type": "code",
   "execution_count": 304,
   "metadata": {},
   "outputs": [],
   "source": [
    "from imblearn.over_sampling import SMOTE\n",
    "sm = SMOTE(random_state = 12, n_jobs = 10, \n",
    "           sampling_strategy = {65: 1000, 16: 1000, 92: 478, 6: 302, 53: 60})"
   ]
  },
  {
   "cell_type": "code",
   "execution_count": 305,
   "metadata": {},
   "outputs": [
    {
     "data": {
      "text/plain": [
       "65    981\n",
       "16    924\n",
       "92    239\n",
       "6     151\n",
       "53     30\n",
       "Name: target, dtype: int64"
      ]
     },
     "execution_count": 305,
     "metadata": {},
     "output_type": "execute_result"
    }
   ],
   "source": [
    "trn_x, trn_y = full_train_gal[features_gal], y_gal\n",
    "trn_y.value_counts() "
   ]
  },
  {
   "cell_type": "code",
   "execution_count": 306,
   "metadata": {},
   "outputs": [
    {
     "data": {
      "text/plain": [
       "65    981\n",
       "16    924\n",
       "92    478\n",
       "6     302\n",
       "53     60\n",
       "dtype: int64"
      ]
     },
     "execution_count": 306,
     "metadata": {},
     "output_type": "execute_result"
    }
   ],
   "source": [
    "x_train_res, y_train_res = sm.fit_sample(trn_x, trn_y)\n",
    "pd.Series(y_train_res).value_counts()"
   ]
  },
  {
   "cell_type": "code",
   "execution_count": 307,
   "metadata": {
    "_uuid": "4e5e1ed34e0887b3c10b8e649abef15f44a34853",
    "scrolled": true
   },
   "outputs": [
    {
     "name": "stdout",
     "output_type": "stream",
     "text": [
      "Training until validation scores don't improve for 100 rounds.\n",
      "[100]\ttraining's wloss: 0.111258\tvalid_1's wloss: 0.171074\n",
      "[200]\ttraining's wloss: 0.0137898\tvalid_1's wloss: 0.0627594\n",
      "[300]\ttraining's wloss: 0.00304847\tvalid_1's wloss: 0.0554523\n",
      "[400]\ttraining's wloss: 0.00138754\tvalid_1's wloss: 0.0555016\n",
      "Early stopping, best iteration is:\n",
      "[350]\ttraining's wloss: 0.00188591\tvalid_1's wloss: 0.0544183\n",
      "-------------------------------------\n",
      "Fold 1: LOG-LOSS = 0.05442\n",
      "-------------------------------------\n",
      "\n",
      "Training until validation scores don't improve for 100 rounds.\n",
      "[100]\ttraining's wloss: 0.116192\tvalid_1's wloss: 0.278222\n",
      "[200]\ttraining's wloss: 0.0158501\tvalid_1's wloss: 0.162952\n",
      "[300]\ttraining's wloss: 0.00334401\tvalid_1's wloss: 0.123749\n",
      "[400]\ttraining's wloss: 0.0014352\tvalid_1's wloss: 0.0984419\n",
      "[500]\ttraining's wloss: 0.0010423\tvalid_1's wloss: 0.0823464\n",
      "[600]\ttraining's wloss: 0.000888438\tvalid_1's wloss: 0.0748858\n",
      "[700]\ttraining's wloss: 0.000790318\tvalid_1's wloss: 0.0716083\n",
      "[800]\ttraining's wloss: 0.000738633\tvalid_1's wloss: 0.0683212\n",
      "[900]\ttraining's wloss: 0.000701334\tvalid_1's wloss: 0.0655492\n",
      "[1000]\ttraining's wloss: 0.000694045\tvalid_1's wloss: 0.0640016\n",
      "Early stopping, best iteration is:\n",
      "[953]\ttraining's wloss: 0.000694121\tvalid_1's wloss: 0.0639579\n",
      "-------------------------------------\n",
      "Fold 2: LOG-LOSS = 0.06396\n",
      "-------------------------------------\n",
      "\n",
      "Training until validation scores don't improve for 100 rounds.\n",
      "[100]\ttraining's wloss: 0.114733\tvalid_1's wloss: 0.205357\n",
      "[200]\ttraining's wloss: 0.0146701\tvalid_1's wloss: 0.071643\n",
      "[300]\ttraining's wloss: 0.00327155\tvalid_1's wloss: 0.0447614\n",
      "[400]\ttraining's wloss: 0.00145349\tvalid_1's wloss: 0.0410155\n",
      "Early stopping, best iteration is:\n",
      "[371]\ttraining's wloss: 0.00172062\tvalid_1's wloss: 0.0396032\n",
      "-------------------------------------\n",
      "Fold 3: LOG-LOSS = 0.0396\n",
      "-------------------------------------\n",
      "\n",
      "Training until validation scores don't improve for 100 rounds.\n",
      "[100]\ttraining's wloss: 0.112993\tvalid_1's wloss: 0.169126\n",
      "[200]\ttraining's wloss: 0.0147792\tvalid_1's wloss: 0.0461053\n",
      "[300]\ttraining's wloss: 0.00321753\tvalid_1's wloss: 0.0268356\n",
      "[400]\ttraining's wloss: 0.00141183\tvalid_1's wloss: 0.0239679\n",
      "Early stopping, best iteration is:\n",
      "[368]\ttraining's wloss: 0.00171276\tvalid_1's wloss: 0.0232402\n",
      "-------------------------------------\n",
      "Fold 4: LOG-LOSS = 0.02324\n",
      "-------------------------------------\n",
      "\n",
      "Training until validation scores don't improve for 100 rounds.\n",
      "[100]\ttraining's wloss: 0.111966\tvalid_1's wloss: 0.171551\n",
      "[200]\ttraining's wloss: 0.0139879\tvalid_1's wloss: 0.0690242\n",
      "[300]\ttraining's wloss: 0.00301636\tvalid_1's wloss: 0.0608064\n",
      "Early stopping, best iteration is:\n",
      "[289]\ttraining's wloss: 0.00347216\tvalid_1's wloss: 0.059925\n",
      "-------------------------------------\n",
      "Fold 5: LOG-LOSS = 0.05993\n",
      "-------------------------------------\n",
      "\n",
      "Training until validation scores don't improve for 100 rounds.\n",
      "[100]\ttraining's wloss: 0.111442\tvalid_1's wloss: 0.194646\n",
      "[200]\ttraining's wloss: 0.0139602\tvalid_1's wloss: 0.054909\n",
      "[300]\ttraining's wloss: 0.00303124\tvalid_1's wloss: 0.0286987\n",
      "[400]\ttraining's wloss: 0.00137954\tvalid_1's wloss: 0.0241544\n",
      "[500]\ttraining's wloss: 0.00104009\tvalid_1's wloss: 0.0235581\n",
      "[600]\ttraining's wloss: 0.000896916\tvalid_1's wloss: 0.0222893\n",
      "[700]\ttraining's wloss: 0.000795759\tvalid_1's wloss: 0.0220708\n",
      "[800]\ttraining's wloss: 0.000744762\tvalid_1's wloss: 0.0219055\n",
      "Early stopping, best iteration is:\n",
      "[772]\ttraining's wloss: 0.000757642\tvalid_1's wloss: 0.0218647\n",
      "-------------------------------------\n",
      "Fold 6: LOG-LOSS = 0.02186\n",
      "-------------------------------------\n",
      "\n",
      "Training until validation scores don't improve for 100 rounds.\n",
      "[100]\ttraining's wloss: 0.111876\tvalid_1's wloss: 0.258319\n",
      "[200]\ttraining's wloss: 0.0148049\tvalid_1's wloss: 0.202308\n",
      "[300]\ttraining's wloss: 0.00324894\tvalid_1's wloss: 0.187074\n",
      "[400]\ttraining's wloss: 0.00143089\tvalid_1's wloss: 0.166094\n",
      "[500]\ttraining's wloss: 0.00104123\tvalid_1's wloss: 0.155471\n",
      "Early stopping, best iteration is:\n",
      "[459]\ttraining's wloss: 0.00115279\tvalid_1's wloss: 0.153052\n",
      "-------------------------------------\n",
      "Fold 7: LOG-LOSS = 0.15305\n",
      "-------------------------------------\n",
      "\n",
      "Training until validation scores don't improve for 100 rounds.\n",
      "[100]\ttraining's wloss: 0.111688\tvalid_1's wloss: 0.155617\n",
      "[200]\ttraining's wloss: 0.0146271\tvalid_1's wloss: 0.0412044\n",
      "[300]\ttraining's wloss: 0.00321727\tvalid_1's wloss: 0.0255452\n",
      "[400]\ttraining's wloss: 0.00142769\tvalid_1's wloss: 0.0213507\n",
      "[500]\ttraining's wloss: 0.0010425\tvalid_1's wloss: 0.021392\n",
      "[600]\ttraining's wloss: 0.000891532\tvalid_1's wloss: 0.02075\n",
      "[700]\ttraining's wloss: 0.000799938\tvalid_1's wloss: 0.0201154\n",
      "[800]\ttraining's wloss: 0.000749028\tvalid_1's wloss: 0.0198715\n",
      "[900]\ttraining's wloss: 0.000710152\tvalid_1's wloss: 0.0197871\n",
      "Early stopping, best iteration is:\n",
      "[884]\ttraining's wloss: 0.000715611\tvalid_1's wloss: 0.0197703\n",
      "-------------------------------------\n",
      "Fold 8: LOG-LOSS = 0.01977\n",
      "-------------------------------------\n",
      "\n",
      "Training until validation scores don't improve for 100 rounds.\n",
      "[100]\ttraining's wloss: 0.11134\tvalid_1's wloss: 0.156106\n",
      "[200]\ttraining's wloss: 0.0134002\tvalid_1's wloss: 0.0435647\n",
      "[300]\ttraining's wloss: 0.00286991\tvalid_1's wloss: 0.031839\n",
      "[400]\ttraining's wloss: 0.00133611\tvalid_1's wloss: 0.0329427\n",
      "Early stopping, best iteration is:\n",
      "[303]\ttraining's wloss: 0.0027671\tvalid_1's wloss: 0.031708\n",
      "-------------------------------------\n",
      "Fold 9: LOG-LOSS = 0.03171\n",
      "-------------------------------------\n",
      "\n",
      "Training until validation scores don't improve for 100 rounds.\n",
      "[100]\ttraining's wloss: 0.113732\tvalid_1's wloss: 0.182371\n",
      "[200]\ttraining's wloss: 0.0148752\tvalid_1's wloss: 0.0412025\n",
      "[300]\ttraining's wloss: 0.00326399\tvalid_1's wloss: 0.0199552\n",
      "[400]\ttraining's wloss: 0.00144073\tvalid_1's wloss: 0.0152488\n",
      "[500]\ttraining's wloss: 0.00105083\tvalid_1's wloss: 0.013382\n",
      "[600]\ttraining's wloss: 0.000905437\tvalid_1's wloss: 0.0126357\n",
      "[700]\ttraining's wloss: 0.000803553\tvalid_1's wloss: 0.0120547\n",
      "[800]\ttraining's wloss: 0.000749367\tvalid_1's wloss: 0.0119363\n",
      "[900]\ttraining's wloss: 0.000713107\tvalid_1's wloss: 0.0114529\n",
      "[1000]\ttraining's wloss: 0.000697305\tvalid_1's wloss: 0.0111962\n",
      "Early stopping, best iteration is:\n",
      "[987]\ttraining's wloss: 0.000697403\tvalid_1's wloss: 0.0111913\n",
      "-------------------------------------\n",
      "Fold 10: LOG-LOSS = 0.01119\n",
      "-------------------------------------\n",
      "\n",
      "\n",
      "MULTI-WEIGHTED LOG-LOSS : 0.04779 \n",
      "Done in   1.1 minutes\n"
     ]
    }
   ],
   "source": [
    "### CROSS-VALIDATION LOOP\n",
    "\n",
    "# create objects\n",
    "clfs_gal = []\n",
    "importances_gal = pd.DataFrame()\n",
    "oof_preds_gal = np.zeros((len(full_train_gal), len(classes_gal)))\n",
    "\n",
    "# modeling loop\n",
    "start  = time.time()\n",
    "for fold_, (trn_, val_) in enumerate(folds.split(y_gal, y_gal)):\n",
    "    \n",
    "    # data partitioning\n",
    "    trn_x, trn_y = full_train_gal[features_gal].iloc[trn_], y_gal.iloc[trn_]\n",
    "    val_x, val_y = full_train_gal[features_gal].iloc[val_], y_gal.iloc[val_]\n",
    "    \n",
    "    # SMOTE\n",
    "    trn_x, trn_y = sm.fit_sample(trn_x, trn_y)\n",
    "    trn_x = pd.DataFrame(trn_x, columns = features_gal)\n",
    "    trn_y = pd.Series(trn_y)\n",
    "    \n",
    "    # train the model\n",
    "    clf = lgb.LGBMClassifier(**lgb_params) \n",
    "    clf.fit(\n",
    "        trn_x, trn_y,\n",
    "        eval_set              = [(trn_x, trn_y), (val_x, val_y)],\n",
    "        eval_metric           = multi_weighted_logloss,\n",
    "        verbose               = 100,\n",
    "        early_stopping_rounds = 100,\n",
    "        sample_weight         = trn_y.map(weights_gal)\n",
    "    )\n",
    "    clfs_gal.append(clf)\n",
    "\n",
    "    # predictions\n",
    "    oof_preds_gal[val_, :] =  clf.predict_proba(val_x, num_iteration = clf.best_iteration_)\n",
    "    \n",
    "    # feedback\n",
    "    print('-------------------------------------')\n",
    "    print('Fold ' + str(fold_ + 1) + ': LOG-LOSS = ' + str(round(multi_weighted_logloss(val_y, clf.predict_proba(val_x, num_iteration = clf.best_iteration_))[1], 5)))  \n",
    "    print('-------------------------------------')\n",
    "    print('')\n",
    "\n",
    "    # variable importance\n",
    "    imp_df = pd.DataFrame()\n",
    "    imp_df['feature'] = features_gal\n",
    "    imp_df['gain'] = clf.feature_importances_\n",
    "    imp_df['fold'] = fold_ + 1\n",
    "    importances_gal = pd.concat([importances_gal, imp_df], axis = 0, sort = False)\n",
    "    \n",
    "    # clean up\n",
    "    gc.collect()\n",
    "    \n",
    "# print performance\n",
    "print('')\n",
    "print('MULTI-WEIGHTED LOG-LOSS : %.5f ' % multi_weighted_logloss(y_true = y_gal, y_preds = oof_preds_gal)[1])\n",
    "print('Done in %5.1f minutes' % ((time.time() - start) / 60))\n",
    "\n",
    "\n",
    "# 328:  0.05695  --  0.05888  --  0.05346  --  0.04751"
   ]
  },
  {
   "cell_type": "code",
   "execution_count": 258,
   "metadata": {
    "_uuid": "a3d88169ddb895f93f47133b1eba51b0246f6b8c"
   },
   "outputs": [
    {
     "data": {
      "image/png": "[encoded data removed]",
      "text/plain": [
       "<Figure size 720x720 with 1 Axes>"
      ]
     },
     "metadata": {},
     "output_type": "display_data"
    }
   ],
   "source": [
    "##### VARIABLE IMPORTANCE\n",
    "\n",
    "# load importance \n",
    "top_feats = 50\n",
    "cols = importances_gal[[\"gain\", \"feature\"]].groupby(\"feature\").mean().sort_values(by = \"gain\", ascending = False)[0:top_feats].index\n",
    "importance = importances_gal.loc[importances_gal.feature.isin(cols)]\n",
    "importance = importance.sort_values(by = \"gain\", ascending = False)\n",
    "\n",
    "# plot variable importance\n",
    "plt.figure(figsize = (10, 10))\n",
    "sns.barplot(x = \"gain\", y = \"feature\", data = importance)\n",
    "plt.tight_layout()\n",
    "plt.savefig('../var_importance_gal.pdf')"
   ]
  },
  {
   "cell_type": "code",
   "execution_count": 259,
   "metadata": {
    "_uuid": "9ebcbb0f39d3e06748630966d3b7f5dc8aa4a51e",
    "scrolled": false
   },
   "outputs": [
    {
     "data": {
      "image/png": "[encoded data removed]",
      "text/plain": [
       "<Figure size 432x288 with 2 Axes>"
      ]
     },
     "metadata": {},
     "output_type": "display_data"
    }
   ],
   "source": [
    "##### CONFUSION MATRIX\n",
    "\n",
    "# preparations\n",
    "tmp = np.argmax(oof_preds_gal, axis = 1)\n",
    "y_pred = []\n",
    "for i in tmp:\n",
    "    y_pred.append(classes_gal[i])\n",
    "y_pred = pd.Series(y_pred)\n",
    "\n",
    "# construct confusion matrx\n",
    "cm = confusion_matrix(y_gal, y_pred, labels = classes_gal)\n",
    "cm = cm.astype('float') / cm.sum(axis = 1)[:, np.newaxis]\n",
    "annot = np.around(cm, 2)\n",
    "\n",
    "# plot matrix\n",
    "fig, ax = plt.subplots(figsize = (6,4))\n",
    "sns.heatmap(cm, xticklabels = classes_gal, yticklabels = classes_gal, cmap = 'Blues', annot = annot, lw = 0.5)\n",
    "ax.set_xlabel('Predicted Label')\n",
    "ax.set_ylabel('True Label')\n",
    "ax.set_aspect('equal')"
   ]
  },
  {
   "cell_type": "markdown",
   "metadata": {
    "_uuid": "2ee074e92af888a8122e21e982a408a263fb5b3d"
   },
   "source": [
    "## EXTRAGALACTIC OBJECTS"
   ]
  },
  {
   "cell_type": "code",
   "execution_count": 308,
   "metadata": {
    "_uuid": "2334974b17e3e4fbd7888e546e49cf35b7fbb332"
   },
   "outputs": [
    {
     "name": "stdout",
     "output_type": "stream",
     "text": [
      "(5523, 284)\n"
     ]
    }
   ],
   "source": [
    "# exclude features\n",
    "excluded_feats_ext = list(full_train_ext.filter(like = 'flux_err').columns) + \\\n",
    "                     list(full_train_ext.filter(like = 'p2_p0').columns) + \\\n",
    "                     list(full_train_ext.filter(like = 'p3_p0').columns) + \\\n",
    "                     list(full_train_ext.filter(like = 'p4_p0').columns) + \\\n",
    "                     list(full_train_ext.filter(like = '_e_').columns) + \\\n",
    "                     list(full_train_ext.filter(like = '_d_').columns) + \\\n",
    "                     list(full_train_ext.filter(like = 'Period').columns) + \\\n",
    "                     list(full_train_ext.filter(like = 'MaxSlope').columns) + \\\n",
    "                     list(full_train_ext.filter(like = 'Autocor_length').columns) + \\\n",
    "                     list(full_train_ext.filter(like = 'magnitude_skew').columns) + \\\n",
    "                     list(full_train_ext.filter(like = 'magnitude_var').columns) + \\\n",
    "                     list(full_train_ext.filter(like = 'magnitude_std').columns) + \\\n",
    "                     list(full_train_ext.filter(like = 'magnitude_min').columns) + \\\n",
    "                     list(full_train_ext.filter(like = 'magnitude_max').columns) + \\\n",
    "                     list(full_train_ext.filter(like = 'magnitude_median').columns) + \\\n",
    "                     list(full_train_ext.filter(like = 'magnitude_mean').columns) + \\\n",
    "                     []\n",
    "features_ext = [f for f in full_train_ext.columns if f not in excluded_feats_ext]\n",
    "print(full_train_ext[features_ext].shape)"
   ]
  },
  {
   "cell_type": "code",
   "execution_count": 309,
   "metadata": {
    "_uuid": "b8da35e9a9f35a17123330ae4a566c350d5c7dfd"
   },
   "outputs": [],
   "source": [
    "### LOSS FUNCTION\n",
    "def multi_weighted_logloss(y_true, y_preds):\n",
    "    \n",
    "    classes = [15, 42, 52, 62, 64, 67, 88, 90, 95]\n",
    "    class_weight = dict(((c, 1) for c in classes))\n",
    "    \n",
    "    # reshape\n",
    "    y_p = y_preds.reshape(y_true.shape[0], len(classes), order = 'F')\n",
    "    \n",
    "    # Trasform y_true in dummies\n",
    "    y_ohe = pd.get_dummies(y_true)\n",
    "    \n",
    "    # Normalize rows and limit y_preds to 1e-15, 1-1e-15\n",
    "    y_p = np.clip(a = y_p, a_min = 1e-15, a_max = 1-1e-15)\n",
    "    \n",
    "    # Transform to log\n",
    "    y_p_log = np.log(y_p)\n",
    "    \n",
    "    # Get the log for ones, .values is used to drop the index of DataFrames\n",
    "    # Exclude class 99 for now, since there is no class99 in the training set \n",
    "    y_log_ones = np.sum(y_ohe.values * y_p_log, axis = 0)\n",
    "    \n",
    "    # Get the number of positives for each class\n",
    "    nb_pos = y_ohe.sum(axis = 0).values.astype(float)\n",
    "    \n",
    "    # Weight average and divide by the number of positives\n",
    "    class_arr = np.array([class_weight[k] for k in sorted(class_weight.keys())])\n",
    "    y_w = y_log_ones * class_arr / nb_pos\n",
    "    loss = - np.sum(y_w) / np.sum(class_arr)\n",
    "    \n",
    "    return 'wloss', loss, False\n",
    "\n",
    "\n",
    "# recompute weights\n",
    "w_ext = y_ext.value_counts()\n",
    "weights_ext = {i : np.sum(w_ext) / w_ext[i] for i in w_ext.index}"
   ]
  },
  {
   "cell_type": "code",
   "execution_count": 310,
   "metadata": {
    "_uuid": "91e0add6763721f9aa44d085f2871508e7762538"
   },
   "outputs": [],
   "source": [
    "### PARAMETERS\n",
    "\n",
    "# LGB parameters\n",
    "lgb_params = {\n",
    "    'boosting_type':   'gbdt',\n",
    "    'objective':       'multiclass',\n",
    "    'num_class':        len(classes_ext),\n",
    "    'metric':          'None',\n",
    "    'subsample':        0.9,\n",
    "    'feature_fraction': 0.7,\n",
    "    'lambda_l1':        0.03,\n",
    "    'lambda_l2':        0.03,\n",
    "    'min_split_gain':   0.01,\n",
    "    'min_child_weight': 5,\n",
    "    'silent':           True,\n",
    "    'verbosity':        -1,\n",
    "    'learning_rate':    0.03,\n",
    "    'max_depth':        3,\n",
    "    'n_estimators':     5000,\n",
    "    'nthread' :         16\n",
    "}\n",
    "\n",
    "# validation\n",
    "folds = StratifiedKFold(n_splits     = 10, \n",
    "                        shuffle      = True, \n",
    "                        random_state = 23)"
   ]
  },
  {
   "cell_type": "code",
   "execution_count": 313,
   "metadata": {},
   "outputs": [],
   "source": [
    "from imblearn.over_sampling import SMOTE\n",
    "sm = SMOTE(random_state = 12, n_jobs = 10, \n",
    "           sampling_strategy = {42:2000, 15: 500, 62: 500, 88: 500,\n",
    "                                67: 416, 52: 366, 95: 350, 64: 204})"
   ]
  },
  {
   "cell_type": "code",
   "execution_count": 314,
   "metadata": {},
   "outputs": [
    {
     "data": {
      "text/plain": [
       "90    2313\n",
       "42    1193\n",
       "15     495\n",
       "62     484\n",
       "88     370\n",
       "67     208\n",
       "52     183\n",
       "95     175\n",
       "64     102\n",
       "Name: target, dtype: int64"
      ]
     },
     "execution_count": 314,
     "metadata": {},
     "output_type": "execute_result"
    }
   ],
   "source": [
    "trn_x, trn_y = full_train_ext[features_ext], y_ext\n",
    "trn_y.value_counts() "
   ]
  },
  {
   "cell_type": "code",
   "execution_count": 315,
   "metadata": {},
   "outputs": [
    {
     "data": {
      "text/plain": [
       "90    2313\n",
       "42    2000\n",
       "15     500\n",
       "62     500\n",
       "88     500\n",
       "67     416\n",
       "52     366\n",
       "95     350\n",
       "64     204\n",
       "dtype: int64"
      ]
     },
     "execution_count": 315,
     "metadata": {},
     "output_type": "execute_result"
    }
   ],
   "source": [
    "x_train_res, y_train_res = sm.fit_sample(trn_x, trn_y)\n",
    "pd.Series(y_train_res).value_counts()"
   ]
  },
  {
   "cell_type": "code",
   "execution_count": 316,
   "metadata": {
    "_uuid": "976d56edbe62bcb86d797c2b38ef05311b3d45ba",
    "scrolled": false
   },
   "outputs": [
    {
     "name": "stdout",
     "output_type": "stream",
     "text": [
      "Training until validation scores don't improve for 100 rounds.\n",
      "[100]\ttraining's wloss: 0.873297\tvalid_1's wloss: 1.06845\n",
      "[200]\ttraining's wloss: 0.60867\tvalid_1's wloss: 0.904796\n",
      "[300]\ttraining's wloss: 0.473095\tvalid_1's wloss: 0.853315\n",
      "[400]\ttraining's wloss: 0.386611\tvalid_1's wloss: 0.828734\n",
      "[500]\ttraining's wloss: 0.326316\tvalid_1's wloss: 0.818996\n",
      "[600]\ttraining's wloss: 0.280434\tvalid_1's wloss: 0.815451\n",
      "[700]\ttraining's wloss: 0.242695\tvalid_1's wloss: 0.818667\n",
      "Early stopping, best iteration is:\n",
      "[605]\ttraining's wloss: 0.278554\tvalid_1's wloss: 0.814311\n",
      "-------------------------------------\n",
      "Fold 1: LOG-LOSS = 0.81431\n",
      "-------------------------------------\n",
      "\n",
      "Training until validation scores don't improve for 100 rounds.\n",
      "[100]\ttraining's wloss: 0.872368\tvalid_1's wloss: 1.12798\n",
      "[200]\ttraining's wloss: 0.605038\tvalid_1's wloss: 0.973151\n",
      "[300]\ttraining's wloss: 0.4716\tvalid_1's wloss: 0.911451\n",
      "[400]\ttraining's wloss: 0.3877\tvalid_1's wloss: 0.882118\n",
      "[500]\ttraining's wloss: 0.326488\tvalid_1's wloss: 0.863045\n",
      "[600]\ttraining's wloss: 0.279695\tvalid_1's wloss: 0.853387\n",
      "[700]\ttraining's wloss: 0.242168\tvalid_1's wloss: 0.851623\n",
      "Early stopping, best iteration is:\n",
      "[673]\ttraining's wloss: 0.251393\tvalid_1's wloss: 0.850537\n",
      "-------------------------------------\n",
      "Fold 2: LOG-LOSS = 0.85054\n",
      "-------------------------------------\n",
      "\n",
      "Training until validation scores don't improve for 100 rounds.\n",
      "[100]\ttraining's wloss: 0.881956\tvalid_1's wloss: 1.03322\n",
      "[200]\ttraining's wloss: 0.619629\tvalid_1's wloss: 0.866082\n",
      "[300]\ttraining's wloss: 0.482397\tvalid_1's wloss: 0.813859\n",
      "[400]\ttraining's wloss: 0.394379\tvalid_1's wloss: 0.801576\n",
      "[500]\ttraining's wloss: 0.332722\tvalid_1's wloss: 0.798008\n",
      "[600]\ttraining's wloss: 0.284975\tvalid_1's wloss: 0.800155\n",
      "Early stopping, best iteration is:\n",
      "[534]\ttraining's wloss: 0.315375\tvalid_1's wloss: 0.796596\n",
      "-------------------------------------\n",
      "Fold 3: LOG-LOSS = 0.7966\n",
      "-------------------------------------\n",
      "\n",
      "Training until validation scores don't improve for 100 rounds.\n",
      "[100]\ttraining's wloss: 0.878243\tvalid_1's wloss: 1.1291\n",
      "[200]\ttraining's wloss: 0.608887\tvalid_1's wloss: 0.964127\n",
      "[300]\ttraining's wloss: 0.472423\tvalid_1's wloss: 0.923656\n",
      "[400]\ttraining's wloss: 0.388133\tvalid_1's wloss: 0.91445\n",
      "[500]\ttraining's wloss: 0.327598\tvalid_1's wloss: 0.910385\n",
      "[600]\ttraining's wloss: 0.28126\tvalid_1's wloss: 0.912648\n",
      "Early stopping, best iteration is:\n",
      "[506]\ttraining's wloss: 0.324383\tvalid_1's wloss: 0.909841\n",
      "-------------------------------------\n",
      "Fold 4: LOG-LOSS = 0.90984\n",
      "-------------------------------------\n",
      "\n",
      "Training until validation scores don't improve for 100 rounds.\n",
      "[100]\ttraining's wloss: 0.880561\tvalid_1's wloss: 1.06711\n",
      "[200]\ttraining's wloss: 0.615884\tvalid_1's wloss: 0.880018\n",
      "[300]\ttraining's wloss: 0.482463\tvalid_1's wloss: 0.825975\n",
      "[400]\ttraining's wloss: 0.395692\tvalid_1's wloss: 0.804306\n",
      "[500]\ttraining's wloss: 0.334154\tvalid_1's wloss: 0.801505\n",
      "[600]\ttraining's wloss: 0.285794\tvalid_1's wloss: 0.799952\n",
      "[700]\ttraining's wloss: 0.248199\tvalid_1's wloss: 0.801976\n",
      "Early stopping, best iteration is:\n",
      "[614]\ttraining's wloss: 0.280214\tvalid_1's wloss: 0.79892\n",
      "-------------------------------------\n",
      "Fold 5: LOG-LOSS = 0.79892\n",
      "-------------------------------------\n",
      "\n",
      "Training until validation scores don't improve for 100 rounds.\n",
      "[100]\ttraining's wloss: 0.872803\tvalid_1's wloss: 1.08626\n",
      "[200]\ttraining's wloss: 0.60685\tvalid_1's wloss: 0.918356\n",
      "[300]\ttraining's wloss: 0.470682\tvalid_1's wloss: 0.870819\n",
      "[400]\ttraining's wloss: 0.386541\tvalid_1's wloss: 0.860078\n",
      "[500]\ttraining's wloss: 0.32573\tvalid_1's wloss: 0.858972\n",
      "Early stopping, best iteration is:\n",
      "[461]\ttraining's wloss: 0.346925\tvalid_1's wloss: 0.857514\n",
      "-------------------------------------\n",
      "Fold 6: LOG-LOSS = 0.85751\n",
      "-------------------------------------\n",
      "\n",
      "Training until validation scores don't improve for 100 rounds.\n",
      "[100]\ttraining's wloss: 0.876418\tvalid_1's wloss: 1.1514\n",
      "[200]\ttraining's wloss: 0.609318\tvalid_1's wloss: 1.01261\n",
      "[300]\ttraining's wloss: 0.477334\tvalid_1's wloss: 0.971555\n",
      "[400]\ttraining's wloss: 0.391548\tvalid_1's wloss: 0.955189\n",
      "[500]\ttraining's wloss: 0.330598\tvalid_1's wloss: 0.953313\n",
      "Early stopping, best iteration is:\n",
      "[498]\ttraining's wloss: 0.331573\tvalid_1's wloss: 0.952825\n",
      "-------------------------------------\n",
      "Fold 7: LOG-LOSS = 0.95282\n",
      "-------------------------------------\n",
      "\n",
      "Training until validation scores don't improve for 100 rounds.\n",
      "[100]\ttraining's wloss: 0.863067\tvalid_1's wloss: 1.10703\n",
      "[200]\ttraining's wloss: 0.601871\tvalid_1's wloss: 0.941091\n",
      "[300]\ttraining's wloss: 0.47267\tvalid_1's wloss: 0.903349\n",
      "[400]\ttraining's wloss: 0.387958\tvalid_1's wloss: 0.882912\n",
      "[500]\ttraining's wloss: 0.326673\tvalid_1's wloss: 0.88316\n",
      "Early stopping, best iteration is:\n",
      "[459]\ttraining's wloss: 0.3502\tvalid_1's wloss: 0.880334\n",
      "-------------------------------------\n",
      "Fold 8: LOG-LOSS = 0.88033\n",
      "-------------------------------------\n",
      "\n",
      "Training until validation scores don't improve for 100 rounds.\n",
      "[100]\ttraining's wloss: 0.87968\tvalid_1's wloss: 1.05747\n",
      "[200]\ttraining's wloss: 0.609414\tvalid_1's wloss: 0.899304\n",
      "[300]\ttraining's wloss: 0.476085\tvalid_1's wloss: 0.863616\n",
      "[400]\ttraining's wloss: 0.390045\tvalid_1's wloss: 0.850479\n",
      "[500]\ttraining's wloss: 0.329313\tvalid_1's wloss: 0.848623\n",
      "Early stopping, best iteration is:\n",
      "[448]\ttraining's wloss: 0.359039\tvalid_1's wloss: 0.846384\n",
      "-------------------------------------\n",
      "Fold 9: LOG-LOSS = 0.84638\n",
      "-------------------------------------\n",
      "\n",
      "Training until validation scores don't improve for 100 rounds.\n",
      "[100]\ttraining's wloss: 0.872347\tvalid_1's wloss: 1.08576\n",
      "[200]\ttraining's wloss: 0.607536\tvalid_1's wloss: 0.926234\n",
      "[300]\ttraining's wloss: 0.47202\tvalid_1's wloss: 0.877473\n",
      "[400]\ttraining's wloss: 0.386896\tvalid_1's wloss: 0.861924\n",
      "[500]\ttraining's wloss: 0.326515\tvalid_1's wloss: 0.862055\n",
      "Early stopping, best iteration is:\n",
      "[425]\ttraining's wloss: 0.369988\tvalid_1's wloss: 0.859069\n",
      "-------------------------------------\n",
      "Fold 10: LOG-LOSS = 0.85907\n",
      "-------------------------------------\n",
      "\n",
      "\n",
      "MULTI-WEIGHTED LOG-LOSS : 0.85600 \n",
      "Done in 148.6 minutes\n"
     ]
    }
   ],
   "source": [
    "### CROSS-VALIDATION LOOP\n",
    "\n",
    "# create objects\n",
    "clfs_ext = []\n",
    "importances_ext = pd.DataFrame()\n",
    "oof_preds_ext = np.zeros((len(full_train_ext), len(classes_ext)))\n",
    "\n",
    "# modeling loop\n",
    "start  = time.time()\n",
    "for fold_, (trn_, val_) in enumerate(folds.split(y_ext, y_ext)):\n",
    "    \n",
    "    # data partitioning\n",
    "    trn_x, trn_y = full_train_ext[features_ext].iloc[trn_], y_ext.iloc[trn_]\n",
    "    val_x, val_y = full_train_ext[features_ext].iloc[val_], y_ext.iloc[val_]\n",
    "        \n",
    "    # SMOTE\n",
    "    trn_x, trn_y = sm.fit_sample(trn_x, trn_y)\n",
    "    trn_x = pd.DataFrame(trn_x, columns = features_ext)\n",
    "    trn_y = pd.Series(trn_y)\n",
    "    \n",
    "    # train the model\n",
    "    clf = lgb.LGBMClassifier(**lgb_params) \n",
    "    clf.fit(\n",
    "        trn_x, trn_y,\n",
    "        eval_set              = [(trn_x, trn_y), (val_x, val_y)],\n",
    "        eval_metric           = multi_weighted_logloss,\n",
    "        verbose               = 100,\n",
    "        early_stopping_rounds = 100,\n",
    "        sample_weight         = trn_y.map(weights_ext)        \n",
    "    )\n",
    "    clfs_ext.append(clf)\n",
    "\n",
    "    # predictions\n",
    "    oof_preds_ext[val_, :] = clf.predict_proba(val_x, num_iteration = clf.best_iteration_)\n",
    "\n",
    "    # feedback\n",
    "    print('-------------------------------------')\n",
    "    print('Fold ' + str(fold_ + 1) + ': LOG-LOSS = ' + str(round(multi_weighted_logloss(val_y, clf.predict_proba(val_x, num_iteration = clf.best_iteration_))[1], 5)))  \n",
    "    print('-------------------------------------')\n",
    "    print('')\n",
    "\n",
    "    # variable importance\n",
    "    imp_df = pd.DataFrame()\n",
    "    imp_df['feature'] = features_ext\n",
    "    imp_df['gain'] = clf.feature_importances_\n",
    "    imp_df['fold'] = fold_ + 1\n",
    "    importances_ext = pd.concat([importances_ext, imp_df], axis = 0, sort = False)\n",
    "    \n",
    "    # clean up\n",
    "    gc.collect()\n",
    "    \n",
    "# print performance\n",
    "print('')\n",
    "print('MULTI-WEIGHTED LOG-LOSS : %.5f ' % multi_weighted_logloss(y_true = y_ext, y_preds = oof_preds_ext)[1])\n",
    "print('Done in %5.1f minutes' % ((time.time() - start) / 60))\n",
    "\n",
    "\n",
    "# 284: 0.84783  --  0.85447  --  0.85590  -- 0.84624  --  0.83754"
   ]
  },
  {
   "cell_type": "code",
   "execution_count": 267,
   "metadata": {
    "_uuid": "9e919533f2e85c75c41f826a8d131b77b8e31674"
   },
   "outputs": [
    {
     "data": {
      "image/png": "[encoded data removed]",
      "text/plain": [
       "<Figure size 720x720 with 1 Axes>"
      ]
     },
     "metadata": {},
     "output_type": "display_data"
    }
   ],
   "source": [
    "##### VARIABLE IMPORTANCE\n",
    "\n",
    "# load importance \n",
    "top_feats = 50\n",
    "cols = importances_ext[[\"gain\", \"feature\"]].groupby(\"feature\").mean().sort_values(by = \"gain\", ascending = False)[0:top_feats].index\n",
    "importance = importances_ext.loc[importances_ext.feature.isin(cols)]\n",
    "importance = importance.sort_values(by = \"gain\", ascending = False)\n",
    "\n",
    "# plot variable importance\n",
    "plt.figure(figsize = (10, 10))\n",
    "sns.barplot(x = \"gain\", y = \"feature\", data = importance)\n",
    "plt.tight_layout()\n",
    "plt.savefig('../var_importance_ext.pdf')"
   ]
  },
  {
   "cell_type": "code",
   "execution_count": 268,
   "metadata": {
    "_uuid": "fdcb55ef10807adf76c12079b4871ce8dcf1a71a",
    "scrolled": false
   },
   "outputs": [
    {
     "data": {
      "image/png": "[encoded data removed]",
      "text/plain": [
       "<Figure size 576x432 with 2 Axes>"
      ]
     },
     "metadata": {},
     "output_type": "display_data"
    }
   ],
   "source": [
    "##### CONFUSION MATRIX\n",
    "\n",
    "# preparations\n",
    "tmp = np.argmax(oof_preds_ext, axis = 1)\n",
    "y_pred = []\n",
    "for i in tmp:\n",
    "    y_pred.append(classes_ext[i])\n",
    "y_pred = pd.Series(y_pred)\n",
    "\n",
    "# construct confusion matrx\n",
    "cm = confusion_matrix(y_ext, y_pred, labels = classes_ext)\n",
    "cm = cm.astype('float') / cm.sum(axis = 1)[:, np.newaxis]\n",
    "annot = np.around(cm, 2)\n",
    "\n",
    "# plot matrix\n",
    "fig, ax = plt.subplots(figsize = (8,6))\n",
    "sns.heatmap(cm, xticklabels = classes_ext, yticklabels = classes_ext, cmap = 'Blues', annot = annot, lw = 0.5)\n",
    "ax.set_xlabel('Predicted Label')\n",
    "ax.set_ylabel('True Label')\n",
    "ax.set_aspect('equal')"
   ]
  },
  {
   "cell_type": "markdown",
   "metadata": {
    "_uuid": "346744e27a92b2bbb99b73a9d7c83dba4d61d813"
   },
   "source": [
    "## OVERALL PERFORMANCE"
   ]
  },
  {
   "cell_type": "code",
   "execution_count": 269,
   "metadata": {
    "_uuid": "9261c3873a5643cf8a40fd60fd002d5e131fe59d"
   },
   "outputs": [],
   "source": [
    "### LOSS FUNCTION\n",
    "def multi_weighted_logloss(y_true, y_preds):\n",
    "    \n",
    "    # classes\n",
    "    classes = [6, 15, 16, 42, 52, 53, 62, 64, 65, 67, 88, 90, 92, 95]\n",
    "    class_weight = dict(((c, 1) for c in classes))\n",
    "    \n",
    "    # reshape\n",
    "    y_p = y_preds.reshape(y_true.shape[0], len(classes), order = 'F')\n",
    "    \n",
    "    # Trasform y_true in dummies\n",
    "    y_ohe = pd.get_dummies(y_true)\n",
    "    \n",
    "    # Normalize rows and limit y_preds to 1e-15, 1-1e-15\n",
    "    y_p = np.clip(a=y_p, a_min=1e-15, a_max=1-1e-15)\n",
    "    \n",
    "    # Transform to log\n",
    "    y_p_log = np.log(y_p)\n",
    "    \n",
    "    # Get the log for ones, .values is used to drop the index of DataFrames\n",
    "    # Exclude class 99 for now, since there is no class99 in the training set \n",
    "    y_log_ones = np.sum(y_ohe.values * y_p_log, axis = 0)\n",
    "    \n",
    "    # Get the number of positives for each class\n",
    "    nb_pos = y_ohe.sum(axis = 0).values.astype(float)\n",
    "    \n",
    "    # Weight average and divide by the number of positives\n",
    "    class_arr = np.array([class_weight[k] for k in sorted(class_weight.keys())])\n",
    "    y_w = y_log_ones * class_arr / nb_pos\n",
    "    loss = - np.sum(y_w) / np.sum(class_arr)\n",
    "    \n",
    "    return 'wloss', loss, False"
   ]
  },
  {
   "cell_type": "code",
   "execution_count": 270,
   "metadata": {
    "_uuid": "81e8ccb1f5eaf214eb79995bf3c881407132e2a2"
   },
   "outputs": [],
   "source": [
    "# merge predictions\n",
    "pd_gal = pd.DataFrame(oof_preds_gal, columns = classes_gal, index = y_gal.index)\n",
    "pd_ext = pd.DataFrame(oof_preds_ext, columns = classes_ext, index = y_ext.index)\n",
    "\n",
    "# transform predictions\n",
    "oof_preds = pd.concat([pd_gal, pd_ext], axis = 1)\n",
    "oof_preds.sort_index(axis = 1, inplace = True)\n",
    "oof_preds.fillna(0, inplace = True)\n",
    "\n",
    "# calibration\n",
    "for cl in oof_preds.columns:\n",
    "    oof_preds.loc[oof_preds[cl] < 0.1, cl] = oof_preds.loc[oof_preds[cl] < 0.1, cl]*1  # 0.8\n",
    "    oof_preds.loc[oof_preds[cl] > 0.9, cl] = oof_preds.loc[oof_preds[cl] > 0.9, cl]*1  # 1.5\n",
    "    \n",
    "# reshape\n",
    "oof_preds_df = oof_preds.divide(oof_preds.sum(axis = 1), axis = 0)\n",
    "oof_preds = oof_preds_df.values"
   ]
  },
  {
   "cell_type": "code",
   "execution_count": 271,
   "metadata": {
    "_uuid": "79946614084351dab7522061cbe744136569f648"
   },
   "outputs": [
    {
     "name": "stdout",
     "output_type": "stream",
     "text": [
      "MULTI-WEIGHTED LOG-LOSS : 0.55539 \n"
     ]
    }
   ],
   "source": [
    "##### EVALUATE PERFORMANCE\n",
    "\n",
    "# print log-loss\n",
    "cv_perf = multi_weighted_logloss(y_true = y, y_preds = oof_preds)[1]\n",
    "print('MULTI-WEIGHTED LOG-LOSS : %.5f ' % cv_perf)\n",
    "\n",
    "# LGB benchmark (k = 264):     0.84449\n",
    "# remove mjd features (252):   0.84344\n",
    "# del model-specific feats:    0.83888\n",
    "# add mjd_dif for detected:    0.82858\n",
    "# add detected flux + q19:     0.82632\n",
    "# impute with full median:     0.82508\n",
    "# add object mjd diff:         0.78257\n",
    "# add other object feats:      0.77111\n",
    "# add a few detect-related:    0.76727\n",
    "\n",
    "# switching to a new loss:     0.60602\n",
    "# merge p234, put feats back:  0.59091\n",
    "# add skew for some feats:     0.58866\n",
    "# remove some band ratios:     0.58606\n",
    "# add e/d band ratios gal:     0.58195\n",
    "# add cesium feats for ext:    0.57961\n",
    "# add agg_flux feats for ext:  0.57753\n",
    "# remove bands after feats:    0.57622\n",
    "# sort values by [o,p,m]:      0.57608\n",
    "\n",
    "# change validation strategy:  0.56662\n",
    "# add SMOTE:                   0.55539"
   ]
  },
  {
   "cell_type": "code",
   "execution_count": 272,
   "metadata": {
    "_uuid": "4bcb98af6c8e58a100c1cf7b889482ae7b48b590"
   },
   "outputs": [
    {
     "data": {
      "image/png": "[encoded data removed]",
      "text/plain": [
       "<Figure size 720x576 with 2 Axes>"
      ]
     },
     "metadata": {},
     "output_type": "display_data"
    }
   ],
   "source": [
    "##### CONFUSION MATRIX\n",
    "\n",
    "# preparations\n",
    "tmp = np.argmax(oof_preds, axis = 1)\n",
    "y_pred = []\n",
    "for i in tmp:\n",
    "    y_pred.append(classes[i])\n",
    "y_pred = pd.Series(y_pred)\n",
    "\n",
    "# construct confusion matrx\n",
    "cm = confusion_matrix(y, y_pred, labels = classes)\n",
    "cm = cm.astype('float') / cm.sum(axis = 1)[:, np.newaxis]\n",
    "annot = np.around(cm, 2)\n",
    "\n",
    "# plot matrix\n",
    "fig, ax = plt.subplots(figsize = (10,8))\n",
    "sns.heatmap(cm, xticklabels = classes, yticklabels = classes, cmap = 'Blues', annot = annot, lw = 0.5)\n",
    "ax.set_xlabel('Predicted Label')\n",
    "ax.set_ylabel('True Label')\n",
    "ax.set_aspect('equal')\n",
    "fig.savefig('../confusion_matrix.pdf')"
   ]
  },
  {
   "cell_type": "markdown",
   "metadata": {
    "_uuid": "0caa1fc29c48dc0b35967cd9cad1eb3a306b7864"
   },
   "source": [
    "# 4. PREDICTIONS"
   ]
  },
  {
   "cell_type": "markdown",
   "metadata": {
    "_uuid": "4495d1f8ef9e8088be54c4a8b2c22ac222db8592"
   },
   "source": [
    "## CONSTRUCTING TEST DATA"
   ]
  },
  {
   "cell_type": "raw",
   "metadata": {
    "_uuid": "378c4a4ef8d41a45bcb4696ef9b89558119b2109"
   },
   "source": [
    "### TEST DATA\n",
    "\n",
    "# import test\n",
    "start  = time.time()\n",
    "test = pd.read_csv('../input/test_set.csv')\n",
    "print('Shape after import: ', test.shape)\n",
    "\n",
    "# add features\n",
    "agg_test = add_features(test)\n",
    "del test\n",
    "\n",
    "# passband ratios\n",
    "agg_test = add_passband_ratios(agg_test)\n",
    "\n",
    "# print dimensions\n",
    "print('Shape after aggregations: ', agg_test.shape)\n",
    "\n",
    "\n",
    "### META DATA\n",
    "\n",
    "# import data\n",
    "meta_test = pd.read_csv('../input/test_set_metadata.csv')\n",
    "\n",
    "# merge data\n",
    "full_test = agg_test.merge(\n",
    "    right  = meta_test,\n",
    "    how    = 'left',\n",
    "    on     = 'object_id'\n",
    ")\n",
    "del meta_test, agg_test\n",
    "\n",
    "# print feedback\n",
    "print('Shape after preparation: ', full_test.shape)\n",
    "print('Done in %5.1f minutes' % ((time.time() - start) / 60))"
   ]
  },
  {
   "cell_type": "raw",
   "metadata": {
    "_uuid": "5e432fc86bbdc9752cc808703d46a3b69c999478"
   },
   "source": [
    "# export data\n",
    "full_test.to_csv('../input/full_test_v10.csv', index = False)"
   ]
  },
  {
   "cell_type": "code",
   "execution_count": 273,
   "metadata": {},
   "outputs": [
    {
     "name": "stdout",
     "output_type": "stream",
     "text": [
      "Done in  11.7 minutes\n",
      "(3492890, 470)\n"
     ]
    }
   ],
   "source": [
    "### IMPORT READY DATA\n",
    "start = time.time()\n",
    "full_test = pd.read_csv('../input/full_test_v10.csv')\n",
    "print('Done in %5.1f minutes' % ((time.time() - start) / 60))\n",
    "print(full_test.shape)"
   ]
  },
  {
   "cell_type": "code",
   "execution_count": 274,
   "metadata": {},
   "outputs": [
    {
     "data": {
      "text/plain": [
       "(3492890, 484)"
      ]
     },
     "execution_count": 274,
     "metadata": {},
     "output_type": "execute_result"
    }
   ],
   "source": [
    "### AGGREGATED FLUX\n",
    "\n",
    "# import and merge\n",
    "aggflux = pd.read_csv('../input/agg_flux_test.csv')\n",
    "full_test = full_test.merge(aggflux, how = 'left', on = 'object_id')\n",
    "del aggflux\n",
    "full_test.shape"
   ]
  },
  {
   "cell_type": "code",
   "execution_count": 275,
   "metadata": {},
   "outputs": [
    {
     "data": {
      "text/plain": [
       "(3492890, 508)"
      ]
     },
     "execution_count": 275,
     "metadata": {},
     "output_type": "execute_result"
    }
   ],
   "source": [
    "### CESIUM FEATURES\n",
    "\n",
    "# import new feats\n",
    "ces = pd.read_csv('../input/cesium_test.csv')\n",
    "ces.columns = ['object_id'] + ['ces_' + l.replace('(\\'', '')[:-1].replace('\\', ', '_') for l in list(ces.columns) if l not in 'object_id']\n",
    "\n",
    "# filter features\n",
    "ces_feats = ['object_id'] + list(ces.filter(like = 'max_slope').columns) + \\\n",
    "                            list(ces.filter(like = 'qso').columns) + \\\n",
    "                            list(ces.filter(like = 'percent_close_to_median').columns)\n",
    "ces = ces[ces_feats]\n",
    "\n",
    "# merge data\n",
    "full_test = full_test.merge(ces, how = 'left', on = 'object_id')\n",
    "del ces\n",
    "full_test.shape"
   ]
  },
  {
   "cell_type": "code",
   "execution_count": 276,
   "metadata": {},
   "outputs": [
    {
     "data": {
      "text/plain": [
       "(3492890, 418)"
      ]
     },
     "execution_count": 276,
     "metadata": {},
     "output_type": "execute_result"
    }
   ],
   "source": [
    "### REMOVE BANDS\n",
    "full_test = remove_bands(full_test)\n",
    "full_test.shape"
   ]
  },
  {
   "cell_type": "code",
   "execution_count": 277,
   "metadata": {},
   "outputs": [],
   "source": [
    "### IMPUTE SPECZ\n",
    "full_test.loc[~full_test['hostgal_specz'].isnull(), 'hostgal_photoz'] = full_test.loc[~full_test['hostgal_specz'].isnull(), 'hostgal_specz']\n",
    "full_test.loc[~full_test['hostgal_specz'].isnull(), 'hostgal_photoz_err'] = 0"
   ]
  },
  {
   "cell_type": "code",
   "execution_count": 278,
   "metadata": {
    "_uuid": "88ac2f292a1afa907c3e28366e0e41c2bbaf582b"
   },
   "outputs": [],
   "source": [
    "### PARTITIONING\n",
    "\n",
    "# partition the data\n",
    "full_test_gal = full_test[full_test.hostgal_photoz == 0]\n",
    "full_test_ext = full_test[full_test.hostgal_photoz != 0]\n",
    "\n",
    "full_test     = full_test.replace([np.inf, -np.inf], np.nan)\n",
    "full_test_gal = full_test_gal.replace([np.inf, -np.inf], np.nan)\n",
    "full_test_ext = full_test_ext.replace([np.inf, -np.inf], np.nan)\n",
    "\n",
    "# impute missings with means\n",
    "test_mean = full_test.median(axis = 0)\n",
    "full_test_gal.fillna(test_mean, inplace = True)\n",
    "full_test_ext.fillna(test_mean, inplace = True)\n",
    "\n",
    "# clear memory\n",
    "del full_test"
   ]
  },
  {
   "cell_type": "markdown",
   "metadata": {
    "_uuid": "4af6c4566cbc80828e60bd38c3d042e21bac408d"
   },
   "source": [
    "## PREDICTIONS"
   ]
  },
  {
   "cell_type": "code",
   "execution_count": 279,
   "metadata": {
    "_uuid": "d21b53dbc875e2c3de6490cc7d9f1b7ce10adbfb"
   },
   "outputs": [
    {
     "name": "stdout",
     "output_type": "stream",
     "text": [
      "Predictions shape:  (390510, 7)\n",
      "Done in   1.1 minutes\n"
     ]
    }
   ],
   "source": [
    "### PREDICT GALACTIC OBJECTS\n",
    "\n",
    "# make predictions\n",
    "start  = time.time()\n",
    "preds_gal = None\n",
    "for clf in clfs_gal:\n",
    "    if preds_gal is None:\n",
    "        preds_gal =  clf.predict_proba(full_test_gal[features_gal], num_iteration = clf.best_iteration_) / (folds.n_splits)\n",
    "    else:\n",
    "        preds_gal += clf.predict_proba(full_test_gal[features_gal], num_iteration = clf.best_iteration_) / (folds.n_splits)\n",
    "\n",
    "# class 99 preds\n",
    "preds_99 = np.ones(preds_gal.shape[0])\n",
    "for i in range(preds_gal.shape[1]):\n",
    "    preds_99 *= (1 - preds_gal[:, i])\n",
    "\n",
    "# store predictions\n",
    "preds_df_gal = pd.DataFrame(preds_gal, columns = ['class_' + str(s) for s in clfs_gal[0].classes_])\n",
    "preds_df_gal['object_id'] = full_test_gal['object_id'].values\n",
    "preds_df_gal['class_99'] = preds_99\n",
    "preds_df_gal['class_99'] = 0.14 * preds_99 / np.mean(preds_99)\n",
    "\n",
    "# clean up\n",
    "gc.collect()\n",
    "print('Predictions shape: ', preds_df_gal.shape)\n",
    "print('Done in %5.1f minutes' % ((time.time() - start) / 60))"
   ]
  },
  {
   "cell_type": "code",
   "execution_count": 280,
   "metadata": {
    "_uuid": "02d3ee24a83713923c12c2af746212bebd169f4f"
   },
   "outputs": [
    {
     "name": "stdout",
     "output_type": "stream",
     "text": [
      "Predictions shape:  (3102380, 11)\n",
      "Done in  13.3 minutes\n"
     ]
    }
   ],
   "source": [
    "### PREDICT EXTRAGALACTIC OBJECTS\n",
    "\n",
    "# make predictions\n",
    "start  = time.time()\n",
    "preds_ext = None\n",
    "for clf in clfs_ext:\n",
    "    if preds_ext is None:\n",
    "        preds_ext =  clf.predict_proba(full_test_ext[features_ext], num_iteration = clf.best_iteration_) / (folds.n_splits)\n",
    "    else:\n",
    "        preds_ext += clf.predict_proba(full_test_ext[features_ext], num_iteration = clf.best_iteration_) / (folds.n_splits)\n",
    "\n",
    "# class 99 preds\n",
    "preds_99 = np.ones(preds_ext.shape[0])\n",
    "for i in range(preds_ext.shape[1]):\n",
    "    preds_99 *= (1 - preds_ext[:, i])\n",
    "\n",
    "# store predictions\n",
    "preds_df_ext = pd.DataFrame(preds_ext, columns = ['class_' + str(s) for s in clfs_ext[0].classes_])\n",
    "preds_df_ext['object_id'] = full_test_ext['object_id'].values\n",
    "preds_df_ext['class_99'] = preds_99\n",
    "preds_df_ext['class_99'] = 0.14 * preds_99 / np.mean(preds_99)\n",
    "\n",
    "# clean up\n",
    "gc.collect()\n",
    "print('Predictions shape: ', preds_df_ext.shape)\n",
    "print('Done in %5.1f minutes' % ((time.time() - start) / 60))"
   ]
  },
  {
   "cell_type": "markdown",
   "metadata": {},
   "source": [
    "# 5. SEMI-SUPERVISED LEARNING"
   ]
  },
  {
   "cell_type": "markdown",
   "metadata": {
    "_uuid": "a0fd0de1bcd933e5bc32384283eb5325f1959f1b"
   },
   "source": [
    "## RETRAIN LGBM ON SURE CASES: GALACTIC"
   ]
  },
  {
   "cell_type": "raw",
   "metadata": {},
   "source": [
    "# find confident predictions\n",
    "conf = 0.999\n",
    "sure_gal = preds_df_gal[(preds_df_gal.class_6 > conf) | (preds_df_gal.class_16 > conf) | (preds_df_gal.class_53 > conf) | (preds_df_gal.class_65 > conf) | (preds_df_gal.class_92 > conf)]\n",
    "sure_gal.shape"
   ]
  },
  {
   "cell_type": "raw",
   "metadata": {},
   "source": [
    "# extract X and Y\n",
    "y_sure_gal = sure_gal.drop(columns = 'object_id').idxmax(axis = 1)\n",
    "y_sure_gal = pd.Series([int(str(i)[6:8]) for i in y_sure_gal])\n",
    "x_sure_gal = full_test_gal[full_test_gal.object_id.isin(sure_gal.object_id)].reset_index(drop = True)\n",
    "\n",
    "# augment the data\n",
    "full_train_gal = pd.concat([full_train_gal, x_sure_gal], axis = 0)\n",
    "y_gal = pd.concat([y_gal, y_sure_gal], axis = 0)\n",
    "\n",
    "# exclude features\n",
    "print(full_train_gal[features_gal].shape)"
   ]
  },
  {
   "cell_type": "raw",
   "metadata": {
    "_uuid": "7bf694d9e270c05e62cf6ea85da29bdf665f6f5b"
   },
   "source": [
    "##### LOSS FUNCTION\n",
    "def multi_weighted_logloss(y_true, y_preds):\n",
    "    \n",
    "    classes = [6, 16, 53, 65, 92]\n",
    "    class_weight = dict(((c, 1) for c in classes))\n",
    "    \n",
    "    # reshape\n",
    "    y_p = y_preds.reshape(y_true.shape[0], len(classes), order = 'F')\n",
    "    \n",
    "    # Trasform y_true in dummies\n",
    "    y_ohe = pd.get_dummies(y_true)\n",
    "    \n",
    "    # Normalize rows and limit y_preds to 1e-15, 1-1e-15\n",
    "    y_p = np.clip(a = y_p, a_min = 1e-15, a_max = 1-1e-15)\n",
    "    \n",
    "    # Transform to log\n",
    "    y_p_log = np.log(y_p)\n",
    "    \n",
    "    # Get the log for ones, .values is used to drop the index of DataFrames\n",
    "    # Exclude class 99 for now, since there is no class99 in the training set \n",
    "    y_log_ones = np.sum(y_ohe.values * y_p_log, axis = 0)\n",
    "    \n",
    "    # Get the number of positives for each class\n",
    "    nb_pos = y_ohe.sum(axis = 0).values.astype(float)\n",
    "    \n",
    "    # Weight average and divide by the number of positives\n",
    "    class_arr = np.array([class_weight[k] for k in sorted(class_weight.keys())])\n",
    "    y_w = y_log_ones * class_arr / nb_pos\n",
    "    loss = - np.sum(y_w) / np.sum(class_arr)\n",
    "    \n",
    "    return 'wloss', loss, False\n",
    "\n",
    "\n",
    "# recompute weights\n",
    "w_gal = y_gal.value_counts()\n",
    "weights_gal = {i : np.sum(w_gal) / w_gal[i] for i in w_gal.index}"
   ]
  },
  {
   "cell_type": "raw",
   "metadata": {
    "_uuid": "6f54311f6e36a0fcb7d6639c6c9368cbe4154873"
   },
   "source": [
    "### PARAMETERS\n",
    "\n",
    "# LGB parameters\n",
    "lgb_params = {\n",
    "    'boosting_type':   'gbdt',\n",
    "    'objective':       'multiclass',\n",
    "    'num_class':        len(classes_gal),\n",
    "    'metric':          'multi_logloss',\n",
    "    'subsample':        0.9,\n",
    "    'feature_fraction': 0.7,\n",
    "    'lambda_l1':        0.03,\n",
    "    'lambda_l2':        0.03,\n",
    "    'min_split_gain':   0.01,\n",
    "    'min_child_weight': 5,\n",
    "    'silent':           True,\n",
    "    'verbosity':        -1,\n",
    "    'learning_rate':    0.03,\n",
    "    'max_depth':        3,\n",
    "    'n_estimators':     5000,\n",
    "    'nthread' :         16\n",
    "}\n",
    "\n",
    "# validation\n",
    "folds = StratifiedKFold(n_splits     = 10, \n",
    "                        shuffle      = True, \n",
    "                        random_state = 23)"
   ]
  },
  {
   "cell_type": "raw",
   "metadata": {
    "_uuid": "4e5e1ed34e0887b3c10b8e649abef15f44a34853"
   },
   "source": [
    "### CROSS-VALIDATION LOOP\n",
    "\n",
    "# create objects\n",
    "clfs_gal = []\n",
    "importances_gal = pd.DataFrame()\n",
    "oof_preds_gal = np.zeros((len(full_train_gal), len(classes_gal)))\n",
    "\n",
    "# modeling loop\n",
    "start  = time.time()\n",
    "for fold_, (trn_, val_) in enumerate(folds.split(y_gal, y_gal)):\n",
    "    \n",
    "    # data partitioning\n",
    "    trn_x, trn_y = full_train_gal[features_gal].iloc[trn_], y_gal.iloc[trn_]\n",
    "    val_x, val_y = full_train_gal[features_gal].iloc[val_], y_gal.iloc[val_]\n",
    "    \n",
    "    # train the model\n",
    "    clf = lgb.LGBMClassifier(**lgb_params) \n",
    "    clf.fit(\n",
    "        trn_x, trn_y,\n",
    "        eval_set              = [(trn_x, trn_y), (val_x, val_y)],\n",
    "        eval_metric           = multi_weighted_logloss,\n",
    "        verbose               = 100,\n",
    "        early_stopping_rounds = 100,\n",
    "        sample_weight         = trn_y.map(weights_gal)\n",
    "    )\n",
    "    clfs_gal.append(clf)\n",
    "\n",
    "    # predictions\n",
    "    oof_preds_gal[val_, :] =  clf.predict_proba(val_x, num_iteration = clf.best_iteration_)\n",
    "    \n",
    "    # feedback\n",
    "    print('-------------------------------------')\n",
    "    print('Fold ' + str(fold_ + 1) + ': LOG-LOSS = ' + str(round(multi_weighted_logloss(val_y, clf.predict_proba(val_x, num_iteration = clf.best_iteration_))[1], 5)))  \n",
    "    print('-------------------------------------')\n",
    "    print('')\n",
    "\n",
    "    # variable importance\n",
    "    imp_df = pd.DataFrame()\n",
    "    imp_df['feature'] = features_gal\n",
    "    imp_df['gain'] = clf.feature_importances_\n",
    "    imp_df['fold'] = fold_ + 1\n",
    "    importances_gal = pd.concat([importances_gal, imp_df], axis = 0, sort = False)\n",
    "    \n",
    "    # clean up\n",
    "    gc.collect()\n",
    "    \n",
    "# print performance\n",
    "print('')\n",
    "print('MULTI-WEIGHTED LOG-LOSS : %.5f ' % multi_weighted_logloss(y_true = y_gal, y_preds = oof_preds_gal)[1])\n",
    "print('Done in %5.1f minutes' % ((time.time() - start) / 60))"
   ]
  },
  {
   "cell_type": "raw",
   "metadata": {
    "_uuid": "d21b53dbc875e2c3de6490cc7d9f1b7ce10adbfb"
   },
   "source": [
    "### PREDICT GALACTIC OBJECTS\n",
    "\n",
    "# make predictions\n",
    "start  = time.time()\n",
    "preds_gal = None\n",
    "for clf in clfs_gal:\n",
    "    if preds_gal is None:\n",
    "        preds_gal =  clf.predict_proba(full_test_gal[features_gal], num_iteration = clf.best_iteration_) / (folds.n_splits)\n",
    "    else:\n",
    "        preds_gal += clf.predict_proba(full_test_gal[features_gal], num_iteration = clf.best_iteration_) / (folds.n_splits)\n",
    "\n",
    "# class 99 preds\n",
    "preds_99 = np.ones(preds_gal.shape[0])\n",
    "for i in range(preds_gal.shape[1]):\n",
    "    preds_99 *= (1 - preds_gal[:, i])\n",
    "\n",
    "# store predictions\n",
    "preds_df_gal = pd.DataFrame(preds_gal, columns = ['class_' + str(s) for s in clfs_gal[0].classes_])\n",
    "preds_df_gal['object_id'] = full_test_gal['object_id'].values\n",
    "preds_df_gal['class_99'] = preds_99\n",
    "preds_df_gal['class_99'] = 0.18 * preds_99 / np.mean(preds_99)\n",
    "\n",
    "# clean up\n",
    "gc.collect()\n",
    "print('Predictions shape: ', preds_df_gal.shape)\n",
    "print('Done in %5.1f minutes' % ((time.time() - start) / 60))"
   ]
  },
  {
   "cell_type": "raw",
   "metadata": {},
   "source": [
    "# replace sure preds with old preds\n",
    "preds_df_gal[preds_df_gal.object_id.isin(sure_gal.object_id)] = sure_gal"
   ]
  },
  {
   "cell_type": "markdown",
   "metadata": {
    "_uuid": "a0fd0de1bcd933e5bc32384283eb5325f1959f1b"
   },
   "source": [
    "## RETRAIN LGBM ON SURE CASES: EXTRAGALACTIC"
   ]
  },
  {
   "cell_type": "raw",
   "metadata": {},
   "source": [
    "# find confident predictions\n",
    "conf = 0.999\n",
    "sure_ext = preds_df_ext[(preds_df_ext.class_15 > conf) | (preds_df_ext.class_42 > conf) | (preds_df_ext.class_52 > conf) | (preds_df_ext.class_62 > conf) | (preds_df_ext.class_64 > conf) | \n",
    "                        (preds_df_ext.class_67 > conf) | (preds_df_ext.class_88 > conf) | (preds_df_ext.class_90 > conf) | (preds_df_ext.class_95 > conf)]\n",
    "sure_ext.shape"
   ]
  },
  {
   "cell_type": "raw",
   "metadata": {},
   "source": [
    "# extract X and Y\n",
    "y_sure_ext = sure_ext.drop(columns = 'object_id').idxmax(axis = 1)\n",
    "y_sure_ext = pd.Series([int(str(i)[6:8]) for i in y_sure_ext])\n",
    "x_sure_ext = full_test_ext[full_test_ext.object_id.isin(sure_ext.object_id)].reset_index(drop = True)\n",
    "\n",
    "# augment the data\n",
    "full_train_ext = pd.concat([full_train_ext, x_sure_ext], axis = 0)\n",
    "y_ext = pd.concat([y_ext, y_sure_ext], axis = 0)\n",
    "\n",
    "# exclude features\n",
    "print(full_train_ext[features_ext].shape)"
   ]
  },
  {
   "cell_type": "raw",
   "metadata": {
    "_uuid": "b8da35e9a9f35a17123330ae4a566c350d5c7dfd"
   },
   "source": [
    "### LOSS FUNCTION\n",
    "def multi_weighted_logloss(y_true, y_preds):\n",
    "    \n",
    "    classes = [15, 42, 52, 62, 64, 67, 88, 90, 95]\n",
    "    class_weight = dict(((c, 1) for c in classes))\n",
    "    \n",
    "    # reshape\n",
    "    y_p = y_preds.reshape(y_true.shape[0], len(classes), order = 'F')\n",
    "    \n",
    "    # Trasform y_true in dummies\n",
    "    y_ohe = pd.get_dummies(y_true)\n",
    "    \n",
    "    # Normalize rows and limit y_preds to 1e-15, 1-1e-15\n",
    "    y_p = np.clip(a = y_p, a_min = 1e-15, a_max = 1-1e-15)\n",
    "    \n",
    "    # Transform to log\n",
    "    y_p_log = np.log(y_p)\n",
    "    \n",
    "    # Get the log for ones, .values is used to drop the index of DataFrames\n",
    "    # Exclude class 99 for now, since there is no class99 in the training set \n",
    "    y_log_ones = np.sum(y_ohe.values * y_p_log, axis = 0)\n",
    "    \n",
    "    # Get the number of positives for each class\n",
    "    nb_pos = y_ohe.sum(axis = 0).values.astype(float)\n",
    "    \n",
    "    # Weight average and divide by the number of positives\n",
    "    class_arr = np.array([class_weight[k] for k in sorted(class_weight.keys())])\n",
    "    y_w = y_log_ones * class_arr / nb_pos\n",
    "    loss = - np.sum(y_w) / np.sum(class_arr)\n",
    "    \n",
    "    return 'wloss', loss, False\n",
    "\n",
    "\n",
    "# recompute weights\n",
    "w_ext = y_ext.value_counts()\n",
    "weights_ext = {i : np.sum(w_ext) / w_ext[i] for i in w_ext.index}"
   ]
  },
  {
   "cell_type": "raw",
   "metadata": {
    "_uuid": "91e0add6763721f9aa44d085f2871508e7762538"
   },
   "source": [
    "### PARAMETERS\n",
    "\n",
    "# LGB parameters\n",
    "lgb_params = {\n",
    "    'boosting_type':   'gbdt',\n",
    "    'objective':       'multiclass',\n",
    "    'num_class':        len(classes_ext),\n",
    "    'metric':          'multi_logloss',\n",
    "    'subsample':        0.9,\n",
    "    'feature_fraction': 0.7,\n",
    "    'lambda_l1':        0.03,\n",
    "    'lambda_l2':        0.03,\n",
    "    'min_split_gain':   0.01,\n",
    "    'min_child_weight': 5,\n",
    "    'silent':           True,\n",
    "    'verbosity':        -1,\n",
    "    'learning_rate':    0.03,\n",
    "    'max_depth':        3,\n",
    "    'n_estimators':     5000,\n",
    "    'nthread' :         16\n",
    "}\n",
    "\n",
    "# validation\n",
    "folds = StratifiedKFold(n_splits     = 10, \n",
    "                        shuffle      = True, \n",
    "                        random_state = 23)"
   ]
  },
  {
   "cell_type": "raw",
   "metadata": {
    "_uuid": "976d56edbe62bcb86d797c2b38ef05311b3d45ba"
   },
   "source": [
    "### CROSS-VALIDATION LOOP\n",
    "\n",
    "# create objects\n",
    "clfs_ext = []\n",
    "importances_ext = pd.DataFrame()\n",
    "oof_preds_ext = np.zeros((len(full_train_ext), len(classes_ext)))\n",
    "\n",
    "# modeling loop\n",
    "start  = time.time()\n",
    "for fold_, (trn_, val_) in enumerate(folds.split(y_ext, y_ext)):\n",
    "    \n",
    "    # data partitioning\n",
    "    trn_x, trn_y = full_train_ext[features_ext].iloc[trn_], y_ext.iloc[trn_]\n",
    "    val_x, val_y = full_train_ext[features_ext].iloc[val_], y_ext.iloc[val_]\n",
    "    \n",
    "    # train the model\n",
    "    clf = lgb.LGBMClassifier(**lgb_params) \n",
    "    clf.fit(\n",
    "        trn_x, trn_y,\n",
    "        eval_set              = [(trn_x, trn_y), (val_x, val_y)],\n",
    "        eval_metric           = multi_weighted_logloss,\n",
    "        verbose               = 100,\n",
    "        early_stopping_rounds = 100,\n",
    "        sample_weight         = trn_y.map(weights_ext)        \n",
    "    )\n",
    "    clfs_ext.append(clf)\n",
    "\n",
    "    # predictions\n",
    "    oof_preds_ext[val_, :] = clf.predict_proba(val_x, num_iteration = clf.best_iteration_)\n",
    "\n",
    "    # feedback\n",
    "    print('-------------------------------------')\n",
    "    print('Fold ' + str(fold_ + 1) + ': LOG-LOSS = ' + str(round(multi_weighted_logloss(val_y, clf.predict_proba(val_x, num_iteration = clf.best_iteration_))[1], 5)))  \n",
    "    print('-------------------------------------')\n",
    "    print('')\n",
    "\n",
    "    # variable importance\n",
    "    imp_df = pd.DataFrame()\n",
    "    imp_df['feature'] = features_ext\n",
    "    imp_df['gain'] = clf.feature_importances_\n",
    "    imp_df['fold'] = fold_ + 1\n",
    "    importances_ext = pd.concat([importances_ext, imp_df], axis = 0, sort = False)\n",
    "    \n",
    "    # clean up\n",
    "    gc.collect()\n",
    "    \n",
    "# print performance\n",
    "print('')\n",
    "print('MULTI-WEIGHTED LOG-LOSS : %.5f ' % multi_weighted_logloss(y_true = y_ext, y_preds = oof_preds_ext)[1])\n",
    "print('Done in %5.1f minutes' % ((time.time() - start) / 60))"
   ]
  },
  {
   "cell_type": "raw",
   "metadata": {
    "_uuid": "02d3ee24a83713923c12c2af746212bebd169f4f"
   },
   "source": [
    "### PREDICT EXTRAGALACTIC OBJECTS\n",
    "\n",
    "# make predictions\n",
    "start  = time.time()\n",
    "preds_ext = None\n",
    "for clf in clfs_ext:\n",
    "    if preds_ext is None:\n",
    "        preds_ext =  clf.predict_proba(full_test_ext[features_ext], num_iteration = clf.best_iteration_) / (folds.n_splits)\n",
    "    else:\n",
    "        preds_ext += clf.predict_proba(full_test_ext[features_ext], num_iteration = clf.best_iteration_) / (folds.n_splits)\n",
    "\n",
    "# class 99 preds\n",
    "preds_99 = np.ones(preds_ext.shape[0])\n",
    "for i in range(preds_ext.shape[1]):\n",
    "    preds_99 *= (1 - preds_ext[:, i])\n",
    "\n",
    "# store predictions\n",
    "preds_df_ext = pd.DataFrame(preds_ext, columns = ['class_' + str(s) for s in clfs_ext[0].classes_])\n",
    "preds_df_ext['object_id'] = full_test_ext['object_id'].values\n",
    "preds_df_ext['class_99'] = preds_99\n",
    "preds_df_ext['class_99'] = 0.18 * preds_99 / np.mean(preds_99)\n",
    "\n",
    "# clean up\n",
    "gc.collect()\n",
    "print('Predictions shape: ', preds_df_ext.shape)\n",
    "print('Done in %5.1f minutes' % ((time.time() - start) / 60))"
   ]
  },
  {
   "cell_type": "raw",
   "metadata": {},
   "source": [
    "# replace sure preds with old preds\n",
    "preds_df_ext[preds_df_ext.object_id.isin(sure_ext.object_id)] = sure_ext"
   ]
  },
  {
   "cell_type": "markdown",
   "metadata": {
    "_uuid": "a0fd0de1bcd933e5bc32384283eb5325f1959f1b"
   },
   "source": [
    "# 6. CALIBRATION"
   ]
  },
  {
   "cell_type": "code",
   "execution_count": 281,
   "metadata": {
    "_uuid": "d6982cdbd725f3713ae924700cef539f64d1ffb1"
   },
   "outputs": [],
   "source": [
    "# merge predictions\n",
    "sub = pd.concat([preds_df_gal, preds_df_ext], axis = 0)\n",
    "sub = sub.sort_values('object_id', ascending = True)\n",
    "sub.fillna(0, inplace = True)"
   ]
  },
  {
   "cell_type": "code",
   "execution_count": 282,
   "metadata": {},
   "outputs": [],
   "source": [
    "# sort and reindex\n",
    "sub = sub.sort_values('object_id', ascending = True)\n",
    "sub = sub.sort_index(axis = 1)\n",
    "sub = sub.reset_index(drop = True)"
   ]
  },
  {
   "cell_type": "raw",
   "metadata": {},
   "source": [
    "# calibration of probs\n",
    "for cl in ['class_6', 'class_15', 'class_16', 'class_42', 'class_52', 'class_53', 'class_62', 'class_64', 'class_65', 'class_67', 'class_88', 'class_90', 'class_92', 'class_95']:\n",
    "    sub.loc[sub[cl] < 0.1, cl] = sub.loc[sub[cl] < 0.1, cl]*0.8\n",
    "    sub.loc[sub[cl] > 0.9, cl] = sub.loc[sub[cl] > 0.9, cl]*1.5"
   ]
  },
  {
   "cell_type": "code",
   "execution_count": 283,
   "metadata": {},
   "outputs": [],
   "source": [
    "# null values for galactic / extragalactic\n",
    "meta_test = pd.read_csv('../input/test_set_metadata.csv')\n",
    "meta_test = meta_test.sort_values('object_id')\n",
    "\n",
    "for cl in ['class_15', 'class_42', 'class_52', 'class_62', 'class_64', 'class_67', 'class_88', 'class_90', 'class_95']:\n",
    "    sub.loc[meta_test.hostgal_photoz == 0, cl] = 0\n",
    "\n",
    "for cl in ['class_6', 'class_16', 'class_53', 'class_65', 'class_92']:\n",
    "    sub.loc[meta_test.hostgal_photoz != 0, cl] = 0"
   ]
  },
  {
   "cell_type": "code",
   "execution_count": 284,
   "metadata": {},
   "outputs": [],
   "source": [
    "# normalize sum to unity\n",
    "sums = sub[['class_6', 'class_15', 'class_16', 'class_42', 'class_52', 'class_53', 'class_62', 'class_64', 'class_65', 'class_67', 'class_88', 'class_90', 'class_92', 'class_95']].sum(axis = 1)\n",
    "for cl in ['class_6', 'class_15', 'class_16', 'class_42', 'class_52', 'class_53', 'class_62', 'class_64', 'class_65', 'class_67', 'class_88', 'class_90', 'class_92', 'class_95']:\n",
    "    sub[cl] = sub[cl] / sums"
   ]
  },
  {
   "cell_type": "code",
   "execution_count": 285,
   "metadata": {},
   "outputs": [],
   "source": [
    "# class 99 computation\n",
    "sub['class_99'] = np.ones(sub.shape[0])\n",
    "for cl in ['class_6', 'class_15', 'class_16', 'class_42', 'class_52', 'class_53', 'class_62', 'class_64', 'class_65', 'class_67', 'class_88', 'class_90', 'class_92', 'class_95']: \n",
    "    sub['class_99'] *= (1 - sub[cl])\n",
    "sub['class_99'] = 0.18 * sub['class_99'] / sub['class_99'].mean()"
   ]
  },
  {
   "cell_type": "markdown",
   "metadata": {
    "_uuid": "a0fd0de1bcd933e5bc32384283eb5325f1959f1b"
   },
   "source": [
    "# 7. SUBMISSION"
   ]
  },
  {
   "cell_type": "code",
   "execution_count": 286,
   "metadata": {},
   "outputs": [],
   "source": [
    "# file name\n",
    "model = 'lgb_v10_smote'\n",
    "perf  = str(round(cv_perf, 5))[2:7]\n",
    "name  = model + '_' + perf"
   ]
  },
  {
   "cell_type": "code",
   "execution_count": 287,
   "metadata": {
    "_uuid": "ab549b5d9fc196d47d2a5d7b73f241dda07cdd8c"
   },
   "outputs": [
    {
     "data": {
      "text/plain": [
       "(3492890, 16)"
      ]
     },
     "execution_count": 287,
     "metadata": {},
     "output_type": "execute_result"
    }
   ],
   "source": [
    "# export submission\n",
    "sub.to_csv('../submissions/' + str(name) + '.csv', index = False)\n",
    "sub.shape"
   ]
  },
  {
   "cell_type": "code",
   "execution_count": 288,
   "metadata": {},
   "outputs": [
    {
     "data": {
      "text/plain": [
       "(7848, 14)"
      ]
     },
     "execution_count": 288,
     "metadata": {},
     "output_type": "execute_result"
    }
   ],
   "source": [
    "# export OOF preds\n",
    "oof_preds_df.to_csv('../preds/' + str(name) + '.csv', index = False)\n",
    "oof_preds_df.shape"
   ]
  }
 ],
 "metadata": {
  "kernelspec": {
   "display_name": "Python 3",
   "language": "python",
   "name": "python3"
  },
  "language_info": {
   "codemirror_mode": {
    "name": "ipython",
    "version": 3
   },
   "file_extension": ".py",
   "mimetype": "text/x-python",
   "name": "python",
   "nbconvert_exporter": "python",
   "pygments_lexer": "ipython3",
   "version": "3.6.5"
  }
 },
 "nbformat": 4,
 "nbformat_minor": 2
}
