{
 "cells": [
  {
   "cell_type": "markdown",
   "metadata": {
    "_uuid": "88325efe6e1e90c58e37029f398efd794ecd7ecc"
   },
   "source": [
    "# 1. SETTINGS"
   ]
  },
  {
   "cell_type": "code",
   "execution_count": 1,
   "metadata": {
    "_cell_guid": "b1076dfc-b9ad-4769-8c92-a6c4dae69d19",
    "_uuid": "8f2839f25d086af736a60e9eeb907d3b93b6e0e5"
   },
   "outputs": [],
   "source": [
    "import numpy as np\n",
    "import pandas as pd\n",
    "pd.set_option(\"display.max_columns\", None)\n",
    "\n",
    "import matplotlib.pyplot as plt\n",
    "import seaborn as sns\n",
    "\n",
    "import lightgbm as lgb\n",
    "\n",
    "import os\n",
    "import time\n",
    "import multiprocessing\n",
    "\n",
    "from sklearn.metrics import log_loss\n",
    "from sklearn.model_selection import StratifiedKFold\n",
    "from sklearn.metrics import confusion_matrix\n",
    "from sklearn.preprocessing import StandardScaler\n",
    "\n",
    "import warnings\n",
    "warnings.filterwarnings('ignore')\n",
    "\n",
    "import gc\n",
    "gc.enable()"
   ]
  },
  {
   "cell_type": "markdown",
   "metadata": {
    "_uuid": "587f72a72010fb4fda2531642aff592e0f68cab1"
   },
   "source": [
    "# 2. DATA PREPARATION"
   ]
  },
  {
   "cell_type": "code",
   "execution_count": 2,
   "metadata": {
    "_uuid": "8c44c8a51973f096bc126ce235936f9ff0248a9c"
   },
   "outputs": [
    {
     "data": {
      "text/plain": [
       "(7848, 471)"
      ]
     },
     "execution_count": 2,
     "metadata": {},
     "output_type": "execute_result"
    }
   ],
   "source": [
    "### IMPORT READY DATA\n",
    "full_train = pd.read_csv('../input/full_train_v10.csv')\n",
    "full_train.shape"
   ]
  },
  {
   "cell_type": "code",
   "execution_count": 3,
   "metadata": {
    "_uuid": "8c44c8a51973f096bc126ce235936f9ff0248a9c"
   },
   "outputs": [
    {
     "data": {
      "text/plain": [
       "(7848, 12)"
      ]
     },
     "execution_count": 3,
     "metadata": {},
     "output_type": "execute_result"
    }
   ],
   "source": [
    "### IMPORT READY DATA\n",
    "meta_train = pd.read_csv('../input/training_set_metadata.csv')\n",
    "meta_train = meta_train.sort_values('object_id')\n",
    "meta_train.shape"
   ]
  },
  {
   "cell_type": "code",
   "execution_count": 4,
   "metadata": {
    "_uuid": "2b6f79b71d0e9b62266a52d9e7ac209c56e14aff"
   },
   "outputs": [],
   "source": [
    "### PREPARATIONS\n",
    "\n",
    "# target encoding\n",
    "if 'target' in meta_train:\n",
    "    y = meta_train['target']\n",
    "    del meta_train['target']\n",
    "classes = sorted(y.unique())\n",
    "\n",
    "# some features\n",
    "if 'object_id' in meta_train:\n",
    "    oof_df = meta_train[['object_id']]\n",
    "    hostgal_photoz = meta_train['hostgal_photoz']"
   ]
  },
  {
   "cell_type": "code",
   "execution_count": 5,
   "metadata": {},
   "outputs": [
    {
     "name": "stdout",
     "output_type": "stream",
     "text": [
      "- Number of stacking models: 2\n",
      "- Data shape: (7848, 28)\n"
     ]
    }
   ],
   "source": [
    "### IMPORT OOF PREDS\n",
    "names = os.listdir('../preds_stacking')\n",
    "\n",
    "for name in names:\n",
    "\n",
    "    tmp = pd.read_csv('../preds_stacking/' + str(name))\n",
    "\n",
    "    if 'object_id' in tmp:\n",
    "        tmp = tmp.sort_values('object_id')\n",
    "        del tmp['object_id']\n",
    "    \n",
    "    tmp.columns = [str(name) + '_' + str(l.replace('class_', '')) for l in list(tmp.columns)]    \n",
    "    \n",
    "    if name == names[0]:     \n",
    "        full_train = tmp\n",
    "        \n",
    "    else:\n",
    "        full_train = pd.concat([full_train, tmp], axis = 1)\n",
    "            \n",
    "print('- Number of stacking models:', len(names))\n",
    "print('- Data shape:', full_train.shape)"
   ]
  },
  {
   "cell_type": "code",
   "execution_count": 6,
   "metadata": {
    "_uuid": "1ac6c8500bbc9b9a338292b86bd01362e25264d9"
   },
   "outputs": [],
   "source": [
    "### PARTITIONING\n",
    "\n",
    "# partition the data\n",
    "full_train_gal = full_train[hostgal_photoz == 0]\n",
    "full_train_ext = full_train[hostgal_photoz != 0]\n",
    "y_gal = y[hostgal_photoz == 0]\n",
    "y_ext = y[hostgal_photoz != 0]\n",
    "\n",
    "# save classes\n",
    "classes_gal = np.sort(y_gal.unique())\n",
    "classes_ext = np.sort(y_ext.unique())\n",
    "\n",
    "# clear memory\n",
    "del full_train"
   ]
  },
  {
   "cell_type": "code",
   "execution_count": 7,
   "metadata": {},
   "outputs": [],
   "source": [
    "# remove constant columns\n",
    "full_train_gal = full_train_gal.loc[:, full_train_gal.apply(pd.Series.nunique) != 1]\n",
    "full_train_ext = full_train_ext.loc[:, full_train_ext.apply(pd.Series.nunique) != 1]"
   ]
  },
  {
   "cell_type": "markdown",
   "metadata": {
    "_uuid": "d413e67b3a8735ceeec25b2c3fc6b911d8646464"
   },
   "source": [
    "# 3. CROSS-VALIDATION"
   ]
  },
  {
   "cell_type": "markdown",
   "metadata": {
    "_uuid": "1e5143b3cb09f395e946bd4fdb63482bc1c542cc"
   },
   "source": [
    "## GALACTIC OBJECTS"
   ]
  },
  {
   "cell_type": "code",
   "execution_count": 8,
   "metadata": {
    "_uuid": "3f48baa0689486fdb7f1763ad7546e171f837de7"
   },
   "outputs": [
    {
     "name": "stdout",
     "output_type": "stream",
     "text": [
      "(2325, 10)\n"
     ]
    }
   ],
   "source": [
    "# exclude features\n",
    "excluded_feats_gal = [f for f in full_train_gal.columns if f.endswith('_99')] + \\\n",
    "                     [f for f in full_train_gal.columns if f.endswith('_15')] + \\\n",
    "                     [f for f in full_train_gal.columns if f.endswith('_42')] + \\\n",
    "                     [f for f in full_train_gal.columns if f.endswith('_52')] + \\\n",
    "                     [f for f in full_train_gal.columns if f.endswith('_62')] + \\\n",
    "                     [f for f in full_train_gal.columns if f.endswith('_64')] + \\\n",
    "                     [f for f in full_train_gal.columns if f.endswith('_67')] + \\\n",
    "                     [f for f in full_train_gal.columns if f.endswith('_88')] + \\\n",
    "                     [f for f in full_train_gal.columns if f.endswith('_90')] + \\\n",
    "                     [f for f in full_train_gal.columns if f.endswith('_95')]\n",
    "features_gal = [f for f in full_train_gal.columns if f not in excluded_feats_gal]\n",
    "print(full_train_gal[features_gal].shape)"
   ]
  },
  {
   "cell_type": "code",
   "execution_count": 9,
   "metadata": {
    "_uuid": "7bf694d9e270c05e62cf6ea85da29bdf665f6f5b"
   },
   "outputs": [],
   "source": [
    "### LOSS FUNCTION\n",
    "def multi_weighted_logloss(y_true, y_preds):\n",
    "    \n",
    "    classes = [6, 16, 53, 65, 92]\n",
    "    class_weight = dict(((c, 1) for c in classes))\n",
    "    \n",
    "    # reshape\n",
    "    y_p = y_preds.reshape(y_true.shape[0], len(classes), order = 'F')\n",
    "    \n",
    "    # Trasform y_true in dummies\n",
    "    y_ohe = pd.get_dummies(y_true)\n",
    "    \n",
    "    # Normalize rows and limit y_preds to 1e-15, 1-1e-15\n",
    "    y_p = np.clip(a = y_p, a_min = 1e-15, a_max = 1-1e-15)\n",
    "    \n",
    "    # Transform to log\n",
    "    y_p_log = np.log(y_p)\n",
    "    \n",
    "    # Get the log for ones, .values is used to drop the index of DataFrames\n",
    "    # Exclude class 99 for now, since there is no class99 in the training set \n",
    "    y_log_ones = np.sum(y_ohe.values * y_p_log, axis = 0)\n",
    "    \n",
    "    # Get the number of positives for each class\n",
    "    nb_pos = y_ohe.sum(axis = 0).values.astype(float)\n",
    "    \n",
    "    # Weight average and divide by the number of positives\n",
    "    class_arr = np.array([class_weight[k] for k in sorted(class_weight.keys())])\n",
    "    y_w = y_log_ones * class_arr / nb_pos\n",
    "    loss = - np.sum(y_w) / np.sum(class_arr)\n",
    "    \n",
    "    return 'wloss', loss, False\n",
    "\n",
    "\n",
    "# recompute weights\n",
    "w_gal = y_gal.value_counts()\n",
    "weights_gal = {i : np.sum(w_gal) / w_gal[i] for i in w_gal.index}"
   ]
  },
  {
   "cell_type": "code",
   "execution_count": 10,
   "metadata": {
    "_uuid": "6f54311f6e36a0fcb7d6639c6c9368cbe4154873"
   },
   "outputs": [],
   "source": [
    "### PARAMETERS\n",
    "\n",
    "# LGB parameters\n",
    "lgb_params = {\n",
    "    'boosting_type':   'gbdt',\n",
    "    'objective':       'multiclass',\n",
    "    'num_class':        len(classes_gal),\n",
    "    'metric':          'None',\n",
    "    'subsample':        0.9,\n",
    "    'feature_fraction': 0.7,\n",
    "    'lambda_l1':        0.03,\n",
    "    'lambda_l2':        0.03,\n",
    "    'min_split_gain':   0.01,\n",
    "    'min_child_weight': 5,\n",
    "    'silent':           True,\n",
    "    'verbosity':        -1,\n",
    "    'learning_rate':    0.03,\n",
    "    'max_depth':        3,\n",
    "    'n_estimators':     5000,\n",
    "    'nthread' :         16\n",
    "}\n",
    "\n",
    "# validation\n",
    "folds = StratifiedKFold(n_splits     = 20, \n",
    "                        shuffle      = True, \n",
    "                        random_state = 108)"
   ]
  },
  {
   "cell_type": "code",
   "execution_count": 11,
   "metadata": {
    "_uuid": "4e5e1ed34e0887b3c10b8e649abef15f44a34853",
    "scrolled": true
   },
   "outputs": [
    {
     "name": "stdout",
     "output_type": "stream",
     "text": [
      "Training until validation scores don't improve for 50 rounds.\n",
      "[100]\ttraining's wloss: 0.0778748\tvalid_1's wloss: 0.0779211\n",
      "[200]\ttraining's wloss: 0.00863155\tvalid_1's wloss: 0.0131511\n",
      "[300]\ttraining's wloss: 0.0027238\tvalid_1's wloss: 0.0093633\n",
      "[400]\ttraining's wloss: 0.00208135\tvalid_1's wloss: 0.00886539\n",
      "Early stopping, best iteration is:\n",
      "[419]\ttraining's wloss: 0.00200569\tvalid_1's wloss: 0.00875063\n",
      "-------------------------------------\n",
      "Fold 1: LOG-LOSS = 0.00875\n",
      "-------------------------------------\n",
      "\n",
      "Training until validation scores don't improve for 50 rounds.\n",
      "[100]\ttraining's wloss: 0.0777876\tvalid_1's wloss: 0.0758865\n",
      "[200]\ttraining's wloss: 0.00836442\tvalid_1's wloss: 0.010482\n",
      "[300]\ttraining's wloss: 0.00256107\tvalid_1's wloss: 0.00646293\n",
      "[400]\ttraining's wloss: 0.00193868\tvalid_1's wloss: 0.00590446\n",
      "Early stopping, best iteration is:\n",
      "[427]\ttraining's wloss: 0.00184653\tvalid_1's wloss: 0.00587215\n",
      "-------------------------------------\n",
      "Fold 2: LOG-LOSS = 0.00587\n",
      "-------------------------------------\n",
      "\n",
      "Training until validation scores don't improve for 50 rounds.\n",
      "[100]\ttraining's wloss: 0.078199\tvalid_1's wloss: 0.0737644\n",
      "[200]\ttraining's wloss: 0.00875785\tvalid_1's wloss: 0.00572322\n",
      "[300]\ttraining's wloss: 0.00274975\tvalid_1's wloss: 0.0011145\n",
      "[400]\ttraining's wloss: 0.00210392\tvalid_1's wloss: 0.00077836\n",
      "[500]\ttraining's wloss: 0.00182311\tvalid_1's wloss: 0.000612047\n",
      "[600]\ttraining's wloss: 0.00165124\tvalid_1's wloss: 0.000520199\n",
      "[700]\ttraining's wloss: 0.00152717\tvalid_1's wloss: 0.000449259\n",
      "[800]\ttraining's wloss: 0.00144078\tvalid_1's wloss: 0.000393631\n",
      "[900]\ttraining's wloss: 0.00138597\tvalid_1's wloss: 0.000355314\n",
      "[1000]\ttraining's wloss: 0.0013514\tvalid_1's wloss: 0.000337241\n",
      "[1100]\ttraining's wloss: 0.00133387\tvalid_1's wloss: 0.000331177\n",
      "[1200]\ttraining's wloss: 0.00132061\tvalid_1's wloss: 0.000327652\n",
      "[1300]\ttraining's wloss: 0.00130955\tvalid_1's wloss: 0.000325134\n",
      "[1400]\ttraining's wloss: 0.00130123\tvalid_1's wloss: 0.000324004\n",
      "Early stopping, best iteration is:\n",
      "[1372]\ttraining's wloss: 0.00130295\tvalid_1's wloss: 0.000323885\n",
      "-------------------------------------\n",
      "Fold 3: LOG-LOSS = 0.00032\n",
      "-------------------------------------\n",
      "\n",
      "Training until validation scores don't improve for 50 rounds.\n",
      "[100]\ttraining's wloss: 0.0782441\tvalid_1's wloss: 0.0798006\n",
      "[200]\ttraining's wloss: 0.00853035\tvalid_1's wloss: 0.0118353\n",
      "[300]\ttraining's wloss: 0.00262503\tvalid_1's wloss: 0.00677475\n",
      "Early stopping, best iteration is:\n",
      "[318]\ttraining's wloss: 0.00245466\tvalid_1's wloss: 0.00639314\n",
      "-------------------------------------\n",
      "Fold 4: LOG-LOSS = 0.00639\n",
      "-------------------------------------\n",
      "\n",
      "Training until validation scores don't improve for 50 rounds.\n",
      "[100]\ttraining's wloss: 0.0780108\tvalid_1's wloss: 0.0775768\n",
      "[200]\ttraining's wloss: 0.00833162\tvalid_1's wloss: 0.00682743\n",
      "[300]\ttraining's wloss: 0.00245733\tvalid_1's wloss: 0.00173649\n",
      "[400]\ttraining's wloss: 0.00190093\tvalid_1's wloss: 0.00134208\n",
      "[500]\ttraining's wloss: 0.00166049\tvalid_1's wloss: 0.0011253\n",
      "[600]\ttraining's wloss: 0.0015102\tvalid_1's wloss: 0.0010253\n",
      "[700]\ttraining's wloss: 0.00141056\tvalid_1's wloss: 0.000909962\n",
      "[800]\ttraining's wloss: 0.00135437\tvalid_1's wloss: 0.000800676\n",
      "[900]\ttraining's wloss: 0.00132835\tvalid_1's wloss: 0.000741712\n",
      "[1000]\ttraining's wloss: 0.00131648\tvalid_1's wloss: 0.000722276\n",
      "[1100]\ttraining's wloss: 0.0013097\tvalid_1's wloss: 0.000709319\n",
      "[1200]\ttraining's wloss: 0.00130466\tvalid_1's wloss: 0.000702408\n",
      "[1300]\ttraining's wloss: 0.00130163\tvalid_1's wloss: 0.00069923\n",
      "Early stopping, best iteration is:\n",
      "[1264]\ttraining's wloss: 0.00130183\tvalid_1's wloss: 0.000698816\n",
      "-------------------------------------\n",
      "Fold 5: LOG-LOSS = 0.0007\n",
      "-------------------------------------\n",
      "\n",
      "Training until validation scores don't improve for 50 rounds.\n",
      "[100]\ttraining's wloss: 0.0779227\tvalid_1's wloss: 0.0852846\n",
      "[200]\ttraining's wloss: 0.00868371\tvalid_1's wloss: 0.0379682\n",
      "Early stopping, best iteration is:\n",
      "[221]\ttraining's wloss: 0.00597216\tvalid_1's wloss: 0.0370791\n",
      "-------------------------------------\n",
      "Fold 6: LOG-LOSS = 0.03708\n",
      "-------------------------------------\n",
      "\n",
      "Training until validation scores don't improve for 50 rounds.\n",
      "[100]\ttraining's wloss: 0.0777505\tvalid_1's wloss: 0.071873\n",
      "[200]\ttraining's wloss: 0.00831762\tvalid_1's wloss: 0.00652567\n",
      "[300]\ttraining's wloss: 0.00247297\tvalid_1's wloss: 0.00321663\n",
      "[400]\ttraining's wloss: 0.00191521\tvalid_1's wloss: 0.00282628\n",
      "Early stopping, best iteration is:\n",
      "[407]\ttraining's wloss: 0.00188867\tvalid_1's wloss: 0.00280155\n",
      "-------------------------------------\n",
      "Fold 7: LOG-LOSS = 0.0028\n",
      "-------------------------------------\n",
      "\n",
      "Training until validation scores don't improve for 50 rounds.\n",
      "[100]\ttraining's wloss: 0.0778492\tvalid_1's wloss: 0.146621\n",
      "[200]\ttraining's wloss: 0.00813561\tvalid_1's wloss: 0.0942302\n",
      "Early stopping, best iteration is:\n",
      "[178]\ttraining's wloss: 0.0125359\tvalid_1's wloss: 0.0906037\n",
      "-------------------------------------\n",
      "Fold 8: LOG-LOSS = 0.0906\n",
      "-------------------------------------\n",
      "\n",
      "Training until validation scores don't improve for 50 rounds.\n",
      "[100]\ttraining's wloss: 0.0782952\tvalid_1's wloss: 0.101226\n",
      "[200]\ttraining's wloss: 0.00859901\tvalid_1's wloss: 0.0293282\n",
      "[300]\ttraining's wloss: 0.00264898\tvalid_1's wloss: 0.0217337\n",
      "[400]\ttraining's wloss: 0.00201515\tvalid_1's wloss: 0.0207326\n",
      "[500]\ttraining's wloss: 0.001742\tvalid_1's wloss: 0.020268\n",
      "[600]\ttraining's wloss: 0.00157428\tvalid_1's wloss: 0.0201738\n",
      "Early stopping, best iteration is:\n",
      "[559]\ttraining's wloss: 0.00163548\tvalid_1's wloss: 0.020073\n",
      "-------------------------------------\n",
      "Fold 9: LOG-LOSS = 0.02007\n",
      "-------------------------------------\n",
      "\n",
      "Training until validation scores don't improve for 50 rounds.\n",
      "[100]\ttraining's wloss: 0.0768889\tvalid_1's wloss: 0.103322\n",
      "[200]\ttraining's wloss: 0.00727738\tvalid_1's wloss: 0.0458048\n",
      "Early stopping, best iteration is:\n",
      "[237]\ttraining's wloss: 0.00360398\tvalid_1's wloss: 0.0440125\n",
      "-------------------------------------\n",
      "Fold 10: LOG-LOSS = 0.04401\n",
      "-------------------------------------\n",
      "\n",
      "Training until validation scores don't improve for 50 rounds.\n",
      "[100]\ttraining's wloss: 0.078272\tvalid_1's wloss: 0.0693606\n",
      "[200]\ttraining's wloss: 0.00848036\tvalid_1's wloss: 0.00459761\n",
      "[300]\ttraining's wloss: 0.00262477\tvalid_1's wloss: 0.000841499\n",
      "[400]\ttraining's wloss: 0.00194532\tvalid_1's wloss: 0.000571458\n",
      "[500]\ttraining's wloss: 0.00170442\tvalid_1's wloss: 0.00050365\n",
      "[600]\ttraining's wloss: 0.00155176\tvalid_1's wloss: 0.000432796\n",
      "[700]\ttraining's wloss: 0.00145421\tvalid_1's wloss: 0.000390634\n",
      "[800]\ttraining's wloss: 0.00139901\tvalid_1's wloss: 0.00037717\n",
      "Early stopping, best iteration is:\n",
      "[817]\ttraining's wloss: 0.00139183\tvalid_1's wloss: 0.000375375\n",
      "-------------------------------------\n",
      "Fold 11: LOG-LOSS = 0.00038\n",
      "-------------------------------------\n",
      "\n",
      "Training until validation scores don't improve for 50 rounds.\n",
      "[100]\ttraining's wloss: 0.0776499\tvalid_1's wloss: 0.0741771\n",
      "[200]\ttraining's wloss: 0.00849867\tvalid_1's wloss: 0.0109298\n",
      "[300]\ttraining's wloss: 0.00277602\tvalid_1's wloss: 0.00678046\n",
      "[400]\ttraining's wloss: 0.00212829\tvalid_1's wloss: 0.00614182\n",
      "[500]\ttraining's wloss: 0.00179853\tvalid_1's wloss: 0.00575152\n",
      "[600]\ttraining's wloss: 0.00160422\tvalid_1's wloss: 0.0055768\n",
      "[700]\ttraining's wloss: 0.00149582\tvalid_1's wloss: 0.00544043\n",
      "[800]\ttraining's wloss: 0.00141797\tvalid_1's wloss: 0.00527084\n",
      "[900]\ttraining's wloss: 0.00135997\tvalid_1's wloss: 0.00517806\n",
      "Early stopping, best iteration is:\n",
      "[915]\ttraining's wloss: 0.00135296\tvalid_1's wloss: 0.0051519\n",
      "-------------------------------------\n",
      "Fold 12: LOG-LOSS = 0.00515\n",
      "-------------------------------------\n",
      "\n",
      "Training until validation scores don't improve for 50 rounds.\n",
      "[100]\ttraining's wloss: 0.0757653\tvalid_1's wloss: 0.183662\n",
      "[200]\ttraining's wloss: 0.00750958\tvalid_1's wloss: 0.173059\n",
      "Early stopping, best iteration is:\n",
      "[153]\ttraining's wloss: 0.0202579\tvalid_1's wloss: 0.152455\n",
      "-------------------------------------\n",
      "Fold 13: LOG-LOSS = 0.15246\n",
      "-------------------------------------\n",
      "\n",
      "Training until validation scores don't improve for 50 rounds.\n",
      "[100]\ttraining's wloss: 0.0789444\tvalid_1's wloss: 0.0720843\n",
      "[200]\ttraining's wloss: 0.0090682\tvalid_1's wloss: 0.00570003\n",
      "[300]\ttraining's wloss: 0.00295226\tvalid_1's wloss: 0.0011798\n",
      "[400]\ttraining's wloss: 0.00216421\tvalid_1's wloss: 0.000783773\n",
      "[500]\ttraining's wloss: 0.00187122\tvalid_1's wloss: 0.000661384\n",
      "[600]\ttraining's wloss: 0.00168859\tvalid_1's wloss: 0.000557606\n",
      "[700]\ttraining's wloss: 0.00156365\tvalid_1's wloss: 0.000488934\n",
      "[800]\ttraining's wloss: 0.00147327\tvalid_1's wloss: 0.000433781\n",
      "[900]\ttraining's wloss: 0.00140439\tvalid_1's wloss: 0.000386914\n",
      "[1000]\ttraining's wloss: 0.00135672\tvalid_1's wloss: 0.000351192\n",
      "[1100]\ttraining's wloss: 0.00132568\tvalid_1's wloss: 0.000345836\n",
      "Early stopping, best iteration is:\n",
      "[1108]\ttraining's wloss: 0.00132364\tvalid_1's wloss: 0.000345327\n",
      "-------------------------------------\n",
      "Fold 14: LOG-LOSS = 0.00035\n",
      "-------------------------------------\n",
      "\n",
      "Training until validation scores don't improve for 50 rounds.\n",
      "[100]\ttraining's wloss: 0.0785012\tvalid_1's wloss: 0.0693003\n",
      "[200]\ttraining's wloss: 0.00832776\tvalid_1's wloss: 0.00444671\n",
      "[300]\ttraining's wloss: 0.00251289\tvalid_1's wloss: 0.00089186\n",
      "[400]\ttraining's wloss: 0.00194086\tvalid_1's wloss: 0.000593838\n",
      "[500]\ttraining's wloss: 0.00167989\tvalid_1's wloss: 0.000504796\n",
      "[600]\ttraining's wloss: 0.00152427\tvalid_1's wloss: 0.000452378\n",
      "[700]\ttraining's wloss: 0.0014374\tvalid_1's wloss: 0.000421019\n",
      "[800]\ttraining's wloss: 0.00138548\tvalid_1's wloss: 0.000398515\n",
      "[900]\ttraining's wloss: 0.00135857\tvalid_1's wloss: 0.000388903\n",
      "[1000]\ttraining's wloss: 0.00134446\tvalid_1's wloss: 0.000383047\n",
      "[1100]\ttraining's wloss: 0.00133379\tvalid_1's wloss: 0.000379666\n",
      "[1200]\ttraining's wloss: 0.001329\tvalid_1's wloss: 0.000378938\n",
      "Early stopping, best iteration is:\n",
      "[1208]\ttraining's wloss: 0.00132868\tvalid_1's wloss: 0.000378762\n",
      "-------------------------------------\n",
      "Fold 15: LOG-LOSS = 0.00038\n",
      "-------------------------------------\n",
      "\n",
      "Training until validation scores don't improve for 50 rounds.\n",
      "[100]\ttraining's wloss: 0.0770032\tvalid_1's wloss: 0.0771815\n",
      "[200]\ttraining's wloss: 0.00821455\tvalid_1's wloss: 0.00848417\n",
      "[300]\ttraining's wloss: 0.00266567\tvalid_1's wloss: 0.00453725\n",
      "[400]\ttraining's wloss: 0.00204084\tvalid_1's wloss: 0.00415209\n",
      "Early stopping, best iteration is:\n",
      "[387]\ttraining's wloss: 0.00209464\tvalid_1's wloss: 0.00412619\n",
      "-------------------------------------\n",
      "Fold 16: LOG-LOSS = 0.00413\n",
      "-------------------------------------\n",
      "\n",
      "Training until validation scores don't improve for 50 rounds.\n",
      "[100]\ttraining's wloss: 0.0770321\tvalid_1's wloss: 0.0910764\n",
      "[200]\ttraining's wloss: 0.00770453\tvalid_1's wloss: 0.0387589\n",
      "Early stopping, best iteration is:\n",
      "[220]\ttraining's wloss: 0.00533544\tvalid_1's wloss: 0.0378193\n",
      "-------------------------------------\n",
      "Fold 17: LOG-LOSS = 0.03782\n",
      "-------------------------------------\n",
      "\n",
      "Training until validation scores don't improve for 50 rounds.\n",
      "[100]\ttraining's wloss: 0.0774223\tvalid_1's wloss: 0.0708081\n",
      "[200]\ttraining's wloss: 0.00853183\tvalid_1's wloss: 0.005168\n",
      "[300]\ttraining's wloss: 0.00276546\tvalid_1's wloss: 0.00103715\n",
      "[400]\ttraining's wloss: 0.00208367\tvalid_1's wloss: 0.000779246\n",
      "[500]\ttraining's wloss: 0.0017559\tvalid_1's wloss: 0.000682129\n",
      "[600]\ttraining's wloss: 0.00156493\tvalid_1's wloss: 0.000648225\n",
      "[700]\ttraining's wloss: 0.0014533\tvalid_1's wloss: 0.000641734\n",
      "Early stopping, best iteration is:\n",
      "[670]\ttraining's wloss: 0.00148172\tvalid_1's wloss: 0.000634433\n",
      "-------------------------------------\n",
      "Fold 18: LOG-LOSS = 0.00063\n",
      "-------------------------------------\n",
      "\n",
      "Training until validation scores don't improve for 50 rounds.\n",
      "[100]\ttraining's wloss: 0.0779176\tvalid_1's wloss: 0.0758388\n",
      "[200]\ttraining's wloss: 0.00837993\tvalid_1's wloss: 0.00611036\n",
      "[300]\ttraining's wloss: 0.00260182\tvalid_1's wloss: 0.00142669\n",
      "[400]\ttraining's wloss: 0.00197093\tvalid_1's wloss: 0.00104559\n",
      "[500]\ttraining's wloss: 0.00169663\tvalid_1's wloss: 0.000960383\n",
      "[600]\ttraining's wloss: 0.00155021\tvalid_1's wloss: 0.000907177\n",
      "[700]\ttraining's wloss: 0.00146071\tvalid_1's wloss: 0.000848848\n",
      "[800]\ttraining's wloss: 0.00140068\tvalid_1's wloss: 0.000813471\n",
      "[900]\ttraining's wloss: 0.00135923\tvalid_1's wloss: 0.000768622\n",
      "[1000]\ttraining's wloss: 0.00133204\tvalid_1's wloss: 0.00076453\n",
      "Early stopping, best iteration is:\n",
      "[983]\ttraining's wloss: 0.00133596\tvalid_1's wloss: 0.000761611\n",
      "-------------------------------------\n",
      "Fold 19: LOG-LOSS = 0.00076\n",
      "-------------------------------------\n",
      "\n",
      "Training until validation scores don't improve for 50 rounds.\n",
      "[100]\ttraining's wloss: 0.0760332\tvalid_1's wloss: 0.127768\n",
      "[200]\ttraining's wloss: 0.00776536\tvalid_1's wloss: 0.0910433\n",
      "Early stopping, best iteration is:\n",
      "[168]\ttraining's wloss: 0.0146933\tvalid_1's wloss: 0.0872201\n",
      "-------------------------------------\n",
      "Fold 20: LOG-LOSS = 0.08722\n",
      "-------------------------------------\n",
      "\n",
      "\n",
      "MULTI-WEIGHTED LOG-LOSS : 0.02558 \n",
      "Done in   0.8 minutes\n"
     ]
    }
   ],
   "source": [
    "### CROSS-VALIDATION LOOP\n",
    "\n",
    "# create objects\n",
    "clfs_gal = []\n",
    "importances_gal = pd.DataFrame()\n",
    "oof_preds_gal = np.zeros((len(full_train_gal), len(classes_gal)))\n",
    "\n",
    "# modeling loop\n",
    "start  = time.time()\n",
    "for fold_, (trn_, val_) in enumerate(folds.split(y_gal, y_gal)):\n",
    "    \n",
    "    # data partitioning\n",
    "    trn_x, trn_y = full_train_gal[features_gal].iloc[trn_], y_gal.iloc[trn_]\n",
    "    val_x, val_y = full_train_gal[features_gal].iloc[val_], y_gal.iloc[val_]\n",
    "    \n",
    "    # train the model\n",
    "    clf = lgb.LGBMClassifier(**lgb_params) \n",
    "    clf.fit(\n",
    "        trn_x, trn_y,\n",
    "        eval_set              = [(trn_x, trn_y), (val_x, val_y)],\n",
    "        eval_metric           = multi_weighted_logloss,\n",
    "        verbose               = 100,\n",
    "        early_stopping_rounds = 50,\n",
    "        sample_weight         = trn_y.map(weights_gal)\n",
    "    )\n",
    "    clfs_gal.append(clf)\n",
    "\n",
    "    # predictions\n",
    "    oof_preds_gal[val_, :] =  clf.predict_proba(val_x, num_iteration = clf.best_iteration_)\n",
    "    \n",
    "    # feedback\n",
    "    print('-------------------------------------')\n",
    "    print('Fold ' + str(fold_ + 1) + ': LOG-LOSS = ' + str(round(multi_weighted_logloss(val_y, clf.predict_proba(val_x, num_iteration = clf.best_iteration_))[1], 5)))  \n",
    "    print('-------------------------------------')\n",
    "    print('')\n",
    "\n",
    "    # variable importance\n",
    "    imp_df = pd.DataFrame()\n",
    "    imp_df['feature'] = features_gal\n",
    "    imp_df['gain'] = clf.feature_importances_\n",
    "    imp_df['fold'] = fold_ + 1\n",
    "    importances_gal = pd.concat([importances_gal, imp_df], axis = 0, sort = False)\n",
    "    \n",
    "    # clean up\n",
    "    gc.collect()\n",
    "    \n",
    "# print performance\n",
    "print('')\n",
    "print('MULTI-WEIGHTED LOG-LOSS : %.5f ' % multi_weighted_logloss(y_true = y_gal, y_preds = oof_preds_gal)[1])\n",
    "print('Done in %5.1f minutes' % ((time.time() - start) / 60))\n",
    "\n",
    "# 0.02530\n",
    "# 0.02270"
   ]
  },
  {
   "cell_type": "code",
   "execution_count": 12,
   "metadata": {
    "_uuid": "9ebcbb0f39d3e06748630966d3b7f5dc8aa4a51e",
    "scrolled": false
   },
   "outputs": [
    {
     "data": {
      "image/png": "[encoded data removed]",
      "text/plain": [
       "<Figure size 432x288 with 2 Axes>"
      ]
     },
     "metadata": {},
     "output_type": "display_data"
    }
   ],
   "source": [
    "##### CONFUSION MATRIX\n",
    "\n",
    "# preparations\n",
    "tmp = np.argmax(oof_preds_gal, axis = 1)\n",
    "y_pred = []\n",
    "for i in tmp:\n",
    "    y_pred.append(classes_gal[i])\n",
    "y_pred = pd.Series(y_pred)\n",
    "\n",
    "# construct confusion matrx\n",
    "cm = confusion_matrix(y_gal, y_pred, labels = classes_gal)\n",
    "cm = cm.astype('float') / cm.sum(axis = 1)[:, np.newaxis]\n",
    "annot = np.around(cm, 2)\n",
    "\n",
    "# plot matrix\n",
    "fig, ax = plt.subplots(figsize = (6,4))\n",
    "sns.heatmap(cm, xticklabels = classes_gal, yticklabels = classes_gal, cmap = 'Blues', annot = annot, lw = 0.5)\n",
    "ax.set_xlabel('Predicted Label')\n",
    "ax.set_ylabel('True Label')\n",
    "ax.set_aspect('equal')"
   ]
  },
  {
   "cell_type": "markdown",
   "metadata": {
    "_uuid": "2ee074e92af888a8122e21e982a408a263fb5b3d"
   },
   "source": [
    "## EXTRAGALACTIC OBJECTS"
   ]
  },
  {
   "cell_type": "code",
   "execution_count": 13,
   "metadata": {
    "_uuid": "2334974b17e3e4fbd7888e546e49cf35b7fbb332"
   },
   "outputs": [
    {
     "name": "stdout",
     "output_type": "stream",
     "text": [
      "(5523, 18)\n"
     ]
    }
   ],
   "source": [
    "# exclude features\n",
    "excluded_feats_ext = [f for f in full_train_ext.columns if f.endswith('_99')] + \\\n",
    "                     [f for f in full_train_ext.columns if f.endswith('_6')] + \\\n",
    "                     [f for f in full_train_ext.columns if f.endswith('_16')] + \\\n",
    "                     [f for f in full_train_ext.columns if f.endswith('_53')] + \\\n",
    "                     [f for f in full_train_ext.columns if f.endswith('_65')] + \\\n",
    "                     [f for f in full_train_ext.columns if f.endswith('_92')]\n",
    "features_ext = [f for f in full_train_ext.columns if f not in excluded_feats_ext]\n",
    "print(full_train_ext[features_ext].shape)"
   ]
  },
  {
   "cell_type": "code",
   "execution_count": 14,
   "metadata": {
    "_uuid": "b8da35e9a9f35a17123330ae4a566c350d5c7dfd"
   },
   "outputs": [],
   "source": [
    "### LOSS FUNCTION\n",
    "def multi_weighted_logloss(y_true, y_preds):\n",
    "    \n",
    "    classes = [15, 42, 52, 62, 64, 67, 88, 90, 95]\n",
    "    class_weight = dict(((c, 1) for c in classes))\n",
    "    class_weight = {15: 1, 42: 1, 52: 1, 62: 1, 64: 1, 67: 1, 88: 1, 90: 1, 95: 1}\n",
    "    \n",
    "    # reshape\n",
    "    y_p = y_preds.reshape(y_true.shape[0], len(classes), order = 'F')\n",
    "    \n",
    "    # Trasform y_true in dummies\n",
    "    y_ohe = pd.get_dummies(y_true)\n",
    "    \n",
    "    # Normalize rows and limit y_preds to 1e-15, 1-1e-15\n",
    "    y_p = np.clip(a = y_p, a_min = 1e-15, a_max = 1-1e-15)\n",
    "    \n",
    "    # Transform to log\n",
    "    y_p_log = np.log(y_p)\n",
    "    \n",
    "    # Get the log for ones, .values is used to drop the index of DataFrames\n",
    "    # Exclude class 99 for now, since there is no class99 in the training set \n",
    "    y_log_ones = np.sum(y_ohe.values * y_p_log, axis = 0)\n",
    "    \n",
    "    # Get the number of positives for each class\n",
    "    nb_pos = y_ohe.sum(axis = 0).values.astype(float)\n",
    "    \n",
    "    # Weight average and divide by the number of positives\n",
    "    class_arr = np.array([class_weight[k] for k in sorted(class_weight.keys())])\n",
    "    y_w = y_log_ones * class_arr / nb_pos\n",
    "    loss = - np.sum(y_w) / np.sum(class_arr)\n",
    "    \n",
    "    return 'wloss', loss, False\n",
    "\n",
    "\n",
    "# recompute weights\n",
    "w_ext = y_ext.value_counts()\n",
    "weights_ext = {i : np.sum(w_ext) / w_ext[i] for i in w_ext.index}"
   ]
  },
  {
   "cell_type": "code",
   "execution_count": 15,
   "metadata": {
    "_uuid": "91e0add6763721f9aa44d085f2871508e7762538"
   },
   "outputs": [],
   "source": [
    "### PARAMETERS\n",
    "\n",
    "# LGB parameters\n",
    "lgb_params = {\n",
    "    'boosting_type':   'gbdt',\n",
    "    'objective':       'multiclass',\n",
    "    'num_class':        len(classes_ext),\n",
    "    'metric':          'None',\n",
    "    'subsample':        0.9,\n",
    "    'feature_fraction': 0.7,\n",
    "    'lambda_l1':        0.03,\n",
    "    'lambda_l2':        0.03,\n",
    "    'min_split_gain':   0.01,\n",
    "    'min_child_weight': 5,\n",
    "    'silent':           True,\n",
    "    'verbosity':        -1,\n",
    "    'learning_rate':    0.03,\n",
    "    'max_depth':        3,\n",
    "    'n_estimators':     5000,\n",
    "    'nthread' :         16\n",
    "}\n",
    "\n",
    "# validation\n",
    "folds = StratifiedKFold(n_splits     = 20, \n",
    "                        shuffle      = True, \n",
    "                        random_state = 108)"
   ]
  },
  {
   "cell_type": "code",
   "execution_count": 16,
   "metadata": {
    "_uuid": "976d56edbe62bcb86d797c2b38ef05311b3d45ba",
    "scrolled": false
   },
   "outputs": [
    {
     "name": "stdout",
     "output_type": "stream",
     "text": [
      "Training until validation scores don't improve for 50 rounds.\n",
      "[100]\ttraining's wloss: 0.654957\tvalid_1's wloss: 0.752036\n",
      "[200]\ttraining's wloss: 0.530081\tvalid_1's wloss: 0.675629\n",
      "Early stopping, best iteration is:\n",
      "[241]\ttraining's wloss: 0.50462\tvalid_1's wloss: 0.670301\n",
      "-------------------------------------\n",
      "Fold 1: LOG-LOSS = 0.6703\n",
      "-------------------------------------\n",
      "\n",
      "Training until validation scores don't improve for 50 rounds.\n",
      "[100]\ttraining's wloss: 0.649299\tvalid_1's wloss: 0.833877\n",
      "[200]\ttraining's wloss: 0.525154\tvalid_1's wloss: 0.794356\n",
      "Early stopping, best iteration is:\n",
      "[181]\ttraining's wloss: 0.538342\tvalid_1's wloss: 0.790599\n",
      "-------------------------------------\n",
      "Fold 2: LOG-LOSS = 0.7906\n",
      "-------------------------------------\n",
      "\n",
      "Training until validation scores don't improve for 50 rounds.\n",
      "[100]\ttraining's wloss: 0.655388\tvalid_1's wloss: 0.709426\n",
      "[200]\ttraining's wloss: 0.5308\tvalid_1's wloss: 0.65092\n",
      "[300]\ttraining's wloss: 0.472793\tvalid_1's wloss: 0.655151\n",
      "Early stopping, best iteration is:\n",
      "[265]\ttraining's wloss: 0.491442\tvalid_1's wloss: 0.648876\n",
      "-------------------------------------\n",
      "Fold 3: LOG-LOSS = 0.64888\n",
      "-------------------------------------\n",
      "\n",
      "Training until validation scores don't improve for 50 rounds.\n",
      "[100]\ttraining's wloss: 0.652332\tvalid_1's wloss: 0.762722\n",
      "[200]\ttraining's wloss: 0.529221\tvalid_1's wloss: 0.720769\n",
      "Early stopping, best iteration is:\n",
      "[168]\ttraining's wloss: 0.552847\tvalid_1's wloss: 0.71768\n",
      "-------------------------------------\n",
      "Fold 4: LOG-LOSS = 0.71768\n",
      "-------------------------------------\n",
      "\n",
      "Training until validation scores don't improve for 50 rounds.\n",
      "[100]\ttraining's wloss: 0.65498\tvalid_1's wloss: 0.73998\n",
      "[200]\ttraining's wloss: 0.532204\tvalid_1's wloss: 0.661072\n",
      "[300]\ttraining's wloss: 0.474332\tvalid_1's wloss: 0.654965\n",
      "Early stopping, best iteration is:\n",
      "[264]\ttraining's wloss: 0.493975\tvalid_1's wloss: 0.652308\n",
      "-------------------------------------\n",
      "Fold 5: LOG-LOSS = 0.65231\n",
      "-------------------------------------\n",
      "\n",
      "Training until validation scores don't improve for 50 rounds.\n",
      "[100]\ttraining's wloss: 0.646199\tvalid_1's wloss: 0.871493\n",
      "[200]\ttraining's wloss: 0.520907\tvalid_1's wloss: 0.838973\n",
      "Early stopping, best iteration is:\n",
      "[160]\ttraining's wloss: 0.552902\tvalid_1's wloss: 0.836968\n",
      "-------------------------------------\n",
      "Fold 6: LOG-LOSS = 0.83697\n",
      "-------------------------------------\n",
      "\n",
      "Training until validation scores don't improve for 50 rounds.\n",
      "[100]\ttraining's wloss: 0.651686\tvalid_1's wloss: 0.776443\n",
      "[200]\ttraining's wloss: 0.527736\tvalid_1's wloss: 0.718659\n",
      "Early stopping, best iteration is:\n",
      "[244]\ttraining's wloss: 0.5009\tvalid_1's wloss: 0.714663\n",
      "-------------------------------------\n",
      "Fold 7: LOG-LOSS = 0.71466\n",
      "-------------------------------------\n",
      "\n",
      "Training until validation scores don't improve for 50 rounds.\n",
      "[100]\ttraining's wloss: 0.649689\tvalid_1's wloss: 0.82995\n",
      "[200]\ttraining's wloss: 0.524192\tvalid_1's wloss: 0.772466\n",
      "Early stopping, best iteration is:\n",
      "[189]\ttraining's wloss: 0.532382\tvalid_1's wloss: 0.771726\n",
      "-------------------------------------\n",
      "Fold 8: LOG-LOSS = 0.77173\n",
      "-------------------------------------\n",
      "\n",
      "Training until validation scores don't improve for 50 rounds.\n",
      "[100]\ttraining's wloss: 0.651187\tvalid_1's wloss: 0.880301\n",
      "Early stopping, best iteration is:\n",
      "[138]\ttraining's wloss: 0.582194\tvalid_1's wloss: 0.86665\n",
      "-------------------------------------\n",
      "Fold 9: LOG-LOSS = 0.86665\n",
      "-------------------------------------\n",
      "\n",
      "Training until validation scores don't improve for 50 rounds.\n",
      "[100]\ttraining's wloss: 0.66039\tvalid_1's wloss: 0.64033\n",
      "[200]\ttraining's wloss: 0.538153\tvalid_1's wloss: 0.550133\n",
      "[300]\ttraining's wloss: 0.481917\tvalid_1's wloss: 0.538297\n",
      "Early stopping, best iteration is:\n",
      "[330]\ttraining's wloss: 0.467372\tvalid_1's wloss: 0.53629\n",
      "-------------------------------------\n",
      "Fold 10: LOG-LOSS = 0.53629\n",
      "-------------------------------------\n",
      "\n",
      "Training until validation scores don't improve for 50 rounds.\n",
      "[100]\ttraining's wloss: 0.654531\tvalid_1's wloss: 0.798035\n",
      "[200]\ttraining's wloss: 0.533128\tvalid_1's wloss: 0.753429\n",
      "Early stopping, best iteration is:\n",
      "[174]\ttraining's wloss: 0.551363\tvalid_1's wloss: 0.752827\n",
      "-------------------------------------\n",
      "Fold 11: LOG-LOSS = 0.75283\n",
      "-------------------------------------\n",
      "\n",
      "Training until validation scores don't improve for 50 rounds.\n",
      "[100]\ttraining's wloss: 0.652651\tvalid_1's wloss: 0.810499\n",
      "[200]\ttraining's wloss: 0.530081\tvalid_1's wloss: 0.75552\n",
      "Early stopping, best iteration is:\n",
      "[193]\ttraining's wloss: 0.534924\tvalid_1's wloss: 0.754735\n",
      "-------------------------------------\n",
      "Fold 12: LOG-LOSS = 0.75474\n",
      "-------------------------------------\n",
      "\n",
      "Training until validation scores don't improve for 50 rounds.\n",
      "[100]\ttraining's wloss: 0.657054\tvalid_1's wloss: 0.735056\n",
      "[200]\ttraining's wloss: 0.534651\tvalid_1's wloss: 0.661334\n",
      "[300]\ttraining's wloss: 0.479043\tvalid_1's wloss: 0.657638\n",
      "Early stopping, best iteration is:\n",
      "[270]\ttraining's wloss: 0.494354\tvalid_1's wloss: 0.654852\n",
      "-------------------------------------\n",
      "Fold 13: LOG-LOSS = 0.65485\n",
      "-------------------------------------\n",
      "\n",
      "Training until validation scores don't improve for 50 rounds.\n",
      "[100]\ttraining's wloss: 0.655444\tvalid_1's wloss: 0.750751\n",
      "[200]\ttraining's wloss: 0.533984\tvalid_1's wloss: 0.697286\n",
      "Early stopping, best iteration is:\n",
      "[228]\ttraining's wloss: 0.516831\tvalid_1's wloss: 0.69588\n",
      "-------------------------------------\n",
      "Fold 14: LOG-LOSS = 0.69588\n",
      "-------------------------------------\n",
      "\n",
      "Training until validation scores don't improve for 50 rounds.\n",
      "[100]\ttraining's wloss: 0.660928\tvalid_1's wloss: 0.632321\n",
      "[200]\ttraining's wloss: 0.537212\tvalid_1's wloss: 0.550484\n",
      "[300]\ttraining's wloss: 0.479218\tvalid_1's wloss: 0.536098\n",
      "[400]\ttraining's wloss: 0.431965\tvalid_1's wloss: 0.533703\n",
      "[500]\ttraining's wloss: 0.392391\tvalid_1's wloss: 0.530839\n",
      "Early stopping, best iteration is:\n",
      "[549]\ttraining's wloss: 0.374804\tvalid_1's wloss: 0.529403\n",
      "-------------------------------------\n",
      "Fold 15: LOG-LOSS = 0.5294\n",
      "-------------------------------------\n",
      "\n",
      "Training until validation scores don't improve for 50 rounds.\n",
      "[100]\ttraining's wloss: 0.653103\tvalid_1's wloss: 0.759158\n",
      "[200]\ttraining's wloss: 0.527547\tvalid_1's wloss: 0.70941\n",
      "Early stopping, best iteration is:\n",
      "[183]\ttraining's wloss: 0.539532\tvalid_1's wloss: 0.708259\n",
      "-------------------------------------\n",
      "Fold 16: LOG-LOSS = 0.70826\n",
      "-------------------------------------\n",
      "\n",
      "Training until validation scores don't improve for 50 rounds.\n",
      "[100]\ttraining's wloss: 0.655796\tvalid_1's wloss: 0.726664\n",
      "[200]\ttraining's wloss: 0.53211\tvalid_1's wloss: 0.653262\n",
      "Early stopping, best iteration is:\n",
      "[235]\ttraining's wloss: 0.510262\tvalid_1's wloss: 0.651897\n",
      "-------------------------------------\n",
      "Fold 17: LOG-LOSS = 0.6519\n",
      "-------------------------------------\n",
      "\n",
      "Training until validation scores don't improve for 50 rounds.\n",
      "[100]\ttraining's wloss: 0.654158\tvalid_1's wloss: 0.729217\n",
      "[200]\ttraining's wloss: 0.532053\tvalid_1's wloss: 0.647445\n",
      "[300]\ttraining's wloss: 0.476526\tvalid_1's wloss: 0.631113\n",
      "[400]\ttraining's wloss: 0.428119\tvalid_1's wloss: 0.631159\n",
      "Early stopping, best iteration is:\n",
      "[355]\ttraining's wloss: 0.44897\tvalid_1's wloss: 0.629363\n",
      "-------------------------------------\n",
      "Fold 18: LOG-LOSS = 0.62936\n",
      "-------------------------------------\n",
      "\n",
      "Training until validation scores don't improve for 50 rounds.\n",
      "[100]\ttraining's wloss: 0.651741\tvalid_1's wloss: 0.800805\n",
      "[200]\ttraining's wloss: 0.529602\tvalid_1's wloss: 0.738546\n",
      "Early stopping, best iteration is:\n",
      "[235]\ttraining's wloss: 0.508509\tvalid_1's wloss: 0.737735\n",
      "-------------------------------------\n",
      "Fold 19: LOG-LOSS = 0.73774\n",
      "-------------------------------------\n",
      "\n",
      "Training until validation scores don't improve for 50 rounds.\n",
      "[100]\ttraining's wloss: 0.654558\tvalid_1's wloss: 0.758229\n",
      "[200]\ttraining's wloss: 0.529937\tvalid_1's wloss: 0.696639\n",
      "Early stopping, best iteration is:\n",
      "[239]\ttraining's wloss: 0.506081\tvalid_1's wloss: 0.693385\n",
      "-------------------------------------\n",
      "Fold 20: LOG-LOSS = 0.69338\n",
      "-------------------------------------\n",
      "\n",
      "\n",
      "MULTI-WEIGHTED LOG-LOSS : 0.70101 \n",
      "Done in   1.0 minutes\n"
     ]
    }
   ],
   "source": [
    "### CROSS-VALIDATION LOOP\n",
    "\n",
    "# create objects\n",
    "clfs_ext = []\n",
    "importances_ext = pd.DataFrame()\n",
    "oof_preds_ext = np.zeros((len(full_train_ext), len(classes_ext)))\n",
    "\n",
    "# modeling loop\n",
    "start  = time.time()\n",
    "for fold_, (trn_, val_) in enumerate(folds.split(y_ext, y_ext)):\n",
    "    \n",
    "    # data partitioning\n",
    "    trn_x, trn_y = full_train_ext[features_ext].iloc[trn_], y_ext.iloc[trn_]\n",
    "    val_x, val_y = full_train_ext[features_ext].iloc[val_], y_ext.iloc[val_]\n",
    "    \n",
    "    # train the model\n",
    "    clf = lgb.LGBMClassifier(**lgb_params) \n",
    "    clf.fit(\n",
    "        trn_x, trn_y,\n",
    "        eval_set              = [(trn_x, trn_y), (val_x, val_y)],\n",
    "        eval_metric           = multi_weighted_logloss,\n",
    "        verbose               = 100,\n",
    "        early_stopping_rounds = 50,\n",
    "        sample_weight         = trn_y.map(weights_ext)        \n",
    "    )\n",
    "    clfs_ext.append(clf)\n",
    "\n",
    "    # predictions\n",
    "    oof_preds_ext[val_, :] = clf.predict_proba(val_x, num_iteration = clf.best_iteration_)\n",
    "\n",
    "    # feedback\n",
    "    print('-------------------------------------')\n",
    "    print('Fold ' + str(fold_ + 1) + ': LOG-LOSS = ' + str(round(multi_weighted_logloss(val_y, clf.predict_proba(val_x, num_iteration = clf.best_iteration_))[1], 5)))  \n",
    "    print('-------------------------------------')\n",
    "    print('')\n",
    "\n",
    "    # variable importance\n",
    "    imp_df = pd.DataFrame()\n",
    "    imp_df['feature'] = features_ext\n",
    "    imp_df['gain'] = clf.feature_importances_\n",
    "    imp_df['fold'] = fold_ + 1\n",
    "    importances_ext = pd.concat([importances_ext, imp_df], axis = 0, sort = False)\n",
    "    \n",
    "    # clean up\n",
    "    gc.collect()\n",
    "    \n",
    "# print performance\n",
    "print('')\n",
    "print('MULTI-WEIGHTED LOG-LOSS : %.5f ' % multi_weighted_logloss(y_true = y_ext, y_preds = oof_preds_ext)[1])\n",
    "print('Done in %5.1f minutes' % ((time.time() - start) / 60))\n",
    " \n",
    "# 0.71755\n",
    "# 0.71878"
   ]
  },
  {
   "cell_type": "code",
   "execution_count": 17,
   "metadata": {
    "_uuid": "fdcb55ef10807adf76c12079b4871ce8dcf1a71a",
    "scrolled": false
   },
   "outputs": [
    {
     "data": {
      "image/png": "[encoded data removed]",
      "text/plain": [
       "<Figure size 576x432 with 2 Axes>"
      ]
     },
     "metadata": {},
     "output_type": "display_data"
    }
   ],
   "source": [
    "##### CONFUSION MATRIX\n",
    "\n",
    "# preparations\n",
    "tmp = np.argmax(oof_preds_ext, axis = 1)\n",
    "y_pred = []\n",
    "for i in tmp:\n",
    "    y_pred.append(classes_ext[i])\n",
    "y_pred = pd.Series(y_pred)\n",
    "\n",
    "# construct confusion matrx\n",
    "cm = confusion_matrix(y_ext, y_pred, labels = classes_ext)\n",
    "cm = cm.astype('float') / cm.sum(axis = 1)[:, np.newaxis]\n",
    "annot = np.around(cm, 2)\n",
    "\n",
    "# plot matrix\n",
    "fig, ax = plt.subplots(figsize = (8, 6))\n",
    "sns.heatmap(cm, xticklabels = classes_ext, yticklabels = classes_ext, cmap = 'Blues', annot = annot, lw = 0.5)\n",
    "ax.set_xlabel('Predicted Label')\n",
    "ax.set_ylabel('True Label')\n",
    "ax.set_aspect('equal')"
   ]
  },
  {
   "cell_type": "markdown",
   "metadata": {
    "_uuid": "346744e27a92b2bbb99b73a9d7c83dba4d61d813"
   },
   "source": [
    "## OVERALL PERFORMANCE"
   ]
  },
  {
   "cell_type": "code",
   "execution_count": 18,
   "metadata": {
    "_uuid": "9261c3873a5643cf8a40fd60fd002d5e131fe59d"
   },
   "outputs": [],
   "source": [
    "### LOSS FUNCTION\n",
    "def multi_weighted_logloss(y_true, y_preds):\n",
    "    \n",
    "    # classes\n",
    "    classes = [6, 15, 16, 42, 52, 53, 62, 64, 65, 67, 88, 90, 92, 95]\n",
    "    class_weight = {6: 1, 15: 1, 16: 1, 42: 1, 52: 1, 53: 1, 62: 1, 64: 1, 65: 1, 67: 1, 88: 1, 90: 1, 92: 1, 95: 1}\n",
    "    \n",
    "    # reshape\n",
    "    y_p = y_preds.reshape(y_true.shape[0], len(classes), order = 'F')\n",
    "    \n",
    "    # Trasform y_true in dummies\n",
    "    y_ohe = pd.get_dummies(y_true)\n",
    "    \n",
    "    # Normalize rows and limit y_preds to 1e-15, 1-1e-15\n",
    "    y_p = np.clip(a=y_p, a_min=1e-15, a_max=1-1e-15)\n",
    "    \n",
    "    # Transform to log\n",
    "    y_p_log = np.log(y_p)\n",
    "    \n",
    "    # Get the log for ones, .values is used to drop the index of DataFrames\n",
    "    # Exclude class 99 for now, since there is no class99 in the training set \n",
    "    y_log_ones = np.sum(y_ohe.values * y_p_log, axis = 0)\n",
    "    \n",
    "    # Get the number of positives for each class\n",
    "    nb_pos = y_ohe.sum(axis = 0).values.astype(float)\n",
    "    \n",
    "    # Weight average and divide by the number of positives\n",
    "    class_arr = np.array([class_weight[k] for k in sorted(class_weight.keys())])\n",
    "    y_w = y_log_ones * class_arr / nb_pos\n",
    "    loss = - np.sum(y_w) / np.sum(class_arr)\n",
    "    \n",
    "    return 'wloss', loss, False"
   ]
  },
  {
   "cell_type": "code",
   "execution_count": 19,
   "metadata": {
    "_uuid": "81e8ccb1f5eaf214eb79995bf3c881407132e2a2"
   },
   "outputs": [],
   "source": [
    "# merge predictions\n",
    "pd_gal = pd.DataFrame(oof_preds_gal, columns = classes_gal, index = y_gal.index)\n",
    "pd_ext = pd.DataFrame(oof_preds_ext, columns = classes_ext, index = y_ext.index)\n",
    "\n",
    "# transform predictions\n",
    "oof_preds = pd.concat([pd_gal, pd_ext], axis = 1)\n",
    "oof_preds.sort_index(axis = 1, inplace = True)\n",
    "oof_preds.fillna(0, inplace = True)\n",
    "\n",
    "# calibration\n",
    "#for cl in oof_preds.columns:\n",
    "#    oof_preds.loc[oof_preds[cl] < 0.05, cl] = oof_preds.loc[oof_preds[cl] < 0.05, cl]*1  # 0.85\n",
    "#    oof_preds.loc[oof_preds[cl] > 0.95, cl] = oof_preds.loc[oof_preds[cl] > 0.95, cl]*1  # 1.55\n",
    "    \n",
    "# reshape\n",
    "oof_preds_df = oof_preds.divide(oof_preds.sum(axis = 1), axis = 0)\n",
    "oof_preds = oof_preds_df.values\n",
    "\n",
    "# rounding\n",
    "#oof_preds = np.round(oof_preds, decimals = 4)"
   ]
  },
  {
   "cell_type": "code",
   "execution_count": 20,
   "metadata": {
    "_uuid": "79946614084351dab7522061cbe744136569f648"
   },
   "outputs": [
    {
     "name": "stdout",
     "output_type": "stream",
     "text": [
      "MULTI-WEIGHTED LOG-LOSS : 0.45979 \n"
     ]
    }
   ],
   "source": [
    "##### EVALUATE PERFORMANCE\n",
    "\n",
    "# print log-loss\n",
    "cv_perf = multi_weighted_logloss(y_true = y, y_preds = oof_preds)[1]\n",
    "print('MULTI-WEIGHTED LOG-LOSS : %.5f ' % cv_perf)\n",
    "\n",
    "# 0.47045\n",
    "# 0.47018\n",
    "# 0.46916"
   ]
  },
  {
   "cell_type": "code",
   "execution_count": 21,
   "metadata": {
    "_uuid": "4bcb98af6c8e58a100c1cf7b889482ae7b48b590"
   },
   "outputs": [
    {
     "data": {
      "image/png": "[encoded data removed]",
      "text/plain": [
       "<Figure size 720x576 with 2 Axes>"
      ]
     },
     "metadata": {},
     "output_type": "display_data"
    }
   ],
   "source": [
    "##### CONFUSION MATRIX\n",
    "\n",
    "# preparations\n",
    "tmp = np.argmax(oof_preds, axis = 1)\n",
    "y_pred = []\n",
    "for i in tmp:\n",
    "    y_pred.append(classes[i])\n",
    "y_pred = pd.Series(y_pred)\n",
    "\n",
    "# construct confusion matrx\n",
    "cm = confusion_matrix(y, y_pred, labels = classes)\n",
    "cm = cm.astype('float') / cm.sum(axis = 1)[:, np.newaxis]\n",
    "annot = np.around(cm, 2)\n",
    "\n",
    "# plot matrix\n",
    "fig, ax = plt.subplots(figsize = (10,8))\n",
    "sns.heatmap(cm, xticklabels = classes, yticklabels = classes, cmap = 'Blues', annot = annot, lw = 0.5)\n",
    "ax.set_xlabel('Predicted Label')\n",
    "ax.set_ylabel('True Label')\n",
    "ax.set_aspect('equal')\n",
    "fig.savefig('../confusion_matrix.pdf')"
   ]
  },
  {
   "cell_type": "markdown",
   "metadata": {
    "_uuid": "0caa1fc29c48dc0b35967cd9cad1eb3a306b7864"
   },
   "source": [
    "# 4. PREDICTIONS"
   ]
  },
  {
   "cell_type": "markdown",
   "metadata": {
    "_uuid": "4495d1f8ef9e8088be54c4a8b2c22ac222db8592"
   },
   "source": [
    "## CONSTRUCTING TEST DATA"
   ]
  },
  {
   "cell_type": "code",
   "execution_count": 22,
   "metadata": {},
   "outputs": [],
   "source": [
    "### IMPORT READY DATA\n",
    "meta_test = pd.read_csv('../input/test_set_metadata.csv')\n",
    "meta_test = meta_test.sort_values('object_id')\n",
    "del meta_test['hostgal_specz']"
   ]
  },
  {
   "cell_type": "code",
   "execution_count": 23,
   "metadata": {},
   "outputs": [
    {
     "name": "stdout",
     "output_type": "stream",
     "text": [
      "Number of stacking models: 2\n",
      "Data shape: (3492890, 32)\n"
     ]
    }
   ],
   "source": [
    "### IMPORT TEST PREDS\n",
    "for name in names:\n",
    "\n",
    "    tmp = pd.read_csv('../submissions/' + str(name))\n",
    "    tmp.columns = [str(name) + '_' + str(l.replace('class_', '')) for l in list(tmp.columns)]\n",
    "    \n",
    "    if name == names[0]:     \n",
    "        full_test = tmp\n",
    "        \n",
    "    else:\n",
    "        full_test = pd.concat([full_test, tmp], axis = 1)\n",
    "        \n",
    "print('Number of stacking models:', len(names))\n",
    "print('Data shape:', full_test.shape)"
   ]
  },
  {
   "cell_type": "code",
   "execution_count": 24,
   "metadata": {
    "_uuid": "88ac2f292a1afa907c3e28366e0e41c2bbaf582b"
   },
   "outputs": [],
   "source": [
    "### PARTITIONING\n",
    "\n",
    "# partition the data\n",
    "full_test_gal = full_test[meta_test.hostgal_photoz == 0]\n",
    "full_test_ext = full_test[meta_test.hostgal_photoz != 0]\n",
    "\n",
    "# clear memory\n",
    "del full_test"
   ]
  },
  {
   "cell_type": "markdown",
   "metadata": {
    "_uuid": "4af6c4566cbc80828e60bd38c3d042e21bac408d"
   },
   "source": [
    "## PREDICTIONS"
   ]
  },
  {
   "cell_type": "code",
   "execution_count": 25,
   "metadata": {
    "_uuid": "d21b53dbc875e2c3de6490cc7d9f1b7ce10adbfb"
   },
   "outputs": [
    {
     "name": "stdout",
     "output_type": "stream",
     "text": [
      "Predictions shape:  (390510, 7)\n",
      "Done in   0.9 minutes\n"
     ]
    }
   ],
   "source": [
    "### PREDICT GALACTIC OBJECTS\n",
    "\n",
    "# make predictions\n",
    "start  = time.time()\n",
    "preds_gal = None\n",
    "for clf in clfs_gal:\n",
    "    if preds_gal is None:\n",
    "        preds_gal =  clf.predict_proba(full_test_gal[features_gal], num_iteration = clf.best_iteration_) / (folds.n_splits)\n",
    "    else:\n",
    "        preds_gal += clf.predict_proba(full_test_gal[features_gal], num_iteration = clf.best_iteration_) / (folds.n_splits)\n",
    "\n",
    "# class 99 preds\n",
    "preds_99 = np.ones(preds_gal.shape[0])\n",
    "for i in range(preds_gal.shape[1]):\n",
    "    preds_99 *= (1 - preds_gal[:, i])\n",
    "\n",
    "# store predictions\n",
    "preds_df_gal = pd.DataFrame(preds_gal, columns = ['class_' + str(s) for s in clfs_gal[0].classes_])\n",
    "preds_df_gal['object_id'] = meta_test['object_id'][meta_test.hostgal_photoz == 0].values\n",
    "preds_df_gal['class_99'] = preds_99\n",
    "preds_df_gal['class_99'] = 0.18 * preds_99 / np.mean(preds_99)\n",
    "\n",
    "# clean up\n",
    "gc.collect()\n",
    "print('Predictions shape: ', preds_df_gal.shape)\n",
    "print('Done in %5.1f minutes' % ((time.time() - start) / 60))"
   ]
  },
  {
   "cell_type": "code",
   "execution_count": 26,
   "metadata": {
    "_uuid": "02d3ee24a83713923c12c2af746212bebd169f4f"
   },
   "outputs": [
    {
     "name": "stdout",
     "output_type": "stream",
     "text": [
      "Predictions shape:  (3102380, 11)\n",
      "Done in   8.9 minutes\n"
     ]
    }
   ],
   "source": [
    "### PREDICT EXTRAGALACTIC OBJECTS\n",
    "\n",
    "# make predictions\n",
    "start  = time.time()\n",
    "preds_ext = None\n",
    "for clf in clfs_ext:\n",
    "    if preds_ext is None:\n",
    "        preds_ext =  clf.predict_proba(full_test_ext[features_ext], num_iteration = clf.best_iteration_) / (folds.n_splits)\n",
    "    else:\n",
    "        preds_ext += clf.predict_proba(full_test_ext[features_ext], num_iteration = clf.best_iteration_) / (folds.n_splits)\n",
    "\n",
    "# class 99 preds\n",
    "preds_99 = np.ones(preds_ext.shape[0])\n",
    "for i in range(preds_ext.shape[1]):\n",
    "    preds_99 *= (1 - preds_ext[:, i])\n",
    "\n",
    "# store predictions\n",
    "preds_df_ext = pd.DataFrame(preds_ext, columns = ['class_' + str(s) for s in clfs_ext[0].classes_])\n",
    "preds_df_ext['object_id'] = meta_test['object_id'][meta_test.hostgal_photoz != 0].values\n",
    "preds_df_ext['class_99'] = preds_99\n",
    "preds_df_ext['class_99'] = 0.18 * preds_99 / np.mean(preds_99)\n",
    "\n",
    "# clean up\n",
    "gc.collect()\n",
    "print('Predictions shape: ', preds_df_ext.shape)\n",
    "print('Done in %5.1f minutes' % ((time.time() - start) / 60))"
   ]
  },
  {
   "cell_type": "markdown",
   "metadata": {
    "_uuid": "a0fd0de1bcd933e5bc32384283eb5325f1959f1b"
   },
   "source": [
    "# 6. CALIBRATION"
   ]
  },
  {
   "cell_type": "code",
   "execution_count": 27,
   "metadata": {
    "_uuid": "d6982cdbd725f3713ae924700cef539f64d1ffb1"
   },
   "outputs": [],
   "source": [
    "# merge predictions\n",
    "sub = pd.concat([preds_df_gal, preds_df_ext], axis = 0)\n",
    "sub = sub.sort_values('object_id', ascending = True)\n",
    "sub.fillna(0, inplace = True)"
   ]
  },
  {
   "cell_type": "code",
   "execution_count": 28,
   "metadata": {},
   "outputs": [],
   "source": [
    "# sort and reindex\n",
    "sub = sub.sort_values('object_id', ascending = True)\n",
    "sub = sub.sort_index(axis = 1)\n",
    "sub = sub.reset_index(drop = True)"
   ]
  },
  {
   "cell_type": "code",
   "execution_count": 29,
   "metadata": {},
   "outputs": [],
   "source": [
    "# null values for galactic / extragalactic\n",
    "meta_test = pd.read_csv('../input/test_set_metadata.csv')\n",
    "meta_test = meta_test.sort_values('object_id')\n",
    "\n",
    "for cl in ['class_15', 'class_42', 'class_52', 'class_62', 'class_64', 'class_67', 'class_88', 'class_90', 'class_95']:\n",
    "    sub.loc[meta_test.hostgal_photoz == 0, cl] = 0\n",
    "\n",
    "for cl in ['class_6', 'class_16', 'class_53', 'class_65', 'class_92']:\n",
    "    sub.loc[meta_test.hostgal_photoz != 0, cl] = 0"
   ]
  },
  {
   "cell_type": "code",
   "execution_count": 30,
   "metadata": {},
   "outputs": [],
   "source": [
    "# normalize sum to unity\n",
    "sums = sub[['class_6', 'class_15', 'class_16', 'class_42', 'class_52', 'class_53', 'class_62', 'class_64', 'class_65', 'class_67', 'class_88', 'class_90', 'class_92', 'class_95']].sum(axis = 1)\n",
    "for cl in ['class_6', 'class_15', 'class_16', 'class_42', 'class_52', 'class_53', 'class_62', 'class_64', 'class_65', 'class_67', 'class_88', 'class_90', 'class_92', 'class_95']:\n",
    "    sub[cl] = sub[cl] / sums"
   ]
  },
  {
   "cell_type": "code",
   "execution_count": 31,
   "metadata": {},
   "outputs": [],
   "source": [
    "### class 99 computation: Scripus version\n",
    "def GenUnknown(data):\n",
    "    return ((((((data[\"mymedian\"]) + (((data[\"mymean\"]) / 2.0)))/2.0)) + (((((1.0) - (((data[\"mymax\"]) * (((data[\"mymax\"]) * (data[\"mymax\"]))))))) / 2.0)))/2.0)\n",
    "\n",
    "feats = ['class_6', 'class_15', 'class_16', 'class_42', 'class_52', 'class_53', 'class_62', 'class_64', 'class_65', 'class_67', 'class_88', 'class_90', 'class_92', 'class_95']\n",
    "\n",
    "y = pd.DataFrame()\n",
    "y['mymean']   = sub[feats].mean(axis=1)\n",
    "y['mymedian'] = sub[feats].median(axis=1)\n",
    "y['mymax']    = sub[feats].max(axis=1)\n",
    "\n",
    "sub['class_99'] = GenUnknown(y)"
   ]
  },
  {
   "cell_type": "markdown",
   "metadata": {
    "_uuid": "a0fd0de1bcd933e5bc32384283eb5325f1959f1b"
   },
   "source": [
    "# 7. SUBMISSION"
   ]
  },
  {
   "cell_type": "code",
   "execution_count": 34,
   "metadata": {},
   "outputs": [],
   "source": [
    "# file name\n",
    "model = 'stack_2level_20f'\n",
    "perf  = str(round(cv_perf, 5))[2:7]\n",
    "name  = model + '_' + perf"
   ]
  },
  {
   "cell_type": "code",
   "execution_count": 35,
   "metadata": {
    "_uuid": "ab549b5d9fc196d47d2a5d7b73f241dda07cdd8c"
   },
   "outputs": [
    {
     "data": {
      "text/plain": [
       "(3492890, 16)"
      ]
     },
     "execution_count": 35,
     "metadata": {},
     "output_type": "execute_result"
    }
   ],
   "source": [
    "# export submission\n",
    "sub.to_csv('../submissions/' + str(name) + '.csv', index = False)\n",
    "sub.shape"
   ]
  }
 ],
 "metadata": {
  "kernelspec": {
   "display_name": "Python 3",
   "language": "python",
   "name": "python3"
  },
  "language_info": {
   "codemirror_mode": {
    "name": "ipython",
    "version": 3
   },
   "file_extension": ".py",
   "mimetype": "text/x-python",
   "name": "python",
   "nbconvert_exporter": "python",
   "pygments_lexer": "ipython3",
   "version": "3.6.5"
  }
 },
 "nbformat": 4,
 "nbformat_minor": 2
}
