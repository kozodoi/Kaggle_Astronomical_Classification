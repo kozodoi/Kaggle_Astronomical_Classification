{
 "cells": [
  {
   "cell_type": "markdown",
   "metadata": {
    "_uuid": "88325efe6e1e90c58e37029f398efd794ecd7ecc"
   },
   "source": [
    "# 1. SETTINGS"
   ]
  },
  {
   "cell_type": "code",
   "execution_count": 19,
   "metadata": {
    "_cell_guid": "b1076dfc-b9ad-4769-8c92-a6c4dae69d19",
    "_uuid": "8f2839f25d086af736a60e9eeb907d3b93b6e0e5"
   },
   "outputs": [],
   "source": [
    "import numpy as np\n",
    "import pandas as pd\n",
    "pd.set_option(\"display.max_columns\", None)\n",
    "\n",
    "import matplotlib.pyplot as plt\n",
    "import seaborn as sns \n",
    "\n",
    "import lightgbm as lgb\n",
    "\n",
    "import os\n",
    "import time\n",
    "import multiprocessing\n",
    "\n",
    "from sklearn.ensemble import ExtraTreesClassifier\n",
    "from sklearn.metrics import log_loss\n",
    "from sklearn.model_selection import StratifiedKFold\n",
    "from sklearn.metrics import confusion_matrix\n",
    "from sklearn.decomposition import PCA\n",
    "from sklearn.preprocessing import StandardScaler\n",
    "from sklearn.manifold import TSNE\n",
    "\n",
    "import tsfresh\n",
    "from tsfresh import extract_features\n",
    "from tsfresh.utilities.dataframe_functions import impute\n",
    "\n",
    "import warnings\n",
    "warnings.filterwarnings('ignore')\n",
    "\n",
    "import gc\n",
    "gc.enable()"
   ]
  },
  {
   "cell_type": "markdown",
   "metadata": {
    "_uuid": "587f72a72010fb4fda2531642aff592e0f68cab1"
   },
   "source": [
    "# 2. DATA PREPARATION"
   ]
  },
  {
   "cell_type": "markdown",
   "metadata": {
    "_uuid": "6b10269d3c0f0024596ce80fec38c63ccdd4dd6a"
   },
   "source": [
    "## FUNCTIONS FOR FEATURE EXTRACTION"
   ]
  },
  {
   "cell_type": "code",
   "execution_count": 20,
   "metadata": {
    "_uuid": "124b623c6364c7707b5d51d5926ce74eacf8f082"
   },
   "outputs": [],
   "source": [
    "### FUNCTION 1\n",
    "def add_stats(agg_data, data, var):\n",
    "    \n",
    "    # grouped data for all features\n",
    "    data_grouped = data.groupby(['object_id', 'passband'])[var]\n",
    "\n",
    "    # compute quantiles\n",
    "    for quant in [0.1, 0.25, 0.75, 0.9]:\n",
    "        tmp = data_grouped.quantile(quant).reset_index()\n",
    "        tmp.columns = ['object_id', 'passband', str(var) + '_q' + str(quant)[2]]\n",
    "        agg_data = agg_data.merge(tmp, how = 'left', on = ['object_id', 'passband'])\n",
    "        \n",
    "    # kurtosis\n",
    "    tmp = data_grouped.apply(lambda x: x.kurtosis()).reset_index()\n",
    "    tmp.columns = ['object_id', 'passband', str(var) + '_kurtosis']\n",
    "    agg_data = agg_data.merge(tmp, how = 'left', on = ['object_id', 'passband'])\n",
    "\n",
    "    # skewness\n",
    "    tmp = data_grouped.apply(lambda x: x.skew()).reset_index()\n",
    "    tmp.columns = ['object_id', 'passband', str(var) + '_skew']\n",
    "    agg_data = agg_data.merge(tmp, how = 'left', on = ['object_id', 'passband'])\n",
    "    \n",
    "    # autocorrelation\n",
    "    tmp = data_grouped.apply(lambda x: x.autocorr(1)).reset_index()\n",
    "    tmp.columns = ['object_id', 'passband', str(var) + '_autocorr']\n",
    "    agg_data = agg_data.merge(tmp, how = 'left', on = ['object_id', 'passband'])\n",
    "    \n",
    "    # sample entropy\n",
    "    tmp = data_grouped.apply(lambda x: tsfresh.feature_extraction.feature_calculators.sample_entropy(x)).reset_index()\n",
    "    tmp.columns = ['object_id', 'passband', str(var) + '_sample_entropy']\n",
    "    agg_data = agg_data.merge(tmp, how = 'left', on = ['object_id', 'passband'])\n",
    "    \n",
    "    # abs energy\n",
    "    tmp = data_grouped.apply(lambda x: tsfresh.feature_extraction.feature_calculators.abs_energy(x)).reset_index()\n",
    "    tmp.columns = ['object_id', 'passband', str(var) + '_abs_energy']\n",
    "    agg_data = agg_data.merge(tmp, how = 'left', on = ['object_id', 'passband'])\n",
    "    \n",
    "    # number of peaks\n",
    "    tmp = data_grouped.apply(lambda x: tsfresh.feature_extraction.feature_calculators.number_peaks(x, 1)).reset_index()\n",
    "    tmp.columns = ['object_id', 'passband', str(var) + '_number_peaks']\n",
    "    agg_data = agg_data.merge(tmp, how = 'left', on = ['object_id', 'passband'])\n",
    "    \n",
    "    # longest strike\n",
    "    tmp = data_grouped.apply(lambda x: tsfresh.feature_extraction.feature_calculators.longest_strike_above_mean(x)).reset_index()\n",
    "    tmp.columns = ['object_id', 'passband', str(var) + '_longest_strike_above_mean']\n",
    "    agg_data = agg_data.merge(tmp, how = 'left', on = ['object_id', 'passband'])\n",
    "\n",
    "    # clean up\n",
    "    gc.collect()\n",
    "\n",
    "    # return\n",
    "    return agg_data"
   ]
  },
  {
   "cell_type": "code",
   "execution_count": 21,
   "metadata": {
    "_uuid": "2d70075b62588b66bed85cb91ee1cb97e1038e8b"
   },
   "outputs": [],
   "source": [
    "### FUNCTION 2\n",
    "def add_features(df):\n",
    "    \n",
    "    # sort values\n",
    "    df = df.sort_values(by = ['object_id', 'passband', 'mjd'])\n",
    "  \n",
    "\n",
    "    ### AGGREGATIONS\n",
    "    \n",
    "    # flux ratios\n",
    "    df['flux_ratio_sq'] = np.power(df['flux'] / df['flux_err'], 2.0)\n",
    "    df['flux_by_flux_ratio_sq'] = df['flux'] * df['flux_ratio_sq']\n",
    "          \n",
    "    # flux difference\n",
    "    df['flux_diff'] = df.groupby(['object_id', 'passband']).flux.diff()\n",
    "    df['flux_diff_pos'] = df['flux_diff']\n",
    "    df['flux_diff_neg'] = df['flux_diff']\n",
    "    df.loc[df.flux_diff > 0, 'flux_diff_neg'] = 0\n",
    "    df.loc[df.detected <= 0, 'flux_diff_neg'] = 1\n",
    "    df.loc[df.flux_diff > 0, 'flux_diff_pos'] = 1\n",
    "    df.loc[df.detected <= 0, 'flux_diff_pos'] = 0\n",
    "    \n",
    "    # drop mjd without spikes\n",
    "    df.loc[df.detected == 0, 'mjd'] = np.nan\n",
    "\n",
    "    # detected flux\n",
    "    df['detected_flux'] = df['flux']\n",
    "    df.loc[df.detected == 0, 'detected_flux'] = np.nan\n",
    "\n",
    "    # set aggregations\n",
    "    aggs = {\n",
    "        'mjd':                   ['min', 'max'],\n",
    "        'flux':                  ['min', 'max', 'mean', 'median', 'std', 'var'],\n",
    "        'detected_flux':         ['min', 'max', 'mean', 'median', 'std', 'var', 'skew'],\n",
    "        'flux_diff':             ['min', 'max', 'mean', 'median', 'std', 'var', 'skew'],\n",
    "        'flux_diff_pos':         ['mean', 'sum'],\n",
    "        'flux_diff_neg':         ['mean', 'sum'],\n",
    "        'flux_err':              ['min', 'max', 'mean', 'median', 'std', 'skew'],\n",
    "        'detected':              ['mean', 'sum'],\n",
    "        'flux_ratio_sq':         ['mean'],\n",
    "        'flux_by_flux_ratio_sq': ['mean']\n",
    "    }\n",
    "\n",
    "    # aggregations\n",
    "    agg_df = df.groupby(['object_id', 'passband']).agg(aggs)\n",
    "    new_columns = [k + '_' + agg for k in aggs.keys() for agg in aggs[k]]\n",
    "    agg_df.columns = new_columns\n",
    "    agg_df = agg_df.reset_index()\n",
    " \n",
    "\n",
    "    ### EXTRA FEATURES\n",
    "  \n",
    "    # time range\n",
    "    agg_df['mjd_diff'] = agg_df['mjd_max'] - agg_df['mjd_min']\n",
    "    del agg_df['mjd_max'], agg_df['mjd_min']\n",
    "    \n",
    "    # flux features\n",
    "    agg_df['flux_w_mean'] = agg_df['flux_by_flux_ratio_sq_mean'] / agg_df['flux_ratio_sq_mean']\n",
    "    agg_df['flux_dif1']   = agg_df['flux_max'] - agg_df['flux_min']\n",
    "    agg_df['flux_dif2']   = (agg_df['flux_max'] - agg_df['flux_min']) / agg_df['flux_mean']\n",
    "    agg_df['flux_dif3']   = (agg_df['flux_max'] - agg_df['flux_min']) / agg_df['flux_w_mean']\n",
    "\n",
    "    \n",
    "    ### TIME SERIES STATS\n",
    "    \n",
    "    # add stats\n",
    "    agg_df = add_stats(agg_df, df, var = 'flux')\n",
    "\n",
    "    # reshape to wide\n",
    "    agg_df = agg_df.pivot(index = 'object_id', columns = 'passband')\n",
    "    agg_df.columns = [\"_p\".join(map(str, col)) for col in agg_df.columns.values]\n",
    "    \n",
    "    # add object-specific vars\n",
    "    dat = df[df.detected == 1]\n",
    "    aggs = {\n",
    "            'mjd':  ['min', 'max'],\n",
    "            'flux': ['min', 'max', 'mean', 'median', 'std', 'var', 'skew'],\n",
    "            'detected':  ['sum'],\n",
    "            }\n",
    "    dat = dat.groupby(['object_id']).agg(aggs)\n",
    "    new_columns = [k + '_obj_' + agg for k in aggs.keys() for agg in aggs[k]]\n",
    "    dat.columns = new_columns\n",
    "    dat = dat.reset_index()\n",
    "    dat['mjd_obj_diff'] = dat['mjd_obj_max'] - dat['mjd_obj_min']\n",
    "    del dat['mjd_obj_max'], dat['mjd_obj_min']\n",
    "    agg_df = agg_df.merge(dat, how = 'left', on = 'object_id')\n",
    "        \n",
    "    # clean up\n",
    "    gc.collect()\n",
    "    \n",
    "    # return\n",
    "    return agg_df"
   ]
  },
  {
   "cell_type": "code",
   "execution_count": 22,
   "metadata": {
    "_uuid": "e1a58aef3f989d02b2a4dc1400823f1f1bd137ec"
   },
   "outputs": [],
   "source": [
    "### FUNCTION 3\n",
    "def add_passband_ratios(data):\n",
    "    \n",
    "    # ratio loop \n",
    "    for pas in [1,2,3,4,5]:\n",
    "        data['p'+str(pas)+'_p0_mean_ratio'] = data['flux_mean_p'+str(pas)] / data['flux_mean_p0']\n",
    "        data['p'+str(pas)+'_p0_min_ratio'] = data['flux_min_p'+str(pas)] / data['flux_min_p0']\n",
    "        data['p'+str(pas)+'_p0_max_ratio'] = data['flux_max_p'+str(pas)] / data['flux_max_p0']\n",
    "        data['p'+str(pas)+'_p0_detected_ratio'] = data['detected_sum_p'+str(pas)] / data['detected_sum_p0']\n",
    "        data['p'+str(pas)+'_p0_d_mean_ratio'] = data['flux_diff_mean_p'+str(pas)] / data['flux_diff_mean_p0']\n",
    "        data['p'+str(pas)+'_p0_d_min_ratio'] = data['flux_diff_min_p'+str(pas)] / data['flux_diff_min_p0']\n",
    "        data['p'+str(pas)+'_p0_d_max_ratio'] = data['flux_diff_max_p'+str(pas)] / data['flux_diff_max_p0']\n",
    "        data['p'+str(pas)+'_p0_e_mean_ratio'] = data['flux_err_mean_p'+str(pas)] / data['flux_err_mean_p0']\n",
    "        data['p'+str(pas)+'_p0_e_min_ratio'] = data['flux_err_min_p'+str(pas)] / data['flux_err_min_p0']\n",
    "        data['p'+str(pas)+'_p0_e_max_ratio'] = data['flux_err_max_p'+str(pas)] / data['flux_err_max_p0']\n",
    "\n",
    "    # ratio loop \n",
    "    for pas in [2,3,4,5]:\n",
    "        data['p'+str(pas)+'_p1_mean_ratio'] = data['flux_mean_p'+str(pas)] / data['flux_mean_p1']\n",
    "        data['p'+str(pas)+'_p1_min_ratio'] = data['flux_min_p'+str(pas)] / data['flux_min_p1']\n",
    "        data['p'+str(pas)+'_p1_max_ratio'] = data['flux_max_p'+str(pas)] / data['flux_max_p1']\n",
    "        data['p'+str(pas)+'_p1_detected_ratio'] = data['detected_sum_p'+str(pas)] / data['detected_sum_p1']\n",
    "        data['p'+str(pas)+'_p1_d_mean_ratio'] = data['flux_diff_mean_p'+str(pas)] / data['flux_diff_mean_p1']\n",
    "        data['p'+str(pas)+'_p1_d_min_ratio'] = data['flux_diff_min_p'+str(pas)] / data['flux_diff_min_p1']\n",
    "        data['p'+str(pas)+'_p1_d_max_ratio'] = data['flux_diff_max_p'+str(pas)] / data['flux_diff_max_p1']\n",
    "        data['p'+str(pas)+'_p1_e_mean_ratio'] = data['flux_err_mean_p'+str(pas)] / data['flux_err_mean_p1']\n",
    "        data['p'+str(pas)+'_p1_e_min_ratio'] = data['flux_err_min_p'+str(pas)] / data['flux_err_min_p1']\n",
    "        data['p'+str(pas)+'_p1_e_max_ratio'] = data['flux_err_max_p'+str(pas)] / data['flux_err_max_p1']\n",
    "\n",
    "    # ratio loop \n",
    "    for pas in [3,4,5]:\n",
    "        data['p'+str(pas)+'_p2_mean_ratio'] = data['flux_mean_p'+str(pas)] / data['flux_mean_p2']\n",
    "        data['p'+str(pas)+'_p2_min_ratio'] = data['flux_min_p'+str(pas)] / data['flux_min_p2']\n",
    "        data['p'+str(pas)+'_p2_max_ratio'] = data['flux_max_p'+str(pas)] / data['flux_max_p2']\n",
    "        data['p'+str(pas)+'_p2_detected_ratio'] = data['detected_sum_p'+str(pas)] / data['detected_sum_p2']\n",
    "        data['p'+str(pas)+'_p2_d_mean_ratio'] = data['flux_diff_mean_p'+str(pas)] / data['flux_diff_mean_p2']\n",
    "        data['p'+str(pas)+'_p2_d_min_ratio'] = data['flux_diff_min_p'+str(pas)] / data['flux_diff_min_p2']\n",
    "        data['p'+str(pas)+'_p2_d_max_ratio'] = data['flux_diff_max_p'+str(pas)] / data['flux_diff_max_p2']\n",
    "        data['p'+str(pas)+'_p2_e_mean_ratio'] = data['flux_err_mean_p'+str(pas)] / data['flux_err_mean_p2']\n",
    "        data['p'+str(pas)+'_p2_e_min_ratio'] = data['flux_err_min_p'+str(pas)] / data['flux_err_min_p2']\n",
    "        data['p'+str(pas)+'_p2_e_max_ratio'] = data['flux_err_max_p'+str(pas)] / data['flux_err_max_p2']\n",
    "\n",
    "    # ratio loop \n",
    "    for pas in [4,5]:\n",
    "        data['p'+str(pas)+'_p3_mean_ratio'] = data['flux_mean_p'+str(pas)] / data['flux_mean_p3']\n",
    "        data['p'+str(pas)+'_p3_min_ratio'] = data['flux_min_p'+str(pas)] / data['flux_min_p3']\n",
    "        data['p'+str(pas)+'_p3_max_ratio'] = data['flux_max_p'+str(pas)] / data['flux_max_p3']\n",
    "        data['p'+str(pas)+'_p3_detected_ratio'] = data['detected_sum_p'+str(pas)] / data['detected_sum_p3']\n",
    "        data['p'+str(pas)+'_p3_d_mean_ratio'] = data['flux_diff_mean_p'+str(pas)] / data['flux_diff_mean_p3']\n",
    "        data['p'+str(pas)+'_p3_d_min_ratio'] = data['flux_diff_min_p'+str(pas)] / data['flux_diff_min_p3']\n",
    "        data['p'+str(pas)+'_p3_d_max_ratio'] = data['flux_diff_max_p'+str(pas)] / data['flux_diff_max_p3']\n",
    "        data['p'+str(pas)+'_p3_e_mean_ratio'] = data['flux_err_mean_p'+str(pas)] / data['flux_err_mean_p3']\n",
    "        data['p'+str(pas)+'_p3_e_min_ratio'] = data['flux_err_min_p'+str(pas)] / data['flux_err_min_p3']\n",
    "        data['p'+str(pas)+'_p3_e_max_ratio'] = data['flux_err_max_p'+str(pas)] / data['flux_err_max_p3']\n",
    "\n",
    "    # ratio loop \n",
    "    for pas in [5]:\n",
    "        data['p'+str(pas)+'_p4_mean_ratio'] = data['flux_mean_p'+str(pas)] / data['flux_mean_p4']\n",
    "        data['p'+str(pas)+'_p4_min_ratio'] = data['flux_min_p'+str(pas)] / data['flux_min_p4']\n",
    "        data['p'+str(pas)+'_p4_max_ratio'] = data['flux_max_p'+str(pas)] / data['flux_max_p4']   \n",
    "        data['p'+str(pas)+'_p4_detected_ratio'] = data['detected_sum_p'+str(pas)] / data['detected_sum_p4'] \n",
    "        data['p'+str(pas)+'_p4_d_mean_ratio'] = data['flux_diff_mean_p'+str(pas)] / data['flux_diff_mean_p4']\n",
    "        data['p'+str(pas)+'_p4_d_min_ratio'] = data['flux_diff_min_p'+str(pas)] / data['flux_diff_min_p4']\n",
    "        data['p'+str(pas)+'_p4_d_max_ratio'] = data['flux_diff_max_p'+str(pas)] / data['flux_diff_max_p4']\n",
    "        data['p'+str(pas)+'_p4_e_mean_ratio'] = data['flux_err_mean_p'+str(pas)] / data['flux_err_mean_p4']\n",
    "        data['p'+str(pas)+'_p4_e_min_ratio'] = data['flux_err_min_p'+str(pas)] / data['flux_err_min_p4']\n",
    "        data['p'+str(pas)+'_p4_e_max_ratio'] = data['flux_err_max_p'+str(pas)] / data['flux_err_max_p4']\n",
    "\n",
    "    # clean up\n",
    "    gc.collect()\n",
    "\n",
    "    # return\n",
    "    return data"
   ]
  },
  {
   "cell_type": "code",
   "execution_count": 23,
   "metadata": {},
   "outputs": [],
   "source": [
    "### FUNCTION 4\n",
    "def remove_bands(df):\n",
    "    \n",
    "    ##### INDIVIDUAL VARIABLES\n",
    "    \n",
    "    # extract some bands\n",
    "    t2 = df.loc[:, df.columns.str.endswith('_p2')].divide(3)\n",
    "    t3 = df.loc[:, df.columns.str.endswith('_p3')].divide(3)\n",
    "    t4 = df.loc[:, df.columns.str.endswith('_p4')].divide(3)\n",
    "\n",
    "    # rename columns\n",
    "    t2.columns = [col.replace(\"_p2\", \"_p234\") for col in t2.columns]\n",
    "    t3.columns = [col.replace(\"_p3\", \"_p234\") for col in t3.columns]\n",
    "    t4.columns = [col.replace(\"_p4\", \"_p234\") for col in t4.columns]\n",
    "\n",
    "    # average\n",
    "    t234 = t2.add(t3)\n",
    "    t234 = t234.add(t4)\n",
    "\n",
    "    # remove individual bands\n",
    "    df = df.loc[:, ~df.columns.str.endswith('_p2')]\n",
    "    df = df.loc[:, ~df.columns.str.endswith('_p3')]\n",
    "    df = df.loc[:, ~df.columns.str.endswith('_p4')]\n",
    "\n",
    "    # merge averaged band\n",
    "    df = pd.concat([df, t234], axis = 1)\n",
    "    \n",
    "    \n",
    "    ##### PASSBAND RATIOS\n",
    "    \n",
    "    # extract some bands\n",
    "    t2 = df.filter(like = 'p2_p0').divide(3)\n",
    "    t3 = df.filter(like = 'p3_p0').divide(3)\n",
    "    t4 = df.filter(like = 'p4_p0').divide(3)\n",
    "\n",
    "    # rename columns\n",
    "    t2.columns = [col.replace(\"p2_p0\", \"p234_p0\") for col in t2.columns]\n",
    "    t3.columns = [col.replace(\"p3_p0\", \"p234_p0\") for col in t3.columns]\n",
    "    t4.columns = [col.replace(\"p4_p0\", \"p234_p0\") for col in t4.columns]\n",
    "\n",
    "    # average\n",
    "    t234 = t2.add(t3)\n",
    "    t234 = t234.add(t4)\n",
    "\n",
    "    # remove individual bands\n",
    "    #drops = list(df.filter(like = 'p2_p0').columns) + list(df.filter(like = 'p3_p0').columns) + list(df.filter(like = 'p4_p0').columns)\n",
    "    #keeps = [f for f in df.columns if f not in drops]\n",
    "    #df = df[keeps]\n",
    "\n",
    "    # merge averaged band\n",
    "    df = pd.concat([df, t234], axis = 1)\n",
    "        \n",
    "    return df"
   ]
  },
  {
   "cell_type": "markdown",
   "metadata": {
    "_uuid": "d819975ac7b393b1787a975f79b5feccaf8a81dc"
   },
   "source": [
    "## COMPUTING FEATURES"
   ]
  },
  {
   "cell_type": "raw",
   "metadata": {
    "_uuid": "631c418da4275fba3070f2a6cff3873d11591f95"
   },
   "source": [
    "### TRAIN DATA\n",
    "\n",
    "# import data\n",
    "start  = time.time()\n",
    "train = pd.read_csv('../input/training_set.csv')\n",
    "print('Shape after import: ', train.shape)\n",
    "\n",
    "# add features\n",
    "agg_train = add_features(train)\n",
    "del train\n",
    "\n",
    "# passband ratios\n",
    "agg_train = add_passband_ratios(agg_train)\n",
    "\n",
    "# print dimensions\n",
    "print('Shape after aggregations: ', agg_train.shape)\n",
    "\n",
    "\n",
    "### META DATA\n",
    "\n",
    "# import data\n",
    "meta_train = pd.read_csv('../input/training_set_metadata.csv')\n",
    "\n",
    "# merge data\n",
    "full_train = agg_train.merge(\n",
    "    right  = meta_train,\n",
    "    how    = 'left',\n",
    "    on     = 'object_id'\n",
    ")\n",
    "del meta_train, agg_train\n",
    "\n",
    "# print feedback\n",
    "print('Shape after preparation: ', full_train.shape)\n",
    "print('Done in %5.1f minutes' % ((time.time() - start) / 60))"
   ]
  },
  {
   "cell_type": "raw",
   "metadata": {
    "_uuid": "cabfdf4518a6b960f9839b2ef1757ab85345d7f3"
   },
   "source": [
    "# export data\n",
    "full_train.to_csv('../input/full_train_v10.csv', index = False)"
   ]
  },
  {
   "cell_type": "code",
   "execution_count": 24,
   "metadata": {
    "_uuid": "8c44c8a51973f096bc126ce235936f9ff0248a9c"
   },
   "outputs": [
    {
     "data": {
      "text/plain": [
       "(7848, 471)"
      ]
     },
     "execution_count": 24,
     "metadata": {},
     "output_type": "execute_result"
    }
   ],
   "source": [
    "### IMPORT READY DATA\n",
    "full_train = pd.read_csv('../input/full_train_v10.csv')\n",
    "full_train.shape"
   ]
  },
  {
   "cell_type": "code",
   "execution_count": 25,
   "metadata": {},
   "outputs": [
    {
     "data": {
      "text/plain": [
       "(7848, 485)"
      ]
     },
     "execution_count": 25,
     "metadata": {},
     "output_type": "execute_result"
    }
   ],
   "source": [
    "### AGGREGATED FLUX\n",
    "\n",
    "# import and merge\n",
    "aggflux = pd.read_csv('../input/agg_flux_train.csv')\n",
    "full_train = full_train.merge(aggflux, how = 'left', on = 'object_id')\n",
    "del aggflux\n",
    "full_train.shape"
   ]
  },
  {
   "cell_type": "code",
   "execution_count": 26,
   "metadata": {},
   "outputs": [
    {
     "data": {
      "text/plain": [
       "(7848, 509)"
      ]
     },
     "execution_count": 26,
     "metadata": {},
     "output_type": "execute_result"
    }
   ],
   "source": [
    "### CESIUM FEATURES\n",
    "\n",
    "# import new feats\n",
    "ces = pd.read_csv('../input/cesium_train.csv')\n",
    "ces.columns = ['object_id'] + ['ces_' + l.replace('__', '')[:-1] for l in list(ces.columns) if l not in 'object_id']\n",
    "\n",
    "# filter features\n",
    "ces_feats = ['object_id'] + list(ces.filter(like = 'max_slope').columns) + \\\n",
    "                            list(ces.filter(like = 'qso').columns) + \\\n",
    "                            list(ces.filter(like = 'percent_close_to_median').columns)\n",
    "ces = ces[ces_feats]\n",
    "\n",
    "# merge data\n",
    "full_train = full_train.merge(ces, how = 'left', on = 'object_id')\n",
    "del ces\n",
    "full_train.shape"
   ]
  },
  {
   "cell_type": "code",
   "execution_count": 27,
   "metadata": {},
   "outputs": [
    {
     "data": {
      "text/plain": [
       "(7848, 419)"
      ]
     },
     "execution_count": 27,
     "metadata": {},
     "output_type": "execute_result"
    }
   ],
   "source": [
    "### REMOVE BANDS\n",
    "full_train = remove_bands(full_train)\n",
    "full_train.shape"
   ]
  },
  {
   "cell_type": "raw",
   "metadata": {},
   "source": [
    "### BATCH-BASED FLUX\n",
    "\n",
    "# import and merge\n",
    "aggflux = pd.read_csv('../input/flux_batch_train.csv')\n",
    "aggflux_feats = ['object_id'] + list(aggflux.filter(like = 'batch_mean').columns)\n",
    "aggflux = aggflux[aggflux_feats]\n",
    "full_train = full_train.merge(aggflux, how = 'left', on = 'object_id')\n",
    "del aggflux\n",
    "full_train.shape"
   ]
  },
  {
   "cell_type": "raw",
   "metadata": {},
   "source": [
    "##### FEETS FEATURES\n",
    "\n",
    "# merge new feets\n",
    "feat = pd.read_csv('../input/train_feats.csv')\n",
    "#feat = feat[feat.passband.isin([0,1,2,3,4,5]\n",
    "\n",
    "rfeats = ['object_id', 'passband'] + list(feat.filter(like = 'CAR').columns) + \\\n",
    "                                     list(feat.filter(like = 'Period').columns) + \\\n",
    "                                     list(feat.filter(like = 'Autocor_length').columns) + \\\n",
    "                                     list(feat.filter(like = 'MaxSlope').columns)\n",
    "feat = feat[rfeats]\n",
    "\n",
    "feat = feat.pivot(index = 'object_id', columns = 'passband')\n",
    "feat.columns = [\"_p\".join(map(str, col)) for col in feat.columns.values]\n",
    "\n",
    "print(full_train.shape)\n",
    "full_train = full_train.merge(\n",
    "    right  = feat,\n",
    "    how    = 'left',\n",
    "    on     = 'object_id'\n",
    ")\n",
    "print(full_train.shape)"
   ]
  },
  {
   "cell_type": "code",
   "execution_count": 28,
   "metadata": {
    "_uuid": "2b6f79b71d0e9b62266a52d9e7ac209c56e14aff"
   },
   "outputs": [],
   "source": [
    "### PREPARATIONS\n",
    "\n",
    "# target encoding\n",
    "if 'target' in full_train:\n",
    "    y = full_train['target']\n",
    "    del full_train['target']\n",
    "classes = sorted(y.unique())\n",
    "\n",
    "# drop some features\n",
    "if 'object_id' in full_train:\n",
    "    oof_df = full_train[['object_id']]\n",
    "    del full_train['object_id'], full_train['hostgal_specz']"
   ]
  },
  {
   "cell_type": "raw",
   "metadata": {},
   "source": [
    "### CORRELATION HEATMAP\n",
    "corr = full_train.filter(like = 'flux').corr()\n",
    "plt.figure(figsize = (40, 40))\n",
    "sns.heatmap(corr, \n",
    "            xticklabels = corr.columns,\n",
    "            yticklabels = corr.columns)\n",
    "plt.tight_layout()\n",
    "plt.savefig('../heatmap.pdf')"
   ]
  },
  {
   "cell_type": "code",
   "execution_count": 29,
   "metadata": {
    "_uuid": "1ac6c8500bbc9b9a338292b86bd01362e25264d9"
   },
   "outputs": [],
   "source": [
    "### PARTITIONING\n",
    "\n",
    "# partition the data\n",
    "full_train_gal = full_train[full_train.hostgal_photoz == 0]\n",
    "full_train_ext = full_train[full_train.hostgal_photoz != 0]\n",
    "y_gal = y[full_train.hostgal_photoz == 0]\n",
    "y_ext = y[full_train.hostgal_photoz != 0]\n",
    "\n",
    "# impute missings with means\n",
    "train_mean = full_train.median(axis = 0)\n",
    "full_train_gal.fillna(train_mean, inplace = True)\n",
    "full_train_ext.fillna(train_mean, inplace = True)\n",
    "\n",
    "# save classes\n",
    "classes_gal = np.sort(y_gal.unique())\n",
    "classes_ext = np.sort(y_ext.unique())\n",
    "\n",
    "# clear memory\n",
    "del full_train"
   ]
  },
  {
   "cell_type": "markdown",
   "metadata": {
    "_uuid": "d413e67b3a8735ceeec25b2c3fc6b911d8646464"
   },
   "source": [
    "# 3. CROSS-VALIDATION"
   ]
  },
  {
   "cell_type": "markdown",
   "metadata": {
    "_uuid": "1e5143b3cb09f395e946bd4fdb63482bc1c542cc"
   },
   "source": [
    "## GALACTIC OBJECTS"
   ]
  },
  {
   "cell_type": "code",
   "execution_count": 30,
   "metadata": {
    "_uuid": "3f48baa0689486fdb7f1763ad7546e171f837de7"
   },
   "outputs": [
    {
     "name": "stdout",
     "output_type": "stream",
     "text": [
      "(2325, 328)\n"
     ]
    }
   ],
   "source": [
    "# exclude features\n",
    "excluded_feats_gal = list(full_train_gal.filter(like = 'flux_diff_pos').columns) + \\\n",
    "                     list(full_train_gal.filter(like = 'flux_diff_neg').columns) + \\\n",
    "                     list(full_train_gal.filter(like = 'detected_flux_skew').columns) + \\\n",
    "                     list(full_train_gal.filter(like = 'p234_p0').columns) + \\\n",
    "                     list(full_train_gal.filter(like = 'detected_ratio').columns) + \\\n",
    "                     list(full_train_gal.filter(like = 'ces_').columns) + \\\n",
    "                     list(full_train_gal.filter(like = '_obs_').columns) + \\\n",
    "                     list(full_train_gal.filter(like = 'CAR').columns) + \\\n",
    "                     ['hostgal_photoz', 'hostgal_photoz_err', 'distmod', 'decl', 'mwebv']\n",
    "features_gal = [f for f in full_train_gal.columns if f not in excluded_feats_gal]\n",
    "print(full_train_gal[features_gal].shape)"
   ]
  },
  {
   "cell_type": "code",
   "execution_count": 31,
   "metadata": {
    "_uuid": "7bf694d9e270c05e62cf6ea85da29bdf665f6f5b"
   },
   "outputs": [],
   "source": [
    "### LOSS FUNCTION\n",
    "def multi_weighted_logloss(y_true, y_preds):\n",
    "    \n",
    "    classes = [6, 16, 53, 65, 92]\n",
    "    class_weight = dict(((c, 1) for c in classes))\n",
    "    \n",
    "    # reshape\n",
    "    y_p = y_preds.reshape(y_true.shape[0], len(classes), order = 'F')\n",
    "    \n",
    "    # Trasform y_true in dummies\n",
    "    y_ohe = pd.get_dummies(y_true)\n",
    "    \n",
    "    # Normalize rows and limit y_preds to 1e-15, 1-1e-15\n",
    "    y_p = np.clip(a = y_p, a_min = 1e-15, a_max = 1-1e-15)\n",
    "    \n",
    "    # Transform to log\n",
    "    y_p_log = np.log(y_p)\n",
    "    \n",
    "    # Get the log for ones, .values is used to drop the index of DataFrames\n",
    "    # Exclude class 99 for now, since there is no class99 in the training set \n",
    "    y_log_ones = np.sum(y_ohe.values * y_p_log, axis = 0)\n",
    "    \n",
    "    # Get the number of positives for each class\n",
    "    nb_pos = y_ohe.sum(axis = 0).values.astype(float)\n",
    "    \n",
    "    # Weight average and divide by the number of positives\n",
    "    class_arr = np.array([class_weight[k] for k in sorted(class_weight.keys())])\n",
    "    y_w = y_log_ones * class_arr / nb_pos\n",
    "    loss = - np.sum(y_w) / np.sum(class_arr)\n",
    "    \n",
    "    return 'wloss', loss, False\n",
    "\n",
    "\n",
    "# recompute weights\n",
    "w_gal = y_gal.value_counts()\n",
    "weights_gal = {i : np.sum(w_gal) / w_gal[i] for i in w_gal.index}"
   ]
  },
  {
   "cell_type": "code",
   "execution_count": 32,
   "metadata": {
    "_uuid": "6f54311f6e36a0fcb7d6639c6c9368cbe4154873"
   },
   "outputs": [],
   "source": [
    "### PARAMETERS\n",
    "\n",
    "# LGB parameters\n",
    "lgb_params = {\n",
    "    'boosting_type':   'gbdt',\n",
    "    'objective':       'multiclass',\n",
    "    'num_class':        len(classes_gal),\n",
    "    'metric':          'multi_logloss',\n",
    "    'subsample':        0.9,\n",
    "    'colsample_bytree': 0.7,\n",
    "    'reg_alpha':        0.03,\n",
    "    'reg_lambda':       0.03,\n",
    "    'min_split_gain':   0.01,\n",
    "    'min_child_weight': 5,\n",
    "    'silent':           True,\n",
    "    'verbosity':        -1,\n",
    "    'learning_rate':    0.03,\n",
    "    'max_depth':        3,\n",
    "    'n_estimators':     5000,\n",
    "    'nthread' :         16\n",
    "}"
   ]
  },
  {
   "cell_type": "code",
   "execution_count": 33,
   "metadata": {
    "_uuid": "4e5e1ed34e0887b3c10b8e649abef15f44a34853",
    "scrolled": true
   },
   "outputs": [
    {
     "name": "stdout",
     "output_type": "stream",
     "text": [
      "Training until validation scores don't improve for 100 rounds.\n",
      "[100]\ttraining's multi_logloss: 0.10785\ttraining's wloss: 0.107893\tvalid_1's multi_logloss: 0.175662\tvalid_1's wloss: 0.162182\n",
      "[200]\ttraining's multi_logloss: 0.0140423\ttraining's wloss: 0.0140506\tvalid_1's multi_logloss: 0.0565197\tvalid_1's wloss: 0.0685264\n",
      "[300]\ttraining's multi_logloss: 0.00334558\ttraining's wloss: 0.00334785\tvalid_1's multi_logloss: 0.0387675\tvalid_1's wloss: 0.0609023\n",
      "[400]\ttraining's multi_logloss: 0.00172856\ttraining's wloss: 0.0017296\tvalid_1's multi_logloss: 0.0347791\tvalid_1's wloss: 0.0583167\n",
      "[500]\ttraining's multi_logloss: 0.00135009\ttraining's wloss: 0.00135086\tvalid_1's multi_logloss: 0.0344126\tvalid_1's wloss: 0.0583833\n",
      "Early stopping, best iteration is:\n",
      "[433]\ttraining's multi_logloss: 0.00156172\ttraining's wloss: 0.00156264\tvalid_1's multi_logloss: 0.0344376\tvalid_1's wloss: 0.0579558\n",
      "-------------------------------------\n",
      "Fold 1: LOG-LOSS = 0.05796\n",
      "-------------------------------------\n",
      "\n",
      "Training until validation scores don't improve for 100 rounds.\n",
      "[100]\ttraining's multi_logloss: 0.111824\ttraining's wloss: 0.11182\tvalid_1's multi_logloss: 0.146992\tvalid_1's wloss: 0.274985\n",
      "[200]\ttraining's multi_logloss: 0.0143165\ttraining's wloss: 0.0143157\tvalid_1's multi_logloss: 0.0422286\tvalid_1's wloss: 0.156854\n",
      "[300]\ttraining's multi_logloss: 0.00334985\ttraining's wloss: 0.0033496\tvalid_1's multi_logloss: 0.0260159\tvalid_1's wloss: 0.130549\n",
      "[400]\ttraining's multi_logloss: 0.00173986\ttraining's wloss: 0.00173975\tvalid_1's multi_logloss: 0.0225091\tvalid_1's wloss: 0.112088\n",
      "[500]\ttraining's multi_logloss: 0.00135487\ttraining's wloss: 0.00135479\tvalid_1's multi_logloss: 0.0210751\tvalid_1's wloss: 0.101251\n",
      "[600]\ttraining's multi_logloss: 0.00117883\ttraining's wloss: 0.00117877\tvalid_1's multi_logloss: 0.0205986\tvalid_1's wloss: 0.0959955\n",
      "[700]\ttraining's multi_logloss: 0.00105558\ttraining's wloss: 0.00105553\tvalid_1's multi_logloss: 0.0203302\tvalid_1's wloss: 0.0918571\n",
      "Early stopping, best iteration is:\n",
      "[695]\ttraining's multi_logloss: 0.0010593\ttraining's wloss: 0.00105925\tvalid_1's multi_logloss: 0.0202878\tvalid_1's wloss: 0.091904\n",
      "-------------------------------------\n",
      "Fold 2: LOG-LOSS = 0.0919\n",
      "-------------------------------------\n",
      "\n",
      "Training until validation scores don't improve for 100 rounds.\n",
      "[100]\ttraining's multi_logloss: 0.107804\ttraining's wloss: 0.1078\tvalid_1's multi_logloss: 0.174342\tvalid_1's wloss: 0.278281\n",
      "[200]\ttraining's multi_logloss: 0.0139935\ttraining's wloss: 0.0139927\tvalid_1's multi_logloss: 0.0525213\tvalid_1's wloss: 0.131317\n",
      "[300]\ttraining's multi_logloss: 0.00340576\ttraining's wloss: 0.0034055\tvalid_1's multi_logloss: 0.0280932\tvalid_1's wloss: 0.0888771\n",
      "[400]\ttraining's multi_logloss: 0.00175077\ttraining's wloss: 0.00175064\tvalid_1's multi_logloss: 0.0228417\tvalid_1's wloss: 0.0770752\n",
      "[500]\ttraining's multi_logloss: 0.00136488\ttraining's wloss: 0.0013648\tvalid_1's multi_logloss: 0.0211313\tvalid_1's wloss: 0.0746474\n",
      "[600]\ttraining's multi_logloss: 0.00118877\ttraining's wloss: 0.0011887\tvalid_1's multi_logloss: 0.0211726\tvalid_1's wloss: 0.0736052\n",
      "Early stopping, best iteration is:\n",
      "[510]\ttraining's multi_logloss: 0.00134395\ttraining's wloss: 0.00134387\tvalid_1's multi_logloss: 0.0211093\tvalid_1's wloss: 0.0740364\n",
      "-------------------------------------\n",
      "Fold 3: LOG-LOSS = 0.07404\n",
      "-------------------------------------\n",
      "\n",
      "Training until validation scores don't improve for 100 rounds.\n",
      "[100]\ttraining's multi_logloss: 0.110723\ttraining's wloss: 0.110718\tvalid_1's multi_logloss: 0.146837\tvalid_1's wloss: 0.175128\n",
      "[200]\ttraining's multi_logloss: 0.0143663\ttraining's wloss: 0.0143653\tvalid_1's multi_logloss: 0.0320063\tvalid_1's wloss: 0.0458791\n",
      "[300]\ttraining's multi_logloss: 0.00345295\ttraining's wloss: 0.00345265\tvalid_1's multi_logloss: 0.0157321\tvalid_1's wloss: 0.0272807\n",
      "[400]\ttraining's multi_logloss: 0.00175206\ttraining's wloss: 0.00175194\tvalid_1's multi_logloss: 0.0133573\tvalid_1's wloss: 0.0266678\n",
      "Early stopping, best iteration is:\n",
      "[344]\ttraining's multi_logloss: 0.00237628\ttraining's wloss: 0.00237609\tvalid_1's multi_logloss: 0.0137457\tvalid_1's wloss: 0.0256417\n",
      "-------------------------------------\n",
      "Fold 4: LOG-LOSS = 0.02564\n",
      "-------------------------------------\n",
      "\n",
      "Training until validation scores don't improve for 100 rounds.\n",
      "[100]\ttraining's multi_logloss: 0.107902\ttraining's wloss: 0.107895\tvalid_1's multi_logloss: 0.155018\tvalid_1's wloss: 0.192303\n",
      "[200]\ttraining's multi_logloss: 0.0139445\ttraining's wloss: 0.0139429\tvalid_1's multi_logloss: 0.0502309\tvalid_1's wloss: 0.0802191\n",
      "[300]\ttraining's multi_logloss: 0.00332495\ttraining's wloss: 0.00332455\tvalid_1's multi_logloss: 0.0367063\tvalid_1's wloss: 0.0697538\n",
      "Early stopping, best iteration is:\n",
      "[288]\ttraining's multi_logloss: 0.00376265\ttraining's wloss: 0.0037622\tvalid_1's multi_logloss: 0.0368078\tvalid_1's wloss: 0.0689739\n",
      "-------------------------------------\n",
      "Fold 5: LOG-LOSS = 0.06897\n",
      "-------------------------------------\n",
      "\n",
      "Training until validation scores don't improve for 100 rounds.\n",
      "[100]\ttraining's multi_logloss: 0.11001\ttraining's wloss: 0.110002\tvalid_1's multi_logloss: 0.164654\tvalid_1's wloss: 0.217251\n",
      "[200]\ttraining's multi_logloss: 0.0143766\ttraining's wloss: 0.014375\tvalid_1's multi_logloss: 0.0392754\tvalid_1's wloss: 0.0651777\n",
      "[300]\ttraining's multi_logloss: 0.00347413\ttraining's wloss: 0.00347369\tvalid_1's multi_logloss: 0.0186833\tvalid_1's wloss: 0.0384793\n",
      "[400]\ttraining's multi_logloss: 0.00175858\ttraining's wloss: 0.00175839\tvalid_1's multi_logloss: 0.0144416\tvalid_1's wloss: 0.0323959\n",
      "[500]\ttraining's multi_logloss: 0.00138677\ttraining's wloss: 0.00138663\tvalid_1's multi_logloss: 0.0128475\tvalid_1's wloss: 0.0290515\n",
      "[600]\ttraining's multi_logloss: 0.00121305\ttraining's wloss: 0.00121294\tvalid_1's multi_logloss: 0.0121354\tvalid_1's wloss: 0.0274379\n",
      "[700]\ttraining's multi_logloss: 0.00108402\ttraining's wloss: 0.00108392\tvalid_1's multi_logloss: 0.0117659\tvalid_1's wloss: 0.0267722\n",
      "Early stopping, best iteration is:\n",
      "[672]\ttraining's multi_logloss: 0.00111628\ttraining's wloss: 0.00111618\tvalid_1's multi_logloss: 0.0117788\tvalid_1's wloss: 0.0267414\n",
      "-------------------------------------\n",
      "Fold 6: LOG-LOSS = 0.02674\n",
      "-------------------------------------\n",
      "\n",
      "Training until validation scores don't improve for 100 rounds.\n",
      "[100]\ttraining's multi_logloss: 0.1098\ttraining's wloss: 0.109792\tvalid_1's multi_logloss: 0.142694\tvalid_1's wloss: 0.251204\n",
      "[200]\ttraining's multi_logloss: 0.0145308\ttraining's wloss: 0.0145292\tvalid_1's multi_logloss: 0.0381861\tvalid_1's wloss: 0.202164\n",
      "[300]\ttraining's multi_logloss: 0.00346196\ttraining's wloss: 0.00346154\tvalid_1's multi_logloss: 0.0218482\tvalid_1's wloss: 0.175246\n",
      "[400]\ttraining's multi_logloss: 0.00177153\ttraining's wloss: 0.00177133\tvalid_1's multi_logloss: 0.0179609\tvalid_1's wloss: 0.158084\n",
      "Early stopping, best iteration is:\n",
      "[390]\ttraining's multi_logloss: 0.00183849\ttraining's wloss: 0.00183829\tvalid_1's multi_logloss: 0.0180396\tvalid_1's wloss: 0.157377\n",
      "-------------------------------------\n",
      "Fold 7: LOG-LOSS = 0.15738\n",
      "-------------------------------------\n",
      "\n",
      "Training until validation scores don't improve for 100 rounds.\n",
      "[100]\ttraining's multi_logloss: 0.110688\ttraining's wloss: 0.11068\tvalid_1's multi_logloss: 0.151989\tvalid_1's wloss: 0.145425\n",
      "[200]\ttraining's multi_logloss: 0.0147639\ttraining's wloss: 0.0147622\tvalid_1's multi_logloss: 0.0405282\tvalid_1's wloss: 0.0368179\n",
      "[300]\ttraining's multi_logloss: 0.0035072\ttraining's wloss: 0.00350673\tvalid_1's multi_logloss: 0.0245274\tvalid_1's wloss: 0.0230967\n",
      "[400]\ttraining's multi_logloss: 0.00176044\ttraining's wloss: 0.00176024\tvalid_1's multi_logloss: 0.0200488\tvalid_1's wloss: 0.0193326\n",
      "[500]\ttraining's multi_logloss: 0.00137221\ttraining's wloss: 0.00137208\tvalid_1's multi_logloss: 0.0194329\tvalid_1's wloss: 0.0190603\n",
      "[600]\ttraining's multi_logloss: 0.00120227\ttraining's wloss: 0.00120216\tvalid_1's multi_logloss: 0.018912\tvalid_1's wloss: 0.0181662\n",
      "[700]\ttraining's multi_logloss: 0.00108544\ttraining's wloss: 0.00108534\tvalid_1's multi_logloss: 0.0182367\tvalid_1's wloss: 0.017887\n",
      "[800]\ttraining's multi_logloss: 0.00102163\ttraining's wloss: 0.00102154\tvalid_1's multi_logloss: 0.017923\tvalid_1's wloss: 0.0176755\n",
      "[900]\ttraining's multi_logloss: 0.000973829\ttraining's wloss: 0.000973749\tvalid_1's multi_logloss: 0.0177657\tvalid_1's wloss: 0.0174843\n",
      "[1000]\ttraining's multi_logloss: 0.000961575\ttraining's wloss: 0.000961495\tvalid_1's multi_logloss: 0.0178445\tvalid_1's wloss: 0.017525\n",
      "Early stopping, best iteration is:\n",
      "[903]\ttraining's multi_logloss: 0.000972646\ttraining's wloss: 0.000972566\tvalid_1's multi_logloss: 0.0177382\tvalid_1's wloss: 0.0174666\n",
      "-------------------------------------\n",
      "Fold 8: LOG-LOSS = 0.01747\n",
      "-------------------------------------\n",
      "\n",
      "Training until validation scores don't improve for 100 rounds.\n",
      "[100]\ttraining's multi_logloss: 0.110768\ttraining's wloss: 0.11076\tvalid_1's multi_logloss: 0.151647\tvalid_1's wloss: 0.16039\n",
      "[200]\ttraining's multi_logloss: 0.0143953\ttraining's wloss: 0.0143937\tvalid_1's multi_logloss: 0.0436566\tvalid_1's wloss: 0.054107\n",
      "[300]\ttraining's multi_logloss: 0.00331938\ttraining's wloss: 0.00331898\tvalid_1's multi_logloss: 0.0282919\tvalid_1's wloss: 0.0447113\n",
      "Early stopping, best iteration is:\n",
      "[262]\ttraining's multi_logloss: 0.00530716\ttraining's wloss: 0.00530653\tvalid_1's multi_logloss: 0.0302824\tvalid_1's wloss: 0.0432107\n",
      "-------------------------------------\n",
      "Fold 9: LOG-LOSS = 0.04321\n",
      "-------------------------------------\n",
      "\n",
      "Training until validation scores don't improve for 100 rounds.\n",
      "[100]\ttraining's multi_logloss: 0.108844\ttraining's wloss: 0.108856\tvalid_1's multi_logloss: 0.135528\tvalid_1's wloss: 0.168088\n",
      "[200]\ttraining's multi_logloss: 0.014557\ttraining's wloss: 0.0145601\tvalid_1's multi_logloss: 0.0308489\tvalid_1's wloss: 0.0405451\n",
      "[300]\ttraining's multi_logloss: 0.00344024\ttraining's wloss: 0.00344107\tvalid_1's multi_logloss: 0.0148984\tvalid_1's wloss: 0.019154\n",
      "[400]\ttraining's multi_logloss: 0.00175498\ttraining's wloss: 0.00175536\tvalid_1's multi_logloss: 0.0121121\tvalid_1's wloss: 0.015191\n",
      "[500]\ttraining's multi_logloss: 0.00138109\ttraining's wloss: 0.00138132\tvalid_1's multi_logloss: 0.0117515\tvalid_1's wloss: 0.0147305\n",
      "[600]\ttraining's multi_logloss: 0.00120652\ttraining's wloss: 0.0012067\tvalid_1's multi_logloss: 0.0114097\tvalid_1's wloss: 0.0140216\n",
      "[700]\ttraining's multi_logloss: 0.0010762\ttraining's wloss: 0.00107635\tvalid_1's multi_logloss: 0.0111622\tvalid_1's wloss: 0.0137946\n",
      "[800]\ttraining's multi_logloss: 0.00100992\ttraining's wloss: 0.00101004\tvalid_1's multi_logloss: 0.0108958\tvalid_1's wloss: 0.0131549\n",
      "[900]\ttraining's multi_logloss: 0.000972086\ttraining's wloss: 0.000972176\tvalid_1's multi_logloss: 0.0107009\tvalid_1's wloss: 0.0128792\n",
      "[1000]\ttraining's multi_logloss: 0.00095847\ttraining's wloss: 0.000958551\tvalid_1's multi_logloss: 0.0105408\tvalid_1's wloss: 0.0128666\n",
      "Early stopping, best iteration is:\n",
      "[924]\ttraining's multi_logloss: 0.000967568\ttraining's wloss: 0.000967655\tvalid_1's multi_logloss: 0.0106068\tvalid_1's wloss: 0.0128395\n",
      "-------------------------------------\n",
      "Fold 10: LOG-LOSS = 0.01284\n",
      "-------------------------------------\n",
      "\n",
      "\n",
      "MULTI-WEIGHTED LOG-LOSS : 0.05753 \n",
      "Done in   4.4 minutes\n"
     ]
    }
   ],
   "source": [
    "### CROSS-VALIDATION LOOP\n",
    "\n",
    "# validation strategy\n",
    "folds = StratifiedKFold(n_splits     = 10, \n",
    "                        shuffle      = True, \n",
    "                        random_state = 23)\n",
    "\n",
    "# create objects\n",
    "clfs_gal = []\n",
    "importances_gal = pd.DataFrame()\n",
    "oof_preds_gal = np.zeros((len(full_train_gal), len(classes_gal)))\n",
    "\n",
    "# modeling loop\n",
    "start  = time.time()\n",
    "for fold_, (trn_, val_) in enumerate(folds.split(y_gal, y_gal)):\n",
    "    \n",
    "    # data partitioning\n",
    "    trn_x, trn_y = full_train_gal[features_gal].iloc[trn_], y_gal.iloc[trn_]\n",
    "    val_x, val_y = full_train_gal[features_gal].iloc[val_], y_gal.iloc[val_]\n",
    "    \n",
    "    # train the model\n",
    "    clf = lgb.LGBMClassifier(**lgb_params) \n",
    "    clf.fit(\n",
    "        trn_x, trn_y,\n",
    "        eval_set              = [(trn_x, trn_y), (val_x, val_y)],\n",
    "        eval_metric           = multi_weighted_logloss,\n",
    "        verbose               = 100,\n",
    "        early_stopping_rounds = 100,\n",
    "        sample_weight         = trn_y.map(weights_gal)\n",
    "    )\n",
    "    clfs_gal.append(clf)\n",
    "\n",
    "    # predictions\n",
    "    oof_preds_gal[val_, :] =  clf.predict_proba(val_x, num_iteration = clf.best_iteration_)\n",
    "    \n",
    "    # feedback\n",
    "    print('-------------------------------------')\n",
    "    print('Fold ' + str(fold_ + 1) + ': LOG-LOSS = ' + str(round(multi_weighted_logloss(val_y, clf.predict_proba(val_x, num_iteration = clf.best_iteration_))[1], 5)))  \n",
    "    print('-------------------------------------')\n",
    "    print('')\n",
    "\n",
    "    # variable importance\n",
    "    imp_df = pd.DataFrame()\n",
    "    imp_df['feature'] = features_gal\n",
    "    imp_df['gain'] = clf.feature_importances_\n",
    "    imp_df['fold'] = fold_ + 1\n",
    "    importances_gal = pd.concat([importances_gal, imp_df], axis = 0, sort = False)\n",
    "    \n",
    "    # clean up\n",
    "    gc.collect()\n",
    "    \n",
    "# print performance\n",
    "print('')\n",
    "print('MULTI-WEIGHTED LOG-LOSS : %.5f ' % multi_weighted_logloss(y_true = y_gal, y_preds = oof_preds_gal)[1])\n",
    "print('Done in %5.1f minutes' % ((time.time() - start) / 60))\n",
    "\n",
    "\n",
    "# 318:  0.10082 \n",
    "# 234:  0.07649\n",
    "# 234:  0.07352\n",
    "# 238:  0.07146\n",
    "# 328:  0.05983\n",
    "# 328:  0.05969"
   ]
  },
  {
   "cell_type": "code",
   "execution_count": 34,
   "metadata": {
    "_uuid": "a3d88169ddb895f93f47133b1eba51b0246f6b8c"
   },
   "outputs": [
    {
     "data": {
      "image/png": "[encoded data removed]",
      "text/plain": [
       "<Figure size 720x720 with 1 Axes>"
      ]
     },
     "metadata": {},
     "output_type": "display_data"
    }
   ],
   "source": [
    "##### VARIABLE IMPORTANCE\n",
    "\n",
    "# load importance \n",
    "top_feats = 50\n",
    "cols = importances_gal[[\"gain\", \"feature\"]].groupby(\"feature\").mean().sort_values(by = \"gain\", ascending = False)[0:top_feats].index\n",
    "importance = importances_gal.loc[importances_gal.feature.isin(cols)]\n",
    "importance = importance.sort_values(by = \"gain\", ascending = False)\n",
    "\n",
    "# plot variable importance\n",
    "plt.figure(figsize = (10, 10))\n",
    "sns.barplot(x = \"gain\", y = \"feature\", data = importance)\n",
    "plt.tight_layout()\n",
    "plt.savefig('../var_importance_gal.pdf')"
   ]
  },
  {
   "cell_type": "code",
   "execution_count": 35,
   "metadata": {},
   "outputs": [
    {
     "name": "stdout",
     "output_type": "stream",
     "text": [
      "Removing  0  worst features...\n",
      "- best loss so far: 0.05983 \n",
      "Removing  10  worst features...\n",
      "- best loss so far: 0.05983 \n",
      "Removing  20  worst features...\n",
      "- best loss so far: 0.05983 \n",
      "Removing  30  worst features...\n",
      "- best loss so far: 0.05983 \n",
      "Removing  40  worst features...\n",
      "- best loss so far: 0.05966 \n",
      "Removing  50  worst features...\n",
      "- best loss so far: 0.05966 \n",
      "Removing  60  worst features...\n",
      "- best loss so far: 0.05955 \n",
      "Removing  70  worst features...\n",
      "- best loss so far: 0.05942 \n",
      "Removing  80  worst features...\n",
      "- best loss so far: 0.05942 \n",
      "Removing  90  worst features...\n",
      "- best loss so far: 0.05849 \n",
      "Removing  100  worst features...\n",
      "- best loss so far: 0.05849 \n",
      "Removing  110  worst features...\n",
      "- best loss so far: 0.05849 \n",
      "Removing  120  worst features...\n",
      "- best loss so far: 0.05848 \n",
      "Removing  130  worst features...\n",
      "- best loss so far: 0.05835 \n",
      "Removing  140  worst features...\n",
      "- best loss so far: 0.05794 \n",
      "Removing  150  worst features...\n",
      "- best loss so far: 0.05720 \n",
      "Removing  160  worst features...\n",
      "- best loss so far: 0.05674 \n",
      "Removing  170  worst features...\n",
      "- best loss so far: 0.05674 \n",
      "Removing  180  worst features...\n",
      "- best loss so far: 0.05674 \n",
      "Removing  190  worst features...\n",
      "- best loss so far: 0.05498 \n",
      "Removing  200  worst features...\n",
      "- best loss so far: 0.05472 \n",
      "Removing  210  worst features...\n",
      "- best loss so far: 0.05472 \n",
      "Removing  220  worst features...\n",
      "- best loss so far: 0.05472 \n",
      "Removing  230  worst features...\n",
      "- best loss so far: 0.05323 \n",
      "Removing  240  worst features...\n",
      "- best loss so far: 0.05153 \n",
      "Removing  250  worst features...\n",
      "- best loss so far: 0.05141 \n",
      "Removing  260  worst features...\n",
      "- best loss so far: 0.05141 \n",
      "Removing  270  worst features...\n",
      "- best loss so far: 0.05141 \n",
      "Removing  280  worst features...\n",
      "- best loss so far: 0.05141 \n",
      "Removing  290  worst features...\n",
      "- best loss so far: 0.05141 \n",
      "Removing  300  worst features...\n",
      "- best loss so far: 0.05141 \n",
      "Removing  310  worst features...\n",
      "- best loss so far: 0.04907 \n",
      "Removing  320  worst features...\n",
      "- best loss so far: 0.04907 \n",
      "\n",
      "-------------------------------------\n",
      "KEPT 22 FEATURES: LOSS =  0.04906762710870679\n",
      "-------------------------------------\n"
     ]
    },
    {
     "data": {
      "image/png": "[encoded data removed]",
      "text/plain": [
       "<Figure size 1440x576 with 1 Axes>"
      ]
     },
     "metadata": {},
     "output_type": "display_data"
    }
   ],
   "source": [
    "### FEATURE SELECTION LOOP\n",
    "\n",
    "# validation strategy\n",
    "folds = StratifiedKFold(n_splits     = 5, \n",
    "                        shuffle      = True, \n",
    "                        random_state = 1)\n",
    "\n",
    "# k parameter\n",
    "max_feat = len(features_gal)\n",
    "\n",
    "# placeholders and objects\n",
    "perf_vec_gal = np.ones(max_feat)\n",
    "feats_gal = list(importances_gal[[\"gain\", \"feature\"]].groupby(\"feature\").mean().sort_values(by = \"gain\", ascending = False).index)\n",
    "\n",
    "# greedy selection loop \n",
    "for i in range(0, max_feat):\n",
    "\n",
    "    # feedback\n",
    "    if i % 10 == 0:\n",
    "        print('Removing ', i, ' worst features...' )\n",
    "    \n",
    "    # subset features\n",
    "    if i > 0:\n",
    "        features_gal = feats_gal[:-i]\n",
    "    else:\n",
    "        features_gal = [f for f in full_train_gal.columns if f not in excluded_feats_gal]\n",
    "    \n",
    "    # create objects\n",
    "    oof_preds_gal = np.zeros((len(full_train_gal), len(classes_gal)))\n",
    "\n",
    "    # modeling loop\n",
    "    for fold_, (trn_, val_) in enumerate(folds.split(y_gal, y_gal)):\n",
    "\n",
    "        # data partitioning\n",
    "        trn_x, trn_y = full_train_gal[features_gal].iloc[trn_], y_gal.iloc[trn_]\n",
    "        val_x, val_y = full_train_gal[features_gal].iloc[val_], y_gal.iloc[val_]\n",
    "\n",
    "        # train the model\n",
    "        clf = lgb.LGBMClassifier(**lgb_params) \n",
    "        clf.fit(\n",
    "            trn_x, trn_y,\n",
    "            eval_set              = [(trn_x, trn_y), (val_x, val_y)],\n",
    "            eval_metric           = multi_weighted_logloss,\n",
    "            verbose               = 0,\n",
    "            early_stopping_rounds = 100,\n",
    "            sample_weight         = trn_y.map(weights_gal)\n",
    "        )\n",
    "\n",
    "        # predictions\n",
    "        oof_preds_gal[val_, :] =  clf.predict_proba(val_x, num_iteration = clf.best_iteration_)\n",
    "\n",
    "        # clean up\n",
    "        gc.collect()\n",
    "\n",
    "    # print performance\n",
    "    perf_vec_gal[i] = multi_weighted_logloss(y_true = y_gal, y_preds = oof_preds_gal)[1]\n",
    "    \n",
    "    # print performance\n",
    "    if i % 10 == 0:\n",
    "        print('- best loss so far: %.5f ' %  np.min(perf_vec_gal))\n",
    "    \n",
    "# select best combination\n",
    "drops_gal = perf_vec_gal.argmin()\n",
    "if drops_gal > 0:\n",
    "    features_gal = feats_gal[:-drops_gal]\n",
    "else:\n",
    "    features_gal = [f for f in full_train_gal.columns if f not in excluded_feats_gal]\n",
    "       \n",
    "# feedback\n",
    "print('')\n",
    "print('-------------------------------------')\n",
    "print('KEPT ' + str(len(features_gal)) + ' FEATURES: LOSS = ', perf_vec_gal[drops_gal])\n",
    "print('-------------------------------------')\n",
    "\n",
    "# scatterplot\n",
    "fig, ax = plt.subplots(figsize = (20, 8))\n",
    "plt.scatter(x = range(1, len(perf_vec_gal) + 1), y = perf_vec_gal)\n",
    "ax.set_xlabel('Removed features')\n",
    "ax.set_ylabel('Loss function')\n",
    "plt.show()"
   ]
  },
  {
   "cell_type": "code",
   "execution_count": 36,
   "metadata": {},
   "outputs": [
    {
     "name": "stdout",
     "output_type": "stream",
     "text": [
      "Training until validation scores don't improve for 100 rounds.\n",
      "[100]\ttraining's multi_logloss: 0.126159\ttraining's wloss: 0.126225\tvalid_1's multi_logloss: 0.193659\tvalid_1's wloss: 0.173543\n",
      "[200]\ttraining's multi_logloss: 0.0211379\ttraining's wloss: 0.021152\tvalid_1's multi_logloss: 0.063756\tvalid_1's wloss: 0.0663485\n",
      "[300]\ttraining's multi_logloss: 0.00584513\ttraining's wloss: 0.00584971\tvalid_1's multi_logloss: 0.0392858\tvalid_1's wloss: 0.0537676\n",
      "[400]\ttraining's multi_logloss: 0.0027226\ttraining's wloss: 0.0027247\tvalid_1's multi_logloss: 0.0333508\tvalid_1's wloss: 0.0507048\n",
      "Early stopping, best iteration is:\n",
      "[392]\ttraining's multi_logloss: 0.00285494\ttraining's wloss: 0.00285715\tvalid_1's multi_logloss: 0.0333539\tvalid_1's wloss: 0.0505186\n",
      "-------------------------------------\n",
      "Fold 1: LOG-LOSS = 0.05052\n",
      "-------------------------------------\n",
      "\n",
      "Training until validation scores don't improve for 100 rounds.\n",
      "[100]\ttraining's multi_logloss: 0.128732\ttraining's wloss: 0.128724\tvalid_1's multi_logloss: 0.158051\tvalid_1's wloss: 0.207197\n",
      "[200]\ttraining's multi_logloss: 0.0216049\ttraining's wloss: 0.0216036\tvalid_1's multi_logloss: 0.046837\tvalid_1's wloss: 0.0812542\n",
      "[300]\ttraining's multi_logloss: 0.00596757\ttraining's wloss: 0.0059671\tvalid_1's multi_logloss: 0.0271108\tvalid_1's wloss: 0.0597993\n",
      "[400]\ttraining's multi_logloss: 0.00271506\ttraining's wloss: 0.00271484\tvalid_1's multi_logloss: 0.0225591\tvalid_1's wloss: 0.0487949\n",
      "[500]\ttraining's multi_logloss: 0.00183418\ttraining's wloss: 0.00183404\tvalid_1's multi_logloss: 0.0223725\tvalid_1's wloss: 0.047966\n",
      "Early stopping, best iteration is:\n",
      "[438]\ttraining's multi_logloss: 0.00224829\ttraining's wloss: 0.00224811\tvalid_1's multi_logloss: 0.0219914\tvalid_1's wloss: 0.0470775\n",
      "-------------------------------------\n",
      "Fold 2: LOG-LOSS = 0.04708\n",
      "-------------------------------------\n",
      "\n",
      "Training until validation scores don't improve for 100 rounds.\n",
      "[100]\ttraining's multi_logloss: 0.124264\ttraining's wloss: 0.124257\tvalid_1's multi_logloss: 0.178702\tvalid_1's wloss: 0.223012\n",
      "[200]\ttraining's multi_logloss: 0.0201268\ttraining's wloss: 0.0201257\tvalid_1's multi_logloss: 0.0526017\tvalid_1's wloss: 0.0766639\n",
      "[300]\ttraining's multi_logloss: 0.0055816\ttraining's wloss: 0.00558114\tvalid_1's multi_logloss: 0.0291321\tvalid_1's wloss: 0.0489327\n",
      "[400]\ttraining's multi_logloss: 0.00263754\ttraining's wloss: 0.0026373\tvalid_1's multi_logloss: 0.0239419\tvalid_1's wloss: 0.0469981\n",
      "Early stopping, best iteration is:\n",
      "[373]\ttraining's multi_logloss: 0.00310115\ttraining's wloss: 0.00310088\tvalid_1's multi_logloss: 0.0244799\tvalid_1's wloss: 0.0465793\n",
      "-------------------------------------\n",
      "Fold 3: LOG-LOSS = 0.04658\n",
      "-------------------------------------\n",
      "\n",
      "Training until validation scores don't improve for 100 rounds.\n",
      "[100]\ttraining's multi_logloss: 0.130158\ttraining's wloss: 0.130149\tvalid_1's multi_logloss: 0.156231\tvalid_1's wloss: 0.151196\n",
      "[200]\ttraining's multi_logloss: 0.0219051\ttraining's wloss: 0.0219035\tvalid_1's multi_logloss: 0.0388711\tvalid_1's wloss: 0.0402559\n",
      "[300]\ttraining's multi_logloss: 0.0059844\ttraining's wloss: 0.00598381\tvalid_1's multi_logloss: 0.0158574\tvalid_1's wloss: 0.0205241\n",
      "[400]\ttraining's multi_logloss: 0.00275492\ttraining's wloss: 0.00275464\tvalid_1's multi_logloss: 0.00990754\tvalid_1's wloss: 0.0150354\n",
      "[500]\ttraining's multi_logloss: 0.00182771\ttraining's wloss: 0.00182754\tvalid_1's multi_logloss: 0.00852226\tvalid_1's wloss: 0.0147403\n",
      "Early stopping, best iteration is:\n",
      "[468]\ttraining's multi_logloss: 0.00201984\ttraining's wloss: 0.00201965\tvalid_1's multi_logloss: 0.00863218\tvalid_1's wloss: 0.0142324\n",
      "-------------------------------------\n",
      "Fold 4: LOG-LOSS = 0.01423\n",
      "-------------------------------------\n",
      "\n",
      "Training until validation scores don't improve for 100 rounds.\n",
      "[100]\ttraining's multi_logloss: 0.125193\ttraining's wloss: 0.125183\tvalid_1's multi_logloss: 0.171114\tvalid_1's wloss: 0.210983\n",
      "[200]\ttraining's multi_logloss: 0.0204365\ttraining's wloss: 0.0204344\tvalid_1's multi_logloss: 0.058151\tvalid_1's wloss: 0.0920344\n",
      "[300]\ttraining's multi_logloss: 0.00546015\ttraining's wloss: 0.00545951\tvalid_1's multi_logloss: 0.041707\tvalid_1's wloss: 0.0799135\n",
      "Early stopping, best iteration is:\n",
      "[274]\ttraining's multi_logloss: 0.00731923\ttraining's wloss: 0.00731839\tvalid_1's multi_logloss: 0.0428307\tvalid_1's wloss: 0.0790651\n",
      "-------------------------------------\n",
      "Fold 5: LOG-LOSS = 0.07907\n",
      "-------------------------------------\n",
      "\n",
      "Training until validation scores don't improve for 100 rounds.\n",
      "[100]\ttraining's multi_logloss: 0.128856\ttraining's wloss: 0.128846\tvalid_1's multi_logloss: 0.173232\tvalid_1's wloss: 0.177604\n",
      "[200]\ttraining's multi_logloss: 0.0215171\ttraining's wloss: 0.0215148\tvalid_1's multi_logloss: 0.048344\tvalid_1's wloss: 0.059312\n",
      "[300]\ttraining's multi_logloss: 0.00585448\ttraining's wloss: 0.00585379\tvalid_1's multi_logloss: 0.0229545\tvalid_1's wloss: 0.0370737\n",
      "[400]\ttraining's multi_logloss: 0.00270765\ttraining's wloss: 0.00270733\tvalid_1's multi_logloss: 0.0159727\tvalid_1's wloss: 0.0284916\n",
      "[500]\ttraining's multi_logloss: 0.00182162\ttraining's wloss: 0.00182142\tvalid_1's multi_logloss: 0.0133596\tvalid_1's wloss: 0.023991\n",
      "[600]\ttraining's multi_logloss: 0.00152971\ttraining's wloss: 0.00152955\tvalid_1's multi_logloss: 0.0121324\tvalid_1's wloss: 0.0213337\n",
      "[700]\ttraining's multi_logloss: 0.00139143\ttraining's wloss: 0.00139129\tvalid_1's multi_logloss: 0.0117316\tvalid_1's wloss: 0.0201543\n",
      "[800]\ttraining's multi_logloss: 0.00130405\ttraining's wloss: 0.00130392\tvalid_1's multi_logloss: 0.0115346\tvalid_1's wloss: 0.019633\n",
      "[900]\ttraining's multi_logloss: 0.00123468\ttraining's wloss: 0.00123456\tvalid_1's multi_logloss: 0.0113903\tvalid_1's wloss: 0.0193424\n",
      "[1000]\ttraining's multi_logloss: 0.00117732\ttraining's wloss: 0.00117721\tvalid_1's multi_logloss: 0.0112097\tvalid_1's wloss: 0.019053\n",
      "Early stopping, best iteration is:\n",
      "[992]\ttraining's multi_logloss: 0.00118152\ttraining's wloss: 0.00118141\tvalid_1's multi_logloss: 0.0111964\tvalid_1's wloss: 0.0190486\n",
      "-------------------------------------\n",
      "Fold 6: LOG-LOSS = 0.01905\n",
      "-------------------------------------\n",
      "\n",
      "Training until validation scores don't improve for 100 rounds.\n",
      "[100]\ttraining's multi_logloss: 0.126972\ttraining's wloss: 0.126962\tvalid_1's multi_logloss: 0.163845\tvalid_1's wloss: 0.23571\n",
      "[200]\ttraining's multi_logloss: 0.0214418\ttraining's wloss: 0.0214394\tvalid_1's multi_logloss: 0.0537133\tvalid_1's wloss: 0.146657\n",
      "[300]\ttraining's multi_logloss: 0.00586706\ttraining's wloss: 0.00586634\tvalid_1's multi_logloss: 0.0341976\tvalid_1's wloss: 0.122399\n",
      "[400]\ttraining's multi_logloss: 0.00273709\ttraining's wloss: 0.00273677\tvalid_1's multi_logloss: 0.0265652\tvalid_1's wloss: 0.0982724\n",
      "[500]\ttraining's multi_logloss: 0.00184417\ttraining's wloss: 0.00184397\tvalid_1's multi_logloss: 0.0225285\tvalid_1's wloss: 0.0812263\n",
      "[600]\ttraining's multi_logloss: 0.001555\ttraining's wloss: 0.00155484\tvalid_1's multi_logloss: 0.0214395\tvalid_1's wloss: 0.0781031\n",
      "[700]\ttraining's multi_logloss: 0.00140174\ttraining's wloss: 0.0014016\tvalid_1's multi_logloss: 0.020571\tvalid_1's wloss: 0.0754221\n",
      "[800]\ttraining's multi_logloss: 0.00131376\ttraining's wloss: 0.00131363\tvalid_1's multi_logloss: 0.0198819\tvalid_1's wloss: 0.0735322\n",
      "[900]\ttraining's multi_logloss: 0.00124645\ttraining's wloss: 0.00124633\tvalid_1's multi_logloss: 0.0195148\tvalid_1's wloss: 0.0723242\n",
      "[1000]\ttraining's multi_logloss: 0.00118956\ttraining's wloss: 0.00118945\tvalid_1's multi_logloss: 0.0194384\tvalid_1's wloss: 0.0712083\n",
      "Early stopping, best iteration is:\n",
      "[964]\ttraining's multi_logloss: 0.001209\ttraining's wloss: 0.00120889\tvalid_1's multi_logloss: 0.0194045\tvalid_1's wloss: 0.0715738\n",
      "-------------------------------------\n",
      "Fold 7: LOG-LOSS = 0.07157\n",
      "-------------------------------------\n",
      "\n",
      "Training until validation scores don't improve for 100 rounds.\n",
      "[100]\ttraining's multi_logloss: 0.131366\ttraining's wloss: 0.131355\tvalid_1's multi_logloss: 0.16327\tvalid_1's wloss: 0.155277\n",
      "[200]\ttraining's multi_logloss: 0.0225732\ttraining's wloss: 0.0225706\tvalid_1's multi_logloss: 0.0456376\tvalid_1's wloss: 0.0385373\n",
      "[300]\ttraining's multi_logloss: 0.00614143\ttraining's wloss: 0.00614065\tvalid_1's multi_logloss: 0.0262369\tvalid_1's wloss: 0.0192691\n",
      "[400]\ttraining's multi_logloss: 0.00277834\ttraining's wloss: 0.002778\tvalid_1's multi_logloss: 0.0204893\tvalid_1's wloss: 0.013792\n",
      "[500]\ttraining's multi_logloss: 0.00185903\ttraining's wloss: 0.00185882\tvalid_1's multi_logloss: 0.018026\tvalid_1's wloss: 0.0119653\n",
      "[600]\ttraining's multi_logloss: 0.0015452\ttraining's wloss: 0.00154504\tvalid_1's multi_logloss: 0.0173596\tvalid_1's wloss: 0.0116459\n",
      "[700]\ttraining's multi_logloss: 0.00138903\ttraining's wloss: 0.00138889\tvalid_1's multi_logloss: 0.017249\tvalid_1's wloss: 0.0114678\n",
      "Early stopping, best iteration is:\n",
      "[648]\ttraining's multi_logloss: 0.00145707\ttraining's wloss: 0.00145693\tvalid_1's multi_logloss: 0.0170824\tvalid_1's wloss: 0.0114609\n",
      "-------------------------------------\n",
      "Fold 8: LOG-LOSS = 0.01146\n",
      "-------------------------------------\n",
      "\n",
      "Training until validation scores don't improve for 100 rounds.\n",
      "[100]\ttraining's multi_logloss: 0.129412\ttraining's wloss: 0.129402\tvalid_1's multi_logloss: 0.159279\tvalid_1's wloss: 0.16942\n",
      "[200]\ttraining's multi_logloss: 0.0218992\ttraining's wloss: 0.0218968\tvalid_1's multi_logloss: 0.0447506\tvalid_1's wloss: 0.0539653\n",
      "[300]\ttraining's multi_logloss: 0.00594052\ttraining's wloss: 0.00593983\tvalid_1's multi_logloss: 0.0222979\tvalid_1's wloss: 0.0317587\n",
      "[400]\ttraining's multi_logloss: 0.0027313\ttraining's wloss: 0.00273099\tvalid_1's multi_logloss: 0.0168024\tvalid_1's wloss: 0.0261804\n",
      "[500]\ttraining's multi_logloss: 0.00185013\ttraining's wloss: 0.00184993\tvalid_1's multi_logloss: 0.0150112\tvalid_1's wloss: 0.0249511\n",
      "[600]\ttraining's multi_logloss: 0.00154212\ttraining's wloss: 0.00154197\tvalid_1's multi_logloss: 0.0145387\tvalid_1's wloss: 0.0257835\n",
      "Early stopping, best iteration is:\n",
      "[519]\ttraining's multi_logloss: 0.00177281\ttraining's wloss: 0.00177263\tvalid_1's multi_logloss: 0.0148246\tvalid_1's wloss: 0.0248545\n",
      "-------------------------------------\n",
      "Fold 9: LOG-LOSS = 0.02485\n",
      "-------------------------------------\n",
      "\n",
      "Training until validation scores don't improve for 100 rounds.\n",
      "[100]\ttraining's multi_logloss: 0.127559\ttraining's wloss: 0.127573\tvalid_1's multi_logloss: 0.14716\tvalid_1's wloss: 0.182987\n",
      "[200]\ttraining's multi_logloss: 0.0211328\ttraining's wloss: 0.0211362\tvalid_1's multi_logloss: 0.0367784\tvalid_1's wloss: 0.0513532\n",
      "[300]\ttraining's multi_logloss: 0.00593673\ttraining's wloss: 0.00593793\tvalid_1's multi_logloss: 0.0166213\tvalid_1's wloss: 0.0233694\n",
      "[400]\ttraining's multi_logloss: 0.00274808\ttraining's wloss: 0.00274862\tvalid_1's multi_logloss: 0.0107984\tvalid_1's wloss: 0.0160155\n",
      "[500]\ttraining's multi_logloss: 0.00186632\ttraining's wloss: 0.00186662\tvalid_1's multi_logloss: 0.00898745\tvalid_1's wloss: 0.0135213\n",
      "[600]\ttraining's multi_logloss: 0.00156092\ttraining's wloss: 0.00156113\tvalid_1's multi_logloss: 0.00857263\tvalid_1's wloss: 0.0121434\n",
      "[700]\ttraining's multi_logloss: 0.00140646\ttraining's wloss: 0.00140662\tvalid_1's multi_logloss: 0.00843486\tvalid_1's wloss: 0.0113837\n",
      "[800]\ttraining's multi_logloss: 0.00131416\ttraining's wloss: 0.00131428\tvalid_1's multi_logloss: 0.00828128\tvalid_1's wloss: 0.0111292\n",
      "[900]\ttraining's multi_logloss: 0.00124653\ttraining's wloss: 0.00124663\tvalid_1's multi_logloss: 0.00819363\tvalid_1's wloss: 0.0108182\n",
      "[1000]\ttraining's multi_logloss: 0.00119008\ttraining's wloss: 0.00119016\tvalid_1's multi_logloss: 0.00812594\tvalid_1's wloss: 0.0104132\n",
      "Early stopping, best iteration is:\n",
      "[997]\ttraining's multi_logloss: 0.00119163\ttraining's wloss: 0.00119171\tvalid_1's multi_logloss: 0.0080966\tvalid_1's wloss: 0.0104032\n",
      "-------------------------------------\n",
      "Fold 10: LOG-LOSS = 0.0104\n",
      "-------------------------------------\n",
      "\n",
      "\n",
      "MULTI-WEIGHTED LOG-LOSS : 0.03738 \n",
      "Done in   1.0 minutes\n"
     ]
    }
   ],
   "source": [
    "### CROSS-VALIDATION WITH BEST SUBSET\n",
    "\n",
    "# validation strategy\n",
    "folds = StratifiedKFold(n_splits     = 10, \n",
    "                        shuffle      = True, \n",
    "                        random_state = 23)\n",
    "\n",
    "# create objects\n",
    "clfs_gal = []\n",
    "importances_gal = pd.DataFrame()\n",
    "oof_preds_gal = np.zeros((len(full_train_gal), len(classes_gal)))\n",
    "\n",
    "# modeling loop\n",
    "start  = time.time()\n",
    "for fold_, (trn_, val_) in enumerate(folds.split(y_gal, y_gal)):\n",
    "    \n",
    "    # data partitioning\n",
    "    trn_x, trn_y = full_train_gal[features_gal].iloc[trn_], y_gal.iloc[trn_]\n",
    "    val_x, val_y = full_train_gal[features_gal].iloc[val_], y_gal.iloc[val_]\n",
    "    \n",
    "    # train the model\n",
    "    clf = lgb.LGBMClassifier(**lgb_params) \n",
    "    clf.fit(\n",
    "        trn_x, trn_y,\n",
    "        eval_set              = [(trn_x, trn_y), (val_x, val_y)],\n",
    "        eval_metric           = multi_weighted_logloss,\n",
    "        verbose               = 100,\n",
    "        early_stopping_rounds = 100,\n",
    "        sample_weight         = trn_y.map(weights_gal)\n",
    "    )\n",
    "    clfs_gal.append(clf)\n",
    "\n",
    "    # predictions\n",
    "    oof_preds_gal[val_, :] =  clf.predict_proba(val_x, num_iteration = clf.best_iteration_)\n",
    "    \n",
    "    # feedback\n",
    "    print('-------------------------------------')\n",
    "    print('Fold ' + str(fold_ + 1) + ': LOG-LOSS = ' + str(round(multi_weighted_logloss(val_y, clf.predict_proba(val_x, num_iteration = clf.best_iteration_))[1], 5)))  \n",
    "    print('-------------------------------------')\n",
    "    print('')\n",
    "\n",
    "    # variable importance\n",
    "    imp_df = pd.DataFrame()\n",
    "    imp_df['feature'] = features_gal\n",
    "    imp_df['gain'] = clf.feature_importances_\n",
    "    imp_df['fold'] = fold_ + 1\n",
    "    importances_gal = pd.concat([importances_gal, imp_df], axis = 0, sort = False)\n",
    "    \n",
    "    # clean up\n",
    "    gc.collect()\n",
    "    \n",
    "# print performance\n",
    "print('')\n",
    "print('MULTI-WEIGHTED LOG-LOSS : %.5f ' % multi_weighted_logloss(y_true = y_gal, y_preds = oof_preds_gal)[1])\n",
    "print('Done in %5.1f minutes' % ((time.time() - start) / 60))"
   ]
  },
  {
   "cell_type": "code",
   "execution_count": 37,
   "metadata": {
    "_uuid": "9ebcbb0f39d3e06748630966d3b7f5dc8aa4a51e",
    "scrolled": false
   },
   "outputs": [
    {
     "data": {
      "image/png": "[encoded data removed]",
      "text/plain": [
       "<Figure size 432x288 with 2 Axes>"
      ]
     },
     "metadata": {},
     "output_type": "display_data"
    }
   ],
   "source": [
    "##### CONFUSION MATRIX\n",
    "\n",
    "# preparations\n",
    "tmp = np.argmax(oof_preds_gal, axis = 1)\n",
    "y_pred = []\n",
    "for i in tmp:\n",
    "    y_pred.append(classes_gal[i])\n",
    "y_pred = pd.Series(y_pred)\n",
    "\n",
    "# construct confusion matrx\n",
    "cm = confusion_matrix(y_gal, y_pred, labels = classes_gal)\n",
    "cm = cm.astype('float') / cm.sum(axis = 1)[:, np.newaxis]\n",
    "annot = np.around(cm, 2)\n",
    "\n",
    "# plot matrix\n",
    "fig, ax = plt.subplots(figsize = (6,4))\n",
    "sns.heatmap(cm, xticklabels = classes_gal, yticklabels = classes_gal, cmap = 'Blues', annot = annot, lw = 0.5)\n",
    "ax.set_xlabel('Predicted Label')\n",
    "ax.set_ylabel('True Label')\n",
    "ax.set_aspect('equal')"
   ]
  },
  {
   "cell_type": "markdown",
   "metadata": {
    "_uuid": "2ee074e92af888a8122e21e982a408a263fb5b3d"
   },
   "source": [
    "## EXTRAGALACTIC OBJECTS"
   ]
  },
  {
   "cell_type": "code",
   "execution_count": 38,
   "metadata": {
    "_uuid": "2334974b17e3e4fbd7888e546e49cf35b7fbb332"
   },
   "outputs": [
    {
     "name": "stdout",
     "output_type": "stream",
     "text": [
      "(5523, 284)\n"
     ]
    }
   ],
   "source": [
    "# exclude features\n",
    "excluded_feats_ext = list(full_train_ext.filter(like = 'flux_err').columns) + \\\n",
    "                     list(full_train_ext.filter(like = 'p2_p0').columns) + \\\n",
    "                     list(full_train_ext.filter(like = 'p3_p0').columns) + \\\n",
    "                     list(full_train_ext.filter(like = 'p4_p0').columns) + \\\n",
    "                     list(full_train_ext.filter(like = '_e_').columns) + \\\n",
    "                     list(full_train_ext.filter(like = '_d_').columns) + \\\n",
    "                     list(full_train_ext.filter(like = 'Period').columns) + \\\n",
    "                     list(full_train_ext.filter(like = 'MaxSlope').columns) + \\\n",
    "                     list(full_train_ext.filter(like = 'Autocor_length').columns) + \\\n",
    "                     []\n",
    "features_ext = [f for f in full_train_ext.columns if f not in excluded_feats_ext]\n",
    "print(full_train_ext[features_ext].shape)"
   ]
  },
  {
   "cell_type": "code",
   "execution_count": 39,
   "metadata": {
    "_uuid": "b8da35e9a9f35a17123330ae4a566c350d5c7dfd"
   },
   "outputs": [],
   "source": [
    "### LOSS FUNCTION\n",
    "def multi_weighted_logloss(y_true, y_preds):\n",
    "    \n",
    "    classes = [15, 42, 52, 62, 64, 67, 88, 90, 95]\n",
    "    class_weight = dict(((c, 1) for c in classes))\n",
    "    \n",
    "    # reshape\n",
    "    y_p = y_preds.reshape(y_true.shape[0], len(classes), order = 'F')\n",
    "    \n",
    "    # Trasform y_true in dummies\n",
    "    y_ohe = pd.get_dummies(y_true)\n",
    "    \n",
    "    # Normalize rows and limit y_preds to 1e-15, 1-1e-15\n",
    "    y_p = np.clip(a = y_p, a_min = 1e-15, a_max = 1-1e-15)\n",
    "    \n",
    "    # Transform to log\n",
    "    y_p_log = np.log(y_p)\n",
    "    \n",
    "    # Get the log for ones, .values is used to drop the index of DataFrames\n",
    "    # Exclude class 99 for now, since there is no class99 in the training set \n",
    "    y_log_ones = np.sum(y_ohe.values * y_p_log, axis = 0)\n",
    "    \n",
    "    # Get the number of positives for each class\n",
    "    nb_pos = y_ohe.sum(axis = 0).values.astype(float)\n",
    "    \n",
    "    # Weight average and divide by the number of positives\n",
    "    class_arr = np.array([class_weight[k] for k in sorted(class_weight.keys())])\n",
    "    y_w = y_log_ones * class_arr / nb_pos\n",
    "    loss = - np.sum(y_w) / np.sum(class_arr)\n",
    "    \n",
    "    return 'wloss', loss, False\n",
    "\n",
    "\n",
    "# recompute weights\n",
    "w_ext = y_ext.value_counts()\n",
    "weights_ext = {i : np.sum(w_ext) / w_ext[i] for i in w_ext.index}"
   ]
  },
  {
   "cell_type": "code",
   "execution_count": 40,
   "metadata": {
    "_uuid": "91e0add6763721f9aa44d085f2871508e7762538"
   },
   "outputs": [],
   "source": [
    "### PARAMETERS\n",
    "\n",
    "# LGB parameters\n",
    "lgb_params = {\n",
    "    'boosting_type':   'gbdt',\n",
    "    'objective':       'multiclass',\n",
    "    'num_class':        len(classes_ext),\n",
    "    'metric':          'multi_logloss',\n",
    "    'subsample':        0.9,\n",
    "    'colsample_bytree': 0.7,\n",
    "    'reg_alpha':        0.03,\n",
    "    'reg_lambda':       0.03,\n",
    "    'min_split_gain':   0.01,\n",
    "    'min_child_weight': 5,\n",
    "    'silent':           True,\n",
    "    'verbosity':        -1,\n",
    "    'learning_rate':    0.03,\n",
    "    'max_depth':        3,\n",
    "    'n_estimators':     5000,\n",
    "    'nthread' :         16\n",
    "}"
   ]
  },
  {
   "cell_type": "code",
   "execution_count": 41,
   "metadata": {
    "_uuid": "976d56edbe62bcb86d797c2b38ef05311b3d45ba",
    "scrolled": false
   },
   "outputs": [
    {
     "name": "stdout",
     "output_type": "stream",
     "text": [
      "Training until validation scores don't improve for 100 rounds.\n",
      "[100]\ttraining's multi_logloss: 0.873046\ttraining's wloss: 0.872563\tvalid_1's multi_logloss: 1.25629\tvalid_1's wloss: 1.06437\n",
      "[200]\ttraining's multi_logloss: 0.609973\ttraining's wloss: 0.609528\tvalid_1's multi_logloss: 1.04505\tvalid_1's wloss: 0.902229\n",
      "[300]\ttraining's multi_logloss: 0.480498\ttraining's wloss: 0.480101\tvalid_1's multi_logloss: 0.953816\tvalid_1's wloss: 0.85625\n",
      "[400]\ttraining's multi_logloss: 0.39709\ttraining's wloss: 0.396735\tvalid_1's multi_logloss: 0.890612\tvalid_1's wloss: 0.8339\n",
      "[500]\ttraining's multi_logloss: 0.337697\ttraining's wloss: 0.337377\tvalid_1's multi_logloss: 0.845006\tvalid_1's wloss: 0.824\n",
      "[600]\ttraining's multi_logloss: 0.291885\ttraining's wloss: 0.291596\tvalid_1's multi_logloss: 0.812236\tvalid_1's wloss: 0.820732\n",
      "[700]\ttraining's multi_logloss: 0.253714\ttraining's wloss: 0.253453\tvalid_1's multi_logloss: 0.786707\tvalid_1's wloss: 0.82066\n",
      "Early stopping, best iteration is:\n",
      "[653]\ttraining's multi_logloss: 0.27076\ttraining's wloss: 0.270487\tvalid_1's multi_logloss: 0.798143\tvalid_1's wloss: 0.81836\n",
      "-------------------------------------\n",
      "Fold 1: LOG-LOSS = 0.81836\n",
      "-------------------------------------\n",
      "\n",
      "Training until validation scores don't improve for 100 rounds.\n",
      "[100]\ttraining's multi_logloss: 0.869219\ttraining's wloss: 0.868734\tvalid_1's multi_logloss: 1.30683\tvalid_1's wloss: 1.09381\n",
      "[200]\ttraining's multi_logloss: 0.606371\ttraining's wloss: 0.605925\tvalid_1's multi_logloss: 1.10864\tvalid_1's wloss: 0.93068\n",
      "[300]\ttraining's multi_logloss: 0.476669\ttraining's wloss: 0.476274\tvalid_1's multi_logloss: 1.0184\tvalid_1's wloss: 0.88741\n",
      "[400]\ttraining's multi_logloss: 0.39436\ttraining's wloss: 0.394008\tvalid_1's multi_logloss: 0.96103\tvalid_1's wloss: 0.864588\n",
      "[500]\ttraining's multi_logloss: 0.334129\ttraining's wloss: 0.333815\tvalid_1's multi_logloss: 0.919262\tvalid_1's wloss: 0.857586\n",
      "Early stopping, best iteration is:\n",
      "[471]\ttraining's multi_logloss: 0.35019\ttraining's wloss: 0.349866\tvalid_1's multi_logloss: 0.929889\tvalid_1's wloss: 0.855856\n",
      "-------------------------------------\n",
      "Fold 2: LOG-LOSS = 0.85586\n",
      "-------------------------------------\n",
      "\n",
      "Training until validation scores don't improve for 100 rounds.\n",
      "[100]\ttraining's multi_logloss: 0.877205\ttraining's wloss: 0.877435\tvalid_1's multi_logloss: 1.22831\tvalid_1's wloss: 1.02968\n",
      "[200]\ttraining's multi_logloss: 0.615329\ttraining's wloss: 0.615489\tvalid_1's multi_logloss: 1.02032\tvalid_1's wloss: 0.861092\n",
      "[300]\ttraining's multi_logloss: 0.48574\ttraining's wloss: 0.485858\tvalid_1's multi_logloss: 0.936493\tvalid_1's wloss: 0.811351\n",
      "[400]\ttraining's multi_logloss: 0.403242\ttraining's wloss: 0.403331\tvalid_1's multi_logloss: 0.892984\tvalid_1's wloss: 0.802931\n",
      "[500]\ttraining's multi_logloss: 0.342643\ttraining's wloss: 0.342711\tvalid_1's multi_logloss: 0.860343\tvalid_1's wloss: 0.801441\n",
      "[600]\ttraining's multi_logloss: 0.294068\ttraining's wloss: 0.29412\tvalid_1's multi_logloss: 0.833867\tvalid_1's wloss: 0.803369\n",
      "Early stopping, best iteration is:\n",
      "[509]\ttraining's multi_logloss: 0.337885\ttraining's wloss: 0.337951\tvalid_1's multi_logloss: 0.857184\tvalid_1's wloss: 0.801065\n",
      "-------------------------------------\n",
      "Fold 3: LOG-LOSS = 0.80107\n",
      "-------------------------------------\n",
      "\n",
      "Training until validation scores don't improve for 100 rounds.\n",
      "[100]\ttraining's multi_logloss: 0.873005\ttraining's wloss: 0.872959\tvalid_1's multi_logloss: 1.27296\tvalid_1's wloss: 1.09614\n",
      "[200]\ttraining's multi_logloss: 0.608431\ttraining's wloss: 0.608384\tvalid_1's multi_logloss: 1.05516\tvalid_1's wloss: 0.934227\n",
      "[300]\ttraining's multi_logloss: 0.479566\ttraining's wloss: 0.479514\tvalid_1's multi_logloss: 0.962098\tvalid_1's wloss: 0.896962\n",
      "[400]\ttraining's multi_logloss: 0.396544\ttraining's wloss: 0.396492\tvalid_1's multi_logloss: 0.903911\tvalid_1's wloss: 0.881641\n",
      "[500]\ttraining's multi_logloss: 0.335339\ttraining's wloss: 0.335291\tvalid_1's multi_logloss: 0.863699\tvalid_1's wloss: 0.876695\n",
      "[600]\ttraining's multi_logloss: 0.287601\ttraining's wloss: 0.287557\tvalid_1's multi_logloss: 0.832287\tvalid_1's wloss: 0.880458\n",
      "Early stopping, best iteration is:\n",
      "[536]\ttraining's multi_logloss: 0.31669\ttraining's wloss: 0.316643\tvalid_1's multi_logloss: 0.850268\tvalid_1's wloss: 0.87556\n",
      "-------------------------------------\n",
      "Fold 4: LOG-LOSS = 0.87556\n",
      "-------------------------------------\n",
      "\n",
      "Training until validation scores don't improve for 100 rounds.\n",
      "[100]\ttraining's multi_logloss: 0.8723\ttraining's wloss: 0.872152\tvalid_1's multi_logloss: 1.25887\tvalid_1's wloss: 1.04271\n",
      "[200]\ttraining's multi_logloss: 0.614817\ttraining's wloss: 0.614677\tvalid_1's multi_logloss: 1.04257\tvalid_1's wloss: 0.865229\n",
      "[300]\ttraining's multi_logloss: 0.487119\ttraining's wloss: 0.486987\tvalid_1's multi_logloss: 0.947869\tvalid_1's wloss: 0.806836\n",
      "[400]\ttraining's multi_logloss: 0.403764\ttraining's wloss: 0.403646\tvalid_1's multi_logloss: 0.889609\tvalid_1's wloss: 0.787035\n",
      "[500]\ttraining's multi_logloss: 0.342689\ttraining's wloss: 0.342583\tvalid_1's multi_logloss: 0.852167\tvalid_1's wloss: 0.789169\n",
      "Early stopping, best iteration is:\n",
      "[456]\ttraining's multi_logloss: 0.367909\ttraining's wloss: 0.367798\tvalid_1's multi_logloss: 0.866721\tvalid_1's wloss: 0.785345\n",
      "-------------------------------------\n",
      "Fold 5: LOG-LOSS = 0.78535\n",
      "-------------------------------------\n",
      "\n",
      "Training until validation scores don't improve for 100 rounds.\n",
      "[100]\ttraining's multi_logloss: 0.879562\ttraining's wloss: 0.879798\tvalid_1's multi_logloss: 1.2821\tvalid_1's wloss: 1.05592\n",
      "[200]\ttraining's multi_logloss: 0.619197\ttraining's wloss: 0.61941\tvalid_1's multi_logloss: 1.08409\tvalid_1's wloss: 0.89628\n",
      "[300]\ttraining's multi_logloss: 0.487985\ttraining's wloss: 0.488173\tvalid_1's multi_logloss: 0.997828\tvalid_1's wloss: 0.851278\n",
      "[400]\ttraining's multi_logloss: 0.404403\ttraining's wloss: 0.404569\tvalid_1's multi_logloss: 0.949642\tvalid_1's wloss: 0.84804\n",
      "Early stopping, best iteration is:\n",
      "[356]\ttraining's multi_logloss: 0.437662\ttraining's wloss: 0.437838\tvalid_1's multi_logloss: 0.967759\tvalid_1's wloss: 0.84518\n",
      "-------------------------------------\n",
      "Fold 6: LOG-LOSS = 0.84518\n",
      "-------------------------------------\n",
      "\n",
      "Training until validation scores don't improve for 100 rounds.\n",
      "[100]\ttraining's multi_logloss: 0.872097\ttraining's wloss: 0.872328\tvalid_1's multi_logloss: 1.28359\tvalid_1's wloss: 1.13552\n",
      "[200]\ttraining's multi_logloss: 0.606432\ttraining's wloss: 0.606642\tvalid_1's multi_logloss: 1.07346\tvalid_1's wloss: 0.985173\n",
      "[300]\ttraining's multi_logloss: 0.47724\ttraining's wloss: 0.477426\tvalid_1's multi_logloss: 0.980916\tvalid_1's wloss: 0.939758\n",
      "[400]\ttraining's multi_logloss: 0.395999\ttraining's wloss: 0.396164\tvalid_1's multi_logloss: 0.923015\tvalid_1's wloss: 0.92239\n",
      "[500]\ttraining's multi_logloss: 0.335417\ttraining's wloss: 0.335562\tvalid_1's multi_logloss: 0.88244\tvalid_1's wloss: 0.919434\n",
      "[600]\ttraining's multi_logloss: 0.288356\ttraining's wloss: 0.288484\tvalid_1's multi_logloss: 0.85123\tvalid_1's wloss: 0.923771\n",
      "Early stopping, best iteration is:\n",
      "[530]\ttraining's multi_logloss: 0.319717\ttraining's wloss: 0.319856\tvalid_1's multi_logloss: 0.871437\tvalid_1's wloss: 0.918132\n",
      "-------------------------------------\n",
      "Fold 7: LOG-LOSS = 0.91813\n",
      "-------------------------------------\n",
      "\n",
      "Training until validation scores don't improve for 100 rounds.\n",
      "[100]\ttraining's multi_logloss: 0.86774\ttraining's wloss: 0.867976\tvalid_1's multi_logloss: 1.28128\tvalid_1's wloss: 1.09905\n",
      "[200]\ttraining's multi_logloss: 0.609326\ttraining's wloss: 0.60954\tvalid_1's multi_logloss: 1.08398\tvalid_1's wloss: 0.952122\n",
      "[300]\ttraining's multi_logloss: 0.478834\ttraining's wloss: 0.479022\tvalid_1's multi_logloss: 0.998051\tvalid_1's wloss: 0.918281\n",
      "[400]\ttraining's multi_logloss: 0.39656\ttraining's wloss: 0.396726\tvalid_1's multi_logloss: 0.947715\tvalid_1's wloss: 0.913098\n",
      "Early stopping, best iteration is:\n",
      "[353]\ttraining's multi_logloss: 0.431575\ttraining's wloss: 0.431751\tvalid_1's multi_logloss: 0.966526\tvalid_1's wloss: 0.910774\n",
      "-------------------------------------\n",
      "Fold 8: LOG-LOSS = 0.91077\n",
      "-------------------------------------\n",
      "\n",
      "Training until validation scores don't improve for 100 rounds.\n",
      "[100]\ttraining's multi_logloss: 0.868812\ttraining's wloss: 0.868949\tvalid_1's multi_logloss: 1.25437\tvalid_1's wloss: 1.05887\n",
      "[200]\ttraining's multi_logloss: 0.610018\ttraining's wloss: 0.610176\tvalid_1's multi_logloss: 1.0495\tvalid_1's wloss: 0.899001\n",
      "[300]\ttraining's multi_logloss: 0.479047\ttraining's wloss: 0.479207\tvalid_1's multi_logloss: 0.960962\tvalid_1's wloss: 0.859569\n",
      "[400]\ttraining's multi_logloss: 0.394174\ttraining's wloss: 0.394329\tvalid_1's multi_logloss: 0.902087\tvalid_1's wloss: 0.846351\n",
      "[500]\ttraining's multi_logloss: 0.333154\ttraining's wloss: 0.333303\tvalid_1's multi_logloss: 0.864886\tvalid_1's wloss: 0.852651\n",
      "Early stopping, best iteration is:\n",
      "[426]\ttraining's multi_logloss: 0.376696\ttraining's wloss: 0.37685\tvalid_1's multi_logloss: 0.890731\tvalid_1's wloss: 0.845074\n",
      "-------------------------------------\n",
      "Fold 9: LOG-LOSS = 0.84507\n",
      "-------------------------------------\n",
      "\n",
      "Training until validation scores don't improve for 100 rounds.\n",
      "[100]\ttraining's multi_logloss: 0.871626\ttraining's wloss: 0.871765\tvalid_1's multi_logloss: 1.26876\tvalid_1's wloss: 1.07436\n",
      "[200]\ttraining's multi_logloss: 0.610584\ttraining's wloss: 0.610746\tvalid_1's multi_logloss: 1.05914\tvalid_1's wloss: 0.913494\n",
      "[300]\ttraining's multi_logloss: 0.481535\ttraining's wloss: 0.481698\tvalid_1's multi_logloss: 0.969077\tvalid_1's wloss: 0.862885\n",
      "[400]\ttraining's multi_logloss: 0.399565\ttraining's wloss: 0.399723\tvalid_1's multi_logloss: 0.915602\tvalid_1's wloss: 0.847647\n",
      "[500]\ttraining's multi_logloss: 0.338968\ttraining's wloss: 0.339119\tvalid_1's multi_logloss: 0.87864\tvalid_1's wloss: 0.84478\n",
      "Early stopping, best iteration is:\n",
      "[483]\ttraining's multi_logloss: 0.348261\ttraining's wloss: 0.348413\tvalid_1's multi_logloss: 0.884865\tvalid_1's wloss: 0.843996\n",
      "-------------------------------------\n",
      "Fold 10: LOG-LOSS = 0.844\n",
      "-------------------------------------\n",
      "\n",
      "\n",
      "MULTI-WEIGHTED LOG-LOSS : 0.84944 \n",
      "Done in  11.7 minutes\n"
     ]
    }
   ],
   "source": [
    "### CROSS-VALIDATION LOOP\n",
    "\n",
    "# validation strategy\n",
    "folds = StratifiedKFold(n_splits     = 10, \n",
    "                        shuffle      = True, \n",
    "                        random_state = 23)\n",
    "\n",
    "# create objects\n",
    "clfs_ext = []\n",
    "importances_ext = pd.DataFrame()\n",
    "oof_preds_ext = np.zeros((len(full_train_ext), len(classes_ext)))\n",
    "\n",
    "# modeling loop\n",
    "start  = time.time()\n",
    "for fold_, (trn_, val_) in enumerate(folds.split(y_ext, y_ext)):\n",
    "    \n",
    "    # data partitioning\n",
    "    trn_x, trn_y = full_train_ext[features_ext].iloc[trn_], y_ext.iloc[trn_]\n",
    "    val_x, val_y = full_train_ext[features_ext].iloc[val_], y_ext.iloc[val_]\n",
    "    \n",
    "    # train the model\n",
    "    clf = lgb.LGBMClassifier(**lgb_params) \n",
    "    clf.fit(\n",
    "        trn_x, trn_y,\n",
    "        eval_set              = [(trn_x, trn_y), (val_x, val_y)],\n",
    "        eval_metric           = multi_weighted_logloss,\n",
    "        verbose               = 100,\n",
    "        early_stopping_rounds = 100,\n",
    "        sample_weight         = trn_y.map(weights_ext)        \n",
    "    )\n",
    "    clfs_ext.append(clf)\n",
    "\n",
    "    # predictions\n",
    "    oof_preds_ext[val_, :] = clf.predict_proba(val_x, num_iteration = clf.best_iteration_)\n",
    "\n",
    "    # feedback\n",
    "    print('-------------------------------------')\n",
    "    print('Fold ' + str(fold_ + 1) + ': LOG-LOSS = ' + str(round(multi_weighted_logloss(val_y, clf.predict_proba(val_x, num_iteration = clf.best_iteration_))[1], 5)))  \n",
    "    print('-------------------------------------')\n",
    "    print('')\n",
    "\n",
    "    # variable importance\n",
    "    imp_df = pd.DataFrame()\n",
    "    imp_df['feature'] = features_ext\n",
    "    imp_df['gain'] = clf.feature_importances_\n",
    "    imp_df['fold'] = fold_ + 1\n",
    "    importances_ext = pd.concat([importances_ext, imp_df], axis = 0, sort = False)\n",
    "    \n",
    "    # clean up\n",
    "    gc.collect()\n",
    "    \n",
    "# print performance\n",
    "print('')\n",
    "print('MULTI-WEIGHTED LOG-LOSS : %.5f ' % multi_weighted_logloss(y_true = y_ext, y_preds = oof_preds_ext)[1])\n",
    "print('Done in %5.1f minutes' % ((time.time() - start) / 60))\n",
    "\n",
    "\n",
    "# 320:  0.88668\n",
    "# 240:  0.87669\n",
    "# 244:  0.87616\n",
    "# 236:  0.87211\n",
    "# 246:  0.87202\n",
    "# 270:  0.86838\n",
    "# 284:  0.86514\n",
    "# 284:  0.86310\n",
    "# 284:  0.86296"
   ]
  },
  {
   "cell_type": "code",
   "execution_count": 42,
   "metadata": {
    "_uuid": "9e919533f2e85c75c41f826a8d131b77b8e31674"
   },
   "outputs": [
    {
     "data": {
      "image/png": "[encoded data removed]",
      "text/plain": [
       "<Figure size 720x720 with 1 Axes>"
      ]
     },
     "metadata": {},
     "output_type": "display_data"
    }
   ],
   "source": [
    "##### VARIABLE IMPORTANCE\n",
    "\n",
    "# load importance \n",
    "top_feats = 50\n",
    "cols = importances_ext[[\"gain\", \"feature\"]].groupby(\"feature\").mean().sort_values(by = \"gain\", ascending = False)[0:top_feats].index\n",
    "importance = importances_ext.loc[importances_ext.feature.isin(cols)]\n",
    "importance = importance.sort_values(by = \"gain\", ascending = False)\n",
    "\n",
    "# plot variable importance\n",
    "plt.figure(figsize = (10, 10))\n",
    "sns.barplot(x = \"gain\", y = \"feature\", data = importance)\n",
    "plt.tight_layout()\n",
    "plt.savefig('../var_importance_ext.pdf')"
   ]
  },
  {
   "cell_type": "code",
   "execution_count": 43,
   "metadata": {},
   "outputs": [
    {
     "name": "stdout",
     "output_type": "stream",
     "text": [
      "Removing  0  worst features...\n",
      "- best loss so far: 0.86310 \n",
      "Removing  10  worst features...\n",
      "- best loss so far: 0.86310 \n",
      "Removing  20  worst features...\n",
      "- best loss so far: 0.86251 \n",
      "Removing  30  worst features...\n",
      "- best loss so far: 0.86251 \n",
      "Removing  40  worst features...\n",
      "- best loss so far: 0.86251 \n",
      "Removing  50  worst features...\n",
      "- best loss so far: 0.86251 \n",
      "Removing  60  worst features...\n",
      "- best loss so far: 0.86251 \n",
      "Removing  70  worst features...\n",
      "- best loss so far: 0.86195 \n",
      "Removing  80  worst features...\n",
      "- best loss so far: 0.86086 \n",
      "Removing  90  worst features...\n",
      "- best loss so far: 0.86034 \n",
      "Removing  100  worst features...\n",
      "- best loss so far: 0.86019 \n",
      "Removing  110  worst features...\n",
      "- best loss so far: 0.85855 \n",
      "Removing  120  worst features...\n",
      "- best loss so far: 0.85788 \n",
      "Removing  130  worst features...\n",
      "- best loss so far: 0.85781 \n",
      "Removing  140  worst features...\n",
      "- best loss so far: 0.85383 \n",
      "Removing  150  worst features...\n",
      "- best loss so far: 0.85248 \n",
      "Removing  160  worst features...\n",
      "- best loss so far: 0.85212 \n",
      "Removing  170  worst features...\n",
      "- best loss so far: 0.85016 \n",
      "Removing  180  worst features...\n",
      "- best loss so far: 0.84786 \n",
      "Removing  190  worst features...\n",
      "- best loss so far: 0.84567 \n",
      "Removing  200  worst features...\n",
      "- best loss so far: 0.84539 \n",
      "Removing  210  worst features...\n",
      "- best loss so far: 0.84065 \n",
      "Removing  220  worst features...\n",
      "- best loss so far: 0.83666 \n",
      "Removing  230  worst features...\n",
      "- best loss so far: 0.83666 \n",
      "Removing  240  worst features...\n",
      "- best loss so far: 0.83666 \n",
      "Removing  250  worst features...\n",
      "- best loss so far: 0.83666 \n",
      "Removing  260  worst features...\n",
      "- best loss so far: 0.83666 \n",
      "Removing  270  worst features...\n",
      "- best loss so far: 0.83666 \n",
      "Removing  280  worst features...\n",
      "- best loss so far: 0.83666 \n",
      "\n",
      "-------------------------------------\n",
      "KEPT 70 FEATURES: LOSS =  0.836664034859693\n",
      "-------------------------------------\n"
     ]
    },
    {
     "data": {
      "image/png": "[encoded data removed]",
      "text/plain": [
       "<Figure size 1440x576 with 1 Axes>"
      ]
     },
     "metadata": {},
     "output_type": "display_data"
    }
   ],
   "source": [
    "### FEATURE SELECTION LOOP\n",
    "\n",
    "# validation strategy\n",
    "folds = StratifiedKFold(n_splits     = 5, \n",
    "                        shuffle      = True, \n",
    "                        random_state = 1)\n",
    "\n",
    "# k parameter\n",
    "max_feat = len(features_ext)\n",
    "\n",
    "# placeholders and objects\n",
    "perf_vec_ext = np.ones(max_feat)\n",
    "feats_ext = list(importances_ext[[\"gain\", \"feature\"]].groupby(\"feature\").mean().sort_values(by = \"gain\", ascending = False).index)\n",
    "\n",
    "# greedy selection loop \n",
    "for i in range(0, max_feat):\n",
    "\n",
    "    # feedback\n",
    "    if i % 10 == 0:\n",
    "        print('Removing ', i, ' worst features...' )\n",
    "    \n",
    "    # subset features\n",
    "    if i > 0:\n",
    "        features_ext = feats_ext[:-i]\n",
    "    else:\n",
    "        features_ext = [f for f in full_train_ext.columns if f not in excluded_feats_ext]\n",
    "    \n",
    "    # create objects\n",
    "    oof_preds_ext = np.zeros((len(full_train_ext), len(classes_ext)))\n",
    "\n",
    "    # modeling loop\n",
    "    for fold_, (trn_, val_) in enumerate(folds.split(y_ext, y_ext)):\n",
    "\n",
    "        # data partitioning\n",
    "        trn_x, trn_y = full_train_ext[features_ext].iloc[trn_], y_ext.iloc[trn_]\n",
    "        val_x, val_y = full_train_ext[features_ext].iloc[val_], y_ext.iloc[val_]\n",
    "\n",
    "        # train the model\n",
    "        clf = lgb.LGBMClassifier(**lgb_params) \n",
    "        clf.fit(\n",
    "            trn_x, trn_y,\n",
    "            eval_set              = [(trn_x, trn_y), (val_x, val_y)],\n",
    "            eval_metric           = multi_weighted_logloss,\n",
    "            verbose               = 0,\n",
    "            early_stopping_rounds = 100,\n",
    "            sample_weight         = trn_y.map(weights_ext)\n",
    "        )\n",
    "\n",
    "        # predictions\n",
    "        oof_preds_ext[val_, :] =  clf.predict_proba(val_x, num_iteration = clf.best_iteration_)\n",
    "\n",
    "        # clean up\n",
    "        gc.collect()\n",
    "\n",
    "    # save performance\n",
    "    perf_vec_ext[i] = multi_weighted_logloss(y_true = y_ext, y_preds = oof_preds_ext)[1]\n",
    "    \n",
    "    # print performance\n",
    "    if i % 10 == 0:\n",
    "        print('- best loss so far: %.5f ' %  np.min(perf_vec_ext))\n",
    "    \n",
    "# select best combination\n",
    "drops_ext = perf_vec_ext.argmin()\n",
    "if drops_ext > 0:\n",
    "    features_ext = feats_ext[:-drops_ext]\n",
    "else:\n",
    "    features_ext = [f for f in full_train_ext.columns if f not in excluded_feats_ext]\n",
    "    \n",
    "# feedback\n",
    "print('')\n",
    "print('-------------------------------------')\n",
    "print('KEPT ' + str(len(features_ext)) + ' FEATURES: LOSS = ', perf_vec_ext[drops_ext])\n",
    "print('-------------------------------------')\n",
    "\n",
    "# scatterplot\n",
    "fig, ax = plt.subplots(figsize = (20, 8))\n",
    "plt.scatter(x = range(1, len(perf_vec_ext) + 1), y = perf_vec_ext)\n",
    "ax.set_xlabel('Removed features')\n",
    "ax.set_ylabel('Loss function')\n",
    "plt.show()"
   ]
  },
  {
   "cell_type": "code",
   "execution_count": 44,
   "metadata": {
    "_uuid": "976d56edbe62bcb86d797c2b38ef05311b3d45ba",
    "scrolled": false
   },
   "outputs": [
    {
     "name": "stdout",
     "output_type": "stream",
     "text": [
      "Training until validation scores don't improve for 100 rounds.\n",
      "[100]\ttraining's multi_logloss: 0.896762\ttraining's wloss: 0.896273\tvalid_1's multi_logloss: 1.26848\tvalid_1's wloss: 1.0688\n",
      "[200]\ttraining's multi_logloss: 0.641212\ttraining's wloss: 0.640754\tvalid_1's multi_logloss: 1.05792\tvalid_1's wloss: 0.899585\n",
      "[300]\ttraining's multi_logloss: 0.51658\ttraining's wloss: 0.51617\tvalid_1's multi_logloss: 0.959459\tvalid_1's wloss: 0.8356\n",
      "[400]\ttraining's multi_logloss: 0.436721\ttraining's wloss: 0.436349\tvalid_1's multi_logloss: 0.896\tvalid_1's wloss: 0.797697\n",
      "[500]\ttraining's multi_logloss: 0.377594\ttraining's wloss: 0.377255\tvalid_1's multi_logloss: 0.851549\tvalid_1's wloss: 0.776785\n",
      "[600]\ttraining's multi_logloss: 0.330571\ttraining's wloss: 0.330261\tvalid_1's multi_logloss: 0.818278\tvalid_1's wloss: 0.767176\n",
      "[700]\ttraining's multi_logloss: 0.291734\ttraining's wloss: 0.29145\tvalid_1's multi_logloss: 0.790901\tvalid_1's wloss: 0.762396\n",
      "[800]\ttraining's multi_logloss: 0.25873\ttraining's wloss: 0.258469\tvalid_1's multi_logloss: 0.769711\tvalid_1's wloss: 0.762308\n",
      "Early stopping, best iteration is:\n",
      "[723]\ttraining's multi_logloss: 0.283641\ttraining's wloss: 0.283362\tvalid_1's multi_logloss: 0.784895\tvalid_1's wloss: 0.760958\n",
      "-------------------------------------\n",
      "Fold 1: LOG-LOSS = 0.76096\n",
      "-------------------------------------\n",
      "\n",
      "Training until validation scores don't improve for 100 rounds.\n",
      "[100]\ttraining's multi_logloss: 0.893061\ttraining's wloss: 0.892568\tvalid_1's multi_logloss: 1.3113\tvalid_1's wloss: 1.10059\n",
      "[200]\ttraining's multi_logloss: 0.639841\ttraining's wloss: 0.639376\tvalid_1's multi_logloss: 1.10874\tvalid_1's wloss: 0.923644\n",
      "[300]\ttraining's multi_logloss: 0.51497\ttraining's wloss: 0.51455\tvalid_1's multi_logloss: 1.0127\tvalid_1's wloss: 0.855774\n",
      "[400]\ttraining's multi_logloss: 0.43421\ttraining's wloss: 0.433832\tvalid_1's multi_logloss: 0.952486\tvalid_1's wloss: 0.826491\n",
      "[500]\ttraining's multi_logloss: 0.374641\ttraining's wloss: 0.374299\tvalid_1's multi_logloss: 0.91146\tvalid_1's wloss: 0.815564\n",
      "[600]\ttraining's multi_logloss: 0.32881\ttraining's wloss: 0.328497\tvalid_1's multi_logloss: 0.880189\tvalid_1's wloss: 0.809615\n",
      "Early stopping, best iteration is:\n",
      "[578]\ttraining's multi_logloss: 0.338076\ttraining's wloss: 0.337758\tvalid_1's multi_logloss: 0.885899\tvalid_1's wloss: 0.808713\n",
      "-------------------------------------\n",
      "Fold 2: LOG-LOSS = 0.80871\n",
      "-------------------------------------\n",
      "\n",
      "Training until validation scores don't improve for 100 rounds.\n",
      "[100]\ttraining's multi_logloss: 0.899703\ttraining's wloss: 0.89994\tvalid_1's multi_logloss: 1.24479\tvalid_1's wloss: 1.02937\n",
      "[200]\ttraining's multi_logloss: 0.646231\ttraining's wloss: 0.646407\tvalid_1's multi_logloss: 1.03995\tvalid_1's wloss: 0.862993\n",
      "[300]\ttraining's multi_logloss: 0.521179\ttraining's wloss: 0.521311\tvalid_1's multi_logloss: 0.957581\tvalid_1's wloss: 0.813603\n",
      "[400]\ttraining's multi_logloss: 0.440177\ttraining's wloss: 0.440281\tvalid_1's multi_logloss: 0.90839\tvalid_1's wloss: 0.795959\n",
      "[500]\ttraining's multi_logloss: 0.380088\ttraining's wloss: 0.38017\tvalid_1's multi_logloss: 0.872956\tvalid_1's wloss: 0.788236\n",
      "[600]\ttraining's multi_logloss: 0.333101\ttraining's wloss: 0.333166\tvalid_1's multi_logloss: 0.845305\tvalid_1's wloss: 0.787986\n",
      "[700]\ttraining's multi_logloss: 0.294359\ttraining's wloss: 0.294409\tvalid_1's multi_logloss: 0.823713\tvalid_1's wloss: 0.78983\n",
      "Early stopping, best iteration is:\n",
      "[606]\ttraining's multi_logloss: 0.330429\ttraining's wloss: 0.330492\tvalid_1's multi_logloss: 0.843472\tvalid_1's wloss: 0.786955\n",
      "-------------------------------------\n",
      "Fold 3: LOG-LOSS = 0.78696\n",
      "-------------------------------------\n",
      "\n",
      "Training until validation scores don't improve for 100 rounds.\n",
      "[100]\ttraining's multi_logloss: 0.895516\ttraining's wloss: 0.895472\tvalid_1's multi_logloss: 1.2856\tvalid_1's wloss: 1.09827\n",
      "[200]\ttraining's multi_logloss: 0.638137\ttraining's wloss: 0.638092\tvalid_1's multi_logloss: 1.07638\tvalid_1's wloss: 0.933179\n",
      "[300]\ttraining's multi_logloss: 0.513057\ttraining's wloss: 0.513002\tvalid_1's multi_logloss: 0.987609\tvalid_1's wloss: 0.88911\n",
      "[400]\ttraining's multi_logloss: 0.432105\ttraining's wloss: 0.432049\tvalid_1's multi_logloss: 0.933624\tvalid_1's wloss: 0.877578\n",
      "[500]\ttraining's multi_logloss: 0.373333\ttraining's wloss: 0.373281\tvalid_1's multi_logloss: 0.894019\tvalid_1's wloss: 0.877308\n",
      "Early stopping, best iteration is:\n",
      "[434]\ttraining's multi_logloss: 0.410477\ttraining's wloss: 0.410422\tvalid_1's multi_logloss: 0.919281\tvalid_1's wloss: 0.873993\n",
      "-------------------------------------\n",
      "Fold 4: LOG-LOSS = 0.87399\n",
      "-------------------------------------\n",
      "\n",
      "Training until validation scores don't improve for 100 rounds.\n",
      "[100]\ttraining's multi_logloss: 0.896875\ttraining's wloss: 0.896721\tvalid_1's multi_logloss: 1.27532\tvalid_1's wloss: 1.045\n",
      "[200]\ttraining's multi_logloss: 0.649558\ttraining's wloss: 0.649411\tvalid_1's multi_logloss: 1.07256\tvalid_1's wloss: 0.872607\n",
      "[300]\ttraining's multi_logloss: 0.520992\ttraining's wloss: 0.520855\tvalid_1's multi_logloss: 0.971589\tvalid_1's wloss: 0.805855\n",
      "[400]\ttraining's multi_logloss: 0.439318\ttraining's wloss: 0.439195\tvalid_1's multi_logloss: 0.907883\tvalid_1's wloss: 0.776456\n",
      "[500]\ttraining's multi_logloss: 0.379072\ttraining's wloss: 0.378962\tvalid_1's multi_logloss: 0.864139\tvalid_1's wloss: 0.762394\n",
      "[600]\ttraining's multi_logloss: 0.331968\ttraining's wloss: 0.331869\tvalid_1's multi_logloss: 0.834109\tvalid_1's wloss: 0.764462\n",
      "Early stopping, best iteration is:\n",
      "[500]\ttraining's multi_logloss: 0.379072\ttraining's wloss: 0.378962\tvalid_1's multi_logloss: 0.864139\tvalid_1's wloss: 0.762394\n",
      "-------------------------------------\n",
      "Fold 5: LOG-LOSS = 0.76239\n",
      "-------------------------------------\n",
      "\n",
      "Training until validation scores don't improve for 100 rounds.\n",
      "[100]\ttraining's multi_logloss: 0.903601\ttraining's wloss: 0.903844\tvalid_1's multi_logloss: 1.29837\tvalid_1's wloss: 1.05336\n",
      "[200]\ttraining's multi_logloss: 0.647572\ttraining's wloss: 0.647795\tvalid_1's multi_logloss: 1.09901\tvalid_1's wloss: 0.888171\n",
      "[300]\ttraining's multi_logloss: 0.520971\ttraining's wloss: 0.521171\tvalid_1's multi_logloss: 1.00782\tvalid_1's wloss: 0.833661\n",
      "[400]\ttraining's multi_logloss: 0.437846\ttraining's wloss: 0.438024\tvalid_1's multi_logloss: 0.952093\tvalid_1's wloss: 0.812128\n",
      "[500]\ttraining's multi_logloss: 0.375668\ttraining's wloss: 0.375827\tvalid_1's multi_logloss: 0.914396\tvalid_1's wloss: 0.804627\n",
      "[600]\ttraining's multi_logloss: 0.328117\ttraining's wloss: 0.32826\tvalid_1's multi_logloss: 0.883979\tvalid_1's wloss: 0.803081\n",
      "Early stopping, best iteration is:\n",
      "[556]\ttraining's multi_logloss: 0.346912\ttraining's wloss: 0.347062\tvalid_1's multi_logloss: 0.895669\tvalid_1's wloss: 0.801339\n",
      "-------------------------------------\n",
      "Fold 6: LOG-LOSS = 0.80134\n",
      "-------------------------------------\n",
      "\n",
      "Training until validation scores don't improve for 100 rounds.\n",
      "[100]\ttraining's multi_logloss: 0.896994\ttraining's wloss: 0.897231\tvalid_1's multi_logloss: 1.30509\tvalid_1's wloss: 1.13237\n",
      "[200]\ttraining's multi_logloss: 0.640746\ttraining's wloss: 0.640964\tvalid_1's multi_logloss: 1.10438\tvalid_1's wloss: 0.986895\n",
      "[300]\ttraining's multi_logloss: 0.515333\ttraining's wloss: 0.51553\tvalid_1's multi_logloss: 1.00882\tvalid_1's wloss: 0.947075\n",
      "[400]\ttraining's multi_logloss: 0.433853\ttraining's wloss: 0.434027\tvalid_1's multi_logloss: 0.948237\tvalid_1's wloss: 0.92482\n",
      "[500]\ttraining's multi_logloss: 0.375172\ttraining's wloss: 0.375329\tvalid_1's multi_logloss: 0.90428\tvalid_1's wloss: 0.913691\n",
      "[600]\ttraining's multi_logloss: 0.32932\ttraining's wloss: 0.329461\tvalid_1's multi_logloss: 0.870654\tvalid_1's wloss: 0.90811\n",
      "[700]\ttraining's multi_logloss: 0.290202\ttraining's wloss: 0.290329\tvalid_1's multi_logloss: 0.847466\tvalid_1's wloss: 0.915929\n",
      "Early stopping, best iteration is:\n",
      "[600]\ttraining's multi_logloss: 0.32932\ttraining's wloss: 0.329461\tvalid_1's multi_logloss: 0.870654\tvalid_1's wloss: 0.90811\n",
      "-------------------------------------\n",
      "Fold 7: LOG-LOSS = 0.90811\n",
      "-------------------------------------\n",
      "\n",
      "Training until validation scores don't improve for 100 rounds.\n",
      "[100]\ttraining's multi_logloss: 0.893454\ttraining's wloss: 0.893696\tvalid_1's multi_logloss: 1.29918\tvalid_1's wloss: 1.08495\n",
      "[200]\ttraining's multi_logloss: 0.64168\ttraining's wloss: 0.641899\tvalid_1's multi_logloss: 1.09766\tvalid_1's wloss: 0.923799\n",
      "[300]\ttraining's multi_logloss: 0.513431\ttraining's wloss: 0.513627\tvalid_1's multi_logloss: 1.01107\tvalid_1's wloss: 0.886496\n",
      "[400]\ttraining's multi_logloss: 0.431683\ttraining's wloss: 0.431858\tvalid_1's multi_logloss: 0.959102\tvalid_1's wloss: 0.871409\n",
      "[500]\ttraining's multi_logloss: 0.371765\ttraining's wloss: 0.371923\tvalid_1's multi_logloss: 0.921917\tvalid_1's wloss: 0.866663\n",
      "[600]\ttraining's multi_logloss: 0.322001\ttraining's wloss: 0.322141\tvalid_1's multi_logloss: 0.894957\tvalid_1's wloss: 0.866799\n",
      "Early stopping, best iteration is:\n",
      "[562]\ttraining's multi_logloss: 0.339343\ttraining's wloss: 0.33949\tvalid_1's multi_logloss: 0.903317\tvalid_1's wloss: 0.863671\n",
      "-------------------------------------\n",
      "Fold 8: LOG-LOSS = 0.86367\n",
      "-------------------------------------\n",
      "\n",
      "Training until validation scores don't improve for 100 rounds.\n",
      "[100]\ttraining's multi_logloss: 0.897569\ttraining's wloss: 0.897701\tvalid_1's multi_logloss: 1.28007\tvalid_1's wloss: 1.07417\n",
      "[200]\ttraining's multi_logloss: 0.644631\ttraining's wloss: 0.644786\tvalid_1's multi_logloss: 1.07281\tvalid_1's wloss: 0.901088\n",
      "[300]\ttraining's multi_logloss: 0.517254\ttraining's wloss: 0.517416\tvalid_1's multi_logloss: 0.9795\tvalid_1's wloss: 0.854403\n",
      "[400]\ttraining's multi_logloss: 0.435662\ttraining's wloss: 0.435819\tvalid_1's multi_logloss: 0.926532\tvalid_1's wloss: 0.849916\n",
      "[500]\ttraining's multi_logloss: 0.376086\ttraining's wloss: 0.376239\tvalid_1's multi_logloss: 0.889645\tvalid_1's wloss: 0.853622\n",
      "Early stopping, best iteration is:\n",
      "[451]\ttraining's multi_logloss: 0.403541\ttraining's wloss: 0.403697\tvalid_1's multi_logloss: 0.906191\tvalid_1's wloss: 0.848222\n",
      "-------------------------------------\n",
      "Fold 9: LOG-LOSS = 0.84822\n",
      "-------------------------------------\n",
      "\n",
      "Training until validation scores don't improve for 100 rounds.\n",
      "[100]\ttraining's multi_logloss: 0.892115\ttraining's wloss: 0.892246\tvalid_1's multi_logloss: 1.27614\tvalid_1's wloss: 1.07126\n",
      "[200]\ttraining's multi_logloss: 0.63886\ttraining's wloss: 0.639018\tvalid_1's multi_logloss: 1.07333\tvalid_1's wloss: 0.916197\n",
      "[300]\ttraining's multi_logloss: 0.51359\ttraining's wloss: 0.513752\tvalid_1's multi_logloss: 0.98321\tvalid_1's wloss: 0.863416\n",
      "[400]\ttraining's multi_logloss: 0.432377\ttraining's wloss: 0.432534\tvalid_1's multi_logloss: 0.925949\tvalid_1's wloss: 0.837442\n",
      "[500]\ttraining's multi_logloss: 0.372681\ttraining's wloss: 0.372831\tvalid_1's multi_logloss: 0.884982\tvalid_1's wloss: 0.824199\n",
      "[600]\ttraining's multi_logloss: 0.326555\ttraining's wloss: 0.326698\tvalid_1's multi_logloss: 0.851838\tvalid_1's wloss: 0.819311\n",
      "[700]\ttraining's multi_logloss: 0.286517\ttraining's wloss: 0.286653\tvalid_1's multi_logloss: 0.824439\tvalid_1's wloss: 0.817487\n",
      "Early stopping, best iteration is:\n",
      "[654]\ttraining's multi_logloss: 0.304254\ttraining's wloss: 0.304393\tvalid_1's multi_logloss: 0.83533\tvalid_1's wloss: 0.815575\n",
      "-------------------------------------\n",
      "Fold 10: LOG-LOSS = 0.81557\n",
      "-------------------------------------\n",
      "\n",
      "\n",
      "MULTI-WEIGHTED LOG-LOSS : 0.82225 \n",
      "Done in   8.5 minutes\n"
     ]
    }
   ],
   "source": [
    "### CROSS-VALIDATION WITH BEST SUBSET\n",
    "\n",
    "# validation strategy\n",
    "folds = StratifiedKFold(n_splits     = 10, \n",
    "                        shuffle      = True, \n",
    "                        random_state = 23)\n",
    "\n",
    "# create objects\n",
    "clfs_ext = []\n",
    "importances_ext = pd.DataFrame()\n",
    "oof_preds_ext = np.zeros((len(full_train_ext), len(classes_ext)))\n",
    "\n",
    "# modeling loop\n",
    "start  = time.time()\n",
    "for fold_, (trn_, val_) in enumerate(folds.split(y_ext, y_ext)):\n",
    "    \n",
    "    # data partitioning\n",
    "    trn_x, trn_y = full_train_ext[features_ext].iloc[trn_], y_ext.iloc[trn_]\n",
    "    val_x, val_y = full_train_ext[features_ext].iloc[val_], y_ext.iloc[val_]\n",
    "    \n",
    "    # train the model\n",
    "    clf = lgb.LGBMClassifier(**lgb_params) \n",
    "    clf.fit(\n",
    "        trn_x, trn_y,\n",
    "        eval_set              = [(trn_x, trn_y), (val_x, val_y)],\n",
    "        eval_metric           = multi_weighted_logloss,\n",
    "        verbose               = 100,\n",
    "        early_stopping_rounds = 100,\n",
    "        sample_weight         = trn_y.map(weights_ext)        \n",
    "    )\n",
    "    clfs_ext.append(clf)\n",
    "\n",
    "    # predictions\n",
    "    oof_preds_ext[val_, :] = clf.predict_proba(val_x, num_iteration = clf.best_iteration_)\n",
    "\n",
    "    # feedback\n",
    "    print('-------------------------------------')\n",
    "    print('Fold ' + str(fold_ + 1) + ': LOG-LOSS = ' + str(round(multi_weighted_logloss(val_y, clf.predict_proba(val_x, num_iteration = clf.best_iteration_))[1], 5)))  \n",
    "    print('-------------------------------------')\n",
    "    print('')\n",
    "\n",
    "    # variable importance\n",
    "    imp_df = pd.DataFrame()\n",
    "    imp_df['feature'] = features_ext\n",
    "    imp_df['gain'] = clf.feature_importances_\n",
    "    imp_df['fold'] = fold_ + 1\n",
    "    importances_ext = pd.concat([importances_ext, imp_df], axis = 0, sort = False)\n",
    "    \n",
    "    # clean up\n",
    "    gc.collect()\n",
    "    \n",
    "# print performance\n",
    "print('')\n",
    "print('MULTI-WEIGHTED LOG-LOSS : %.5f ' % multi_weighted_logloss(y_true = y_ext, y_preds = oof_preds_ext)[1])\n",
    "print('Done in %5.1f minutes' % ((time.time() - start) / 60))"
   ]
  },
  {
   "cell_type": "code",
   "execution_count": 45,
   "metadata": {
    "_uuid": "fdcb55ef10807adf76c12079b4871ce8dcf1a71a",
    "scrolled": false
   },
   "outputs": [
    {
     "data": {
      "image/png": "[encoded data removed]",
      "text/plain": [
       "<Figure size 576x432 with 2 Axes>"
      ]
     },
     "metadata": {},
     "output_type": "display_data"
    }
   ],
   "source": [
    "##### CONFUSION MATRIX\n",
    "\n",
    "# preparations\n",
    "tmp = np.argmax(oof_preds_ext, axis = 1)\n",
    "y_pred = []\n",
    "for i in tmp:\n",
    "    y_pred.append(classes_ext[i])\n",
    "y_pred = pd.Series(y_pred)\n",
    "\n",
    "# construct confusion matrx\n",
    "cm = confusion_matrix(y_ext, y_pred, labels = classes_ext)\n",
    "cm = cm.astype('float') / cm.sum(axis = 1)[:, np.newaxis]\n",
    "annot = np.around(cm, 2)\n",
    "\n",
    "# plot matrix\n",
    "fig, ax = plt.subplots(figsize = (8,6))\n",
    "sns.heatmap(cm, xticklabels = classes_ext, yticklabels = classes_ext, cmap = 'Blues', annot = annot, lw = 0.5)\n",
    "ax.set_xlabel('Predicted Label')\n",
    "ax.set_ylabel('True Label')\n",
    "ax.set_aspect('equal')"
   ]
  },
  {
   "cell_type": "markdown",
   "metadata": {
    "_uuid": "346744e27a92b2bbb99b73a9d7c83dba4d61d813"
   },
   "source": [
    "## OVERALL PERFORMANCE"
   ]
  },
  {
   "cell_type": "code",
   "execution_count": 46,
   "metadata": {
    "_uuid": "9261c3873a5643cf8a40fd60fd002d5e131fe59d"
   },
   "outputs": [],
   "source": [
    "### LOSS FUNCTION\n",
    "def multi_weighted_logloss(y_true, y_preds):\n",
    "    \n",
    "    # classes\n",
    "    classes = [6, 15, 16, 42, 52, 53, 62, 64, 65, 67, 88, 90, 92, 95]\n",
    "    class_weight = dict(((c, 1) for c in classes))\n",
    "    \n",
    "    # reshape\n",
    "    y_p = y_preds.reshape(y_true.shape[0], len(classes), order = 'F')\n",
    "    \n",
    "    # Trasform y_true in dummies\n",
    "    y_ohe = pd.get_dummies(y_true)\n",
    "    \n",
    "    # Normalize rows and limit y_preds to 1e-15, 1-1e-15\n",
    "    y_p = np.clip(a=y_p, a_min=1e-15, a_max=1-1e-15)\n",
    "    \n",
    "    # Transform to log\n",
    "    y_p_log = np.log(y_p)\n",
    "    \n",
    "    # Get the log for ones, .values is used to drop the index of DataFrames\n",
    "    # Exclude class 99 for now, since there is no class99 in the training set \n",
    "    y_log_ones = np.sum(y_ohe.values * y_p_log, axis = 0)\n",
    "    \n",
    "    # Get the number of positives for each class\n",
    "    nb_pos = y_ohe.sum(axis = 0).values.astype(float)\n",
    "    \n",
    "    # Weight average and divide by the number of positives\n",
    "    class_arr = np.array([class_weight[k] for k in sorted(class_weight.keys())])\n",
    "    y_w = y_log_ones * class_arr / nb_pos\n",
    "    loss = - np.sum(y_w) / np.sum(class_arr)\n",
    "    \n",
    "    return 'wloss', loss, False"
   ]
  },
  {
   "cell_type": "code",
   "execution_count": 47,
   "metadata": {
    "_uuid": "81e8ccb1f5eaf214eb79995bf3c881407132e2a2"
   },
   "outputs": [],
   "source": [
    "# merge predictions\n",
    "pd_gal = pd.DataFrame(oof_preds_gal, columns = classes_gal, index = y_gal.index)\n",
    "pd_ext = pd.DataFrame(oof_preds_ext, columns = classes_ext, index = y_ext.index)\n",
    "\n",
    "# transform predictions\n",
    "oof_preds = pd.concat([pd_gal, pd_ext], axis = 1)\n",
    "oof_preds.sort_index(axis = 1, inplace = True)\n",
    "oof_preds.fillna(0, inplace = True)\n",
    "\n",
    "# calibration\n",
    "for cl in oof_preds.columns:\n",
    "    oof_preds.loc[oof_preds[cl] < 0.1, cl] = oof_preds.loc[oof_preds[cl] < 0.1, cl]*1  # 0.8\n",
    "    oof_preds.loc[oof_preds[cl] > 0.9, cl] = oof_preds.loc[oof_preds[cl] > 0.9, cl]*1  # 1.5\n",
    "    \n",
    "# reshape\n",
    "oof_preds_df = oof_preds.divide(oof_preds.sum(axis = 1), axis = 0)\n",
    "oof_preds = oof_preds_df.values"
   ]
  },
  {
   "cell_type": "code",
   "execution_count": 48,
   "metadata": {
    "_uuid": "79946614084351dab7522061cbe744136569f648"
   },
   "outputs": [
    {
     "name": "stdout",
     "output_type": "stream",
     "text": [
      "MULTI-WEIGHTED LOG-LOSS : 0.54194 \n"
     ]
    }
   ],
   "source": [
    "##### EVALUATE PERFORMANCE\n",
    "\n",
    "# print log-loss\n",
    "cv_perf = multi_weighted_logloss(y_true = y, y_preds = oof_preds)[1]\n",
    "print('MULTI-WEIGHTED LOG-LOSS : %.5f ' % cv_perf)\n",
    "\n",
    "# LGB benchmark (k = 264):     0.84449\n",
    "# remove mjd features (252):   0.84344\n",
    "# del model-specific feats:    0.83888\n",
    "# add mjd_dif for detected:    0.82858\n",
    "# add detected flux + q19:     0.82632\n",
    "# impute with full median:     0.82508\n",
    "# add object mjd diff:         0.78257\n",
    "# add other object feats:      0.77111\n",
    "# add a few detect-related:    0.76727\n",
    "# switching to a new loss:     0.60602\n",
    "# merge p234, put feats back:  0.59091\n",
    "# add skew for some feats:     0.58866\n",
    "# remove some band ratios:     0.58606\n",
    "# add e/d band ratios gal:     0.58195\n",
    "# add cesium feats for ext:    0.57961\n",
    "# add agg_flux feats for ext:  0.57753\n",
    "# remove bands after feats:    0.57622\n",
    "# sort values by [o,p,m]:      0.57608"
   ]
  },
  {
   "cell_type": "code",
   "execution_count": 49,
   "metadata": {
    "_uuid": "4bcb98af6c8e58a100c1cf7b889482ae7b48b590"
   },
   "outputs": [
    {
     "data": {
      "image/png": "[encoded data removed]",
      "text/plain": [
       "<Figure size 720x576 with 2 Axes>"
      ]
     },
     "metadata": {},
     "output_type": "display_data"
    }
   ],
   "source": [
    "##### CONFUSION MATRIX\n",
    "\n",
    "# preparations\n",
    "tmp = np.argmax(oof_preds, axis = 1)\n",
    "y_pred = []\n",
    "for i in tmp:\n",
    "    y_pred.append(classes[i])\n",
    "y_pred = pd.Series(y_pred)\n",
    "\n",
    "# construct confusion matrx\n",
    "cm = confusion_matrix(y, y_pred, labels = classes)\n",
    "cm = cm.astype('float') / cm.sum(axis = 1)[:, np.newaxis]\n",
    "annot = np.around(cm, 2)\n",
    "\n",
    "# plot matrix\n",
    "fig, ax = plt.subplots(figsize = (10,8))\n",
    "sns.heatmap(cm, xticklabels = classes, yticklabels = classes, cmap = 'Blues', annot = annot, lw = 0.5)\n",
    "ax.set_xlabel('Predicted Label')\n",
    "ax.set_ylabel('True Label')\n",
    "ax.set_aspect('equal')\n",
    "fig.savefig('../confusion_matrix.pdf')"
   ]
  },
  {
   "cell_type": "markdown",
   "metadata": {
    "_uuid": "0caa1fc29c48dc0b35967cd9cad1eb3a306b7864"
   },
   "source": [
    "# 4. PREDICTIONS"
   ]
  },
  {
   "cell_type": "markdown",
   "metadata": {
    "_uuid": "4495d1f8ef9e8088be54c4a8b2c22ac222db8592"
   },
   "source": [
    "## CONSTRUCTING TEST DATA"
   ]
  },
  {
   "cell_type": "raw",
   "metadata": {
    "_uuid": "378c4a4ef8d41a45bcb4696ef9b89558119b2109"
   },
   "source": [
    "### TEST DATA\n",
    "\n",
    "# import test\n",
    "start  = time.time()\n",
    "test = pd.read_csv('../input/test_set.csv')\n",
    "print('Shape after import: ', test.shape)\n",
    "\n",
    "# add features\n",
    "agg_test = add_features(test)\n",
    "del test\n",
    "\n",
    "# passband ratios\n",
    "agg_test = add_passband_ratios(agg_test)\n",
    "\n",
    "# print dimensions\n",
    "print('Shape after aggregations: ', agg_test.shape)\n",
    "\n",
    "\n",
    "### META DATA\n",
    "\n",
    "# import data\n",
    "meta_test = pd.read_csv('../input/test_set_metadata.csv')\n",
    "\n",
    "# merge data\n",
    "full_test = agg_test.merge(\n",
    "    right  = meta_test,\n",
    "    how    = 'left',\n",
    "    on     = 'object_id'\n",
    ")\n",
    "del meta_test, agg_test\n",
    "\n",
    "# print feedback\n",
    "print('Shape after preparation: ', full_test.shape)\n",
    "print('Done in %5.1f minutes' % ((time.time() - start) / 60))"
   ]
  },
  {
   "cell_type": "raw",
   "metadata": {
    "_uuid": "5e432fc86bbdc9752cc808703d46a3b69c999478"
   },
   "source": [
    "# export data\n",
    "full_test.to_csv('../input/full_test_v10.csv', index = False)"
   ]
  },
  {
   "cell_type": "code",
   "execution_count": 50,
   "metadata": {
    "_uuid": "baaf92d4df65ce1525bcf38c35287b6b1aa2d5bb"
   },
   "outputs": [
    {
     "name": "stdout",
     "output_type": "stream",
     "text": [
      "Done in  11.2 minutes\n",
      "(3492890, 470)\n"
     ]
    }
   ],
   "source": [
    "### IMPORT READY DATA\n",
    "start  = time.time()\n",
    "full_test = pd.read_csv('../input/full_test_v10.csv')\n",
    "print('Done in %5.1f minutes' % ((time.time() - start) / 60))\n",
    "print(full_test.shape)"
   ]
  },
  {
   "cell_type": "code",
   "execution_count": 51,
   "metadata": {},
   "outputs": [
    {
     "data": {
      "text/plain": [
       "(3492890, 484)"
      ]
     },
     "execution_count": 51,
     "metadata": {},
     "output_type": "execute_result"
    }
   ],
   "source": [
    "### AGGREGATED FLUX\n",
    "\n",
    "# import and merge\n",
    "aggflux = pd.read_csv('../input/agg_flux_test.csv')\n",
    "full_test = full_test.merge(aggflux, how = 'left', on = 'object_id')\n",
    "del aggflux\n",
    "full_test.shape"
   ]
  },
  {
   "cell_type": "code",
   "execution_count": 52,
   "metadata": {},
   "outputs": [
    {
     "data": {
      "text/plain": [
       "(3492890, 508)"
      ]
     },
     "execution_count": 52,
     "metadata": {},
     "output_type": "execute_result"
    }
   ],
   "source": [
    "### CESIUM FEATURES\n",
    "\n",
    "# import new feats\n",
    "ces = pd.read_csv('../input/cesium_test.csv')\n",
    "ces.columns = ['object_id'] + ['ces_' + l.replace('(\\'', '')[:-1].replace('\\', ', '_') for l in list(ces.columns) if l not in 'object_id']\n",
    "\n",
    "# filter features\n",
    "ces_feats = ['object_id'] + list(ces.filter(like = 'max_slope').columns) + \\\n",
    "                            list(ces.filter(like = 'qso').columns) + \\\n",
    "                            list(ces.filter(like = 'percent_close_to_median').columns)\n",
    "ces = ces[ces_feats]\n",
    "\n",
    "# merge data\n",
    "full_test = full_test.merge(ces, how = 'left', on = 'object_id')\n",
    "del ces\n",
    "full_test.shape"
   ]
  },
  {
   "cell_type": "code",
   "execution_count": 53,
   "metadata": {},
   "outputs": [
    {
     "data": {
      "text/plain": [
       "(3492890, 418)"
      ]
     },
     "execution_count": 53,
     "metadata": {},
     "output_type": "execute_result"
    }
   ],
   "source": [
    "### REMOVE BANDS\n",
    "full_test = remove_bands(full_test)\n",
    "full_test.shape"
   ]
  },
  {
   "cell_type": "code",
   "execution_count": 54,
   "metadata": {},
   "outputs": [],
   "source": [
    "### IMPUTE SPECZ\n",
    "full_test.loc[~full_test['hostgal_specz'].isnull(), 'hostgal_photoz'] = full_test.loc[~full_test['hostgal_specz'].isnull(), 'hostgal_specz']\n",
    "full_test.loc[~full_test['hostgal_specz'].isnull(), 'hostgal_photoz_err'] = 0"
   ]
  },
  {
   "cell_type": "code",
   "execution_count": 55,
   "metadata": {
    "_uuid": "88ac2f292a1afa907c3e28366e0e41c2bbaf582b"
   },
   "outputs": [],
   "source": [
    "### PARTITIONING\n",
    "\n",
    "# partition the data\n",
    "full_test_gal = full_test[full_test.hostgal_photoz == 0]\n",
    "full_test_ext = full_test[full_test.hostgal_photoz != 0]\n",
    "\n",
    "# impute missings with means\n",
    "test_mean = full_test.median(axis = 0)\n",
    "full_test_gal.fillna(test_mean, inplace = True)\n",
    "full_test_ext.fillna(test_mean, inplace = True)\n",
    "\n",
    "# clear memory\n",
    "del full_test"
   ]
  },
  {
   "cell_type": "markdown",
   "metadata": {
    "_uuid": "4af6c4566cbc80828e60bd38c3d042e21bac408d"
   },
   "source": [
    "## PREDICTIONS"
   ]
  },
  {
   "cell_type": "code",
   "execution_count": 56,
   "metadata": {
    "_uuid": "d21b53dbc875e2c3de6490cc7d9f1b7ce10adbfb"
   },
   "outputs": [
    {
     "name": "stdout",
     "output_type": "stream",
     "text": [
      "Predictions shape:  (390510, 7)\n",
      "Done in   0.7 minutes\n"
     ]
    }
   ],
   "source": [
    "### PREDICT GALACTIC OBJECTS\n",
    "\n",
    "# make predictions\n",
    "start  = time.time()\n",
    "preds_gal = None\n",
    "for clf in clfs_gal:\n",
    "    if preds_gal is None:\n",
    "        preds_gal =  clf.predict_proba(full_test_gal[features_gal], num_iteration = clf.best_iteration_) / (folds.n_splits)\n",
    "    else:\n",
    "        preds_gal += clf.predict_proba(full_test_gal[features_gal], num_iteration = clf.best_iteration_) / (folds.n_splits)\n",
    "\n",
    "# class 99 preds\n",
    "preds_99 = np.ones(preds_gal.shape[0])\n",
    "for i in range(preds_gal.shape[1]):\n",
    "    preds_99 *= (1 - preds_gal[:, i])\n",
    "\n",
    "# store predictions\n",
    "preds_df_gal = pd.DataFrame(preds_gal, columns = ['class_' + str(s) for s in clfs_gal[0].classes_])\n",
    "preds_df_gal['object_id'] = full_test_gal['object_id'].values\n",
    "preds_df_gal['class_99'] = preds_99\n",
    "preds_df_gal['class_99'] = 0.14 * preds_99 / np.mean(preds_99)\n",
    "\n",
    "# clean up\n",
    "gc.collect()\n",
    "print('Predictions shape: ', preds_df_gal.shape)\n",
    "print('Done in %5.1f minutes' % ((time.time() - start) / 60))"
   ]
  },
  {
   "cell_type": "code",
   "execution_count": 57,
   "metadata": {
    "_uuid": "02d3ee24a83713923c12c2af746212bebd169f4f"
   },
   "outputs": [
    {
     "name": "stdout",
     "output_type": "stream",
     "text": [
      "Predictions shape:  (3102380, 11)\n",
      "Done in  12.4 minutes\n"
     ]
    }
   ],
   "source": [
    "### PREDICT EXTRAGALACTIC OBJECTS\n",
    "\n",
    "# make predictions\n",
    "start  = time.time()\n",
    "preds_ext = None\n",
    "for clf in clfs_ext:\n",
    "    if preds_ext is None:\n",
    "        preds_ext =  clf.predict_proba(full_test_ext[features_ext], num_iteration = clf.best_iteration_) / (folds.n_splits)\n",
    "    else:\n",
    "        preds_ext += clf.predict_proba(full_test_ext[features_ext], num_iteration = clf.best_iteration_) / (folds.n_splits)\n",
    "\n",
    "# class 99 preds\n",
    "preds_99 = np.ones(preds_ext.shape[0])\n",
    "for i in range(preds_ext.shape[1]):\n",
    "    preds_99 *= (1 - preds_ext[:, i])\n",
    "\n",
    "# store predictions\n",
    "preds_df_ext = pd.DataFrame(preds_ext, columns = ['class_' + str(s) for s in clfs_ext[0].classes_])\n",
    "preds_df_ext['object_id'] = full_test_ext['object_id'].values\n",
    "preds_df_ext['class_99'] = preds_99\n",
    "preds_df_ext['class_99'] = 0.14 * preds_99 / np.mean(preds_99)\n",
    "\n",
    "# clean up\n",
    "gc.collect()\n",
    "print('Predictions shape: ', preds_df_ext.shape)\n",
    "print('Done in %5.1f minutes' % ((time.time() - start) / 60))"
   ]
  },
  {
   "cell_type": "markdown",
   "metadata": {},
   "source": [
    "# 5. SEMI-SUPERVISED LEARNING"
   ]
  },
  {
   "cell_type": "markdown",
   "metadata": {
    "_uuid": "a0fd0de1bcd933e5bc32384283eb5325f1959f1b"
   },
   "source": [
    "## RETRAIN LGBM ON SURE CASES: GALACTIC"
   ]
  },
  {
   "cell_type": "raw",
   "metadata": {},
   "source": [
    "# find confident predictions\n",
    "conf = 0.99\n",
    "sure_gal = preds_df_gal[(preds_df_gal.class_6 > conf) | (preds_df_gal.class_16 > conf) | (preds_df_gal.class_53 > conf) | (preds_df_gal.class_65 > conf) | (preds_df_gal.class_92 > conf)]\n",
    "sure_gal.shape"
   ]
  },
  {
   "cell_type": "raw",
   "metadata": {},
   "source": [
    "# extract X an Y\n",
    "y_sure_gal = sure_gal.drop(columns = 'object_id').idxmax(axis = 1)\n",
    "y_sure_gal = pd.Series([int(str(i)[6:8]) for i in y_sure_gal])\n",
    "x_sure_gal = full_test_gal[full_test_gal.object_id.isin(sure_gal.object_id)].reset_index(drop = True)"
   ]
  },
  {
   "cell_type": "raw",
   "metadata": {},
   "source": [
    "# augment the data\n",
    "full_train_gal_new = pd.concat([full_train_gal, x_sure_gal], axis = 0)\n",
    "y_gal_new = pd.concat([y_gal, y_sure_gal], axis = 0)"
   ]
  },
  {
   "cell_type": "raw",
   "metadata": {
    "_uuid": "3f48baa0689486fdb7f1763ad7546e171f837de7"
   },
   "source": [
    "# exclude features\n",
    "excluded_feats_gal = list(full_train_gal_new.filter(like = 'flux_diff_pos').columns) + \\\n",
    "                     list(full_train_gal_new.filter(like = 'flux_diff_neg').columns) + \\\n",
    "                     list(full_train_gal_new.filter(like = 'detected_ratio').columns) + \\\n",
    "                     ['hostgal_photoz', 'hostgal_photoz_err', 'distmod', 'ra', 'decl', 'gal_l', 'gal_b', 'ddf', 'mwebv']\n",
    "features_gal = [f for f in full_train_gal.columns if f not in excluded_feats_gal]\n",
    "print(full_train_gal_new[features_gal].shape)"
   ]
  },
  {
   "cell_type": "raw",
   "metadata": {
    "_uuid": "7bf694d9e270c05e62cf6ea85da29bdf665f6f5b"
   },
   "source": [
    "### LOSS FUNCTION\n",
    "def multi_weighted_logloss(y_true, y_preds):\n",
    "    \n",
    "    classes = [6, 16, 53, 65, 92]\n",
    "    class_weight = dict(((c, 1) for c in classes))\n",
    "    \n",
    "    # reshape\n",
    "    y_p = y_preds.reshape(y_true.shape[0], len(classes), order = 'F')\n",
    "    \n",
    "    # Trasform y_true in dummies\n",
    "    y_ohe = pd.get_dummies(y_true)\n",
    "    \n",
    "    # Normalize rows and limit y_preds to 1e-15, 1-1e-15\n",
    "    y_p = np.clip(a = y_p, a_min = 1e-15, a_max = 1-1e-15)\n",
    "    \n",
    "    # Transform to log\n",
    "    y_p_log = np.log(y_p)\n",
    "    \n",
    "    # Get the log for ones, .values is used to drop the index of DataFrames\n",
    "    # Exclude class 99 for now, since there is no class99 in the training set \n",
    "    y_log_ones = np.sum(y_ohe.values * y_p_log, axis = 0)\n",
    "    \n",
    "    # Get the number of positives for each class\n",
    "    nb_pos = y_ohe.sum(axis = 0).values.astype(float)\n",
    "    \n",
    "    # Weight average and divide by the number of positives\n",
    "    class_arr = np.array([class_weight[k] for k in sorted(class_weight.keys())])\n",
    "    y_w = y_log_ones * class_arr / nb_pos\n",
    "    loss = - np.sum(y_w) / np.sum(class_arr)\n",
    "    \n",
    "    return 'wloss', loss, False\n",
    "    \n",
    "    \n",
    "# recompute weights\n",
    "w_gal_new = y_gal_new.value_counts()\n",
    "weights_gal_new = {i : np.sum(w_gal_new) / w_gal_new[i] for i in w_gal_new.index}"
   ]
  },
  {
   "cell_type": "raw",
   "metadata": {
    "_uuid": "6f54311f6e36a0fcb7d6639c6c9368cbe4154873"
   },
   "source": [
    "### PARAMETERS\n",
    "\n",
    "# LGB parameters\n",
    "lgb_params = {\n",
    "    'boosting_type':   'gbdt',\n",
    "    'objective':       'multiclass',\n",
    "    'num_class':        len(classes_gal),\n",
    "    'metric':          'multi_logloss',\n",
    "    'subsample':        0.9,\n",
    "    'colsample_bytree': 0.7,\n",
    "    'reg_alpha':        0.03,\n",
    "    'reg_lambda':       0.03,\n",
    "    'min_split_gain':   0.01,\n",
    "    'min_child_weight': 5,\n",
    "    'silent':           True,\n",
    "    'verbosity':        -1,\n",
    "    'learning_rate':    0.03,\n",
    "    'max_depth':        3,\n",
    "    'n_estimators':     5000,\n",
    "    'nthread' :         16\n",
    "}\n",
    "\n",
    "# validation\n",
    "folds = StratifiedKFold(n_splits     = 5, \n",
    "                        shuffle      = True, \n",
    "                        random_state = 1)"
   ]
  },
  {
   "cell_type": "raw",
   "metadata": {
    "_uuid": "976d56edbe62bcb86d797c2b38ef05311b3d45ba"
   },
   "source": [
    "### CROSS-VALIDATION LOOP\n",
    "\n",
    "# create objects\n",
    "clfs_gal = []\n",
    "importances_gal = pd.DataFrame()\n",
    "oof_preds_gal = np.zeros((len(full_train_gal_new), len(classes_gal)))\n",
    "\n",
    "# modeling loop\n",
    "start  = time.time()\n",
    "for fold_, (trn_, val_) in enumerate(folds.split(y_gal_new, y_gal_new)):\n",
    "    \n",
    "    # data partitioning\n",
    "    trn_x, trn_y = full_train_gal_new[features_gal].iloc[trn_], y_gal_new.iloc[trn_]\n",
    "    val_x, val_y = full_train_gal_new[features_gal].iloc[val_], y_gal_new.iloc[val_]\n",
    "    \n",
    "    # train the model\n",
    "    clf = lgb.LGBMClassifier(**lgb_params) \n",
    "    clf.fit(\n",
    "        trn_x, trn_y,\n",
    "        eval_set              = [(trn_x, trn_y), (val_x, val_y)],\n",
    "        eval_metric           = multi_weighted_logloss,\n",
    "        verbose               = 100,\n",
    "        early_stopping_rounds = 100,\n",
    "        sample_weight         = trn_y.map(weights_gal_new)\n",
    "    )\n",
    "    clfs_gal.append(clf)\n",
    "\n",
    "    # predictions\n",
    "    oof_preds_gal[val_, :] = clf.predict_proba(val_x, num_iteration = clf.best_iteration_)\n",
    "\n",
    "    # feedback\n",
    "    print('-------------------------------------')\n",
    "    print('Fold ' + str(fold_ + 1) + ': LOG-LOSS = ' + str(round(multi_weighted_logloss(val_y, clf.predict_proba(val_x, num_iteration = clf.best_iteration_))[1], 5)))  \n",
    "    print('-------------------------------------')\n",
    "    print('')\n",
    "\n",
    "    # variable importance\n",
    "    imp_df = pd.DataFrame()\n",
    "    imp_df['feature'] = features_gal\n",
    "    imp_df['gain'] = clf.feature_importances_\n",
    "    imp_df['fold'] = fold_ + 1\n",
    "    importances_gal = pd.concat([importances_gal, imp_df], axis = 0, sort = False)\n",
    "    \n",
    "    # clean up\n",
    "    gc.collect()\n",
    "    \n",
    "# print performance\n",
    "print('')\n",
    "print('MULTI-WEIGHTED LOG-LOSS : %.5f ' % multi_weighted_logloss(y_true = y_gal_new, y_preds = oof_preds_gal)[1])\n",
    "print('Done in %5.1f minutes' % ((time.time() - start) / 60))"
   ]
  },
  {
   "cell_type": "raw",
   "metadata": {
    "_uuid": "d21b53dbc875e2c3de6490cc7d9f1b7ce10adbfb"
   },
   "source": [
    "### PREDICT GALACTIC OBJECTS\n",
    "\n",
    "# make predictions\n",
    "start  = time.time()\n",
    "preds_gal = None\n",
    "for clf in clfs_gal:\n",
    "    if preds_gal is None:\n",
    "        preds_gal =  clf.predict_proba(full_test_gal[features_gal], num_iteration = clf.best_iteration_) / (folds.n_splits)\n",
    "    else:\n",
    "        preds_gal += clf.predict_proba(full_test_gal[features_gal], num_iteration = clf.best_iteration_) / (folds.n_splits)\n",
    "\n",
    "# class 99 preds\n",
    "preds_99 = np.ones(preds_gal.shape[0])\n",
    "for i in range(preds_gal.shape[1]):\n",
    "    preds_99 *= (1 - preds_gal[:, i])\n",
    "\n",
    "# store predictions\n",
    "preds_df_gal = pd.DataFrame(preds_gal, columns = ['class_' + str(s) for s in clfs_gal[0].classes_])\n",
    "preds_df_gal['object_id'] = full_test_gal['object_id'].values\n",
    "preds_df_gal['class_99'] = preds_99\n",
    "preds_df_gal['class_99'] = 0.14 * preds_99 / np.mean(preds_99)\n",
    "\n",
    "# clean up\n",
    "gc.collect()\n",
    "print('Predictions shape: ', preds_df_gal.shape)\n",
    "print('Done in %5.1f minutes' % ((time.time() - start) / 60))"
   ]
  },
  {
   "cell_type": "raw",
   "metadata": {},
   "source": [
    "# replace some predictions with old preds\n",
    "preds_df_gal[preds_df_gal.object_id.isin(sure_gal.object_id)] = sure_gal"
   ]
  },
  {
   "cell_type": "markdown",
   "metadata": {
    "_uuid": "a0fd0de1bcd933e5bc32384283eb5325f1959f1b"
   },
   "source": [
    "## RETRAIN LGBM ON SURE CASES: EXTRAGALACTIC"
   ]
  },
  {
   "cell_type": "raw",
   "metadata": {},
   "source": [
    "# find confident predictions\n",
    "conf = 0.99\n",
    "sure_ext = preds_df_ext[(preds_df_ext.class_15 > conf) | (preds_df_ext.class_42 > conf) | (preds_df_ext.class_52 > conf) | (preds_df_ext.class_62 > conf) | (preds_df_ext.class_64 > conf) | \n",
    "                        (preds_df_ext.class_67 > conf) | (preds_df_ext.class_88 > conf) | (preds_df_ext.class_90 > conf) | (preds_df_ext.class_95 > conf)]\n",
    "sure_ext.shape"
   ]
  },
  {
   "cell_type": "raw",
   "metadata": {},
   "source": [
    "# extract X and Y\n",
    "y_sure_ext = sure_ext.drop(columns = 'object_id').idxmax(axis = 1)\n",
    "y_sure_ext = pd.Series([int(str(i)[6:8]) for i in y_sure_ext])\n",
    "x_sure_ext = full_test_ext[full_test_ext.object_id.isin(sure_ext.object_id)].reset_index(drop = True)\n",
    "print(x_sure_ext.shape)\n",
    "print(y_sure_ext.shape)"
   ]
  },
  {
   "cell_type": "raw",
   "metadata": {},
   "source": [
    "# augment the data\n",
    "full_train_ext_new = pd.concat([full_train_ext, x_sure_ext], axis = 0)\n",
    "y_ext_new = pd.concat([y_ext, y_sure_ext], axis = 0)"
   ]
  },
  {
   "cell_type": "raw",
   "metadata": {
    "_uuid": "2334974b17e3e4fbd7888e546e49cf35b7fbb332"
   },
   "source": [
    "# exclude features\n",
    "excluded_feats_ext = list(full_train_ext_new.filter(like = 'flux_err').columns) + \\\n",
    "                     list(full_train_ext_new.filter(like = 'abs_energy').columns) + \\\n",
    "                     list(full_train_ext_new.filter(like = 'Period').columns) + \\\n",
    "                     list(full_train_ext_new.filter(like = 'MaxSlope').columns) + \\\n",
    "                     list(full_train_ext_new.filter(like = 'Autocor_length').columns) + \\\n",
    "                     []\n",
    "features_ext = [f for f in full_train_ext.columns if f not in excluded_feats_ext]\n",
    "print(full_train_ext_new[features_ext].shape)"
   ]
  },
  {
   "cell_type": "raw",
   "metadata": {
    "_uuid": "b8da35e9a9f35a17123330ae4a566c350d5c7dfd"
   },
   "source": [
    "### LOSS FUNCTION\n",
    "def multi_weighted_logloss(y_true, y_preds):\n",
    "    \n",
    "    classes = [15, 42, 52, 62, 64, 67, 88, 90, 95]\n",
    "    class_weight = dict(((c, 1) for c in classes))\n",
    "    \n",
    "    # reshape\n",
    "    y_p = y_preds.reshape(y_true.shape[0], len(classes), order = 'F')\n",
    "    \n",
    "    # Trasform y_true in dummies\n",
    "    y_ohe = pd.get_dummies(y_true)\n",
    "    \n",
    "    # Normalize rows and limit y_preds to 1e-15, 1-1e-15\n",
    "    y_p = np.clip(a = y_p, a_min = 1e-15, a_max = 1-1e-15)\n",
    "    \n",
    "    # Transform to log\n",
    "    y_p_log = np.log(y_p)\n",
    "    \n",
    "    # Get the log for ones, .values is used to drop the index of DataFrames\n",
    "    # Exclude class 99 for now, since there is no class99 in the training set \n",
    "    y_log_ones = np.sum(y_ohe.values * y_p_log, axis = 0)\n",
    "    \n",
    "    # Get the number of positives for each class\n",
    "    nb_pos = y_ohe.sum(axis = 0).values.astype(float)\n",
    "    \n",
    "    # Weight average and divide by the number of positives\n",
    "    class_arr = np.array([class_weight[k] for k in sorted(class_weight.keys())])\n",
    "    y_w = y_log_ones * class_arr / nb_pos\n",
    "    loss = - np.sum(y_w) / np.sum(class_arr)\n",
    "    \n",
    "    return 'wloss', loss, False\n",
    "\n",
    "\n",
    "# recompute weights\n",
    "w_ext_new = y_ext_new.value_counts()\n",
    "weights_ext_new = {i : np.sum(w_ext_new) / w_ext_new[i] for i in w_ext_new.index}"
   ]
  },
  {
   "cell_type": "raw",
   "metadata": {
    "_uuid": "91e0add6763721f9aa44d085f2871508e7762538"
   },
   "source": [
    "### PARAMETERS\n",
    "\n",
    "# LGB parameters\n",
    "lgb_params = {\n",
    "    'boosting_type':   'gbdt',\n",
    "    'objective':       'multiclass',\n",
    "    'num_class':        len(classes_ext),\n",
    "    'metric':          'multi_logloss',\n",
    "    'subsample':        0.9,\n",
    "    'colsample_bytree': 0.7,\n",
    "    'reg_alpha':        0.03,\n",
    "    'reg_lambda':       0.03,\n",
    "    'min_split_gain':   0.01,\n",
    "    'min_child_weight': 5,\n",
    "    'silent':           True,\n",
    "    'verbosity':        -1,\n",
    "    'learning_rate':    0.03,\n",
    "    'max_depth':        3,\n",
    "    'n_estimators':     5000,\n",
    "    'nthread' :         16\n",
    "}\n",
    "\n",
    "# validation\n",
    "folds = StratifiedKFold(n_splits     = 5, \n",
    "                        shuffle      = True, \n",
    "                        random_state = 1)"
   ]
  },
  {
   "cell_type": "raw",
   "metadata": {
    "_uuid": "976d56edbe62bcb86d797c2b38ef05311b3d45ba"
   },
   "source": [
    "### CROSS-VALIDATION LOOP\n",
    "\n",
    "# create objects\n",
    "clfs_ext = []\n",
    "importances_ext = pd.DataFrame()\n",
    "oof_preds_ext = np.zeros((len(full_train_ext_new), len(classes_ext)))\n",
    "\n",
    "# modeling loop\n",
    "start  = time.time()\n",
    "for fold_, (trn_, val_) in enumerate(folds.split(y_ext_new, y_ext_new)):\n",
    "    \n",
    "    # data partitioning\n",
    "    trn_x, trn_y = full_train_ext_new[features_ext].iloc[trn_], y_ext_new.iloc[trn_]\n",
    "    val_x, val_y = full_train_ext_new[features_ext].iloc[val_], y_ext_new.iloc[val_]\n",
    "    \n",
    "    # train the model\n",
    "    clf = lgb.LGBMClassifier(**lgb_params) \n",
    "    clf.fit(\n",
    "        trn_x, trn_y,\n",
    "        eval_set              = [(trn_x, trn_y), (val_x, val_y)],\n",
    "        eval_metric           = multi_weighted_logloss,\n",
    "        verbose               = 100,\n",
    "        early_stopping_rounds = 100,\n",
    "        sample_weight         = trn_y.map(weights_ext_new)        \n",
    "    )\n",
    "    clfs_ext.append(clf)\n",
    "\n",
    "    # predictions\n",
    "    oof_preds_ext[val_, :] = clf.predict_proba(val_x, num_iteration = clf.best_iteration_)\n",
    "\n",
    "    # feedback\n",
    "    print('-------------------------------------')\n",
    "    print('Fold ' + str(fold_ + 1) + ': LOG-LOSS = ' + str(round(multi_weighted_logloss(val_y, clf.predict_proba(val_x, num_iteration = clf.best_iteration_))[1], 5)))  \n",
    "    print('-------------------------------------')\n",
    "    print('')\n",
    "\n",
    "    # variable importance\n",
    "    imp_df = pd.DataFrame()\n",
    "    imp_df['feature'] = features_ext\n",
    "    imp_df['gain'] = clf.feature_importances_\n",
    "    imp_df['fold'] = fold_ + 1\n",
    "    importances_ext = pd.concat([importances_ext, imp_df], axis = 0, sort = False)\n",
    "    \n",
    "    # clean up\n",
    "    gc.collect()\n",
    "    \n",
    "# print performance\n",
    "print('')\n",
    "print('MULTI-WEIGHTED LOG-LOSS : %.5f ' % multi_weighted_logloss(y_true = y_ext_new, y_preds = oof_preds_ext)[1])\n",
    "print('Done in %5.1f minutes' % ((time.time() - start) / 60))"
   ]
  },
  {
   "cell_type": "raw",
   "metadata": {
    "_uuid": "02d3ee24a83713923c12c2af746212bebd169f4f"
   },
   "source": [
    "### PREDICT EXTRAGALACTIC OBJECTS\n",
    "\n",
    "# make predictions\n",
    "start  = time.time()\n",
    "preds_ext = None\n",
    "for clf in clfs_ext:\n",
    "    if preds_ext is None:\n",
    "        preds_ext =  clf.predict_proba(full_test_ext[features_ext], num_iteration = clf.best_iteration_) / (folds.n_splits)\n",
    "    else:\n",
    "        preds_ext += clf.predict_proba(full_test_ext[features_ext], num_iteration = clf.best_iteration_) / (folds.n_splits)\n",
    "\n",
    "# class 99 preds\n",
    "preds_99 = np.ones(preds_ext.shape[0])\n",
    "for i in range(preds_ext.shape[1]):\n",
    "    preds_99 *= (1 - preds_ext[:, i])\n",
    "\n",
    "# store predictions\n",
    "preds_df_ext = pd.DataFrame(preds_ext, columns = ['class_' + str(s) for s in clfs_ext[0].classes_])\n",
    "preds_df_ext['object_id'] = full_test_ext['object_id'].values\n",
    "preds_df_ext['class_99'] = preds_99\n",
    "preds_df_ext['class_99'] = 0.14 * preds_99 / np.mean(preds_99)\n",
    "\n",
    "# clean up\n",
    "gc.collect()\n",
    "print('Predictions shape: ', preds_df_ext.shape)\n",
    "print('Done in %5.1f minutes' % ((time.time() - start) / 60))"
   ]
  },
  {
   "cell_type": "raw",
   "metadata": {},
   "source": [
    "# replace some predictions with old preds\n",
    "preds_df_ext[preds_df_ext.object_id.isin(sure_ext.object_id)] = sure_ext"
   ]
  },
  {
   "cell_type": "markdown",
   "metadata": {
    "_uuid": "a0fd0de1bcd933e5bc32384283eb5325f1959f1b"
   },
   "source": [
    "# 6. CALIBRATION"
   ]
  },
  {
   "cell_type": "code",
   "execution_count": 58,
   "metadata": {
    "_uuid": "d6982cdbd725f3713ae924700cef539f64d1ffb1"
   },
   "outputs": [],
   "source": [
    "# merge predictions\n",
    "sub = pd.concat([preds_df_gal, preds_df_ext], axis = 0)\n",
    "sub = sub.sort_values('object_id', ascending = True)\n",
    "sub.fillna(0, inplace = True)"
   ]
  },
  {
   "cell_type": "code",
   "execution_count": 59,
   "metadata": {},
   "outputs": [],
   "source": [
    "# sort and reindex\n",
    "sub = sub.sort_values('object_id', ascending = True)\n",
    "sub = sub.sort_index(axis = 1)\n",
    "sub = sub.reset_index(drop = True)"
   ]
  },
  {
   "cell_type": "raw",
   "metadata": {},
   "source": [
    "# calibration of probs\n",
    "for cl in ['class_6', 'class_15', 'class_16', 'class_42', 'class_52', 'class_53', 'class_62', 'class_64', 'class_65', 'class_67', 'class_88', 'class_90', 'class_92', 'class_95']:\n",
    "    sub.loc[sub[cl] < 0.1, cl] = sub.loc[sub[cl] < 0.1, cl]*0.8\n",
    "    sub.loc[sub[cl] > 0.9, cl] = sub.loc[sub[cl] > 0.9, cl]*1.5"
   ]
  },
  {
   "cell_type": "code",
   "execution_count": 60,
   "metadata": {},
   "outputs": [],
   "source": [
    "# null values for galactic / extragalactic\n",
    "meta_test = pd.read_csv('../input/test_set_metadata.csv')\n",
    "meta_test = meta_test.sort_values('object_id')\n",
    "\n",
    "for cl in ['class_15', 'class_42', 'class_52', 'class_62', 'class_64', 'class_67', 'class_88', 'class_90', 'class_95']:\n",
    "    sub.loc[meta_test.hostgal_photoz == 0, cl] = 0\n",
    "\n",
    "for cl in ['class_6', 'class_16', 'class_53', 'class_65', 'class_92']:\n",
    "    sub.loc[meta_test.hostgal_photoz != 0, cl] = 0"
   ]
  },
  {
   "cell_type": "code",
   "execution_count": 61,
   "metadata": {},
   "outputs": [],
   "source": [
    "# normalize sum to unity\n",
    "sums = sub[['class_6', 'class_15', 'class_16', 'class_42', 'class_52', 'class_53', 'class_62', 'class_64', 'class_65', 'class_67', 'class_88', 'class_90', 'class_92', 'class_95']].sum(axis = 1)\n",
    "for cl in ['class_6', 'class_15', 'class_16', 'class_42', 'class_52', 'class_53', 'class_62', 'class_64', 'class_65', 'class_67', 'class_88', 'class_90', 'class_92', 'class_95']:\n",
    "    sub[cl] = sub[cl] / sums"
   ]
  },
  {
   "cell_type": "code",
   "execution_count": 62,
   "metadata": {},
   "outputs": [],
   "source": [
    "# class 99 computation\n",
    "sub['class_99'] = np.ones(sub.shape[0])\n",
    "for cl in ['class_6', 'class_15', 'class_16', 'class_42', 'class_52', 'class_53', 'class_62', 'class_64', 'class_65', 'class_67', 'class_88', 'class_90', 'class_92', 'class_95']: \n",
    "    sub['class_99'] *= (1 - sub[cl])\n",
    "sub['class_99'] = 0.18 * sub['class_99'] / sub['class_99'].mean()"
   ]
  },
  {
   "cell_type": "markdown",
   "metadata": {
    "_uuid": "a0fd0de1bcd933e5bc32384283eb5325f1959f1b"
   },
   "source": [
    "# 7. SUBMISSION"
   ]
  },
  {
   "cell_type": "code",
   "execution_count": 63,
   "metadata": {},
   "outputs": [],
   "source": [
    "# file name\n",
    "model = 'lgb_v10_fs'\n",
    "perf  = str(round(cv_perf, 5))[2:7]\n",
    "name  = model + '_' + perf"
   ]
  },
  {
   "cell_type": "code",
   "execution_count": 64,
   "metadata": {
    "_uuid": "ab549b5d9fc196d47d2a5d7b73f241dda07cdd8c"
   },
   "outputs": [
    {
     "data": {
      "text/plain": [
       "(3492890, 16)"
      ]
     },
     "execution_count": 64,
     "metadata": {},
     "output_type": "execute_result"
    }
   ],
   "source": [
    "# export submission\n",
    "sub.to_csv('../submissions/' + str(name) + '.csv', index = False)\n",
    "sub.shape"
   ]
  },
  {
   "cell_type": "code",
   "execution_count": 65,
   "metadata": {},
   "outputs": [
    {
     "data": {
      "text/plain": [
       "(7848, 14)"
      ]
     },
     "execution_count": 65,
     "metadata": {},
     "output_type": "execute_result"
    }
   ],
   "source": [
    "# export OOF preds\n",
    "oof_preds_df.to_csv('../preds/' + str(name) + '.csv', index = False)\n",
    "oof_preds_df.shape"
   ]
  }
 ],
 "metadata": {
  "kernelspec": {
   "display_name": "Python 3",
   "language": "python",
   "name": "python3"
  },
  "language_info": {
   "codemirror_mode": {
    "name": "ipython",
    "version": 3
   },
   "file_extension": ".py",
   "mimetype": "text/x-python",
   "name": "python",
   "nbconvert_exporter": "python",
   "pygments_lexer": "ipython3",
   "version": "3.6.5"
  }
 },
 "nbformat": 4,
 "nbformat_minor": 2
}
